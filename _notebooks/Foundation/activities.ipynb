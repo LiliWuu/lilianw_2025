{
 "cells": [
  {
   "cell_type": "markdown",
   "metadata": {},
   "source": [
    "---\n",
    "toc: True\n",
    "comments: True\n",
    "layout: post\n",
    "title: Activities\n",
    "type: ccc\n",
    "permalink: activities\n",
    "menu: nav/home.html\n",
    "courses: { csa: {week: 0} }\n",
    "---"
   ]
  },
  {
   "cell_type": "markdown",
   "metadata": {},
   "source": [
    "## Things to Do\n",
    "There are a variety of activities one can participate in during their travels. Activities are an important aspect when choosing places to travel to. Below is a list of the different categories of activities: "
   ]
  },
  {
   "cell_type": "markdown",
   "metadata": {},
   "source": [
    "[![Cultural and Historic](https://github.com/user-attachments/assets/acd0f0dc-338b-4ba3-a825-2bb3d7ae5a00)]({{site.baseurl}}/cultural/)\n",
    "[![Family](https://github.com/user-attachments/assets/ec644c2d-91e0-4cf0-aff8-639bc2e29f23)]({{site.baseurl}}/fam/)\n",
    "[![Nature](https://github.com/user-attachments/assets/f711d891-b4bd-40e6-a59a-2cc49858c017)]({{site.baseurl}}/nature/)\n",
    "[![Active](https://github.com/user-attachments/assets/6130dc07-f803-4acf-97f6-eec3b4f47acf)]({{site.baseurl}}/active/)\n",
    "[![Cruise & Water-based](https://github.com/user-attachments/assets/6500d03e-7ead-4475-ad32-0a3df27e747c)]({{site.baseurl}}/water/)\n"
   ]
  },
  {
   "cell_type": "markdown",
   "metadata": {},
   "source": []
  },
  {
   "cell_type": "markdown",
   "metadata": {},
   "source": []
  }
 ],
 "metadata": {
  "language_info": {
   "name": "python"
  }
 },
 "nbformat": 4,
 "nbformat_minor": 2
}
