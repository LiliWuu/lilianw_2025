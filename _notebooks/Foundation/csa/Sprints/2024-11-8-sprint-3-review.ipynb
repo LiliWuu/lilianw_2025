{
 "cells": [
  {
   "cell_type": "markdown",
   "metadata": {},
   "source": [
    "---\n",
    "layout: post\n",
    "title: Sprint 3\n",
    "type: collab\n",
    "toc: true\n",
    "permalink: /csa/sprint3\n",
    "menu: nav/sprint3.html\n",
    "comments: true\n",
    "courses: { csa: {week: 5} }\n",
    "type: ccc\n",
    "categories: [AP CSA]\n",
    "author: Lilian Wu\n",
    "---"
   ]
  },
  {
   "cell_type": "markdown",
   "metadata": {},
   "source": []
  }
 ],
 "metadata": {
  "language_info": {
   "name": "python"
  }
 },
 "nbformat": 4,
 "nbformat_minor": 2
}
