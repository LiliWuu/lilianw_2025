{
 "cells": [
  {
   "cell_type": "markdown",
   "metadata": {},
   "source": [
    "---\n",
    "layout: post\n",
    "title: Sprint 3\n",
    "type: collab\n",
    "toc: true\n",
    "permalink: /csa/sprint3\n",
    "menu: nav/sprint3.html\n",
    "comments: true\n",
    "courses: { csa: {week: 9} }\n",
    "type: ccc\n",
    "categories: [AP CSA]\n",
    "author: Lilian Wu\n",
    "---"
   ]
  },
  {
   "cell_type": "markdown",
   "metadata": {},
   "source": [
    "# Final Evaluation\n",
    "## Grading Guideline\n",
    "- 55%: Minimum per item\n",
    "- 75%: Mostly done\n",
    "- 85%: Complete\n",
    "- 90%: Maximum perfection\n",
    "\n",
    "| **Assignment**                | **Points**    | **Grade** | **Evidence** |\n",
    "|-------------------------------|---------------|-----------|--------------|\n",
    "| Tri 1-3 Review Ticket         | 3             |    .88       |   [Sprint 1](https://github.com/LiliWuu/lilianw_2025/issues/3)    [Sprint 2](https://github.com/LiliWuu/lilianw_2025/issues/4)       |\n",
    "| Sprint 3 Team Issue(s)/Plan   | 2             |    .90       |     (below)         |\n",
    "| Beginning-2-End Contribution  | 2             |     .87      | ![image](https://github.com/user-attachments/assets/78408277-6c3c-40c2-8c45-f3b30b4ffa1f)![Screenshot 2024-11-15 at 1 31 05 AM](https://github.com/user-attachments/assets/583ea1ae-a4f1-4920-b250-d7c6056a6c21)            |\n",
    "| N@tM Team Presentation        | 2             |   .87        |    (below)          |\n",
    "| Live Review Indi Demo         | 1             |    .85       |              |\n",
    "| **Total**                     | 10            |    6.5       |              |\n",
    "\n",
    "| **Skill**                  | **Points**    | **Grade** | **Evidence** |\n",
    "|----------------------------|---------------|-----------|--------------|\n",
    "| Work Habits (Analytics)    | 1             |    .88       |              |\n",
    "| Evidence of Role in Team   | 1             |    .87       |              | \n",
    "| Function / Purpose Design  | 1             |    .87       |              | \n",
    "| Live Review                | 2             |    .85       |              | \n",
    "| **Total**                  | 5             |     3       |              |\n",
    "\n",
    "# Team Issue / Plan\n",
    "Below is examples of team collaboration, brainstorming, ideation, and cross-team feedback and sharing.\n",
    "- [Issue](https://github.com/tarasehdave/taracsa25/issues/8)\n",
    "- [Flowchart](https://lucid.app/lucidchart/0e27b5a9-573d-4381-944a-0ffd17f6ecb1/edit?page=0_0&invitationId=inv_25b3520a-48a8-4014-a4bd-4fb1b10b001e#)\n",
    "- [Team Share](https://github.com/tarasehdave/taracsa25/issues/9)\n",
    "\n"
   ]
  },
  {
   "cell_type": "markdown",
   "metadata": {
    "vscode": {
     "languageId": "plaintext"
    }
   },
   "source": [
    "# Program Function and Purpose\n",
    "> Project Purpose\n",
    "- Develop a web application using the Spring Boot Framework that uses a UI to collect user data, saves data into a SQL database using requests sent through the API controller, \n",
    "- Develop in fullstack\n",
    "- Understand that using Java Spring Framework reduces boilerplate code and allows the programmer to call methods from the JpaRepository to perform CRUD operations\n",
    "<br></br>\n",
    "- Our digital bathroom pass project falls into the productivity category\n",
    "\n",
    "> Understanding and Development\n",
    "- Brainstorming ideas helped gather our input and form them into a realistic project\n",
    "- Creating the flowchart helped connect the different parts and understand how to proceed\n",
    "<br></br>\n",
    "- **Inputs**: UserID, username\n",
    "- **Events**: \"/demo_admin\" endpoint - triggers the fetching of user data from the database, calculating the statistics of the users, adding user statistics to the model and displayed in HTML\n",
    "- **Outputs**: Tables containing user statistics and graphs that display the statistics \n",
    "- **User Interface Design**: Show the design of the user interface.\n",
    "- **Data Definition**: id, userId, userName, loginDate, dayOfWeek, loginTime, logoutTime, duration\n",
    "\n",
    "> Individual Coding Knowledge\n",
    "- Originally tried to make user portfolios but switched to doing admin tables and statistics\n",
    "- [Slides](https://docs.google.com/presentation/d/18fo2YrdEvAcDMqtd8VifapHgPEsEE3JeWeisGynX8xo/edit#slide=id.g312f16a5da6_0_0)\n"
   ]
  },
  {
   "cell_type": "markdown",
   "metadata": {},
   "source": [
    "# N@TM Presentation Feedback\n",
    "\n",
    "### Checklist\n",
    "1. Presented the admin tables and graphs frontend\n",
    "2. [Bathroom Pass Feedback](https://docs.google.com/forms/d/1gRWtQWuyEAeBCxxeLmwWe6qkY5y_FlSMITTv7TtuO8Y/edit#responses)\n",
    "\n",
    "![n@tm-group-photo](https://github.com/user-attachments/assets/0f4ef31d-9477-4748-8715-46537c96d8f4)"
   ]
  }
 ],
 "metadata": {
  "language_info": {
   "name": "python"
  }
 },
 "nbformat": 4,
 "nbformat_minor": 2
}
