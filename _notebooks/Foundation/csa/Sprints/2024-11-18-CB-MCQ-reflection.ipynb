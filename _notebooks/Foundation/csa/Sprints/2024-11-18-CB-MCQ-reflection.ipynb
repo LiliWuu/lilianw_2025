{
 "cells": [
  {
   "cell_type": "markdown",
   "metadata": {},
   "source": [
    "---\n",
    "layout: post\n",
    "title: Corrections to College Board 2014 MCQ\n",
    "type: collab\n",
    "toc: true\n",
    "permalink: /csa/CBMCQCorrections\n",
    "menu: nav/CBMCQCorrections.html\n",
    "comments: true\n",
    "courses: { csa: {week: 10} }\n",
    "type: ccc\n",
    "categories: [AP CSA]\n",
    "author: Lilian Wu\n",
    "---"
   ]
  },
  {
   "cell_type": "markdown",
   "metadata": {},
   "source": [
    "# Corrections\n",
    "\n",
    "Score: 23/40\n",
    "\n",
    "| Question #   | Content   | Correct Answer   | Explanation   |\n",
    "|------------|------------|------------|------------|\n",
    "| 9 <img width=\"430\" alt=\"Screenshot 2024-11-18 at 10 54 57 AM\" src=\"https://github.com/user-attachments/assets/ee606151-edad-4a08-9ff1-f7fea882a79b\">| sumArray with 1D int array | sum += key[i - 1] | The loop starts at i = 1, so key[i - 1] starts at index 0 and goes until index key.length - 1 |\n",
    "| 10 <img width=\"626\" alt=\"Screenshot 2024-11-18 at 10 59 42 AM\" src=\"https://github.com/user-attachments/assets/e2950d7a-bdb6-49ec-b57b-a4e54eed9a04\">| seqSearchRec with int array test | 2 only | 1 is incorrect because if the only value in data was target, it would return 5. 2 is correct because it will return a `ArrayIndexOutOfBoundsException` once data[-1]|\n",
    "| 13 <img width=\"516\" alt=\"Screenshot 2024-11-18 at 11 09 42 AM\" src=\"https://github.com/user-attachments/assets/1f8a2a52-e6a0-4e9e-b477-f663347d8b94\"> | Pairwise 1D int array traversal| 0 7 2 5 3 3 | k and arr[k] are being printed and not arr[k] and arr[k + 1] |\n",
    "| 15 <img width=\"558\" alt=\"Screenshot 2024-11-18 at 2 08 36 PM\" src=\"https://github.com/user-attachments/assets/30776867-144b-4667-b8e9-41794ab4a5df\"> | isSorted 1D int array implementations | 1 only | 2 is not right because an `ArrayIndexOutOfBoundsException` will occur when k = data.length - 1, and data[data.length - 1 + 1] will be out of bounds|\n",
    "| 16 <img width=\"537\" alt=\"Screenshot 2024-11-18 at 3 29 14 PM\" src=\"https://github.com/user-attachments/assets/40ef4b56-2d41-4a44-b789-dc39bf3cbb0e\">| append method with 2 1D int arrays | k + a1.length | values of the a2[] are assigned starting at result[k + a1.length] |\n",
    "| 18 <img width=\"541\" alt=\"Screenshot 2024-11-18 at 3 30 16 PM\" src=\"https://github.com/user-attachments/assets/72ae2cf0-a5a6-41fa-9141-bb6b685a2e31\">| Generate random index for ArrayList | (int)(Math.random() * myList.size()) | Math.random() generates 0-1, not including 1. So doing (int) on it would give 0 to myList.size() - 1 |\n",
    "| 19 <img width=\"525\" alt=\"Screenshot 2024-11-18 at 3 44 09 PM\" src=\"https://github.com/user-attachments/assets/884d40cb-2636-410e-bed1-5940b40e6c19\">| Compound expression using 7 and variables a, b | (a != b) \\\\\\ (b <= 7) | not b < 7 because the opposite of b > 7 is b<= 7 |\n",
    "| 22 <img width=\"527\" alt=\"Screenshot 2024-11-18 at 3 47 30 PM\" src=\"https://github.com/user-attachments/assets/a9b83b07-e6cd-4bca-a500-0d5484de8b68\">| Book and AudioBook classes | Line 4 will not compile because variables of type Book may only call methods in the Book class | Calling the same method of a superclass in a subclass will override the method and not result in errors. Cannot call methods of a subclass using a superclass object|\n",
    "| **23** <img width=\"548\" alt=\"Screenshot 2024-11-18 at 3 53 19 PM\" src=\"https://github.com/user-attachments/assets/dca5bff8-6cb3-4932-8b9e-c26739550d16\">\n",
    "| Manipulate method and animals List | [\"bear\", \"zebra\", \"bass\", \"cat\", \"koala\", \"baboon\"] | Starts at last element, removes it then adds it to the first index. Eventually, \"baboon\" is moved from index 1 to index 5|\n",
    "| 25 <img width=\"554\" alt=\"Screenshot 2024-11-18 at 4 02 52 PM\" src=\"https://github.com/user-attachments/assets/209413af-bb8f-4f5f-b256-3b60f9507369\">| RBox interfaces | 1 and 2 | 1 is also right because it gives user access to the height, width, depth to compare later|\n",
    "| 26 <img width=\"551\" alt=\"Screenshot 2024-11-18 at 4 05 06 PM\" src=\"https://github.com/user-attachments/assets/b24cf6a9-8b7c-4778-9604-ae0686fd9cb6\">| Print odd integers in 1D array but not even | <img width=\"258\" alt=\"Screenshot 2024-11-18 at 4 05 54 PM\" src=\"https://github.com/user-attachments/assets/596a82b5-b66b-43c2-ba04-b18b0592325e\">\n",
    "| Not arr[x] in the condition and not printing arr[x] but x because x is the element, not an index |\n",
    "| 27 <img width=\"549\" alt=\"Screenshot 2024-11-18 at 4 08 04 PM\" src=\"https://github.com/user-attachments/assets/a3884b21-c004-479d-a538-af23a6137430\">| Mystery method with int parameter | 8 | \n",
    "<img width=\"37\" alt=\"Screenshot 2024-11-18 at 4 12 39 PM\" src=\"https://github.com/user-attachments/assets/c02ab0ec-666d-45fd-b076-2cf0670d2582\">|\n",
    "| 34 <img width=\"551\" alt=\"Screenshot 2024-11-18 at 4 13 46 PM\" src=\"https://github.com/user-attachments/assets/7cf7695b-a831-4724-a3c6-c80c698b8c1b\">| Point & circle classes | 2 only | Not 2 and 3 because x and y are private variables and can't just be accessed just using .x and .y|\n",
    "| 35 <img width=\"351\" alt=\"Screenshot 2024-11-18 at 4 17 47 PM\" src=\"https://github.com/user-attachments/assets/94c7a4d5-6d4c-48e8-8790-e838c3ee56aa\">| Print result after while loop | 4752 | Understand the logic |\n",
    "| 36 <img width=\"430\" alt=\"Screenshot 2024-11-18 at 10 54 57 AM\" src=\"https://github.com/user-attachments/assets/be4d1487-c79e-4c83-9436-758c3d9d648e\">| Test method with multi-way selection|8,9,11 | not 8,9,12 because 12 is even and won't test the last case | \n",
    "| 37 <img width=\"545\" alt=\"Screenshot 2024-11-18 at 4 37 33 PM\" src=\"https://github.com/user-attachments/assets/ce849bb2-2529-4478-91a4-2b665bde8c9c\">| Missing while loop condition | 1 and 3 | 3 also because when x = 7, the loop will terminate | \n",
    "| 40 <img width=\"435\" alt=\"Screenshot 2024-11-18 at 4 43 49 PM\" src=\"https://github.com/user-attachments/assets/75dbe753-da0b-4503-a6d1-5dc22009a45f\">| whatsItDo with String parameter and substrings | <img width=\"55\" alt=\"Screenshot 2024-11-18 at 4 47 48 PM\" src=\"https://github.com/user-attachments/assets/941f78af-2ae2-4ebf-971c-279a8ad849a8\"> | The recursive method goes to the base case first and prints W, then goes backwards and finishes calling the other methods. Last method is whatsItDo(\"WATCH\"), which is printed as \"WATC\" |\n",
    "\n",
    "\n",
    "\n",
    "\n",
    "\n"
   ]
  }
 ],
 "metadata": {
  "language_info": {
   "name": "python"
  }
 },
 "nbformat": 4,
 "nbformat_minor": 2
}
