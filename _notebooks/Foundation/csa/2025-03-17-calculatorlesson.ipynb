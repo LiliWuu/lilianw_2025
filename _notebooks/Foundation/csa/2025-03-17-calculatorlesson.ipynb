{
 "cells": [
  {
   "cell_type": "markdown",
   "metadata": {},
   "source": [
    "---\n",
    "title: Calculator Enactment\n",
    "comments: true\n",
    "layout: post\n",
    "permalink: /calcenac\n",
    "description: Continue with Classes, Queues, performing Sorts and BigO analysis on your algorithm(s).\n",
    "author: Eric, Bella, Trystan\n",
    "type: ccc\n",
    "courses: { csa: {week: 25} }\n",
    "---"
   ]
  },
  {
   "cell_type": "markdown",
   "metadata": {},
   "source": [
    "#  Lesson: Stack vs Queue Calculator\n",
    "\n",
    "## **Introduction**\n",
    "Stacks and Queues are two fundamental data structures that have different methods of adding and removing elements. In this lesson, we will compare **Stacks** and **Queues** and explore how they can be used to implement a **calculator**.\n",
    "---\n",
    "## **What is a Stack?**\n",
    "A **stack** is a **LIFO (Last In, First Out)** data structure.  \n",
    "Elements are added and removed from the same end, called the **top**.\n",
    "\n",
    "### **Stack Operations:**\n",
    "- **push(item)**: Add an item to the top of the stack.\n",
    "- **pop()**: Remove an item from the top of the stack.\n",
    "- **peek()**: View the item at the top without removing it.\n",
    "- **isEmpty()**: Check if the stack is empty.\n",
    "\n",
    "\n",
    "[Animation](https://yongdanielliang.github.io/animation/web/Stack.html)\n",
    "\n",
    "\n"
   ]
  },
  {
   "cell_type": "markdown",
   "metadata": {},
   "source": [
    "\n",
    "---\n",
    "\n",
    "## **What is a Queue?**\n",
    "A **queue** is a **FIFO (First In, First Out)** data structure.  \n",
    "Elements are added at the **rear** and removed from the **front**.\n",
    "\n",
    "### **Queue Operations:**\n",
    "- **enqueue(item)**: Add an item to the rear of the queue.\n",
    "- **dequeue()**: Remove an item from the front of the queue.\n",
    "- **peek()**: View the item at the front without removing it.\n",
    "- **isEmpty()**: Check if the queue is empty.\n",
    "\n",
    "[Animation](https://www.cs.usfca.edu/~galles/visualization/QueueArray.html)\n"
   ]
  },
  {
   "cell_type": "markdown",
   "metadata": {},
   "source": [
    "\n",
    "![image]({{site.baseurl}}/images/submitimage.png)"
   ]
  },
  {
   "cell_type": "markdown",
   "metadata": {},
   "source": [
    "\n",
    "---\n",
    "## **How Can We Use Stacks and Queues for a Calculator?**\n",
    "\n",
    "### **Using a Stack in a Calculator:**\n",
    "Stacks are ideal for evaluating mathematical expressions, particularly those in **postfix** notation (Reverse Polish Notation), where operators follow operands. \n",
    "\n",
    "#### **Steps to Evaluate Postfix Expression using Stack:**\n",
    "1. **Read the expression** from left to right.\n",
    "2. If an **operand** (number) is encountered, **push it onto the stack**.\n",
    "3. If an **operator** is encountered, **pop two operands** from the stack, apply the operator, and **push the result back onto the stack**.\n",
    "4. Continue this process until the end of the expression.\n",
    "5. The **final result** will be the only value left in the stack.\n",
    "\n",
    "#### **Example:** `5 3 + 4 *`\n",
    "1. Push `5` → Stack: `[5]`\n",
    "2. Push `3` → Stack: `[5, 3]`\n",
    "3. Encounter `+`: Pop `3` and `5`, calculate `5 + 3 = 8`, push `8` → Stack: `[8]`\n",
    "4. Push `4` → Stack: `[8, 4]`\n",
    "5. Encounter `*`: Pop `4` and `8`, calculate `8 * 4 = 32`, push `32` → Stack: `[32]`\n",
    "6. **Final result:** `32`\n",
    "\n",
    "---\n",
    "\n",
    "### **Using a Queue in a Calculator:**\n",
    "Queues are less commonly used for direct arithmetic calculations but can be useful in simulating processes like order of operations or handling multiple tasks.\n",
    "\n",
    "For instance, a queue could be used in a **multi-step calculator** where tasks (like addition, subtraction, etc.) are added to the queue, and the system processes them in the order they were received.\n",
    "\n",
    "---\n",
    "\n",
    "## **Example: Using a Stack for Infix to Postfix Conversion**\n",
    "\n",
    "The following steps can be used to convert an infix expression (like `3 + 5 * 2`) to postfix notation using a stack:\n",
    "\n",
    "1. **Initialize an empty stack**.\n",
    "2. **Process the infix expression** from left to right.\n",
    "3. If a **number** is encountered, add it to the output expression.\n",
    "4. If an **operator** is encountered, pop operators from the stack and add them to the output expression until an operator with lower precedence is found.\n",
    "5. **Push the current operator** onto the stack.\n",
    "6. At the end of the expression, pop any remaining operators in the stack and add them to the output.\n",
    "\n",
    "For example:\n",
    "- Infix: `3 + 5 * 2`\n",
    "- Postfix: `3 5 2 * +`\n",
    "\n",
    "## **Java code for infix to postfix notation**\n",
    "![image]({{site.baseurl}}/images/Postfix.png)\n"
   ]
  },
  {
   "cell_type": "code",
   "execution_count": 1,
   "metadata": {
    "vscode": {
     "languageId": "java"
    }
   },
   "outputs": [
    {
     "name": "stdout",
     "output_type": "stream",
     "text": [
      "1+2*(3^4-5)^(6+7*8)-9\n",
      "1234^5-678*+^*+9-\n"
     ]
    }
   ],
   "source": [
    "import java.util.Stack;\n",
    "\n",
    "public class Calculator {\n",
    "    public static int prec(char c){\n",
    "        switch(c){\n",
    "            case '^':\n",
    "                return 3;\n",
    "            case '*':\n",
    "                return 2;\n",
    "            case '/':\n",
    "                return 2;\n",
    "            case '+':\n",
    "                return 1;\n",
    "            case '-':\n",
    "                return 1;\n",
    "            default:\n",
    "                return -1;\n",
    "        }\n",
    "    }\n",
    "\n",
    "    public static String infixToPostfix(String infix){\n",
    "        Stack<Character> charStack = new Stack<Character>();\n",
    "        String output = \"\";\n",
    "\n",
    "        for(int i = 0; i<infix.length();i++){\n",
    "            char j = infix.charAt(i);\n",
    "            if((int)j >=48 && (int)j <=57){ //numbers (operand)\n",
    "                output += j; //add operand to output\n",
    "                continue;\n",
    "            }\n",
    "            if((int)j >=65 && (int)j <=90){  //uppercase letters (operand)\n",
    "                output += j; //add operand to output\n",
    "                continue;\n",
    "            }\n",
    "            if((int)j >=97 && (int)j <=122){ //lowercase letters (operand)\n",
    "                output += j; //add operand to output\n",
    "                continue;\n",
    "            }\n",
    "\n",
    "            //start of a subsection\n",
    "            if(j=='('){ \n",
    "                charStack.push(Character.valueOf(j));\n",
    "                continue;\n",
    "            }\n",
    "             //end of a subsection\n",
    "            if(j==')'){\n",
    "                while (!charStack.peek().equals(Character.valueOf('('))) {\n",
    "                    output+=charStack.pop(); //add subsection to output\n",
    "                }\n",
    "                charStack.pop();\n",
    "                continue;\n",
    "            }\n",
    "\n",
    "            // while stack is not empty, and the preceding operator in the stack is a lower precedence in PEMDAS\n",
    "            while(!charStack.isEmpty() && (prec(j)<prec(charStack.peek().charValue())||prec(j)==prec(charStack.peek().charValue()))){\n",
    "                output += charStack.pop(); //remove current operator on the top of stack and add it to the output\n",
    "            }\n",
    "            charStack.push(Character.valueOf(j)); //add new operator to the stack\n",
    "        }\n",
    "        //empty stack in output\n",
    "        while(!charStack.isEmpty()){\n",
    "            output += charStack.pop();\n",
    "        }\n",
    "\n",
    "        //this gives us our postfix output\n",
    "        return output;\n",
    "    }\n",
    "\n",
    "    public static void main(String[] args) {\n",
    "        String expression = \"1+2*(3^4-5)^(6+7*8)-9\";\n",
    "        String post = infixToPostfix(expression);\n",
    "\n",
    "        System.out.println(expression);\n",
    "        System.out.println(post);\n",
    "    }\n",
    "}\n",
    "\n",
    "Calculator.main(null)"
   ]
  },
  {
   "cell_type": "markdown",
   "metadata": {},
   "source": [
    "## Evaulating Postfix with a Stack\n",
    "We start with an expression that we convert to postfix\n",
    "\n",
    "We move along the postfix string and for each step we do the following\n",
    "\n",
    "if it is an operand (number), then we add it to the stack\n",
    "if it is an operator (+-*), then we pop the top 2 values of the stack and evalute using the expression. After evaulating the operation we add the solution onto the stack.\n",
    "When finished evaulting all operators and operands there will be 1 value left on the stack, that is our answer."
   ]
  },
  {
   "cell_type": "code",
   "execution_count": 2,
   "metadata": {
    "vscode": {
     "languageId": "java"
    }
   },
   "outputs": [
    {
     "name": "stdout",
     "output_type": "stream",
     "text": [
      "adding 1 to the stack\n",
      "adding 2 to the stack\n",
      "evaluating operator: +\n",
      "adding evaluated: 3.0 to the stack\n",
      "\n",
      "3.0 is at the top of the stack\n"
     ]
    }
   ],
   "source": [
    "String postfix = \"12+\";\n",
    "Stack<Double> stack = new Stack<Double>();\n",
    "\n",
    "//Go through our queue (postfix string)\n",
    "\n",
    "//step 1 check the first charater of the postfix\n",
    "// we see that it is a number (operand) so we add it to the stack\n",
    "if(postfix.substring(0,1).matches(\"\\\\d\")){ //true\n",
    "    System.out.println(\"adding \"+postfix.substring(0,1)+\" to the stack\");\n",
    "    stack.push(Double.valueOf(postfix.substring(0,1)));\n",
    "}\n",
    "\n",
    "//step 2 check the second charater of postfix\n",
    "// we see that it is a number (operand) so we add it to the stack\n",
    "if(postfix.substring(1,2).matches(\"\\\\d\")){ //true\n",
    "    System.out.println(\"adding \"+postfix.substring(1,2)+\" to the stack\");\n",
    "    stack.push(Double.valueOf(postfix.substring(1,2)));\n",
    "}\n",
    "\n",
    "//step 3 check the third character of the postfix\n",
    "if(postfix.substring(2,3).matches(\"\\\\d\")){ //false\n",
    "}\n",
    "else {\n",
    "    System.out.println(\"evaluating operator: \"+postfix.substring(2,3));\n",
    "\n",
    "    double val1 = stack.pop().doubleValue(); //top of the stack\n",
    "    double val2 = stack.pop().doubleValue(); //next to the top of the stack\n",
    "\n",
    "    //evalute val1,val2 with the given operator\n",
    "    switch(postfix.substring(2,3)){\n",
    "        case \"+\":\n",
    "            System.out.println(\"adding evaluated: \"+String.valueOf(val2+val1)+\" to the stack\");\n",
    "            stack.push(Double.valueOf(val2+val1)); //add the evalution to the stack\n",
    "            break;\n",
    "        //other operators here\n",
    "    }\n",
    "};\n",
    "\n",
    "//we have now gone through the entire postfix string\n",
    "// since the stack has only 1 value left, we can assume it is the answer\n",
    "\n",
    "System.out.println();\n",
    "System.out.println(stack.peek().toString() + \" is at the top of the stack\"); //peek at the top of the stack"
   ]
  },
  {
   "cell_type": "markdown",
   "metadata": {},
   "source": [
    "## how the actual function looks"
   ]
  },
  {
   "cell_type": "code",
   "execution_count": 3,
   "metadata": {
    "vscode": {
     "languageId": "java"
    }
   },
   "outputs": [
    {
     "name": "stdout",
     "output_type": "stream",
     "text": [
      "0.07142857142857142\n"
     ]
    }
   ],
   "source": [
    "double calculatePostfixExpression(String postfix){\n",
    "    Stack<Double> doubleStack = new Stack<Double>();\n",
    "    for(int i = 0; i<postfix.length();i++){\n",
    "        char j = postfix.charAt(i); //probally don't need to use charAt, just use substring\n",
    "        if((int)j >=48 && (int)j <=57){ //numbers (operand)\n",
    "            doubleStack.push(Double.valueOf(String.valueOf(j))); //cast char to String and then to a Double\n",
    "        }\n",
    "        else { //assume it is an operator\n",
    "            if(doubleStack.size()<2){ //avoid out of bounds errors\n",
    "                continue;\n",
    "            }\n",
    "            //pop top two values in the stack\n",
    "            double a = doubleStack.pop().doubleValue(); //top\n",
    "            double b = doubleStack.pop().doubleValue(); //second from top\n",
    "            //evaluate and place back on top of the stack\n",
    "            switch(j){\n",
    "                case '^':\n",
    "                    doubleStack.push(Double.valueOf(Math.pow(b, a)));\n",
    "                    break;\n",
    "                case '*':\n",
    "                    doubleStack.push(Double.valueOf(b*a));\n",
    "                    break;\n",
    "                case '/':\n",
    "                    doubleStack.push(Double.valueOf(b/a));\n",
    "                    break;\n",
    "                case '+':\n",
    "                    doubleStack.push(Double.valueOf(b+a));\n",
    "                    break;\n",
    "                case '-':\n",
    "                    doubleStack.push(Double.valueOf(b-a));\n",
    "                    break;\n",
    "                default: //unexepected value, so ill just put the stack back in place\n",
    "                    doubleStack.push(Double.valueOf(b));\n",
    "                    doubleStack.push(Double.valueOf(a));\n",
    "            }\n",
    "        }\n",
    "    }\n",
    "\n",
    "    return doubleStack.peek().doubleValue();\n",
    "}\n",
    "\n",
    "//solving for 1/(4*3+2) = 1/14 = ~.0714\n",
    "double solution = calculatePostfixExpression(\"1234*+/\");\n",
    "System.out.println(solution);"
   ]
  },
  {
   "cell_type": "markdown",
   "metadata": {},
   "source": [
    "## Example: Using a Queue for Order of Operations Simulation\n",
    "\n",
    "A queue can simulate the process of handling different operations in a calculator where operations are processed in the order they were added. For instance:\n",
    "\n",
    "- Enqueue tasks like `3 + 5`, `2 - 1`, etc.\n",
    "- Dequeue and process each task in order.\n",
    "- The queue ensures that the operations are executed in the correct sequence.\n",
    "\n",
    "### Java Code for Queue Simulation\n",
    "\n"
   ]
  },
  {
   "cell_type": "code",
   "execution_count": null,
   "metadata": {
    "vscode": {
     "languageId": "java"
    }
   },
   "outputs": [
    {
     "name": "stdout",
     "output_type": "stream",
     "text": [
      "Processing: 3 + 5\n",
      "Processing: 2 - 1\n"
     ]
    }
   ],
   "source": [
    "\n",
    "import java.util.LinkedList;\n",
    "import java.util.Queue;\n",
    "\n",
    "public class CalculatorQueue {\n",
    "    public static void main(String[] args) {\n",
    "        // Create a queue to store operations\n",
    "        Queue<String> operations = new LinkedList<>();\n",
    "        \n",
    "        // Enqueue tasks\n",
    "        operations.add(\"3 + 5\");\n",
    "        operations.add(\"2 - 1\");\n",
    "        \n",
    "        // Process tasks in order\n",
    "        while (!operations.isEmpty()) {\n",
    "            String operation = operations.poll(); // Dequeue\n",
    "            System.out.println(\"Processing: \" + operation);\n",
    "            // In a real calculator, here you'd process the operation\n",
    "        }\n",
    "    }\n",
    "}\n",
    "\n",
    "CalculatorQueue.main(null)\n",
    "\n"
   ]
  },
  {
   "cell_type": "markdown",
   "metadata": {},
   "source": [
    "## Homework (hw)\n",
    "- Queue Task: Modify the CalculatorQueue to support more complex operations, such as multiplication and division.\n",
    "- Stack Task: Modify the CalculatorStack to reverse the order of addition and handle operations in the LIFO sequence.\n",
    "- Add a method to both the stack and queue programs to handle invalid operations and display an error message.\n",
    "- Create a method for both programs to display all operations before processing them, and track the result after each operation.\n",
    "- Advanced Task: Implement a calculator that supports parentheses using a stack to ensure proper operation precedence.\n"
   ]
  },
  {
   "cell_type": "markdown",
   "metadata": {},
   "source": [
    "Postfix evaulation using an array\n",
    "(this allows numbers to be more than 0-9)"
   ]
  },
  {
   "cell_type": "code",
   "execution_count": 9,
   "metadata": {
    "vscode": {
     "languageId": "java"
    }
   },
   "outputs": [
    {
     "name": "stdout",
     "output_type": "stream",
     "text": [
      "All queued operations:\n",
      "- 3 + 5\n",
      "- 6 * 2\n",
      "- 9 / 3\n",
      "- 4 & 2\n",
      "- 10 / 0\n",
      "\n",
      "Processing: 3 + 5\n",
      "Result: 8.0\n",
      "Processing: 6 * 2\n",
      "Result: 12.0\n",
      "Processing: 9 / 3\n",
      "Result: 3.0\n",
      "Processing: 4 & 2\n",
      "Result: Error: Unsupported operator '&'.\n",
      "Processing: 10 / 0\n",
      "Result: Error: Division by zero.\n",
      "Final Result: 3.0\n"
     ]
    }
   ],
   "source": [
    "import java.util.LinkedList;\n",
    "import java.util.Queue;\n",
    "\n",
    "public class CalculatorQueue {\n",
    "    public static void main(String[] args) {\n",
    "        Queue<String> operations = new LinkedList<>();\n",
    "\n",
    "        operations.add(\"3 + 5\");\n",
    "        operations.add(\"6 * 2\");\n",
    "        operations.add(\"9 / 3\");\n",
    "        operations.add(\"4 & 2\");   \n",
    "        operations.add(\"10 / 0\");  \n",
    "\n",
    "        displayOperations(operations);\n",
    "\n",
    "        double lastResult = 0;\n",
    "        while (!operations.isEmpty()) {\n",
    "            String operation = operations.poll();\n",
    "            System.out.println(\"Processing: \" + operation);\n",
    "            String result = evaluate(operation);\n",
    "            System.out.println(\"Result: \" + result);\n",
    "\n",
    "            try {\n",
    "                lastResult = Double.parseDouble(result);\n",
    "            } catch (NumberFormatException ignored) {}\n",
    "        }\n",
    "\n",
    "        System.out.println(\"Final Result: \" + lastResult);\n",
    "    }\n",
    "\n",
    "    private static void displayOperations(Queue<String> ops) {\n",
    "        System.out.println(\"All queued operations:\");\n",
    "        for (String op : ops) {\n",
    "            System.out.println(\"- \" + op);\n",
    "        }\n",
    "        System.out.println();\n",
    "    }\n",
    "\n",
    "    // Evaluates a single operation\n",
    "    private static String evaluate(String expression) {\n",
    "        String[] parts = expression.split(\" \");\n",
    "        if (parts.length != 3) return \"Error: Invalid expression format.\";\n",
    "\n",
    "        try {\n",
    "            double num1 = Double.parseDouble(parts[0]);\n",
    "            String operator = parts[1];\n",
    "            double num2 = Double.parseDouble(parts[2]);\n",
    "\n",
    "            return switch (operator) {\n",
    "                case \"+\" -> String.valueOf(num1 + num2);\n",
    "                case \"-\" -> String.valueOf(num1 - num2);\n",
    "                case \"*\" -> String.valueOf(num1 * num2);\n",
    "                case \"/\" -> num2 != 0 ? String.valueOf(num1 / num2) : \"Error: Division by zero.\";\n",
    "                default -> \"Error: Unsupported operator '\" + operator + \"'.\";\n",
    "            };\n",
    "        } catch (NumberFormatException e) {\n",
    "            return \"Error: Invalid number format.\";\n",
    "        }\n",
    "    }\n",
    "}\n",
    "\n",
    "\n",
    "\n",
    "CalculatorQueue.main(null)\n",
    "\n"
   ]
  },
  {
   "cell_type": "code",
   "execution_count": 10,
   "metadata": {
    "vscode": {
     "languageId": "java"
    }
   },
   "outputs": [
    {
     "name": "stdout",
     "output_type": "stream",
     "text": [
      "All stacked operations (LIFO order):\n",
      "- 6 / 0\n",
      "- 2 ^ 3\n",
      "- 7 * 2\n",
      "- 8 / 4\n",
      "- 3 + 5\n",
      "\n",
      "Processing: 6 / 0\n",
      "Result: Error: Division by zero.\n",
      "Processing: 2 ^ 3\n",
      "Result: Error: Unsupported operator '^'.\n",
      "Processing: 7 * 2\n",
      "Result: 14.0\n",
      "Processing: 8 / 4\n",
      "Result: 2.0\n",
      "Processing: 3 + 5\n",
      "Result: 8.0\n",
      "Final Result: 8.0\n"
     ]
    }
   ],
   "source": [
    "import java.util.Stack;\n",
    "\n",
    "public class CalculatorStack {\n",
    "    public static void main(String[] args) {\n",
    "        Stack<String> operations = new Stack<>();\n",
    "\n",
    "        operations.push(\"3 + 5\");\n",
    "        operations.push(\"8 / 4\");\n",
    "        operations.push(\"7 * 2\");\n",
    "        operations.push(\"2 ^ 3\");   \n",
    "        operations.push(\"6 / 0\");  \n",
    "\n",
    "        displayOperations(operations);\n",
    "\n",
    "        double lastResult = 0;\n",
    "        while (!operations.isEmpty()) {\n",
    "            String operation = operations.pop();\n",
    "            System.out.println(\"Processing: \" + operation);\n",
    "            String result = evaluate(operation);\n",
    "            System.out.println(\"Result: \" + result);\n",
    "\n",
    "            try {\n",
    "                lastResult = Double.parseDouble(result);\n",
    "            } catch (NumberFormatException ignored) {}\n",
    "        }\n",
    "\n",
    "        System.out.println(\"Final Result: \" + lastResult);\n",
    "    }\n",
    "\n",
    "    private static void displayOperations(Stack<String> ops) {\n",
    "        System.out.println(\"All stacked operations (LIFO order):\");\n",
    "        for (int i = ops.size() - 1; i >= 0; i--) {\n",
    "            System.out.println(\"- \" + ops.get(i));\n",
    "        }\n",
    "        System.out.println();\n",
    "    }\n",
    "\n",
    "    private static String evaluate(String expression) {\n",
    "        String[] parts = expression.split(\" \");\n",
    "        if (parts.length != 3) return \"Error: Invalid expression format.\";\n",
    "\n",
    "        try {\n",
    "            double num1 = Double.parseDouble(parts[0]);\n",
    "            String operator = parts[1];\n",
    "            double num2 = Double.parseDouble(parts[2]);\n",
    "\n",
    "            return switch (operator) {\n",
    "                case \"+\" -> String.valueOf(num1 + num2);\n",
    "                case \"-\" -> String.valueOf(num1 - num2);\n",
    "                case \"*\" -> String.valueOf(num1 * num2);\n",
    "                case \"/\" -> num2 != 0 ? String.valueOf(num1 / num2) : \"Error: Division by zero.\";\n",
    "                default -> \"Error: Unsupported operator '\" + operator + \"'.\";\n",
    "            };\n",
    "        } catch (NumberFormatException e) {\n",
    "            return \"Error: Invalid number format.\";\n",
    "        }\n",
    "    }\n",
    "}\n",
    "\n",
    "\n",
    "CalculatorStack.main(null);"
   ]
  },
  {
   "cell_type": "code",
   "execution_count": 4,
   "metadata": {
    "vscode": {
     "languageId": "java"
    }
   },
   "outputs": [
    {
     "name": "stdout",
     "output_type": "stream",
     "text": [
      "5.0\n"
     ]
    }
   ],
   "source": [
    "double calculatePostfixExpressionArray(String[] postfix){\n",
    "    Stack<Double> doubleStack = new Stack<Double>();\n",
    "    for(int i = 0; i<postfix.length;i++){\n",
    "        String j = postfix[i];\n",
    "        if (j.matches(\"-?\\\\d+\")) {  \n",
    "            doubleStack.push(Double.valueOf(j)); //cast String to a Double\n",
    "        } \n",
    "        else { //assume it is an operator\n",
    "            if(doubleStack.size()<2){ //avoid out of bounds errors\n",
    "                continue;\n",
    "            }\n",
    "            //pop top two values in the stack\n",
    "            double a = doubleStack.pop().doubleValue(); //top\n",
    "            double b = doubleStack.pop().doubleValue(); //second from top\n",
    "            //evaluate and place back on top of the stack\n",
    "            switch(j){\n",
    "                case \"^\":\n",
    "                    doubleStack.push(Double.valueOf(Math.pow(b, a)));\n",
    "                    break;\n",
    "                case \"*\":\n",
    "                    doubleStack.push(Double.valueOf(b*a));\n",
    "                    break;\n",
    "                case \"/\":\n",
    "                    doubleStack.push(Double.valueOf(b/a));\n",
    "                    break;\n",
    "                case \"+\":\n",
    "                    doubleStack.push(Double.valueOf(b+a));\n",
    "                    break;\n",
    "                case \"-\":\n",
    "                    doubleStack.push(Double.valueOf(b-a));\n",
    "                    break;\n",
    "                default: //unexepected value, so ill just put the stack back in place\n",
    "                    doubleStack.push(Double.valueOf(b));\n",
    "                    doubleStack.push(Double.valueOf(a));\n",
    "            }\n",
    "        }\n",
    "    }\n",
    "\n",
    "    return doubleStack.peek().doubleValue();\n",
    "}\n",
    "\n",
    "//solving for 10/2 = 5\n",
    "String[] arr = {\"10\",\"2\",\"/\"};\n",
    "double solution = calculatePostfixExpressionArray(arr);\n",
    "\n",
    "System.out.println(solution)"
   ]
  },
  {
   "cell_type": "markdown",
   "metadata": {},
   "source": []
  }
 ],
 "metadata": {
  "kernelspec": {
   "display_name": "java (IJava/j!)",
   "language": "java",
   "name": "jbang-ijava"
  },
  "language_info": {
   "codemirror_mode": "java",
   "file_extension": ".jshell",
   "mimetype": "text/x-java-source",
   "name": "Java",
   "pygments_lexer": "java",
   "version": "22.0.2+9-70"
  }
 },
 "nbformat": 4,
 "nbformat_minor": 2
}
