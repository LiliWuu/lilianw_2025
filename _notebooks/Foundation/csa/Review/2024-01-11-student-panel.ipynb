{
 "cells": [
  {
   "cell_type": "markdown",
   "metadata": {},
   "source": [
    "---\n",
    "layout: post\n",
    "title: 1/8 Student Panel\n",
    "categories: [AP CSA]\n",
    "menu: nav/CSA_Units/student-panel.html\n",
    "permalink: /csa/student-panel.html\n",
    "---"
   ]
  },
  {
   "cell_type": "markdown",
   "metadata": {},
   "source": [
    "![IMG_7771](https://github.com/user-attachments/assets/5109d554-3b87-48c0-8320-b8f048c806ff)\n",
    "\n",
    "## Meeting Notes\n",
    "\n",
    "- Have to be able to explain code and have full understanding\n",
    "- Direct, concise communication is key\n",
    "- Communicating effectively helps with getting into clubs and talking to recruiters\n",
    "- Documenting methodologies (agile methodology) / making issues is important\n",
    "- Planning before coding is critical (making flowcharts)\n",
    "- Managing projects, cross-team collaboration\n",
    "- Important to have projects for college apps\n",
    "- College apps can include technical and social ethics\n",
    "- Be involved in the community\n",
    "- Look at university classes and what they offer (talk about the specifics and how to make an impact in college apps)\n",
    "- Dual-enrollment / taking community college courses = don't need to do certain gen ed classes in college\n",
    "- Projects and technical skills are important to be recruited\n",
    "- Email professors to apply for internships\n",
    "- Start writing college apps end of junior year/in summer\n",
    "- Leet code is used in software interviews\n",
    "- LinkedIn has a place for jobs, careers has internships, messaging people on LinkedIn for recruiters (personalized advice)\n",
    "- Begin as a TA in college\n",
    "- Look for startup opportunities in college"
   ]
  },
  {
   "cell_type": "markdown",
   "metadata": {},
   "source": [
    "# Takeaways\n",
    "### Soft Skills\n",
    "Tech requires good soft skills, especially being able to communicate effectively. It is also team-centered, involving collaboration between teams and managing each department, such as through Github Backlogging. Additionally, documenting methodologies and planning code by creating flowcharts is just as important as writing code.\n",
    "\n",
    "### College Advice\n",
    "It's important to look into what precise course colleges offer before applying, and college essays should showcase how the individual plans to make an impact. Consider taking dual-enrollment so some college classes don't need to be taken. Use LinkedIn as a platform for jobs, internships, recruiters. Make sure to be involved in clubs and look for startup opportunities."
   ]
  }
 ],
 "metadata": {
  "language_info": {
   "name": "python"
  }
 },
 "nbformat": 4,
 "nbformat_minor": 2
}
