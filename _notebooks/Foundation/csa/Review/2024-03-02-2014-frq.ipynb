{
 "cells": [
  {
   "cell_type": "markdown",
   "metadata": {},
   "source": [
    "---\n",
    "layout: post\n",
    "title: Trimester 2 Final Exam Retrospective\n",
    "categories: [AP CSA]\n",
    "menu: nav/CSA_Units/final-exam-retrospective.html\n",
    "permalink: /csa/final-exam-retrospective.html\n",
    "---"
   ]
  },
  {
   "cell_type": "markdown",
   "metadata": {},
   "source": [
    "# 2014 FRQ\n",
    "<img width=\"662\" alt=\"Image\" src=\"https://github.com/user-attachments/assets/41acf01e-81cd-4677-932a-0b85e962b94a\" />\n"
   ]
  },
  {
   "cell_type": "markdown",
   "metadata": {},
   "source": [
    "### Part A\n",
    "<img width=\"671\" alt=\"Image\" src=\"https://github.com/user-attachments/assets/5fc77dc3-73cd-40d9-b2ee-d8aa795686a6\" />"
   ]
  },
  {
   "cell_type": "code",
   "execution_count": 6,
   "metadata": {
    "vscode": {
     "languageId": "java"
    }
   },
   "outputs": [
    {
     "name": "stdout",
     "output_type": "stream",
     "text": [
      "apar\n"
     ]
    }
   ],
   "source": [
    "public class WordScrambler {\n",
    "    private String[] scrambledWords;\n",
    "    public WordScrambler(String[] wordArr) {\n",
    "        // scrambledWords = mixedWords(wordArr);\n",
    "    }\n",
    "\n",
    "    public String recombine(String word1, String word2) {\n",
    "        String recombinedStr = \"\";\n",
    "        recombinedStr += word1.substring(0, (word1.length() - 1)/2) \n",
    "        + word2.substring(word2.length() / 2, word2.length());\n",
    "        return recombinedStr;\n",
    "    }\n",
    "}\n",
    "\n",
    "public class Main {\n",
    "    public static void main(String[] args) {\n",
    "        String[] wordArr = {\"apple\", \"pear\"};\n",
    "        WordScrambler wordScrambler = new WordScrambler(wordArr);\n",
    "        System.out.println(wordScrambler.recombine(\"apple\", \"pear\"));\n",
    "    }\n",
    "}\n",
    "\n",
    "Main.main(null);"
   ]
  },
  {
   "cell_type": "markdown",
   "metadata": {},
   "source": [
    "### Part B\n",
    "<img width=\"606\" alt=\"Image\" src=\"https://github.com/user-attachments/assets/5e1fbfdc-029f-49cd-8d33-64c303fa5113\" />"
   ]
  },
  {
   "cell_type": "code",
   "execution_count": null,
   "metadata": {
    "vscode": {
     "languageId": "java"
    }
   },
   "outputs": [],
   "source": [
    "public class WordScrambler {\n",
    "    private String[] scrambledWords;\n",
    "    public WordScrambler(String[] wordArr) {\n",
    "        scrambledWords = mixedWords(wordArr);\n",
    "    }\n",
    "\n",
    "    public String recombine(String word1, String word2) {\n",
    "        String recombinedStr = \"\";\n",
    "        recombinedStr += word1.substring(0, (word1.length() - 1)/2) \n",
    "        + word2.substring(word2.length() / 2, word2.length());\n",
    "        return recombinedStr;\n",
    "    }\n",
    "\n",
    "    public String[] mixedWords(String[] words) {\n",
    "        String[] mixedWords = words.\n",
    "    }\n",
    "}\n",
    "\n",
    "public class Main {\n",
    "    public static void main(String[] args) {\n",
    "        String[] wordArr = {\"apple\", \"pear\"};\n",
    "        WordScrambler wordScrambler = new WordScrambler(wordArr);\n",
    "        System.out.println(wordScrambler.recombine(\"apple\", \"pear\"));\n",
    "    }\n",
    "}\n",
    "\n",
    "Main.main(null);"
   ]
  }
 ],
 "metadata": {
  "kernelspec": {
   "display_name": "java (IJava/j!)",
   "language": "java",
   "name": "jbang-ijava"
  },
  "language_info": {
   "codemirror_mode": "java",
   "file_extension": ".jshell",
   "mimetype": "text/x-java-source",
   "name": "Java",
   "pygments_lexer": "java",
   "version": "22.0.2+9-70"
  }
 },
 "nbformat": 4,
 "nbformat_minor": 2
}
