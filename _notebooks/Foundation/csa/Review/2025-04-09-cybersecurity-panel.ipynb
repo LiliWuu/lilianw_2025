{
 "cells": [
  {
   "cell_type": "markdown",
   "id": "fee78d72",
   "metadata": {},
   "source": [
    "---\n",
    "layout: post\n",
    "title: Cybersecurity Panel\n",
    "categories: [AP CSA]\n",
    "menu: nav/review/cybersecurity-panel\n",
    "permalink: /csa/review/cybersecurity-panel\n",
    "---"
   ]
  },
  {
   "cell_type": "markdown",
   "id": "f9d1a1ed",
   "metadata": {},
   "source": [
    "# Panelists\n",
    "1. David Tomasz\n",
    "2. Tricia Mercer\n",
    "3. Victor Nzeata\n",
    "### Real World Impact\n",
    "**David Tomasz**\n",
    "- Ransomware\n",
    "- Make sure to be a people's person and network with skilled people. \n",
    "\n",
    "**Tricia Mercer**\n",
    "- Managed access control to ensure people do not have access to private information (an employee in her company had been stealing company data even though they were on a leave of absence)\n",
    "- Fishing testing shows how people can access data that is vulnerable\n",
    "- Integrity is of utmost importance\n",
    "\n",
    "**Victor Nzeata**\n",
    "- Powershell script to see if old data was in system. Eliminates exposure of information to adversaries from other countries.\n",
    "- AI is leveraged as a cyberattack weapon. Cybersecurity can gain information how hackers gain information and strengthen the security.\n",
    "- Use same tools and techniques (such as fishing) to ensure protections are secure\n",
    "- Certified Cybersecurity (CC) to gain basic knowledge about cybersecurity\n",
    "\n"
   ]
  }
 ],
 "metadata": {
  "language_info": {
   "name": "python"
  }
 },
 "nbformat": 4,
 "nbformat_minor": 5
}
