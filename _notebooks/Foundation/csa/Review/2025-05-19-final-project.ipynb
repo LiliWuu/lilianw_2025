{
 "cells": [
  {
   "cell_type": "markdown",
   "id": "916e390f",
   "metadata": {},
   "source": [
    "---\n",
    "layout: post\n",
    "title: Tri 3 Final Project\n",
    "categories: [AP CSA]\n",
    "menu: nav/CSA_Units/tri3-final-project.html\n",
    "permalink: csa/tri3-final-project.html\n",
    "---"
   ]
  },
  {
   "cell_type": "markdown",
   "id": "cece3e25",
   "metadata": {},
   "source": [
    "# Overview of Projects"
   ]
  },
  {
   "cell_type": "markdown",
   "id": "63648e15",
   "metadata": {},
   "source": [
    "### CSA\n",
    "**Hall Pass - Open Coding Society**\n",
    "> Admin Approval Request\n",
    "- Developed a secure admin dashboard using Java Spring Boot and Thymeleaf\n",
    "- Implemented role-based access/authorization (admin-only access)\n",
    "- Integrated real-time status updates for student requests using asynchronous fetch handling\n",
    "\n",
    "> Hall Pass Queue\n",
    "– Designed and implemented the queue logic to manage student entries in a FIFO structure\n",
    "- Built a queue database to track active student entries\n",
    "- Developed RESTful endpoints to handle student add/remove actions and real-time queue updates\n",
    "– Coordinated data interactions between the Hall Pass Queue DB and Tinkle View DB \n",
    "\n",
    "> Tinkle View\n",
    "- Designed and structured tinkle view UI using Thymeleaf (duration by week, graph visualization)\n",
    "- Worked on user duration logic and display\n",
    "\n",
    "> Database Restore\n",
    "- Reworked restore methods to use SID as identifier instead of person name for reliability and stability\n",
    "- Developed bulk create, extract, and clear endpoints\n",
    "- Implemented clear endpoint using a custom JPQL delete query \n",
    "\n",
    "### CSSE\n",
    "**Platformer Mario Game**\n",
    "- Applied object-oriented programming principles (classes, attributes, methods) to build game components\n",
    "- Contributed to the object interaction system, including player collision and responses\n",
    "- Designed and implemented in-game objects, such as platforms and interactable elements\n",
    "\n",
    "**Animation Group Project (Arm-egg-on)**\n",
    "- Created custom sprite sheets to animate character and object movements\n",
    "- Implemented basic user controls (e.g., WASD inputs) to enable interaction with game elements\n",
    "- Developed simple collision response logic to trigger game events based on object interaction"
   ]
  },
  {
   "cell_type": "markdown",
   "id": "c055aa8d",
   "metadata": {},
   "source": [
    "# Unique Qualities\n",
    "- **Collaborative Problem Seeker**: Even without holding a lead role, I regularly initiated conversations with teammates across feature groups to clarify integration points, align development efforts, and proactively identify better approaches—such as transitioning from name to SID in the Tinkle table for improved reliability.\n",
    "\n",
    "- **Initiative-Driven Learner**: Voluntarily formed a new team and took on an unfamiliar tech stack (CSV, Weka, Tablesaw, machine learning) to build a ML pipeline—motivated purely by curiosity and a desire to expand my skillset beyond the core curriculum.\n",
    "\n",
    "- **Detail-Oriented Builder**: I hold myself to a high standard when it comes to the quality of my work. I’m a perfectionist by nature, and this translated into many hours refining the Hall Pass feature to minimize bugs and ensure it functioned reliably for real users.\n",
    "\n",
    "- **Eager Contributor**: I consistently looked for additional responsibilities, even outside my assigned scope, to better support the team and deepen my understanding of the system—driven by both curiosity and a commitment to making the final product stronger.\n",
    "\n",
    "- **Asynchronous System Thinker**: My work on the Hall Pass Queue required designing a system that functions independently from the admin approval process. This demanded a thoughtful understanding of database relationships and real-time interactions between asynchronous components like the Queue and Tinkle View."
   ]
  },
  {
   "cell_type": "markdown",
   "id": "6088b075",
   "metadata": {},
   "source": [
    "# Data Structures Work\n",
    "- [Fibonacci](https://github.com/LiliWuu/lilianw_2025/blob/520211a2b9e9b8444b2cd2e48cf8ff1cdcbed8dc/_notebooks/Foundation/csa/data_structures/2025-02-20-fibonaccii_abstract.ipynb)\n",
    "- [Collectibles](https://github.com/LiliWuu/lilianw_2025/blob/5856c68c92985b9431de5120eb37fa3ce991f4ca/_notebooks/Foundation/csa/team_teach/collectables/2025-04-10-intro.ipynb)\n",
    "- [Selection/Insertion Sort](https://github.com/LiliWuu/lilianw_2025/blob/51a483cb87f8ce37ee7c88ca14099b5be639be98/_notebooks/Foundation/csa/FRQ_teach/sorting/2025-01-06-sortingHW.ipynb)\n",
    "- [Calculator](https://github.com/LiliWuu/lilianw_2025/blob/e413961814e4121b26b4cee7e61a0e147762ed8f/_notebooks/Foundation/csa/2025-03-17-calculatorlesson.ipynb)\n",
    "- [Graph Heuristics](https://github.com/LiliWuu/lilianw_2025/blob/a650f89dfd5ab32a660973ce0e3e2e717d576121/_notebooks/Foundation/csa/data_structures/2025-05-22-graph-heuristics.ipynb)"
   ]
  },
  {
   "cell_type": "markdown",
   "id": "ade25fb1",
   "metadata": {},
   "source": [
    "# Project Showcases\n",
    "### June 2025 N@TM\n",
    "- Used two screens, one for scanner and one for hall pass\n",
    "- Showed parents, students, and other attendees our project's purpose, design, implementation, logic\n",
    "- Demoed the flow on the deployed Open Coding Society website\n",
    "<a><img src=\"../../../../images/n@tm-linkedin.jpg\"></a>\n"
   ]
  }
 ],
 "metadata": {
  "language_info": {
   "name": "python"
  }
 },
 "nbformat": 4,
 "nbformat_minor": 5
}
