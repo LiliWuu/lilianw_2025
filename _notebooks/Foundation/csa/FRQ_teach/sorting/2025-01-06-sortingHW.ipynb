{
 "cells": [
  {
   "cell_type": "raw",
   "metadata": {
    "vscode": {
     "languageId": "raw"
    }
   },
   "source": [
    "---\n",
    "title: Sorting/Searching Algorithms - Sorting Homework\n",
    "description: A homework on sorting algorithms for AP Computer Science students.\n",
    "categories: [Sorting/Searching Algorithms]\n",
    "courses: { csse: {week: 3}, csp: {week: 3}, csa: {week: 2} }\n",
    "menu: nav/teamteaching.html\n",
    "permalink: /sortingTT/sorting/hw/\n",
    "comments: true\n",
    "---"
   ]
  },
  {
   "cell_type": "markdown",
   "metadata": {},
   "source": [
    "# **Objective:**\n",
    "- Insertion Sort: Sort an array in ascending order using the Insertion Sort algorithm.\n",
    "- Selection Sort: Sort an array in ascending order using the Selection Sort algorithm."
   ]
  },
  {
   "cell_type": "code",
   "execution_count": 10,
   "metadata": {
    "vscode": {
     "languageId": "java"
    }
   },
   "outputs": [
    {
     "name": "stdout",
     "output_type": "stream",
     "text": [
      "Insertion Sort: 4, 9, 10, 12, 13, 14, 18, 23, 25, 28, 29, 30, 37, 40, 50, \n",
      "Selection Sort: 4, 9, 10, 12, 13, 14, 18, 23, 25, 28, 29, 30, 37, 40, 50, \n"
     ]
    }
   ],
   "source": [
    "import java.util.Arrays;\n",
    "\n",
    "// Test Array\n",
    "int[] supplies = {29, 10, 14, 37, 13, 18, 25, 30, 4, 9, 12, 40, 50, 23, 28};\n",
    "\n",
    "// Insertion Sort\n",
    "public static void insertionSort(int[] arr) {\n",
    "    // TODO: Implement Insertion Sort\n",
    "    // Sort the array using insertion sort algorithm\n",
    "    String results = \"\";\n",
    "    for (int i = 1; i < arr.length; i++) {\n",
    "        int holeIndex = i;\n",
    "        int value = arr[i];\n",
    "        while (holeIndex > 0 && value < arr[holeIndex - 1]) {\n",
    "            arr[holeIndex] = arr[holeIndex - 1];\n",
    "            holeIndex--;\n",
    "        }\n",
    "        arr[holeIndex] = value;\n",
    "    }\n",
    "\n",
    "    for (int num: arr) {\n",
    "        results += num + \", \";\n",
    "    }\n",
    "    System.out.println(\"Insertion Sort: \" + results);\n",
    "}\n",
    "\n",
    "// Selection Sort\n",
    "public static void selectionSort(int[] arr) {\n",
    "    // TODO: Implement Selection Sort\n",
    "    // Sort the array using selection sort algorithm\n",
    "    String results = \"\";\n",
    "    for (int i = 0; i < arr.length - 1; i++) {\n",
    "        int minIndex = i;\n",
    "        for (int j = i + 1; j < arr.length; j++) {\n",
    "            if (arr[j] < arr[minIndex]) {\n",
    "                minIndex = j;\n",
    "            }\n",
    "        }\n",
    "        int temp = arr[i];\n",
    "        arr[i] = arr[minIndex];\n",
    "        arr[minIndex] = temp;\n",
    "    }\n",
    "\n",
    "    for (int num: arr) {\n",
    "        results += num + \", \";\n",
    "    }\n",
    "    System.out.println(\"Selection Sort: \" + results);\n",
    "}\n",
    "\n",
    "insertionSort(supplies);\n",
    "selectionSort(supplies);"
   ]
  }
 ],
 "metadata": {
  "kernelspec": {
   "display_name": "java (IJava/j!)",
   "language": "java",
   "name": "jbang-ijava"
  },
  "language_info": {
   "codemirror_mode": "java",
   "file_extension": ".jshell",
   "mimetype": "text/x-java-source",
   "name": "Java",
   "pygments_lexer": "java",
   "version": "22.0.2+9-70"
  }
 },
 "nbformat": 4,
 "nbformat_minor": 2
}
