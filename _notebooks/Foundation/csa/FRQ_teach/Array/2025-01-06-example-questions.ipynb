{
 "cells": [
  {
   "cell_type": "raw",
   "metadata": {},
   "source": [
    "---\n",
    "layout: post\n",
    "toc: true\n",
    "title: FRQ - Array\n",
    "description: AP CSA FRQ Array/Arraylist Example Questions\n",
    "categories: [AP CSA]\n",
    "menu: nav/student_toolkit/P3CSATeamTeach/array.html\n",
    "permalink: /teamteach/array/example-questions\n",
    "---"
   ]
  },
  {
   "cell_type": "markdown",
   "metadata": {},
   "source": [
    "<img width=\"810\" alt=\"Image\" src=\"https://github.com/user-attachments/assets/d4a333c0-a791-4421-b890-8afa44d488e3\" />\n",
    "\n",
    "<img width=\"727\" alt=\"Image\" src=\"https://github.com/user-attachments/assets/ddc6e8ff-3a19-425d-8ea3-519d2f1b933b\" />\n",
    "\n",
    "<img width=\"720\" alt=\"Image\" src=\"https://github.com/user-attachments/assets/18df08bb-f8cf-400e-8721-5c5b40c32703\" />\n",
    "\n",
    "<img width=\"699\" alt=\"Image\" src=\"https://github.com/user-attachments/assets/5a669e29-cff8-4ae4-bd8f-1a8d6d2f45f2\" />"
   ]
  },
  {
   "cell_type": "code",
   "execution_count": null,
   "metadata": {
    "vscode": {
     "languageId": "java"
    }
   },
   "outputs": [],
   "source": [
    "sum += r.getRating();"
   ]
  },
  {
   "cell_type": "markdown",
   "metadata": {},
   "source": [
    "- sum = 0 + 4 \n",
    "- sum = 4 + 3\n",
    "- sum = 7 + 5 \n",
    "- sum = 12 + 2\n",
    "- sum = 14 + 3\n",
    "- sum = 17"
   ]
  },
  {
   "cell_type": "markdown",
   "metadata": {},
   "source": [
    "<img width=\"673\" alt=\"Image\" src=\"https://github.com/user-attachments/assets/46b1c952-708e-45fd-98c0-1e6a3b5ba95f\" />\n",
    "\n",
    "<img width=\"713\" alt=\"Image\" src=\"https://github.com/user-attachments/assets/46c495cb-5fc3-40c3-a0b7-038369baa7c6\" />"
   ]
  },
  {
   "cell_type": "code",
   "execution_count": null,
   "metadata": {
    "vscode": {
     "languageId": "java"
    }
   },
   "outputs": [],
   "source": [
    "if (comment.indexOf(\"!\") >= 0)"
   ]
  },
  {
   "cell_type": "markdown",
   "metadata": {},
   "source": [
    "| G     | o      | o      | d | ! | | T | h | x | \n",
    "|---------------|---------------|---------------|---------------| ---------------| ---------------| ---------------| ---------------| ---------------| \n",
    "| 0  | 1  | 2  | 3 | 4 | 5 | 6 | 7 | 8 | 9 |\n",
    "\n"
   ]
  },
  {
   "cell_type": "markdown",
   "metadata": {},
   "source": [
    "<img width=\"678\" alt=\"Image\" src=\"https://github.com/user-attachments/assets/f955bd3d-8913-406e-8f55-9b7d5710b1b7\" />"
   ]
  }
 ],
 "metadata": {
  "language_info": {
   "name": "python"
  }
 },
 "nbformat": 4,
 "nbformat_minor": 2
}
