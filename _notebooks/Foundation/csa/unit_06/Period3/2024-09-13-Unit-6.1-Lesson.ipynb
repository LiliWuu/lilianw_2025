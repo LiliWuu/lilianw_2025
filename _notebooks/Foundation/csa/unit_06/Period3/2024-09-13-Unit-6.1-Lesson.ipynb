{
 "cells": [
  {
   "cell_type": "raw",
   "metadata": {
    "vscode": {
     "languageId": "raw"
    }
   },
   "source": [
    "---\n",
    "layout: post\n",
    "title: Unit 6.1 Lesson\n",
    "menu: nav/CSA_Units/csa_unit6.html\n",
    "type: collab \n",
    "toc: true\n",
    "permalink: /csa/unit6/6.1/\n",
    "---"
   ]
  },
  {
   "cell_type": "markdown",
   "metadata": {},
   "source": [
    "# 6.1: Array Creation and Access"
   ]
  },
  {
   "cell_type": "markdown",
   "metadata": {},
   "source": [
    "# Intro to Arrays"
   ]
  },
  {
   "cell_type": "markdown",
   "metadata": {
    "vscode": {
     "languageId": "raw"
    }
   },
   "source": [
    "#### What are arrays?"
   ]
  },
  {
   "cell_type": "markdown",
   "metadata": {
    "vscode": {
     "languageId": "raw"
    }
   },
   "source": [
    "They are data structures used to implement a collection of primitive or object reference data. An array in Java is basically like a list in python, but they are only allowed to store values of one data type."
   ]
  },
  {
   "cell_type": "markdown",
   "metadata": {
    "vscode": {
     "languageId": "raw"
    }
   },
   "source": [
    "Each value in the array is called an \"element\""
   ]
  },
  {
   "cell_type": "markdown",
   "metadata": {},
   "source": [
    "The position of an element in the array is called an \"index\".\n",
    "Just like in Python, the first element of an array always has an index of zero."
   ]
  },
  {
   "cell_type": "markdown",
   "metadata": {
    "vscode": {
     "languageId": "raw"
    }
   },
   "source": [
    "The `length` of an array is how many elements there are in the array."
   ]
  },
  {
   "cell_type": "markdown",
   "metadata": {},
   "source": [
    "`length` has the dataype `public final`\n",
    "- we can access the length in any class since it's `public`\n",
    "- also, we can't change the array's length after it's been created since the length is `final`"
   ]
  },
  {
   "cell_type": "markdown",
   "metadata": {},
   "source": [
    "<img src=\"https://media.geeksforgeeks.org/wp-content/uploads/20240503114810/one-dimensional-array-in-c.png\" width=\"725\" \n",
    "     height=\"300\">"
   ]
  },
  {
   "cell_type": "markdown",
   "metadata": {
    "vscode": {
     "languageId": "java"
    }
   },
   "source": [
    "#### Example"
   ]
  },
  {
   "cell_type": "code",
   "execution_count": 10,
   "metadata": {
    "vscode": {
     "languageId": "java"
    }
   },
   "outputs": [],
   "source": [
    "int [] array1 = new int[5]"
   ]
  },
  {
   "cell_type": "markdown",
   "metadata": {},
   "source": [
    "The above code cell defines the array with:\n",
    "- the name `array1`\n",
    "- the datatype `int` (means that only integer values can go in the array)\n",
    "- the number of elements in the array is five, as shown by `int[5]`\n",
    "- all the 5 elements in the array have a value of zero, because the elements weren't specified"
   ]
  },
  {
   "cell_type": "markdown",
   "metadata": {},
   "source": [
    "## Question: How would you find the index of the last element of the array, if you didn't know how many elements there were in the array?"
   ]
  },
  {
   "cell_type": "markdown",
   "metadata": {},
   "source": [
    "##### You guys answer!!"
   ]
  },
  {
   "cell_type": "markdown",
   "metadata": {},
   "source": [
    "### Remember, unlike python, negative indexing does not work in Java and it will result in an error !!!\n",
    "Uncomment the code and see for yourself!"
   ]
  },
  {
   "cell_type": "code",
   "execution_count": 12,
   "metadata": {
    "vscode": {
     "languageId": "java"
    }
   },
   "outputs": [],
   "source": [
    "// int [] array2 = {1,2,3,4,5};\n",
    "// System.out.println(array2[-1]);"
   ]
  },
  {
   "cell_type": "markdown",
   "metadata": {
    "vscode": {
     "languageId": "java"
    }
   },
   "source": [
    "### Primitive Elements"
   ]
  },
  {
   "cell_type": "markdown",
   "metadata": {},
   "source": [
    "Now, let's go back to array1 and modify some stuff."
   ]
  },
  {
   "cell_type": "code",
   "execution_count": null,
   "metadata": {
    "vscode": {
     "languageId": "java"
    }
   },
   "outputs": [],
   "source": [
    "System.out.println(array1[4]); // 5th element of the array"
   ]
  },
  {
   "cell_type": "markdown",
   "metadata": {},
   "source": [
    "As you can see, it returns zero because when we defined the array, we used `new`, which made all the elements have the value of zero. Now, let's change it."
   ]
  },
  {
   "cell_type": "code",
   "execution_count": null,
   "metadata": {
    "vscode": {
     "languageId": "java"
    }
   },
   "outputs": [],
   "source": [
    "array1[4] = 30;\n",
    "System.out.println(array1[4]);"
   ]
  },
  {
   "cell_type": "markdown",
   "metadata": {
    "vscode": {
     "languageId": "java"
    }
   },
   "source": [
    "We successfully changed the fifth element from zero to thirty."
   ]
  },
  {
   "cell_type": "markdown",
   "metadata": {},
   "source": [
    "Putting the name of the array in the print statement in Java outputs the memory reference of the array and not the elements of the array.\n",
    "Below is a great way to print out the array."
   ]
  },
  {
   "cell_type": "code",
   "execution_count": null,
   "metadata": {
    "vscode": {
     "languageId": "java"
    }
   },
   "outputs": [],
   "source": [
    "System.out.println(array1)"
   ]
  },
  {
   "cell_type": "code",
   "execution_count": null,
   "metadata": {
    "vscode": {
     "languageId": "java"
    }
   },
   "outputs": [],
   "source": [
    "System.out.println(Arrays.toString(array1));"
   ]
  },
  {
   "cell_type": "markdown",
   "metadata": {},
   "source": [
    "## Popcorn Hack (do this on separate cells)\n",
    "- Create an array called \"city_array\" with the elements \"San Diego\", \"Los Angeles\", \"San Francisco\", \"Sacramento\"\n",
    "- Print out the first element in the array\n",
    "- Print out the third element in the array\n",
    "- Change the second element in the array to \"Sacramento\"\n",
    "- Change the fourth element in the array to \"San Jose\"\n",
    "- Print out the length of the array"
   ]
  },
  {
   "cell_type": "code",
   "execution_count": 1,
   "metadata": {
    "vscode": {
     "languageId": "java"
    }
   },
   "outputs": [
    {
     "name": "stdout",
     "output_type": "stream",
     "text": [
      "San Diego\n",
      "San Francisco\n",
      "[San Diego, Sacremento, San Francisco, San Jose]\n"
     ]
    }
   ],
   "source": [
    "String[] city_array = {\"San Diego\", \"Los Angeles\", \"San Francisco\", \"Sacremento\"};\n",
    "System.out.println(city_array[0]);\n",
    "System.out.println(city_array[2]);\n",
    "city_array[1] = \"Sacremento\";\n",
    "city_array[3] =  \"San Jose\";\n",
    "System.out.println(Arrays.toString(city_array));"
   ]
  },
  {
   "cell_type": "markdown",
   "metadata": {},
   "source": [
    "### Mutable Elements"
   ]
  },
  {
   "cell_type": "code",
   "execution_count": 17,
   "metadata": {
    "vscode": {
     "languageId": "java"
    }
   },
   "outputs": [],
   "source": [
    "public class Mutable{\n",
    "    private int value;\n",
    "    public Mutable(int start) {\n",
    "        value = start;\n",
    "    }\n",
    "    public void incrementValue() {\n",
    "        value++;\n",
    "    }\n",
    "    public int getValue() {\n",
    "        return value;\n",
    "    }\n",
    "}"
   ]
  },
  {
   "cell_type": "code",
   "execution_count": null,
   "metadata": {
    "vscode": {
     "languageId": "java"
    }
   },
   "outputs": [],
   "source": [
    "Mutable[] array3; //initialize array of mutable objects\n",
    "array3 = new Mutable[3]; //set size of array3 equal to three\n",
    "array3[1] = new Mutable(33); //assigning the number 33 to the second element\n",
    "array3[0] = new Mutable(array3[1].getValue() - 3); //assigning the second element's value minus three to the first element aka the number 30\n",
    "for (Mutable m : array3) { //printing out the values of the array using for loop\n",
    "    if (m != null) {\n",
    "        System.out.println(m.getValue());\n",
    "    } else {\n",
    "        System.out.println(\"null\");\n",
    "    }\n",
    "}"
   ]
  },
  {
   "cell_type": "markdown",
   "metadata": {},
   "source": [
    "**Important**: When the array is initialized (you're not providing any values to it):\n",
    "- int elements are set to `0`\n",
    "- reference type elements are set to `null`\n",
    "- double elements are set to `0.0`\n",
    "- boolean elements are set to `false`"
   ]
  },
  {
   "cell_type": "markdown",
   "metadata": {},
   "source": [
    "## Popcorn Hack:\n",
    "Create four new INITIALIZED arrays, with int, string, double, and boolean types respectively. Print out the second element of each array to see the default values."
   ]
  },
  {
   "cell_type": "code",
   "execution_count": 5,
   "metadata": {
    "vscode": {
     "languageId": "java"
    }
   },
   "outputs": [
    {
     "name": "stdout",
     "output_type": "stream",
     "text": [
      "0\n",
      "null\n",
      "0.0\n",
      "false\n"
     ]
    }
   ],
   "source": [
    "int[] arr = new int[4];\n",
    "String[] str = new String[4];\n",
    "double[] dbl = new double[4];\n",
    "boolean[] bool = new boolean[4];\n",
    "System.out.println(arr[1]);\n",
    "System.out.println(str[1]);\n",
    "System.out.println(dbl[1]);\n",
    "System.out.println(bool[1]);"
   ]
  },
  {
   "cell_type": "markdown",
   "metadata": {},
   "source": [
    "# Practice MCQs"
   ]
  },
  {
   "cell_type": "markdown",
   "metadata": {},
   "source": [
    "### Question 1\n",
    "Consider the following method which is intended to return the position of `find` within the String referenced at the third last index of `arr`.\n",
    "<br>\n",
    "<br>\n",
    "`public static int findThirdLast(String [] arr, String find)`\n",
    "<br>\n",
    "`{`\n",
    "<br>\n",
    "`return /*missing code*/;`\n",
    "    <br>\n",
    "`}`\n",
    "<br>\n",
    "<br>\n",
    "Which of the following could replace `/*missing code*/` to complete the method as specified?\n",
    "<br>\n",
    "A. `arr[].indexOf(find)`\n",
    "<br>\n",
    "B. `arr.indexOf(find)`\n",
    "<br>\n",
    "C. `arr[arr.length].indexOf(find)`\n",
    "<br>\n",
    "D. `arr[arr.length - 3].indexOf(find)`\n",
    "<br>\n",
    "E. `arr[arr.length - 2].indexOf(find)`\n",
    "\n",
    "\n",
    "D"
   ]
  },
  {
   "cell_type": "markdown",
   "metadata": {},
   "source": [
    "#### Here's an image for your reference, in case you want to visualize it.\n",
    "<img src=\"https://study.com/cimages/multimages/16/1223543576347.png\">"
   ]
  },
  {
   "cell_type": "code",
   "execution_count": 17,
   "metadata": {
    "vscode": {
     "languageId": "java"
    }
   },
   "outputs": [],
   "source": [
    "public static int findThirdLast(String [] arrtest, String find)\n",
    "{\n",
    "    return arrtest[arrtest.length-3].indexOf(find);\n",
    "}"
   ]
  },
  {
   "cell_type": "code",
   "execution_count": null,
   "metadata": {
    "vscode": {
     "languageId": "java"
    }
   },
   "outputs": [],
   "source": [
    "String [] testArray = {\"cat\", \"dog\", \"horse\", \"monkey\", \"snake\", \"elephant\"};\n",
    "int result = findThirdLast(testArray, \"on\");\n",
    "System.out.println(result);"
   ]
  },
  {
   "cell_type": "markdown",
   "metadata": {},
   "source": [
    "### Question 2\n",
    "Consider the following method:\n",
    "<br>\n",
    "<br>\n",
    "`public static int mystery(int [] arr)`\n",
    "<br>\n",
    "`{`\n",
    "<br>\n",
    "`return arr[1] + arr[4]/2`\n",
    "<br>\n",
    "`}`\n",
    "<br>\n",
    "<br>\n",
    "The `mystery` method is called from another method in the same class:\n",
    "`int[] list = {1,9,2,5,6};`\n",
    "<br>\n",
    "`int result = mystery(list);`\n",
    "<br>\n",
    "<br>\n",
    "What is stored in result after executing the above code?\n",
    "<br>\n",
    "<br>\n",
    "A. 2\n",
    "<br>\n",
    "B. 12\n",
    "<br>\n",
    "C. 15\n",
    "<br>\n",
    "D. 9\n",
    "<br>\n",
    "E. 8\n",
    "\n",
    "\n",
    "B"
   ]
  },
  {
   "cell_type": "code",
   "execution_count": 6,
   "metadata": {
    "vscode": {
     "languageId": "java"
    }
   },
   "outputs": [
    {
     "name": "stdout",
     "output_type": "stream",
     "text": [
      "12\n"
     ]
    }
   ],
   "source": [
    "public static int mystery(int [] myarr)\n",
    "{\n",
    "    return myarr[1] + myarr[4]/2;\n",
    "}\n",
    "int[] list = {1,9,2,5,6};\n",
    "int result = mystery(list);\n",
    "System.out.println(result);"
   ]
  }
 ],
 "metadata": {
  "kernelspec": {
   "display_name": "java (IJava/j!)",
   "language": "java",
   "name": "jbang-ijava"
  },
  "language_info": {
   "codemirror_mode": "java",
   "file_extension": ".jshell",
   "mimetype": "text/x-java-source",
   "name": "Java",
   "pygments_lexer": "java",
   "version": "22.0.2+9-70"
  }
 },
 "nbformat": 4,
 "nbformat_minor": 2
}
