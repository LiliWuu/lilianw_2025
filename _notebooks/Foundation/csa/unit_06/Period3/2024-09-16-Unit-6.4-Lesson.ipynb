{
 "cells": [
  {
   "cell_type": "raw",
   "metadata": {},
   "source": [
    "---\n",
    "layout: post\n",
    "title: Unit 6.4 Lesson\n",
    "type: collab \n",
    "toc: true\n",
    "permalink: /csa/unit6/6.4/\n",
    "menu: nav/CSA_Units/csa_unit6.html\n",
    "---"
   ]
  },
  {
   "cell_type": "markdown",
   "metadata": {},
   "source": [
    "### Array:\n",
    "Imagine a row of lockers, where each locker is labeled with an index, and inside each locker is a value.\n",
    "\n",
    "### Index:\n",
    "The number above each locker that helps you find the exact item you're looking for.\n",
    "\n",
    "### Accessing:\n",
    "Walk up to the locker, open it, and see what’s inside.\n",
    "\n",
    "### Updating:\n",
    "Replace the item in the locker with a new one.\n",
    "\n",
    "### Dynamic Growth:\n",
    "New lockers can be added to the end of the row if more space is needed.\n",
    "\n",
    "### Looping:\n",
    "Walking down the row, opening each locker one by one, and looking inside.\n",
    "\n",
    "### Multi-dimensional arrays:\n",
    "Rows and columns of lockers in a grid, where you access items by specifying both the row and column.\n",
    "\n",
    "### Empty lockers:\n",
    "Sometimes a locker is there, but it’s empty, representing null or undefined."
   ]
  },
  {
   "cell_type": "markdown",
   "metadata": {},
   "source": [
    "### Traversing an array while performing an action"
   ]
  },
  {
   "cell_type": "code",
   "execution_count": 1,
   "metadata": {
    "vscode": {
     "languageId": "java"
    }
   },
   "outputs": [
    {
     "name": "stdout",
     "output_type": "stream",
     "text": [
      "Maximum value: 12\n",
      "Minimum value: -1\n"
     ]
    }
   ],
   "source": [
    "public class MaxMinInArray {\n",
    "\n",
    "    public static void findMaxAndMin(int[] array) {\n",
    "       \n",
    "        if (array == null || array.length == 0) {\n",
    "            System.out.println(\"Array is empty\");\n",
    "            return;\n",
    "        }\n",
    "\n",
    "        int max = array[0];\n",
    "        int min = array[0];\n",
    "\n",
    "        \n",
    "        for (int i = 1; i < array.length; i++) {\n",
    "            \n",
    "            if (array[i] > max) {\n",
    "                max = array[i];  \n",
    "            }\n",
    "            if (array[i] < min) {\n",
    "                min = array[i];  \n",
    "            }\n",
    "        }\n",
    "\n",
    "        System.out.println(\"Maximum value: \" + max);\n",
    "        System.out.println(\"Minimum value: \" + min);\n",
    "    }\n",
    "\n",
    "    public static void main(String[] args) {\n",
    "     \n",
    "        int[] array = {3, 5, 7, 2, 8, -1, 4, 10, 12};\n",
    "\n",
    "        \n",
    "        findMaxAndMin(array);\n",
    "    }\n",
    "}\n",
    "MaxMinInArray.main(null)\n"
   ]
  },
  {
   "cell_type": "markdown",
   "metadata": {},
   "source": [
    "### Popcorn Hack: If an integer in the array is greater than the integer below it, print \"Increase\""
   ]
  },
  {
   "cell_type": "code",
   "execution_count": 5,
   "metadata": {
    "vscode": {
     "languageId": "java"
    }
   },
   "outputs": [
    {
     "name": "stdout",
     "output_type": "stream",
     "text": [
      "increase from 3 to 5\n",
      "increase from 5 to 7\n",
      "increase from 2 to 8\n",
      "increase from -1 to 4\n",
      "increase from 0 to 12\n",
      "Maximum value: 12\n",
      "Minimum value: -1\n"
     ]
    }
   ],
   "source": [
    "public class MaxMinInArray {\n",
    "\n",
    "    public static void findMaxAndMin(int[] array) {\n",
    "       \n",
    "        if (array == null || array.length == 0) {\n",
    "            System.out.println(\"Array is empty\");\n",
    "            return;\n",
    "        }\n",
    "\n",
    "        int max = array[0];\n",
    "        int min = array[0];\n",
    "\n",
    "        \n",
    "        for (int i = 1; i < array.length; i++) {\n",
    "            // Add code here\n",
    "            if (array[i] > array[i-1]) {\n",
    "                System.out.println(\"increase from \" + array[i-1] + \" to \" + array[i]);\n",
    "            }\n",
    "            if (array[i] > max) {\n",
    "                max = array[i];  \n",
    "            }\n",
    "            if (array[i] < min) {\n",
    "                min = array[i];  \n",
    "            }\n",
    "        }\n",
    "\n",
    "        System.out.println(\"Maximum value: \" + max);\n",
    "        System.out.println(\"Minimum value: \" + min);\n",
    "    }\n",
    "\n",
    "    public static void main(String[] args) {\n",
    "     \n",
    "        int[] array = {3, 5, 7, 2, 8, -1, 4, 0, 12};\n",
    "\n",
    "        \n",
    "        findMaxAndMin(array);\n",
    "    }\n",
    "}\n",
    "MaxMinInArray.main(null)\n"
   ]
  },
  {
   "cell_type": "markdown",
   "metadata": {},
   "source": [
    "![Visualization](https://www.w3resource.com/w3r_images/java-basic-image-exercise-106.png)"
   ]
  },
  {
   "cell_type": "code",
   "execution_count": 11,
   "metadata": {
    "vscode": {
     "languageId": "java"
    }
   },
   "outputs": [
    {
     "name": "stdout",
     "output_type": "stream",
     "text": [
      "gamma delta alpha beta "
     ]
    }
   ],
   "source": [
    "public class WordShifter {  \n",
    "    public static void main(String[] args) {\n",
    "        String[] words = {\"alpha\", \"beta\", \"gamma\", \"delta\"};\n",
    "        int shiftWord = 2;\n",
    "        for (int count = 0; count < shiftWord; count++) {\n",
    "            String temp = words[0];\n",
    "            for (int index = 0; index < words.length - 1; index++) {\n",
    "                words[index] = words[index + 1];\n",
    "            }\n",
    "            words[words.length - 1] = temp;\n",
    "        }\n",
    "        for (String word : words) {\n",
    "            System.out.print(word + \" \");\n",
    "        }\n",
    "    }\n",
    "}\n",
    "WordShifter.main(null)"
   ]
  },
  {
   "cell_type": "markdown",
   "metadata": {},
   "source": [
    "### HW Hack: Go through the array in reverse order and output each object"
   ]
  },
  {
   "cell_type": "code",
   "execution_count": 1,
   "metadata": {
    "vscode": {
     "languageId": "java"
    }
   },
   "outputs": [
    {
     "name": "stdout",
     "output_type": "stream",
     "text": [
      "5\n",
      "4\n",
      "3\n",
      "2\n",
      "1\n",
      "0\n"
     ]
    }
   ],
   "source": [
    "Integer[] myArray = {0, 1, 2, 3, 4, 5};\n",
    "\n",
    "for (int i = myArray.length - 1; i >= 0; i--) {\n",
    "    //Add code here\n",
    "    System.out.println(myArray[i]);\n",
    "};"
   ]
  },
  {
   "cell_type": "markdown",
   "metadata": {},
   "source": [
    "### HW Hack: Print words while skipping every other word (\"Alpha\", \"Gamma\", \"Beta\", \"Delta\")"
   ]
  },
  {
   "cell_type": "code",
   "execution_count": 18,
   "metadata": {
    "vscode": {
     "languageId": "java"
    }
   },
   "outputs": [
    {
     "name": "stdout",
     "output_type": "stream",
     "text": [
      "gamma delta alpha beta \n",
      "Print every other word with shifted array: gamma alpha delta beta "
     ]
    }
   ],
   "source": [
    "public class WordShifter {  \n",
    "    public static void main(String[] args) {\n",
    "        String[] words = {\"alpha\", \"beta\", \"gamma\", \"delta\"};\n",
    "        int shiftWord = 2;\n",
    "        for (int count = 0; count < shiftWord; count++) {\n",
    "            String temp = words[0];\n",
    "            for (int index = 0; index < words.length - 1; index++) {\n",
    "                words[index] = words[index + 1];\n",
    "            }\n",
    "            words[words.length - 1] = temp;\n",
    "        }\n",
    "        for (String word : words) {\n",
    "            System.out.print(word + \" \"); // prints gamma delta alpha beta\n",
    "        }\n",
    "        System.out.println(\"\");\n",
    "\n",
    "        // print words skipping every other word = gamma alpha delta beta??\n",
    "        System.out.print(\"Print every other word with shifted array: \");\n",
    "        for (int i = 0; i < words.length; i+=2) {\n",
    "            System.out.print(words[i] + \" \");\n",
    "        }\n",
    "        for (int i = 1; i < words.length; i+= 2) {\n",
    "            System.out.print(words[i] + \" \");\n",
    "        }\n",
    "    }\n",
    "}\n",
    "WordShifter.main(null)"
   ]
  }
 ],
 "metadata": {
  "kernelspec": {
   "display_name": "java (IJava/j!)",
   "language": "java",
   "name": "jbang-ijava"
  },
  "language_info": {
   "codemirror_mode": "java",
   "file_extension": ".jshell",
   "mimetype": "text/x-java-source",
   "name": "Java",
   "pygments_lexer": "java",
   "version": "22.0.2+9-70"
  }
 },
 "nbformat": 4,
 "nbformat_minor": 2
}
