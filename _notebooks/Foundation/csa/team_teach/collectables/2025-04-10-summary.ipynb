{
 "cells": [
  {
   "cell_type": "markdown",
   "id": "443b129f",
   "metadata": {},
   "source": [
    "---\n",
    "layout: post\n",
    "title: Collectables Summary\n",
    "permalink: /teamTeachCollectables/summary\n",
    "authors: Aashray, Nikhil\n",
    "menu: nav/collectables.html\n",
    "---"
   ]
  },
  {
   "cell_type": "markdown",
   "id": "610aae2b",
   "metadata": {},
   "source": [
    "## Diagrams:\n",
    "\n",
    "![Image](https://github.com/user-attachments/assets/a21dbb2a-1f66-44b8-bc25-f08ac0718b6f)\n",
    "\n",
    "\n",
    "![Image2](https://github.com/user-attachments/assets/073aeab1-bcd4-425b-a8d7-726d92cb8912)"
   ]
  },
  {
   "cell_type": "markdown",
   "id": "1407151b",
   "metadata": {},
   "source": [
    "### Summary & Further Reading\n",
    "\n",
    "**Recap:**\n",
    "- **Core Interfaces:** Learn the fundamental differences between `List`, `Set`, `Queue`, and `Map`.\n",
    "- **Implementations:** Understand which concrete class to use for your needs (e.g., `ArrayList` for random access, `LinkedList` for frequent insertions/deletions, and `HashMap` for key-value associations).\n",
    "- **Usage:** Practice adding, retrieving, updating, and removing items.\n",
    "- **Advanced Features:** Explore iteration (using `Iterator`/`forEach`), sorting with `Collections.sort()`, and converting between arrays and collections.\n",
    "- **Interactive Exercises:** Solve the “try it yourself” mini experiments to solidify your understanding.\n",
    "\n",
    "**Further Reading & Resources:**\n",
    "- *Effective Java* by Joshua Bloch (for best practices and deeper understanding)\n",
    "- Java documentation on the [Collections Framework](https://docs.oracle.com/javase/8/docs/technotes/guides/collections/overview.html)\n",
    "- Online tutorials (Tutorialspoint, CodeJava.net, SitePoint, etc.)  \n",
    "- Practice problems (w3resource.com, CodingBat, HackerRank)"
   ]
  },
  {
   "cell_type": "markdown",
   "id": "b1381a50",
   "metadata": {},
   "source": [
    "## Java Collections ***Homework*** (Due Wednesday After Spring Break)\n",
    "\n",
    "### Objectives\n",
    "- Practice using **List**, **Set**, and **Deque**\n",
    "- Understand when and why to use each type of collection\n",
    "- Apply key collection methods and iteration techniques\n",
    "- Demonstrate understanding by matching the specified output\n",
    "\n",
    "---\n",
    "\n",
    "### Part 1: Working with Lists\n",
    "\n",
    "**Task:**  \n",
    "Create a method named `filterEvenNumbers` that takes a `List<Integer>` as input and returns a new list containing only the **even numbers** (in the same order).\n",
    "\n",
    "**Requirements:**\n",
    "- Use `ArrayList<Integer>`.\n",
    "- Use methods: `add()`, `get()`, and `size()`.\n",
    "- Use a traditional loop (do not use streams).\n",
    "\n",
    "**Intended Output Example:**\n",
    "\n",
    "If the input list is:  \n",
    "`[1, 2, 3, 4, 5, 6, 7, 8, 9, 10]`\n",
    "\n",
    "Your program should output:  \n",
    "```\n",
    "Input List: [1, 2, 3, 4, 5, 6, 7, 8, 9, 10]\n",
    "Filtered Even Numbers: [2, 4, 6, 8, 10]\n",
    "```\n",
    "\n",
    "---\n",
    "\n",
    "### Part 2: Working with Sets\n",
    "\n",
    "**Task:**  \n",
    "Create a method called `findIntersection` that accepts two `Set<String>` objects and returns a new set containing only the **common elements** (i.e., the intersection).\n",
    "\n",
    "**Requirements:**\n",
    "- Use `HashSet<String>`.\n",
    "- Use methods: `contains()`, `add()`, and iterate through one of the sets.\n",
    "- The resulting set should naturally have **no duplicates**.\n",
    "\n",
    "**Intended Output Example:**\n",
    "\n",
    "Given:  \n",
    "- Set 1: `{\"apple\", \"banana\", \"cherry\", \"date\"}`\n",
    "- Set 2: `{\"banana\", \"date\", \"fig\", \"grape\"}`\n",
    "\n",
    "The program should output:  \n",
    "```\n",
    "Set1: [apple, banana, cherry, date]\n",
    "Set2: [banana, date, fig, grape]\n",
    "Intersection: [banana, date]\n",
    "```\n",
    "\n",
    "*Note:* The actual printed order might vary since `HashSet` does not guarantee order, but the contents should include exactly `banana` and `date`.\n",
    "\n",
    "---\n",
    "\n",
    "### Part 3: Working with Deques\n",
    "\n",
    "**Task:**  \n",
    "Simulate a line of customers using a `Deque<String>` that behaves as both a queue and a deque. Implement the following steps:\n",
    "\n",
    "1. **Enqueue:** Add 4 customer names to the **end** of the deque.\n",
    "2. **VIP Arrival:** A VIP customer arrives—add this customer to the **front** of the deque.\n",
    "3. **Process Line:** Remove the customer at the **front** (simulate serving them).\n",
    "4. **Inspect Line:** Display the current front and the back of the deque.\n",
    "5. **Size Check:** Print the size of the deque (the number of customers still in line).\n",
    "\n",
    "**Requirements:**\n",
    "- Use `ArrayDeque<String>`.\n",
    "- Utilize these methods: `addLast()`, `addFirst()`, `removeFirst()`, `peekFirst()`, `peekLast()`, and `size()`.\n",
    "\n",
    "**Intended Output Example:**\n",
    "\n",
    "Assume the following names for simulation:\n",
    "- Start with 4 customers added to the end: `\"Alice\"`, `\"Bob\"`, `\"Charlie\"`, `\"Diana\"`.\n",
    "- Then a VIP customer, `\"VIP1\"`, is added to the front.\n",
    "- The customer at the front is then removed.\n",
    "\n",
    "The program should output:\n",
    "```\n",
    "Initial line after adding 4 customers (end): [Alice, Bob, Charlie, Diana]\n",
    "After VIP arrival (added at front): [VIP1, Alice, Bob, Charlie, Diana]\n",
    "After serving the customer at the front (removed): [Alice, Bob, Charlie, Diana]\n",
    "Current front of the line: Alice\n",
    "Current back of the line: Diana\n",
    "Total number of customers waiting: 4\n",
    "```\n",
    "\n",
    "*Note:* Depending on your implementation, the printed collection format might vary slightly (e.g., using brackets or different order). The key points are that duplicates aren’t allowed by sets, queues follow FIFO (unless otherwise specified), and deques support operations at both ends.\n",
    "\n",
    "---\n",
    "\n",
    "### Challenge Question (Bonus, +0.01 Points)\n",
    "\n",
    "**Question:**  \n",
    "You need to store a collection of student IDs where:  \n",
    "- Order **does not matter**\n",
    "- Duplicate IDs must be prevented\n",
    "- Frequent existence checks are required\n",
    "\n",
    "**Answer:**  \n",
    "The most efficient collection to use is a **HashSet**. This is because a `HashSet` does not allow duplicate entries, does not maintain order (which is acceptable), and provides constant-time performance for adding, removing, and checking the existence of an element.\n",
    "\n",
    "---\n",
    "\n",
    "### Submission Guidelines\n",
    "\n",
    "- Provide complete source code for each part.\n",
    "- Ensure your code is properly formatted with comments explaining the logic.\n",
    "- Make sure your program’s output matches the intended output examples.\n",
    "- Submit your solution files before the deadline.\n",
    "\n",
    "---\n",
    "\n",
    "### Key Takeaways\n",
    "\n",
    "- **Lists:** Maintain order and allow duplicates; use when insertion order and indexed access are important.\n",
    "- **Sets:** Store unique elements; use when duplicates must be eliminated and order is not essential (or order is dictated by the set type).\n",
    "- **Deques:** Enable operations at both ends, making them versatile for simulating real-world queues and stacks."
   ]
  },
  {
   "cell_type": "markdown",
   "id": "b8fb34a9",
   "metadata": {},
   "source": [
    "### Part 1 HW"
   ]
  },
  {
   "cell_type": "code",
   "execution_count": 6,
   "id": "3f7f26ee",
   "metadata": {
    "vscode": {
     "languageId": "java"
    }
   },
   "outputs": [
    {
     "name": "stdout",
     "output_type": "stream",
     "text": [
      "[2, 4]\n"
     ]
    }
   ],
   "source": [
    "public class WorkingWithLists {\n",
    "    public static void main(String[] args) {\n",
    "        List<Integer> input = new ArrayList<Integer>();\n",
    "        input.add(1);\n",
    "        input.add(2);\n",
    "        input.add(3);\n",
    "        input.add(4);\n",
    "        System.out.println(filterEvenNumbers(input));\n",
    "    }\n",
    "\n",
    "    public static List<Integer> filterEvenNumbers(List<Integer> input) {\n",
    "        List<Integer> filteredList = new ArrayList<Integer>();\n",
    "        for (int i = 0; i < input.size(); i++) {\n",
    "            if (input.get(i) % 2 == 0) {\n",
    "                filteredList.add(input.get(i));\n",
    "            }\n",
    "        }\n",
    "        return filteredList;\n",
    "    } \n",
    "}\n",
    "\n",
    "WorkingWithLists.main(null);"
   ]
  },
  {
   "cell_type": "markdown",
   "id": "226250f1",
   "metadata": {},
   "source": [
    "### Part 2 HW"
   ]
  },
  {
   "cell_type": "code",
   "execution_count": 8,
   "id": "33d5676b",
   "metadata": {
    "vscode": {
     "languageId": "java"
    }
   },
   "outputs": [
    {
     "name": "stdout",
     "output_type": "stream",
     "text": [
      "Set1: [banana, date, apple, cherry]\n",
      "Set2: [banana, date, fig, grape]\n",
      "Intersection: [banana, date]\n"
     ]
    }
   ],
   "source": [
    "import java.util.HashSet;\n",
    "import java.util.Set;\n",
    "\n",
    "public class WorkingWithSets {\n",
    "\n",
    "    public static void main(String[] args) {\n",
    "        Set<String> set1 = new HashSet<>();\n",
    "        set1.add(\"apple\");\n",
    "        set1.add(\"banana\");\n",
    "        set1.add(\"cherry\");\n",
    "        set1.add(\"date\");\n",
    "\n",
    "        Set<String> set2 = new HashSet<>();\n",
    "        set2.add(\"banana\");\n",
    "        set2.add(\"date\");\n",
    "        set2.add(\"fig\");\n",
    "        set2.add(\"grape\");\n",
    "\n",
    "        Set<String> result = findIntersection(set1, set2);\n",
    "\n",
    "        System.out.println(\"Set1: \" + set1);\n",
    "        System.out.println(\"Set2: \" + set2);\n",
    "        System.out.println(\"Intersection: \" + result);\n",
    "    }\n",
    "\n",
    "    public static Set<String> findIntersection(Set<String> set1, Set<String> set2) {\n",
    "        Set<String> intersection = new HashSet<>();\n",
    "        for (String item : set1) {\n",
    "            if (set2.contains(item)) {\n",
    "                intersection.add(item);\n",
    "            }\n",
    "        }\n",
    "        return intersection;\n",
    "    }\n",
    "}\n",
    "\n",
    "WorkingWithSets.main(null);\n"
   ]
  },
  {
   "cell_type": "markdown",
   "id": "af483e2b",
   "metadata": {},
   "source": [
    "### Part 3 HW"
   ]
  },
  {
   "cell_type": "code",
   "execution_count": 10,
   "id": "d545e7ff",
   "metadata": {
    "vscode": {
     "languageId": "java"
    }
   },
   "outputs": [
    {
     "name": "stdout",
     "output_type": "stream",
     "text": [
      "Initial line after adding 4 customers (end): [Alice, Bob, Charlie, Diana]\n",
      "After VIP arrival (added at front): [VIP1, Alice, Bob, Charlie, Diana]\n",
      "After serving the customer at the front (removed): [Alice, Bob, Charlie, Diana]\n",
      "Current front of the line: Alice\n",
      "Current back of the line: Diana\n",
      "Total number of customers waiting: 4\n"
     ]
    }
   ],
   "source": [
    "import java.util.ArrayDeque;\n",
    "import java.util.Deque;\n",
    "\n",
    "public class WorkingWithDeques {\n",
    "    public static void main(String[] args) {\n",
    "        Deque<String> customerLine = new ArrayDeque<>();\n",
    "\n",
    "        customerLine.addLast(\"Alice\");\n",
    "        customerLine.addLast(\"Bob\");\n",
    "        customerLine.addLast(\"Charlie\");\n",
    "        customerLine.addLast(\"Diana\");\n",
    "        System.out.println(\"Initial line after adding 4 customers (end): \" + customerLine);\n",
    "\n",
    "        customerLine.addFirst(\"VIP1\");\n",
    "        System.out.println(\"After VIP arrival (added at front): \" + customerLine);\n",
    "\n",
    "        customerLine.removeFirst();\n",
    "        System.out.println(\"After serving the customer at the front (removed): \" + customerLine);\n",
    "\n",
    "        System.out.println(\"Current front of the line: \" + customerLine.peekFirst());\n",
    "        System.out.println(\"Current back of the line: \" + customerLine.peekLast());\n",
    "\n",
    "        System.out.println(\"Total number of customers waiting: \" + customerLine.size());\n",
    "    }\n",
    "}\n",
    "\n",
    "WorkingWithDeques.main(null);"
   ]
  },
  {
   "cell_type": "markdown",
   "id": "f0b48086",
   "metadata": {},
   "source": [
    "### Challenge Question HW"
   ]
  },
  {
   "cell_type": "code",
   "execution_count": 7,
   "id": "1f0e75af",
   "metadata": {
    "vscode": {
     "languageId": "java"
    }
   },
   "outputs": [
    {
     "name": "stdout",
     "output_type": "stream",
     "text": [
      "Contains S001: 1\n",
      "Total students: 2\n"
     ]
    }
   ],
   "source": [
    "    import java.util.HashSet;\n",
    "\n",
    "    public class ChallengeQuestion {\n",
    "        private HashSet<String> studentIDs = new HashSet<>();\n",
    "        \n",
    "        public boolean add(String id) {\n",
    "            return studentIDs.add(id);\n",
    "        }\n",
    "        \n",
    "        public int numOfOccurences(String id) {\n",
    "            int count = 0;\n",
    "            for (String idInList: studentIDs) {\n",
    "                if (idInList.equals(id)) {\n",
    "                    count++;\n",
    "                }\n",
    "            }\n",
    "            return count;\n",
    "        }\n",
    "        \n",
    "        public int size() {\n",
    "            return studentIDs.size();\n",
    "        }\n",
    "        \n",
    "        public static void main(String[] args) {\n",
    "            ChallengeQuestion students = new ChallengeQuestion();\n",
    "            \n",
    "            students.add(\"S001\");\n",
    "            students.add(\"S002\");\n",
    "            students.add(\"S001\");  \n",
    "            \n",
    "            System.out.println(\"Contains S001: \" + students.numOfOccurences((\"S001\")));\n",
    "            System.out.println(\"Total students: \" + students.size());\n",
    "        }\n",
    "    }\n",
    "\n",
    "    ChallengeQuestion.main(null);"
   ]
  }
 ],
 "metadata": {
  "kernelspec": {
   "display_name": "java (IJava/j!)",
   "language": "java",
   "name": "jbang-ijava"
  },
  "language_info": {
   "codemirror_mode": "java",
   "file_extension": ".jshell",
   "mimetype": "text/x-java-source",
   "name": "Java",
   "pygments_lexer": "java",
   "version": "22.0.2+9-70"
  }
 },
 "nbformat": 4,
 "nbformat_minor": 5
}
