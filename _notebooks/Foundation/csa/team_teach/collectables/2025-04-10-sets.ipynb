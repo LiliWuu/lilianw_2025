{
 "cells": [
  {
   "cell_type": "code",
   "execution_count": null,
   "id": "443b129f",
   "metadata": {
    "vscode": {
     "languageId": "java"
    }
   },
   "outputs": [],
   "source": [
    "---\n",
    "layout: post\n",
    "title: Collectables Sets\n",
    "permalink: /teamTeachCollectables/sets\n",
    "authors: Aashray, Nikhil\n",
    "menu: nav/collectables.html\n",
    "---"
   ]
  },
  {
   "cell_type": "markdown",
   "id": "48ef7f6d",
   "metadata": {},
   "source": [
    "## Sets (Aashray)\n",
    "\n",
    "### Java Sets: In-Depth Overview\n",
    "\n",
    "#### What Is a Set?\n",
    "\n",
    "A **Set** is a collection that stores unique elements. Unlike lists, sets do not allow duplicate values. While the typical `Set` does not guarantee any ordering of elements, some implementations offer sorted or insertion-ordered behaviors. The key characteristics of a set are:\n",
    "\n",
    "- **No Duplicates:** Every element in a set is unique.\n",
    "- **No Guaranteed Order:** The standard `Set` (such as `HashSet`) does not maintain the order of its elements. However, specialized implementations like `LinkedHashSet` and `TreeSet` provide predictable ordering (insertion order and natural sorted order, respectively).\n",
    "\n",
    "#### Types of Sets in Java\n",
    "\n",
    "1. **HashSet**\n",
    "   - **Description:** The most commonly used set implementation; it uses a hash table for storage.\n",
    "   - **Ordering:** Does not maintain any order.\n",
    "   - **Performance:** Offers constant-time performance for basic operations (add, remove, contains) if the hash function disperses the elements properly.\n",
    "   - **Limitations:** No duplicate elements; order is unpredictable.\n",
    "   \n",
    "2. **LinkedHashSet**\n",
    "   - **Description:** Extends `HashSet` and maintains a linked list of the entries.\n",
    "   - **Ordering:** Preserves the order of insertion.\n",
    "   - **Use Case:** Useful when iteration order matters while still enforcing uniqueness.\n",
    "   \n",
    "3. **TreeSet**\n",
    "   - **Description:** Implements the `SortedSet` interface using a red-black tree structure.\n",
    "   - **Ordering:** Automatically sorts the elements in their natural order (or according to a custom `Comparator`).\n",
    "   - **Use Case:** Ideal for applications where a sorted set is required.\n",
    "   - **Performance:** Provides logarithmic time cost for basic operations.\n",
    "   \n",
    "4. **EnumSet**\n",
    "   - **Description:** A specialized set implementation designed exclusively for use with enum types.\n",
    "   - **Ordering:** The iteration order is the natural order of the enum values.\n",
    "   - **Benefits:** Very efficient in both time and space for enum types.\n",
    "\n",
    "#### Common Operations on Sets\n",
    "\n",
    "- **Add Elements**\n",
    "  - `boolean add(E e)`: Adds the specified element to the set if it is not already present.\n",
    "  \n",
    "- **Remove Elements**\n",
    "  - `boolean remove(Object o)`: Removes the specified element from the set if it is present.\n",
    "  \n",
    "- **Check for an Element**\n",
    "  - `boolean contains(Object o)`: Returns `true` if the set contains the specified element.\n",
    "  \n",
    "- **Size and Emptiness**\n",
    "  - `int size()`: Returns the number of elements in the set.\n",
    "  - `boolean isEmpty()`: Returns `true` if the set contains no elements.\n",
    "  \n",
    "- **Iteration**\n",
    "  - `Iterator<E> iterator()`: Returns an iterator over the set’s elements. You can use this with an enhanced for loop (for-each loop).\n",
    "\n",
    "- **Bulk Operations**\n",
    "  - `boolean addAll(Collection<? extends E> c)`: Adds all elements from the specified collection.\n",
    "  - `boolean removeAll(Collection<?> c)`: Removes from the set all of its elements that are contained in the specified collection.\n",
    "  - `boolean retainAll(Collection<?> c)`: Retains only the elements in the set that are contained in the specified collection.\n",
    "\n",
    "#### What You Can and Cannot Do with Sets\n",
    "\n",
    "**You Can:**\n",
    "- **Store Unique Elements:** Automatically ignore any duplicate values.\n",
    "- **Perform Fast Lookups:** Particularly with implementations like `HashSet`, operations such as add and contains are typically very fast.\n",
    "- **Use Specialized Sets:** For example, using `TreeSet` for a sorted collection or `LinkedHashSet` to maintain insertion order.\n",
    "- **Bulk Operations:** Easily combine, remove, or retain collections of elements using methods like `addAll()`, `removeAll()`, and `retainAll()`.\n",
    "\n",
    "**You Cannot:**\n",
    "- **Store Duplicates:** Sets inherently reject duplicate items.\n",
    "- **Access by Index:** Since sets do not maintain a positional order (except when using a `List`), you cannot retrieve an element by its index using methods like `get(int index)`.\n",
    "- **Assume a Specific Order:** With standard sets (e.g., `HashSet`), the iteration order is not predictable. Use `LinkedHashSet` or `TreeSet` when order is important.\n",
    "\n",
    "#### Mini Example: Iterating Over a HashSet\n",
    "\n",
    "Below is a small Java program that demonstrates how to use a `HashSet`, including adding elements, attempting to add duplicates, and iterating over the set:"
   ]
  },
  {
   "cell_type": "code",
   "execution_count": 1,
   "id": "2edb3886",
   "metadata": {
    "vscode": {
     "languageId": "java"
    }
   },
   "outputs": [
    {
     "name": "stdout",
     "output_type": "stream",
     "text": [
      "Was 'Red' added again? false\n",
      "The set contains Green.\n",
      "The set has 3 elements.\n",
      "Colors in the set:\n",
      "Red\n",
      "Blue\n",
      "Green\n"
     ]
    }
   ],
   "source": [
    "import java.util.HashSet;\n",
    "import java.util.Set;\n",
    "\n",
    "public class SetExample {\n",
    "    public static void main(String[] args) {\n",
    "        // Create a HashSet of strings\n",
    "        Set<String> colors = new HashSet<>();\n",
    "\n",
    "        // Adding elements to the set\n",
    "        colors.add(\"Red\");\n",
    "        colors.add(\"Green\");\n",
    "        colors.add(\"Blue\");\n",
    "\n",
    "        // Attempt to add a duplicate element\n",
    "        boolean added = colors.add(\"Red\"); // This will return false\n",
    "\n",
    "        System.out.println(\"Was 'Red' added again? \" + added); // Outputs: false\n",
    "\n",
    "        // Common Operations:\n",
    "        // Check if the set contains \"Green\"\n",
    "        if (colors.contains(\"Green\")) {\n",
    "            System.out.println(\"The set contains Green.\");\n",
    "        }\n",
    "\n",
    "        // Get the size of the set\n",
    "        System.out.println(\"The set has \" + colors.size() + \" elements.\");\n",
    "\n",
    "        // Iterating over the set using an enhanced for-loop\n",
    "        System.out.println(\"Colors in the set:\");\n",
    "        for (String color : colors) {\n",
    "            System.out.println(color);\n",
    "        }\n",
    "    }\n",
    "}\n",
    "\n",
    "SetExample.main(null);"
   ]
  },
  {
   "cell_type": "code",
   "execution_count": 2,
   "id": "fb6c62fc",
   "metadata": {
    "vscode": {
     "languageId": "java"
    }
   },
   "outputs": [
    {
     "name": "stdout",
     "output_type": "stream",
     "text": [
      "Unique numbers: [3, 5, 7]\n"
     ]
    }
   ],
   "source": [
    "// Create a HashSet to store unique numbers:\n",
    "\n",
    "import java.util.HashSet;\n",
    "import java.util.Set;\n",
    "\n",
    "public class HashSetDemo {\n",
    "    public static void main(String[] args) {\n",
    "        Set<Integer> numbers = new HashSet<>();\n",
    "        numbers.add(5);\n",
    "        numbers.add(3);\n",
    "        numbers.add(5); // Duplicate, will be ignored.\n",
    "        numbers.add(7);\n",
    "        \n",
    "        System.out.println(\"Unique numbers: \" + numbers);\n",
    "    }\n",
    "}\n",
    "\n",
    "HashSetDemo.main(null);"
   ]
  },
  {
   "cell_type": "code",
   "execution_count": 3,
   "id": "dfb6a2f2",
   "metadata": {
    "vscode": {
     "languageId": "java"
    }
   },
   "outputs": [
    {
     "name": "stdout",
     "output_type": "stream",
     "text": [
      "Student 102: Bob\n",
      "Student Roster:\n",
      "ID: 101, Name: Alice\n",
      "ID: 102, Name: Bob\n",
      "ID: 103, Name: Charlie\n"
     ]
    }
   ],
   "source": [
    "// Create a HashMap to map student IDs to names:\n",
    "\n",
    "import java.util.HashMap;\n",
    "import java.util.Map;\n",
    "\n",
    "public class HashMapDemo {\n",
    "    public static void main(String[] args) {\n",
    "        Map<Integer, String> studentMap = new HashMap<>();\n",
    "        studentMap.put(101, \"Alice\");\n",
    "        studentMap.put(102, \"Bob\");\n",
    "        studentMap.put(103, \"Charlie\");\n",
    "\n",
    "        // Retrieve value by key\n",
    "        System.out.println(\"Student 102: \" + studentMap.get(102));\n",
    "\n",
    "        // Iterate using keySet()\n",
    "        System.out.println(\"Student Roster:\");\n",
    "        for (Integer id : studentMap.keySet()) {\n",
    "            System.out.println(\"ID: \" + id + \", Name: \" + studentMap.get(id));\n",
    "        }\n",
    "    }\n",
    "}\n",
    "\n",
    "HashMapDemo.main(null);"
   ]
  },
  {
   "cell_type": "markdown",
   "id": "429ebf3f",
   "metadata": {},
   "source": [
    "**POPCORN HACK**\n",
    "\n",
    "*Task:*\n",
    "Create a `HashMap` that stores names as keys and phone numbers (as strings) as values.  \n",
    "1. Add at least 5 entries.  \n",
    "2. Implement a simple search method that prompts the user (using `Scanner`) to enter a name and then prints out the corresponding phone number (or a “not found” message).\n",
    "\n",
    "Optional:\n",
    "- Allow the user to perform multiple lookups (looping until the user enters a quit command).\n",
    "- Implement a method to print the entire phone book in a sorted order (by key)."
   ]
  },
  {
   "cell_type": "code",
   "execution_count": 3,
   "id": "a57d0354",
   "metadata": {
    "vscode": {
     "languageId": "java"
    }
   },
   "outputs": [
    {
     "name": "stdout",
     "output_type": "stream",
     "text": [
      "Evan phone number is 100000001\n",
      "Steve phone number is 123456789\n",
      "Bob: 858123456\n",
      "James: 858456879\n",
      "Steve: 123456789\n",
      "Leo: 987654321\n",
      "Evan: 100000001\n"
     ]
    }
   ],
   "source": [
    "import java.util.HashMap;\n",
    "import java.util.Map;\n",
    "import java.util.Scanner;\n",
    "\n",
    "public class PhoneBook {\n",
    "    public static void main(String[] args) {\n",
    "        // code\n",
    "        Map<String, String> phoneMap = new HashMap<>();\n",
    "        phoneMap.put(\"Bob\", \"858123456\");\n",
    "        phoneMap.put(\"James\", \"858456879\");\n",
    "        phoneMap.put(\"Steve\", \"123456789\");\n",
    "        phoneMap.put(\"Leo\", \"987654321\");\n",
    "        phoneMap.put(\"Evan\", \"100000001\");\n",
    "\n",
    "        // OPTIONAL\n",
    "        Scanner input = new Scanner(System.in);\n",
    "        while (true) {\n",
    "            String name = input.nextLine();\n",
    "            if (name.equals(\"quit\")) break;\n",
    "            if (phoneMap.containsKey(name)) {\n",
    "                System.out.println(name + \" phone number is \" + phoneMap.get(name));\n",
    "            } else {\n",
    "                System.out.println(\"not found\");\n",
    "            }\n",
    "        }\n",
    "        \n",
    "        for (Map.Entry<String, String> entry : phoneMap.entrySet()) {\n",
    "            System.out.println(entry.getKey() + \": \" + entry.getValue());\n",
    "        }\n",
    "    }\n",
    "}\n",
    "\n",
    "PhoneBook.main(null);"
   ]
  },
  {
   "cell_type": "markdown",
   "id": "2c8cc9e5",
   "metadata": {},
   "source": [
    "**Takeaways:**\n",
    "- **No Duplicates:** Duplicate items are rejected (as seen when `\"Red\"` is not added twice).\n",
    "- **No Order Guarantee:** The order in which colors are printed may vary from the insertion order.\n",
    "- **Basic Operations:** Methods such as `add()`, `contains()`, `size()`, and iteration using the enhanced for-loop provide a simple interface for working with sets."
   ]
  }
 ],
 "metadata": {
  "kernelspec": {
   "display_name": "java (IJava/j!)",
   "language": "java",
   "name": "jbang-ijava"
  },
  "language_info": {
   "codemirror_mode": "java",
   "file_extension": ".jshell",
   "mimetype": "text/x-java-source",
   "name": "Java",
   "pygments_lexer": "java",
   "version": "22.0.2+9-70"
  }
 },
 "nbformat": 4,
 "nbformat_minor": 5
}
