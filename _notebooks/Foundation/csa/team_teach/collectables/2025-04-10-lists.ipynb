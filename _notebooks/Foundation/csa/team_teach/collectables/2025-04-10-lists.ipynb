{
 "cells": [
  {
   "cell_type": "code",
   "execution_count": null,
   "id": "88bce0f1",
   "metadata": {
    "vscode": {
     "languageId": "java"
    }
   },
   "outputs": [],
   "source": [
    "---\n",
    "layout: post\n",
    "title: Collectables Lists\n",
    "permalink: /teamTeachCollectables/lists\n",
    "authors: Aashray, Nikhil\n",
    "menu: nav/collectables.html\n",
    "---"
   ]
  },
  {
   "cell_type": "markdown",
   "id": "768d657f",
   "metadata": {},
   "source": [
    "## Lists (Nikhil)\n",
    "\n",
    "In Java, a **List** is an ordered collection that allows for the storage and manipulation of elements in a sequence. Unlike arrays, lists can dynamically resize themselves, accommodating additions and removals of elements without the need to specify an initial size. This flexibility makes them particularly useful for scenarios where the number of elements may change over time.\n",
    "\n",
    "### Types of Lists in Java\n",
    "\n",
    "The Java Collections Framework provides several implementations of the `List` interface, each tailored to specific use cases:\n",
    "\n",
    "1. **ArrayList**: This implementation uses a dynamic array to store elements. It offers fast random access (`O(1)` time complexity for `get` operations) but may be slower for insertions and deletions, especially in the middle of the list, as elements need to be shifted. It's ideal when frequent read operations are required. \n",
    "\n",
    "2. **LinkedList**: Implemented as a doubly-linked list, this class excels in scenarios involving frequent insertions and deletions, particularly at the beginning or middle of the list. However, accessing elements by index is slower (`O(n)` time complexity) compared to `ArrayList`.\n",
    "\n",
    "3. **Vector**: Similar to `ArrayList`, but with synchronized methods, making it thread-safe. Due to this synchronization, it may exhibit performance overhead in single-threaded scenarios.\n",
    "\n",
    "4. **Stack**: A subclass of `Vector` that implements a last-in-first-out (LIFO) stack. It provides methods like `push`, `pop`, and `peek` to manipulate the stack. \n",
    "\n",
    "### Common Operations on Lists\n",
    "\n",
    "Lists support a variety of operations that facilitate the manipulation and retrieval of elements:\n",
    "\n",
    "- **Adding Elements**:\n",
    "  - `add(E e)`: Appends the specified element to the end of the list.\n",
    "  - `add(int index, E element)`: Inserts the specified element at the specified position in the list.\n",
    "\n",
    "- **Removing Elements**:\n",
    "  - `remove(int index)`: Removes the element at the specified position in the list.\n",
    "  - `remove(Object o)`: Removes the first occurrence of the specified element from the list, if it is present.\n",
    "\n",
    "- **Accessing Elements**:\n",
    "  - `get(int index)`: Returns the element at the specified position in the list.\n",
    "  - `set(int index, E element)`: Replaces the element at the specified position in the list with the specified element.\n",
    "\n",
    "- **Querying the List**:\n",
    "  - `size()`: Returns the number of elements in the list.\n",
    "  - `isEmpty()`: Returns `true` if the list contains no elements.\n",
    "\n",
    "- **Searching within the List**:\n",
    "  - `indexOf(Object o)`: Returns the index of the first occurrence of the specified element in the list, or -1 if the list does not contain the element.\n",
    "  - `lastIndexOf(Object o)`: Returns the index of the last occurrence of the specified element in the list, or -1 if the list does not contain the element.\n",
    "\n",
    "- **Iteration**:\n",
    "  - `iterator()`: Returns an iterator over the elements in the list in proper sequence.\n",
    "  - `listIterator()`: Returns a list iterator over the elements in the list (in proper sequence).\n",
    "\n",
    "### Example Usage\n",
    "\n",
    "Here's an example demonstrating some of these operations using an `ArrayList`. In this example, we perform various operations such as adding, inserting, accessing, replacing, and removing elements from the list, as well as iterating over the list to print its contents."
   ]
  },
  {
   "cell_type": "code",
   "execution_count": 1,
   "id": "e4a4c748",
   "metadata": {
    "vscode": {
     "languageId": "java"
    }
   },
   "outputs": [
    {
     "name": "stdout",
     "output_type": "stream",
     "text": [
      "Banana\n",
      "Blackberry\n",
      "Cherry\n"
     ]
    }
   ],
   "source": [
    "import java.util.ArrayList;\n",
    "import java.util.List;\n",
    "\n",
    "public class ListExample {\n",
    "    public static void main(String[] args) {\n",
    "        // Creating a list of strings\n",
    "        List<String> fruits = new ArrayList<>();\n",
    "\n",
    "        // Adding elements\n",
    "        fruits.add(\"Apple\");\n",
    "        fruits.add(\"Banana\");\n",
    "        fruits.add(\"Cherry\");\n",
    "\n",
    "        // Inserting an element at a specific position\n",
    "        fruits.add(1, \"Blueberry\"); // Inserts \"Blueberry\" at index 1\n",
    "\n",
    "        // Accessing elements\n",
    "        System.out.println(fruits.get(2)); // Outputs: Banana\n",
    "\n",
    "        // Replacing an element\n",
    "        fruits.set(2, \"Blackberry\"); // Replaces \"Banana\" with \"Blackberry\"\n",
    "\n",
    "        // Removing elements\n",
    "        fruits.remove(\"Apple\"); // Removes \"Apple\"\n",
    "        fruits.remove(0); // Removes the element at index 0 (\"Blueberry\")\n",
    "\n",
    "        // Iterating over the list\n",
    "        for (String fruit : fruits) {\n",
    "            System.out.println(fruit);\n",
    "        }\n",
    "    }\n",
    "}\n",
    "\n",
    "ListExample.main(null);"
   ]
  },
  {
   "cell_type": "code",
   "execution_count": 2,
   "id": "df1c61eb",
   "metadata": {
    "vscode": {
     "languageId": "java"
    }
   },
   "outputs": [
    {
     "name": "stdout",
     "output_type": "stream",
     "text": [
      "Apple\n",
      "Banana\n",
      "Cherry\n"
     ]
    }
   ],
   "source": [
    "// ITERATION:\n",
    "import java.util.List;\n",
    "import java.util.Arrays;\n",
    "\n",
    "public class ListIterationExample {\n",
    "    public static void main(String[] args) {\n",
    "        List<String> fruits = Arrays.asList(\"Apple\", \"Banana\", \"Cherry\");\n",
    "\n",
    "        for (String fruit : fruits) {\n",
    "            System.out.println(fruit);\n",
    "        }\n",
    "    }\n",
    "}\n",
    "\n",
    "ListIterationExample.main(null);\n"
   ]
  },
  {
   "cell_type": "markdown",
   "id": "188abcc6",
   "metadata": {},
   "source": [
    "**POPCORN HACK:**\n",
    "\n",
    "*Task:*\n",
    "Create an `ArrayList` of at least 10 integers.  \n",
    "1. **Sort** the list in ascending order using `Collections.sort()`.  \n",
    "2. **Filter** out all the odd numbers using an enhanced for loop (or with streams if you prefer) and then print the even numbers.\n",
    "\n",
    "**Hint (using streams in Java 8+):**\n",
    "\n",
    "Optional:\n",
    "- Display only the odd numbers instead.\n",
    "- Find and print the largest even number from the filtered list."
   ]
  },
  {
   "cell_type": "code",
   "execution_count": 6,
   "id": "9e3ff827",
   "metadata": {
    "vscode": {
     "languageId": "java"
    }
   },
   "outputs": [
    {
     "name": "stdout",
     "output_type": "stream",
     "text": [
      "Sorted even numbers: 2 4 6 8 10 Sorted odd numbers: 1 3 5 7 9 Largest even number: 10"
     ]
    }
   ],
   "source": [
    "import java.util.ArrayList;\n",
    "import java.util.Collections;\n",
    "import java.util.List;\n",
    "import java.util.stream.Collectors;\n",
    "\n",
    "public class ListExperiment {\n",
    "    public static void main(String[] args) {\n",
    "        // create your array list\n",
    "        ArrayList<Integer> arrList = new ArrayList<Integer>();\n",
    "\n",
    "        // add 10 integers\n",
    "        arrList.add(10);\n",
    "        arrList.add(6);\n",
    "        arrList.add(2);\n",
    "        arrList.add(1);\n",
    "        arrList.add(8);\n",
    "        arrList.add(5);\n",
    "        arrList.add(4);\n",
    "        arrList.add(3);\n",
    "        arrList.add(7);\n",
    "        arrList.add(9);\n",
    "\n",
    "        // sort your list\n",
    "        Collections.sort(arrList);\n",
    "\n",
    "        System.out.print(\"Sorted even numbers: \");\n",
    "        // filter using even numbers and print\n",
    "        for (Integer integer: arrList) {\n",
    "            if (integer % 2 == 0) {\n",
    "                System.out.print(integer + \" \");\n",
    "            }\n",
    "        }\n",
    "\n",
    "        // OPTIONAL: \n",
    "        System.out.print(\"Sorted odd numbers: \");\n",
    "        // filter using odd numbers and print\n",
    "        for (Integer integer: arrList) {\n",
    "            if (integer % 2 != 0) {\n",
    "                System.out.print(integer + \" \");\n",
    "            }\n",
    "        }\n",
    "        // find largest even number\n",
    "        System.out.print(\"Largest even number: \");\n",
    "        int largestEvenNum = 0;\n",
    "        for (Integer integer: arrList) {\n",
    "            if (integer % 2 == 0 && integer > largestEvenNum) {\n",
    "                largestEvenNum = integer;\n",
    "            }\n",
    "        }\n",
    "        System.out.print(largestEvenNum);\n",
    "    }\n",
    "}\n",
    "\n",
    "ListExperiment.main(null);"
   ]
  },
  {
   "cell_type": "markdown",
   "id": "d2707562",
   "metadata": {},
   "source": [
    "### How Iterable Integrates with Collection\n",
    "\n",
    "- The **Collection** interface inherits from **Iterable**, which means that all subinterfaces and classes like **List**, **Set**, and others automatically support iteration.\n",
    "- By extending **Iterable**, collections provide the **iterator()** method, enabling seamless use of the enhanced for-loop (`for-each` loop).\n",
    "- This design eliminates the need for manual index management, making iteration more concise and readable.\n",
    "- Starting with Java 8, the **forEach** method—enabled through **Iterable**—allows collections to be iterated using lambda expressions for cleaner, functional-style code."
   ]
  }
 ],
 "metadata": {
  "kernelspec": {
   "display_name": "java (IJava/j!)",
   "language": "java",
   "name": "jbang-ijava"
  },
  "language_info": {
   "codemirror_mode": "java",
   "file_extension": ".jshell",
   "mimetype": "text/x-java-source",
   "name": "Java",
   "pygments_lexer": "java",
   "version": "22.0.2+9-70"
  }
 },
 "nbformat": 4,
 "nbformat_minor": 5
}
