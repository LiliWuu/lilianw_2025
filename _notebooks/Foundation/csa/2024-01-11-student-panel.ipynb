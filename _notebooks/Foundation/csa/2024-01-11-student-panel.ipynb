{
 "cells": [
  {
   "cell_type": "markdown",
   "metadata": {},
   "source": [
    "---\n",
    "layout: post\n",
    "title: Introduction to FRQ#1\n",
    "categories: [AP CSA]\n",
    "menu: nav/CSA_Units/student-panel.html\n",
    "permalink: /student-panel.html\n",
    "---"
   ]
  },
  {
   "cell_type": "markdown",
   "metadata": {},
   "source": [
    "## Meeting Notes\n",
    "\n",
    "- Have to be able to explain code and have full understanding\n",
    "- Direct, concise communication is key\n",
    "- Communicating effectively helps with getting into clubs and talking to recruiters\n",
    "- Documenting methodologies (agile methodology) / making issues is important\n",
    "- Planning before coding is critical (making flowcharts)\n",
    "- Managing projects, cross-team collaboration\n",
    "- Important to have projects for college apps\n",
    "- College apps can include technical and social ethics\n",
    "- Be involved in the community\n",
    "- Look at university classes and what they offer (talk about the specifics and how to make an impact in college apps)\n",
    "- Dual-enrollment / taking community college courses = don't need to do certain gen ed classes in college\n",
    "- Projects and technical skills are important to be recruited\n",
    "- Email professors to apply for internships\n",
    "- Start writing college apps end of junior year/in summer\n",
    "- Leet code is used in software interviews\n",
    "- LinkedIn has a place for jobs, careers has internships, messaging people on LinkedIn for recruiters (personalized advice)\n",
    "- Begin as a TA in college\n",
    "- Look for startup opportunities in college"
   ]
  }
 ],
 "metadata": {
  "language_info": {
   "name": "python"
  }
 },
 "nbformat": 4,
 "nbformat_minor": 2
}
