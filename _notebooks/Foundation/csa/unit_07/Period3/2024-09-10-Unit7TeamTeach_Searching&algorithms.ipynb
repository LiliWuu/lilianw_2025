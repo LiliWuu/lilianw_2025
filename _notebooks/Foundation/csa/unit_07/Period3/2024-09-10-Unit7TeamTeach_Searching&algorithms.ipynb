{
 "cells": [
  {
   "cell_type": "markdown",
   "metadata": {},
   "source": [
    "---\n",
    "layout: post\n",
    "toc: true\n",
    "title: Unit 7 ArrayList P3 \n",
    "description: A Unit of documents that overview Array Lists in Java\n",
    "authors: Drishya, Arnav, Tanuj, Jason\n",
    "categories: [AP CSA]\n",
    "# courses: {'csa': {'week': 6}}\n",
    "type: ccc\n",
    "permalink: /csa/unit7-p3/unit7-3\n",
    "menu: nav/CSA_Units/csa_unit7_p3.html\n",
    "---"
   ]
  },
  {
   "cell_type": "markdown",
   "metadata": {},
   "source": [
    "## 7.4 DEVELOPING ALGORITHMS USING ARRAY LISTS\n"
   ]
  },
  {
   "cell_type": "markdown",
   "metadata": {},
   "source": [
    "## Essential Knowledge\n",
    "\n",
    "\n",
    "-> Iteration statements provide a means to access all the elements stored within an ArrayList. This process is referred to as \"traversing the ArrayList.\"\n",
    "\n",
    "-> The following methods related to ArrayLists, their functions, and appropriate use are covered in the Java Quick Reference:\n",
    "\n",
    "    -> int size() - Returns the count of elements within the list.\n",
    "    -> boolean add(E obj) - Appends the object obj to the end of the list and returns true.\n",
    "    -> void add(int index, E obj) - Inserts obj at the specified index, shifting elements at and -> above that position to the right (incrementing their indices by 1) and increasing the list's size by 1.\n",
    "    -> E get(int index) - Retrieves the element at the given index in the list.\n",
    "    -> E set(int index, E obj) - Replaces the element at the specified index with obj and returns the previous element at that index.\n",
    "    -> E remove(int index) - Deletes the element at the specified index, shifting all subsequent elements one index to the left, reducing the list's size by one, and returning the removed element.\n",
    "\n",
    "->There exist established algorithms for ArrayLists that make use of traversals to:\n",
    "\n",
    "    -> Insert elements.\n",
    "    -> Remove elements.\n",
    "    -> Apply the same algorithms commonly used with 1D arrays.\n"
   ]
  },
  {
   "cell_type": "code",
   "execution_count": null,
   "metadata": {},
   "outputs": [],
   "source": [
    "List<Integer> list1 = new ArrayList<Integer>();\n",
    "list1.add(new Integer(1));\n",
    "list1.add(new Integer(2));\n",
    "list1.add(new Integer(3));\n",
    "list1.remove(1);"
   ]
  },
  {
   "cell_type": "markdown",
   "metadata": {},
   "source": [
    "A. [2, 3]\n",
    "\n",
    "B. [1, 2, 3]\n",
    "\n",
    "C. [1, 2]\n",
    "\n",
    "D. [1, 3]\n",
    "\n",
    "D"
   ]
  },
  {
   "cell_type": "code",
   "execution_count": null,
   "metadata": {},
   "outputs": [],
   "source": [
    "List<Integer> numList = new ArrayList<Integer>();\n",
    "numList.add(new Integer(1));\n",
    "numList.add(new Integer(2));\n",
    "numList.add(new Integer(3));\n",
    "numList.set(2,new Integer(4));\n",
    "numList.add(1, new Integer(5));\n",
    "numList.add(new Integer(6));"
   ]
  },
  {
   "cell_type": "markdown",
   "metadata": {},
   "source": [
    "A. [1, 2, 3, 4, 5]\n",
    "\n",
    "B. [1, 2, 4, 5, 6]\n",
    "\n",
    "C. [1, 2, 5, 4, 6]\n",
    "\n",
    "D. [1, 5, 2, 4, 6]\n",
    "\n",
    "D"
   ]
  },
  {
   "cell_type": "code",
   "execution_count": null,
   "metadata": {},
   "outputs": [],
   "source": [
    "public class ArrayListExample {\n",
    "\n",
    "    private double getMax(double[] numbers) {\n",
    "        double highest = numbers[0];\n",
    "        for (double num : numbers) {\n",
    "            if (num > highest) {\n",
    "                highest = num;\n",
    "            }\n",
    "        }\n",
    "        return highest;\n",
    "    }\n",
    "\n",
    "    public static void main(String[] args) {\n",
    "        double[] nums = {1.0, 3.8, 2.0, 2.0, 1.9, 70.2, 2.0, 4.0, 6.3, 2.1, 5.0, 10.7};\n",
    "        ArrayListExample instance = new ArrayListExample();\n",
    "        System.out.println(instance.getMax(nums));\n",
    "    }\n",
    "}\n",
    "\n",
    "ArrayListExample.main(null);"
   ]
  },
  {
   "cell_type": "markdown",
   "metadata": {},
   "source": [
    "When you look at the code above you should pay attention to the getMax() method. What the method is doing is it accepts a list of doubles as input and then uses a for loop to determine the highest value in the list."
   ]
  },
  {
   "cell_type": "markdown",
   "metadata": {},
   "source": [
    "Now instead of using just a List of Doubles, lets use an ArrayList of Doubles. "
   ]
  },
  {
   "cell_type": "code",
   "execution_count": null,
   "metadata": {},
   "outputs": [],
   "source": [
    "\n",
    "public class ArrayListExample {\n",
    "\n",
    "    private double getMax(ArrayList<Double> numbers) {\n",
    "        double highest = numbers.get(0);\n",
    "        for (double num : numbers) {\n",
    "            if (num > highest) {\n",
    "                highest = num;\n",
    "            }\n",
    "        }\n",
    "        return highest;\n",
    "    }\n",
    "\n",
    "    public static void main(String[] args) {\n",
    "        ArrayList<Double> nums = new ArrayList<>(Arrays.asList(1.0, 3.8, 2.0, 2.0, 1.9, 70.2, 2.0, 4.0, 6.3, 2.1, 5.0, 10.7));\n",
    "        ArrayListExample instance = new ArrayListExample();\n",
    "        System.out.println(instance.getMax(nums));\n",
    "    }\n",
    "}\n",
    "\n",
    "ArrayListExample.main(null);"
   ]
  },
  {
   "cell_type": "markdown",
   "metadata": {},
   "source": [
    "Finish the code below so that it uses the findSum() method and it finds the sum of the numbers. "
   ]
  },
  {
   "cell_type": "code",
   "execution_count": 4,
   "metadata": {},
   "outputs": [
    {
     "name": "stdout",
     "output_type": "stream",
     "text": [
      "19\n"
     ]
    }
   ],
   "source": [
    "public class ArrayListHacks {\n",
    "    private int findSum(ArrayList<Integer> values) {\n",
    "        // Your code here\n",
    "        int sum = 0;\n",
    "        for (int i = 0; i < values.size(); i++) {\n",
    "            sum += values.get(i);\n",
    "        }\n",
    "        return sum;\n",
    "    }\n",
    "\n",
    "    public static void main(String[] args) {\n",
    "        ArrayList<Integer> nums = new ArrayList<>();\n",
    "        nums.add(0);\n",
    "        nums.add(1);\n",
    "        nums.add(2);\n",
    "        nums.add(3);\n",
    "        nums.add(5);\n",
    "        nums.add(8);\n",
    "\n",
    "        ArrayListHacks hacks = new ArrayListHacks();\n",
    "        System.out.println(hacks.findSum(nums));\n",
    "\n",
    "    }\n",
    "\n",
    "}\n",
    "\n",
    "ArrayListHacks.main(null);"
   ]
  },
  {
   "cell_type": "markdown",
   "metadata": {},
   "source": [
    "# 7.5 Searching"
   ]
  },
  {
   "cell_type": "markdown",
   "metadata": {},
   "source": [
    "## We will be learning about Sequential Searching but also known as Linear Searching. \n",
    "\n",
    "Linear search looks for a value in unsorted data by checking each element in order that the data is in. It then returns the index if found, or -1 if the value isn’t in the list."
   ]
  },
  {
   "cell_type": "code",
   "execution_count": null,
   "metadata": {},
   "outputs": [],
   "source": [
    "public class ArraySearcher {\n",
    "\n",
    "    public static int sequentialSearch(int[] elements, int target) {\n",
    "        for (int j = 0; j < elements.length; j++) {\n",
    "            if (elements[j] == target) {\n",
    "                return j;\n",
    "            }\n",
    "        }\n",
    "        return -1;\n",
    "    }\n",
    "\n",
    "    public static void main(String[] args) {\n",
    "        int[] numArray = {3, -2, 9, 38, -23};\n",
    "        System.out.println(\"Tests of sequentialSearch\");\n",
    "        System.out.println(sequentialSearch(numArray, 3));  \n",
    "        System.out.println(sequentialSearch(numArray, 9));  // Expected output: 2\n",
    "        System.out.println(sequentialSearch(numArray, -23)); // Expected output: 4\n",
    "        System.out.println(sequentialSearch(numArray, 99)); // Expected output: -1\n",
    "    }\n",
    "}\n",
    "\n",
    "\n",
    "ArraySearcher.main(null);"
   ]
  },
  {
   "cell_type": "markdown",
   "metadata": {},
   "source": [
    "You can also look for a String in an array or list, but be sure to use equals rather than ==. Remember that == is only true when the two references refer to the same String object, while equals returns true if the characters in the two String objects are the same.\n"
   ]
  },
  {
   "cell_type": "code",
   "execution_count": null,
   "metadata": {},
   "outputs": [],
   "source": [
    "public class SearchTest\n",
    "{\n",
    "\n",
    "    public static int sequentialSearch(String[] elements, String target)\n",
    "    {\n",
    "        for (int j = 0; j < elements.length; j++)\n",
    "        {\n",
    "            if (elements[j].equals(target))\n",
    "            {\n",
    "                return j;\n",
    "            }\n",
    "        }\n",
    "        return -1;\n",
    "    }\n",
    "\n",
    "    public static void main(String[] args)\n",
    "    {\n",
    "        String[] arr1 = {\"blue\", \"red\", \"purple\", \"green\"};\n",
    "\n",
    "        // test when the target is in the array\n",
    "        int index = sequentialSearch(arr1, \"red\");\n",
    "        System.out.println(index);\n",
    "\n",
    "        // test when the target is not in the array\n",
    "        index = sequentialSearch(arr1, \"pink\");\n",
    "        System.out.println(index);\n",
    "    }\n",
    "}\n",
    "\n",
    "SearchTest.main(null)\n"
   ]
  }
 ],
 "metadata": {
  "kernelspec": {
   "display_name": "java (IJava/j!)",
   "language": "java",
   "name": "jbang-ijava"
  },
  "language_info": {
   "codemirror_mode": "java",
   "file_extension": ".jshell",
   "mimetype": "text/x-java-source",
   "name": "java",
   "pygments_lexer": "java",
   "version": "22.0.2+9-70"
  }
 },
 "nbformat": 4,
 "nbformat_minor": 2
}
