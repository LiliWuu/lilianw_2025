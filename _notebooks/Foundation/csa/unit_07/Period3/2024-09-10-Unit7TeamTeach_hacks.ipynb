{
 "cells": [
  {
   "cell_type": "markdown",
   "metadata": {},
   "source": [
    "---\n",
    "layout: post\n",
    "toc: true\n",
    "title: Unit 7 ArrayList P3 \n",
    "description: A Unit of documents that overview Array Lists in Java\n",
    "authors: Drishya, Arnav, Tanuj, Jason\n",
    "categories: [AP CSA]\n",
    "# courses: {'csa': {'week': 6}}\n",
    "type: ccc\n",
    "permalink: /csa/unit7-p3/unit7-6\n",
    "menu: nav/CSA_Units/csa_unit7_p3.html\n",
    "---"
   ]
  },
  {
   "cell_type": "markdown",
   "metadata": {
    "vscode": {
     "languageId": "plaintext"
    }
   },
   "source": [
    "## **ArrayList Coding Activity**\n",
    "\n",
    "### **Objective:**\n",
    "Students will create, manipulate, and sort an `ArrayList` of integers.\n",
    "\n",
    "### **Activity Outline:**\n",
    "\n",
    "1. **Create an ArrayList:**\n",
    "   - **Task:** Create an `ArrayList` of integers and add 5 elements of your choice.\n",
    "   - **Hint:** Use the `ArrayList` class and the `.add()` method to add elements.\n",
    "\n",
    "2. **Modify an Element:**\n",
    "   - **Task:** Change the second element (index 1) of the `ArrayList` to a new value (e.g., 100).\n",
    "   - **Hint:** The `.set()` method allows you to update an element at a specific index.\n",
    "\n",
    "3. **Remove an Element:**\n",
    "   - **Task:** Remove the third element (index 2) from the `ArrayList`.\n",
    "   - **Hint:** Use the `.remove()` method to delete an element by its index.\n",
    "\n",
    "4. **Search for an Element:**\n",
    "   - **Task:** Check if a specific number (e.g., 30) is in the `ArrayList` and print a message based on whether it is found or not.\n",
    "   - **Hint:** The `.contains()` method can be used to check for the presence of an element.\n",
    "\n",
    "5. **Loop Through the ArrayList:**\n",
    "   - **Task:** Use a `for` loop to print each element of the `ArrayList`.\n",
    "   - **Hint:** You can use a traditional `for` loop or an enhanced `for` loop (`for-each`) to iterate through the elements.\n",
    "\n",
    "6. **Sort the ArrayList:**\n",
    "   - **Task:** Sort the `ArrayList` in ascending order.\n",
    "   - **Hint:** Use `Collections.sort()` to sort the `ArrayList`.\n",
    "\n",
    "7. **Print the Sorted ArrayList:**\n",
    "   - **Task:** Print the sorted `ArrayList` to see the updated order of the elements.\n",
    "   - **Hint:** Use `System.out.println()` to print the sorted list.\n"
   ]
  },
  {
   "cell_type": "code",
   "execution_count": 4,
   "metadata": {
    "vscode": {
     "languageId": "java"
    }
   },
   "outputs": [
    {
     "name": "stdout",
     "output_type": "stream",
     "text": [
      "100 is found.\n",
      "1 100 4 5 \n",
      "[1, 4, 5, 100]\n"
     ]
    }
   ],
   "source": [
    "public class Main {\n",
    "    public static void main(String[] args) {\n",
    "        ArrayList<Integer> list = new ArrayList<>();\n",
    "        list.add(1);\n",
    "        list.add(2);\n",
    "        list.add(3);\n",
    "        list.add(4);\n",
    "        list.add(5);\n",
    "        list.set(1, 100);\n",
    "        list.remove(2);\n",
    "\n",
    "        \n",
    "        search(list, 100);\n",
    "        looping(list);\n",
    "        System.out.println();\n",
    "        sorting(list);\n",
    "        \n",
    "    }\n",
    "    public static void search(ArrayList<Integer> list, int target) {\n",
    "\n",
    "        if (list.contains(target)) {\n",
    "            System.out.println(target + \" is found.\");\n",
    "        } else {\n",
    "            System.out.println(target + \" is not found.\");\n",
    "        }\n",
    "\n",
    "    }\n",
    "    public static void looping(ArrayList<Integer> list) {\n",
    "        for (int item: list) {\n",
    "            System.out.print(item + \" \");\n",
    "        }\n",
    "    }\n",
    "    public static void sorting(ArrayList<Integer> list) {\n",
    "        Collections.sort(list);\n",
    "        System.out.println(list);\n",
    "    }\n",
    "}\n",
    "Main.main(null);"
   ]
  }
 ],
 "metadata": {
  "kernelspec": {
   "display_name": "java (IJava/j!)",
   "language": "java",
   "name": "jbang-ijava"
  },
  "language_info": {
   "codemirror_mode": "java",
   "file_extension": ".jshell",
   "mimetype": "text/x-java-source",
   "name": "Java",
   "pygments_lexer": "java",
   "version": "22.0.2+9-70"
  }
 },
 "nbformat": 4,
 "nbformat_minor": 2
}
