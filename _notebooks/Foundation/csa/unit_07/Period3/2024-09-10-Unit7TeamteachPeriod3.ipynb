{
 "cells": [
  {
   "cell_type": "markdown",
   "metadata": {},
   "source": [
    "---\n",
    "layout: post\n",
    "toc: true\n",
    "title: Unit 7 ArrayList P3 \n",
    "description: A Unit of documents that overview Array Lists in Java\n",
    "authors: Drishya, Arnav, Tanuj, Jason\n",
    "categories: [AP CSA]\n",
    "# courses: {'csa': {'week': 6}}\n",
    "type: ccc\n",
    "permalink: /csa/unit7-p3/unit7-1\n",
    "menu: nav/CSA_Units/csa_unit7_p3.html\n",
    "---\n"
   ]
  },
  {
   "cell_type": "markdown",
   "metadata": {},
   "source": [
    "**7.1 ARRAY LIST METHODS**\n",
    "- "
   ]
  },
  {
   "cell_type": "markdown",
   "metadata": {
    "vscode": {
     "languageId": "java"
    }
   },
   "source": [
    "- ArrayList is a resizeable array\n",
    "- ArrayLists are dynamic meaning that its size can be altered as necessary \n",
    "- Instead of creating a new array of a different size and copying the data from the initial array to the new one, we can use ArrayLists\n",
    "- To use an arrayList it is necessary to be imported from the java util package"
   ]
  },
  {
   "cell_type": "markdown",
   "metadata": {
    "vscode": {
     "languageId": "java"
    }
   },
   "source": [
    "**VOCABULARY**\n",
    "\n",
    "Static: Once initialized, size cannot be changed (arrays)\n",
    "\n",
    "Dynamic: Size of list can be changed at any time (arrayLists)\n",
    "\n",
    "<img src=\"https://drishyamody.github.io/TeamTeachP3/images/comparison.png\" alt=\"Arrays VS ArrayList\">\n"
   ]
  },
  {
   "cell_type": "code",
   "execution_count": null,
   "metadata": {},
   "outputs": [],
   "source": [
    "import java.util.ArrayList;  // Import the ArrayList class\n",
    "// Declare and initialize an ArrayList of integers\n",
    "ArrayList<Integer> numbersList = new ArrayList<>();\n",
    "System.out.println(numbersList);"
   ]
  },
  {
   "cell_type": "markdown",
   "metadata": {},
   "source": [
    "- ArrayLists are created in a similar manner as other object classes\n",
    "- in the <> when declaring an arrayList is the data type it will contain. (integer, string, etc...)\n",
    "- Can also make an arraylist without declaring the data type but it can prevent error detection \n",
    "<img src=\"https://drishyamody.github.io/TeamTeachP3/images/7.1-7.2.png\" alt=\"Initialization\">"
   ]
  },
  {
   "cell_type": "code",
   "execution_count": null,
   "metadata": {},
   "outputs": [],
   "source": [
    "ArrayList<String> wordList = new ArrayList<String>(); // with data type\n",
    "ArrayList blankList = new ArrayList(); // without data type\n",
    "System.out.println(wordList);"
   ]
  },
  {
   "cell_type": "markdown",
   "metadata": {
    "vscode": {
     "languageId": "java"
    }
   },
   "source": [
    "**7.2 ARRAY LIST METHODS**\n",
    "- "
   ]
  },
  {
   "cell_type": "markdown",
   "metadata": {},
   "source": [
    "- You can get the number of items in an ArrayList using the .size() method\n",
    "- All arrayLists start with 0"
   ]
  },
  {
   "cell_type": "code",
   "execution_count": null,
   "metadata": {},
   "outputs": [],
   "source": [
    "ArrayList<String> sizeList = new ArrayList<String>();\n",
    "System.out.println(sizeList.size());"
   ]
  },
  {
   "cell_type": "markdown",
   "metadata": {},
   "source": [
    "- You can add values to an array list by using add method.\n",
    "syntax: list.add(obj)\n",
    "\n",
    "- How you would join the end of a line to buy a ticket (similar concept)"
   ]
  },
  {
   "cell_type": "code",
   "execution_count": null,
   "metadata": {},
   "outputs": [],
   "source": [
    "ArrayList<String> addList = new ArrayList<String>();\n",
    "addList.add(\"CSA\");\n",
    "System.out.println(addList.size());\n",
    "System.out.println(addList);\n"
   ]
  },
  {
   "cell_type": "markdown",
   "metadata": {},
   "source": [
    "- int size() - Returns the count of elements within the list.\n",
    "\n",
    "- boolean add(E obj) - Appends the object obj to the end of the list and returns true.\n",
    "\n",
    "- void add(int index, E obj) - Inserts obj at the specified index, shifting elements at and above that position to the right (incrementing their indices by 1) and increasing the list's size by 1.\n",
    "\n",
    "- E get(int index) - Retrieves the element at the given index in the list.\n",
    "\n",
    "- E set(int index, E obj) - Replaces the element at the specified index with obj and returns the previous element at that index.\n",
    "\n",
    "- E remove(int index) - Deletes the element at the specified index, shifting all subsequent elements one index to the left, reducing the list's size by one, and returning the removed element.\n",
    "\n",
    "- Java allows the generic ArrayList<E>, where the generic type E specifies the type of element.\n",
    "\n",
    "- When ArrayList<E> is specified, the types of the reference parameters and return type when using the methods are type E.\n",
    "\n",
    "- ArrayList<E> is preferred over ArrayList because it allows the compiler to find errors that would otherwise be found at runtime."
   ]
  },
  {
   "cell_type": "code",
   "execution_count": 1,
   "metadata": {},
   "outputs": [
    {
     "name": "stdout",
     "output_type": "stream",
     "text": [
      "0\n",
      "[1.0, 2.0, 3.0]\n",
      "[1.0, 3.0]\n"
     ]
    }
   ],
   "source": [
    "ArrayList<Integer> a1 = new ArrayList<>();\n",
    "System.out.println(a1.size());\n",
    "\n",
    "ArrayList<Double> a2 = new ArrayList<>();\n",
    "a2.add(1.0);\n",
    "a2.add(2.0);\n",
    "a2.add(3.0);\n",
    "System.out.println(a2);\n",
    "\n",
    "a2.remove(2.0);\n",
    "System.out.println(a2);\n",
    "\n",
    "\n"
   ]
  },
  {
   "cell_type": "markdown",
   "metadata": {
    "vscode": {
     "languageId": "java"
    }
   },
   "source": [
    "<img src=\"https://drishyamody.github.io/TeamTeachP3/images/7.2visuals.png\" alt=\"Function Visuals\">"
   ]
  },
  {
   "cell_type": "code",
   "execution_count": null,
   "metadata": {},
   "outputs": [],
   "source": [
    "import java.util.ArrayList;\n",
    " // Create ArrayList of Integers\n",
    "ArrayList<Integer> a1 = new ArrayList<>();\n",
    "System.out.println(\"Initial size of a1: \" + a1.size());\n",
    "\n",
    "// Create ArrayList of Doubles and add elements\n",
    "ArrayList<Double> a2 = new ArrayList<>();\n",
    "a2.add(1.0);\n",
    "a2.add(2.0);\n",
    "a2.add(3.0);\n",
    "System.out.println(\"Initial a2: \" + a2);\n",
    "\n",
    "// Remove element at index 2\n",
    "a2.remove(2); // Use index for removal, not value\n",
    "System.out.println(\"After removing element at index 2: \" + a2);\n",
    "\n",
    "// Insert element at index 1\n",
    "a2.add(1, 1.5);\n",
    "System.out.println(\"After inserting 1.5 at index 1: \" + a2);\n",
    "\n",
    "// Retrieve element at index 2\n",
    "Double elementAtIndex2 = a2.get(2);\n",
    "System.out.println(\"Element at index 2: \" + elementAtIndex2);\n",
    "\n",
    "// Replace element at index 1\n",
    "Double previousElement = a2.set(1, 1.75);\n",
    "System.out.println(\"After replacing element at index 1: \" + a2);\n",
    "System.out.println(\"Previous element at index 1: \" + previousElement);\n",
    "\n",
    "// Get the size of a2\n",
    "int sizeOfA2 = a2.size();\n",
    "System.out.println(\"Size of a2: \" + sizeOfA2);\n"
   ]
  },
  {
   "cell_type": "markdown",
   "metadata": {},
   "source": [
    "**POPCORN HACKS 7.1 & 7.2**\n",
    "Create an ArrayList of Strings with the following elements: \"Apple\", \"Banana\", \"Cherry\", \"Date\", \"Elderberry\".\n",
    "Complete the following tasks using the ArrayList methods you've learned:\n",
    "- Task 1: Print the size of the ArrayList.\n",
    "- Task 2: Add a new element \"Fig\" to the end of the list.\n",
    "- Task 3: Insert \"Grape\" at index 2.\n",
    "- Task 4: Replace the element at index 4 with \"Guava\".\n",
    "- Task 5: Remove the element at index 1.\n",
    "- Task 6: Retrieve and print the element at index 3.\n",
    "\n",
    "At the end of each task, print the current state of the ArrayList to verify the result."
   ]
  },
  {
   "cell_type": "code",
   "execution_count": 15,
   "metadata": {},
   "outputs": [
    {
     "name": "stdout",
     "output_type": "stream",
     "text": [
      "5\n",
      "Guava\n"
     ]
    }
   ],
   "source": [
    "ArrayList<String> list1 = new ArrayList<>(Arrays.asList(\"Apple\", \"Banana\", \"Cherry\", \"Date\", \"Elderberry\"));\n",
    "System.out.println(list1.size());\n",
    "list1.add(\"Fig\");\n",
    "list1.add(2, \"Grape\");\n",
    "list1.remove(4);\n",
    "list1.add(4, \"Guava\");\n",
    "list1.remove(1);\n",
    "System.out.println(list1.get(3));"
   ]
  }
 ],
 "metadata": {
  "kernelspec": {
   "display_name": "java (IJava/j!)",
   "language": "java",
   "name": "jbang-ijava"
  },
  "language_info": {
   "codemirror_mode": "java",
   "file_extension": ".jshell",
   "mimetype": "text/x-java-source",
   "name": "java",
   "pygments_lexer": "java",
   "version": "22.0.2+9-70"
  }
 },
 "nbformat": 4,
 "nbformat_minor": 2
}
