{
 "cells": [
  {
   "cell_type": "markdown",
   "metadata": {},
   "source": [
    "---\n",
    "layout: post\n",
    "toc: true\n",
    "title: Unit 7 ArrayList P3 \n",
    "description: A Unit of documents that overview Array Lists in Java\n",
    "authors: Drishya, Arnav, Tanuj, Jason\n",
    "categories: [AP CSA]\n",
    "# courses: {'csa': {'week': 6}}\n",
    "type: ccc\n",
    "permalink: /csa/unit7-p3/unit7-4\n",
    "menu: nav/CSA_Units/csa_unit7_p3.html\n",
    "---"
   ]
  },
  {
   "cell_type": "markdown",
   "metadata": {},
   "source": [
    "# **7.6 - ArrayLists, Sorting**\n",
    "\n",
    "## Selection Sort. \n",
    "- The one of the easiest sorts to demonstrate. \n",
    "- The selection sort identifies either the **maximum** or **minimum** of the compared values and iterates over the structure checking if the item stored at the index matches that condition, if so, it will swap the value stroed at that index and continue. \n",
    "- This implementation uses a helper method to perform the swap operation since variables can hold **only one value at a time**!!!\n",
    "\n",
    "### Let’s use this array as an example: **arr[] = {64, 25, 12, 22, 11}**\n",
    "![picture 1 for selection sortin](https://i.ibb.co/0CLDsNx/Screenshot-2024-09-17-12-39-20.png)\n",
    "![picture 2 for selection sortin](https://i.ibb.co/cLVWs6T/Screenshot-2024-09-17-12-41-30.png)\n",
    "![picture 3 for selection sortin](https://i.ibb.co/T2KjMtR/Screenshot-2024-09-17-12-41-37.png)\n",
    "![picture 4 for selection sortin](https://i.ibb.co/109NWPk/Screenshot-2024-09-17-12-41-42.png)\n",
    "![picture 5 for selection sortin](https://i.ibb.co/h8vhKcQ/Screenshot-2024-09-17-12-41-57.png)\n",
    "\n",
    "\n",
    "\n",
    "\n",
    "## **College Board Example code below...**"
   ]
  },
  {
   "cell_type": "code",
   "execution_count": 1,
   "metadata": {
    "vscode": {
     "languageId": "java"
    }
   },
   "outputs": [
    {
     "name": "stdout",
     "output_type": "stream",
     "text": [
      "Sorted array:\n",
      "11 12 22 25 64 "
     ]
    }
   ],
   "source": [
    "public class SelectionSort {\n",
    "    public static void main(String[] args) {\n",
    "        int[] numbers = {64, 25, 12, 22, 11};  // Example array of numbers\n",
    "\n",
    "        // Perform selection sort\n",
    "        for (int outerLoop = 0; outerLoop < numbers.length - 1; outerLoop++) {\n",
    "            // Start by assuming the current item is the smallest\n",
    "            int minIndex = outerLoop;\n",
    "\n",
    "            // Check the rest of the array for anything smaller\n",
    "            for (int inner = outerLoop + 1; inner < numbers.length; inner++) {\n",
    "                // If you find something smaller, update the index\n",
    "                if (numbers[inner] < numbers[minIndex]) {\n",
    "                    minIndex = inner;\n",
    "                }\n",
    "            }\n",
    "\n",
    "            // If the smallest item isn’t already in the right place, swap them\n",
    "            if (minIndex != outerLoop) {\n",
    "                // Swap numbers[outerLoop] and numbers[minIndex]\n",
    "                int temp = numbers[outerLoop];\n",
    "                numbers[outerLoop] = numbers[minIndex];\n",
    "                numbers[minIndex] = temp;\n",
    "            }\n",
    "        }\n",
    "\n",
    "        // Print the sorted array\n",
    "        System.out.println(\"Sorted array:\");\n",
    "        for (int num : numbers) {\n",
    "            System.out.print(num + \" \");\n",
    "        }\n",
    "    }\n",
    "}\n",
    "\n",
    "SelectionSort.main(null);\n"
   ]
  },
  {
   "cell_type": "markdown",
   "metadata": {},
   "source": [
    "### How does the swapping actualy happen?\n",
    "- We use swap-item mothod.\n",
    "\n",
    "**Swap Algorithm**"
   ]
  },
  {
   "cell_type": "code",
   "execution_count": 2,
   "metadata": {
    "vscode": {
     "languageId": "java"
    }
   },
   "outputs": [],
   "source": [
    "private void swapItems(int firstIndex, int secondIndex, Object[] arrayOfStuff)\n",
    "{\n",
    "    // **thirdHand** temporarily holds the value from firstIndex so it doesn't get lost during the swap\n",
    "    Object thirdHand = arrayOfStuff[firstIndex];\n",
    "    \n",
    "    // Move the value from secondIndex to firstIndex\n",
    "    arrayOfStuff[firstIndex] = arrayOfStuff[secondIndex];\n",
    "    \n",
    "    // Place the value that was originally at firstIndex (stored in thirdHand) into secondIndex\n",
    "    arrayOfStuff[secondIndex] = thirdHand;\n",
    "}\n",
    "// First you will see the three parameters as you can see below↓↓↓\n",
    "// **The firstIndex** = The index of the first item to be swapped.\n",
    "// **The secondIndex** = The index of the second item to be swapped.\n",
    "// **arrayOfStuff** = The array where the swapping takes place."
   ]
  },
  {
   "cell_type": "markdown",
   "metadata": {},
   "source": [
    "## Some common questions:\n",
    "### ***Can an enhanced for loop be used?***\n",
    "- **Answer:** No, The Selection Sort algorithm needs to know the index of the item it is working with.\n",
    "### ***How does the swap occur?***\n",
    "- **Answer:** A third variable is needed to temporarily hold on to the swapped value from the array since variables can only hold one thing at a time."
   ]
  },
  {
   "cell_type": "markdown",
   "metadata": {},
   "source": [
    "<br><br><br><br>"
   ]
  },
  {
   "cell_type": "markdown",
   "metadata": {},
   "source": [
    "## Inserting Sort\n",
    "- The insertion sort is characterized by building a sorted structure as it proceeds. It inserts each value it finds at the appropriate location in the data structure. This is often accomplished by using a while loop as the inner loop.\n",
    "\n",
    "![picture 1 for inserting sortin](https://media.geeksforgeeks.org/wp-content/uploads/20240802210251/Insertion-sorting.png)\n",
    "- Consider an array having elements : {23, 1, 10, 5, 2}\n",
    "\n",
    "\n",
    "\n",
    "***initial***:\n",
    "- Current element is ***23***\n",
    "- The first element in the array is assumed to be sorted.\n",
    "- The sorted part until ***0th*** index is : ***[23]***\n",
    "\n",
    "***First Pass***:\n",
    "- Compare ***1*** with ***23*** (current element with the sorted part).\n",
    "- Since ***1*** is smaller, insert ***1*** before ***23*** .\n",
    "- The sorted part until ***1st*** index is: ***[1, 23]***\n",
    "\n",
    "***Second Pass***:\n",
    "- Compare ***10*** with ***1*** and ***23*** (current element with the sorted part).\n",
    "- Since ***10*** is greater than ***1*** and smaller than ***23*** , insert ***10*** between ***1*** and ***23*** .\n",
    "- The sorted part until ***2nd*** index is: ***[1, 10, 23]***\n",
    "\n",
    "***Third Pass:***\n",
    "- Compare ***5*** with ***1*** , ***10***, and ***23*** (current element with the sorted part).\n",
    "- Since ***5*** is greater than ***1*** and smaller than ***10*** , insert ***5*** between ***1*** and ***10***\n",
    "- The sorted part until ***3rd*** index is : ***[1, 5, 10, 23]***\n",
    "\n",
    "***Fourth Pass:***\n",
    "- Compare ***2*** with ***1***, ***5***, ***10*** , and ***23*** (current element with the sorted part).\n",
    "- Since ***2*** is greater than ***1*** and smaller than ***5*** insert ***2*** between ***1*** and ***5*** .\n",
    "- The sorted part until ***4th*** index is: ***[1, 2, 5, 10, 23]***\n",
    "\n",
    "***Final Array:***\n",
    "- The sorted array is: ***[1, 2, 5, 10, 23]***"
   ]
  },
  {
   "cell_type": "markdown",
   "metadata": {},
   "source": [
    "## **College Board Example code below...**"
   ]
  },
  {
   "cell_type": "code",
   "execution_count": 3,
   "metadata": {
    "vscode": {
     "languageId": "java"
    }
   },
   "outputs": [
    {
     "name": "stdout",
     "output_type": "stream",
     "text": [
      "Original list: [23, 1, 10, 5, 2]\n",
      "Sorted list: [1, 2, 5, 10, 23]\n"
     ]
    }
   ],
   "source": [
    "import java.util.ArrayList;\n",
    "\n",
    "public class InsertionSortExample {\n",
    "\n",
    "    // Method to perform Insertion Sort on the list\n",
    "    public static void insertionSort(ArrayList<Integer> randomList) {\n",
    "        // Loop through each element in the list starting from the second element\n",
    "        // (The first element is already considered sorted)\n",
    "        for (int outer = 1; outer < randomList.size(); outer++) {\n",
    "            \n",
    "            // 'tested' is the current element we're trying to place in the correct position\n",
    "            int tested = randomList.get(outer);\n",
    "            \n",
    "            // 'inner' represents the index of the last element in the sorted portion of the list\n",
    "            int inner = outer - 1;\n",
    "\n",
    "            // Move elements in the sorted part of the list to the right\n",
    "            // until we find the correct position for 'tested'\n",
    "            while (inner >= 0 && randomList.get(inner) > tested) {\n",
    "                // Shift the element one position to the right to make space\n",
    "                randomList.set(inner + 1, randomList.get(inner));\n",
    "                inner--; // Move the 'inner' pointer to the left\n",
    "            }\n",
    "\n",
    "            // Place the 'tested' element in its correct position\n",
    "            randomList.set(inner + 1, tested);\n",
    "        }\n",
    "    }\n",
    "\n",
    "    public static void main(String[] args) {\n",
    "        // Create an ArrayList to store the integers we want to sort\n",
    "        ArrayList<Integer> randomList = new ArrayList<>();\n",
    "\n",
    "        // Adding elements {23, 1, 10, 5, 2} to the list\n",
    "        randomList.add(23);\n",
    "        randomList.add(1);\n",
    "        randomList.add(10);\n",
    "        randomList.add(5);\n",
    "        randomList.add(2);\n",
    "\n",
    "        // Print the original list before sorting\n",
    "        System.out.println(\"Original list: \" + randomList);\n",
    "\n",
    "        // Call the insertionSort method to sort the list\n",
    "        insertionSort(randomList);\n",
    "\n",
    "        // Print the sorted list after the insertion sort is completed\n",
    "        System.out.println(\"Sorted list: \" + randomList);\n",
    "    }\n",
    "}\n",
    "\n",
    "InsertionSortExample.main(null);"
   ]
  },
  {
   "cell_type": "markdown",
   "metadata": {},
   "source": [
    "### Another Example..."
   ]
  },
  {
   "cell_type": "markdown",
   "metadata": {},
   "source": [
    "# 6th PopCorn - Hack\n",
    "\n",
    "### **Problem: Sort the Ducks!**\n",
    "\n",
    "You have a list of ducks, and each duck has a **name** and **weight**. Your task is to sort these ducks by weight in **ascending order**.\n",
    "\n",
    "Choose **either Selection Sort or Insertion Sort** to do the sorting.\n",
    "\n",
    "### Example:\n",
    "Given this list:\n",
    "- Duck A (4.5 kg)\n",
    "- Duck B (2.1 kg)\n",
    "- Duck C (5.0 kg)\n",
    "- Duck D (1.9 kg)\n",
    "\n",
    "After sorting, the output should be:\n",
    "- Duck D (1.9 kg)\n",
    "- Duck B (2.1 kg)\n",
    "- Duck A (4.5 kg)\n",
    "- Duck C (5.0 kg)\n",
    "\n",
    "You can use this class for the ducks:\n",
    "\n",
    "```java\n",
    "class DebugDuck implements Comparable<DebugDuck> {\n",
    "    String name;\n",
    "    double weight;\n",
    "\n",
    "    public DebugDuck(String name, double weight) {\n",
    "        this.name = name;\n",
    "        this.weight = weight;\n",
    "    }\n",
    "\n",
    "    @Override\n",
    "    public int compareTo(DebugDuck other) {\n",
    "        return Double.compare(this.weight, other.weight);\n",
    "    }\n",
    "\n",
    "    @Override\n",
    "    public String toString() {\n",
    "        return name + \" (\" + weight + \" kg)\";\n",
    "    }\n",
    "}\n",
    "```\n",
    "\n",
    "### Task:\n",
    "- Implement **either** sorting algorithm to sort the ducks by weight.\n",
    "- Print the sorted list.\n"
   ]
  },
  {
   "cell_type": "code",
   "execution_count": 1,
   "metadata": {
    "vscode": {
     "languageId": "java"
    }
   },
   "outputs": [
    {
     "ename": "CompilationException",
     "evalue": "",
     "output_type": "error",
     "traceback": [
      "\u001b[1m\u001b[30m|   \u001b[1m\u001b[30m        ducks.add(\u001b[0m\u001b[1m\u001b[30m\u001b[41m\"Duck A\"\u001b[0m\u001b[1m\u001b[30m, 4.5);\u001b[0m",
      "\u001b[1m\u001b[31mincompatible types: java.lang.String cannot be converted to int\u001b[0m",
      ""
     ]
    }
   ],
   "source": [
    "class DebugDuck implements Comparable<DebugDuck> {\n",
    "    String name;\n",
    "    double weight;\n",
    "\n",
    "    public DebugDuck(String name, double weight) {\n",
    "        this.name = name;\n",
    "        this.weight = weight;\n",
    "    }\n",
    "\n",
    "    @Override\n",
    "    public int compareTo(DebugDuck other) {\n",
    "        return Double.compare(this.weight, other.weight);\n",
    "\n",
    "    }\n",
    "\n",
    "    @Override\n",
    "    public String toString() {\n",
    "        return name + \" (\" + weight + \" kg)\";\n",
    "    }\n",
    "}\n",
    "\n",
    "public class Main {\n",
    "    public static void selectionSort(ArrayList<DebugDuck> duck) {\n",
    "        for (int i = 0; i < duck.size() - 1; i++) {\n",
    "            int minIndex = i;\n",
    "            for (int j = i + 1; j < duck.size(); j++) {\n",
    "                if (duck.get(j).compareTo(duck.get(minIndex)) < 0) {\n",
    "                    minIndex = j;\n",
    "                }\n",
    "            }\n",
    "            DebugDuck temp = duck.get(minIndex);\n",
    "            duck.set(minIndex, duck.get(i));\n",
    "            duck.set(i, temp);\n",
    "        }\n",
    "    }\n",
    "    public static void main(String[] args) {\n",
    "        ArrayList<DebugDuck> ducks = new ArrayList<>();\n",
    "        ducks.add(new DebugDuck(\"Duck A\", 4.5));\n",
    "        ducks.add(new DebugDuck(\"Duck B\", 2.1));\n",
    "        ducks.add(new DebugDuck(\"Duck C\", 5.0));\n",
    "        ducks.add(new DebugDuck(\"Duck D\", 1.9));\n",
    "\n",
    "        selectionSort(ducks);\n",
    "\n",
    "        for (DebugDuck duck: ducks) {\n",
    "            System.out.println(duck);\n",
    "        }\n",
    "    }\n",
    "}\n",
    "Main.main(null);"
   ]
  }
 ],
 "metadata": {
  "kernelspec": {
   "display_name": "java (IJava/j!)",
   "language": "java",
   "name": "jbang-ijava"
  },
  "language_info": {
   "codemirror_mode": "java",
   "file_extension": ".jshell",
   "mimetype": "text/x-java-source",
   "name": "Java",
   "pygments_lexer": "java",
   "version": "22.0.2+9-70"
  }
 },
 "nbformat": 4,
 "nbformat_minor": 2
}
