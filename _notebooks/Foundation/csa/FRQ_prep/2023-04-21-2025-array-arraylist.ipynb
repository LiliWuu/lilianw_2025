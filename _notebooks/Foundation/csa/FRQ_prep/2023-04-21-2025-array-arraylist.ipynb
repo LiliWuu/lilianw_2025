{
 "cells": [
  {
   "cell_type": "markdown",
   "metadata": {},
   "source": [
    "---\n",
    "toc: false \n",
    "layout: post\n",
    "title: 2020 FRQ1\n",
    "description: 2D Array\n",
    "courses: { csa: {week: 25} }\n",
    "type: ccc\n",
    "menu: csa/FRQ_prep/2020-FRQ1.html\n",
    "permalink: csa/FRQ_prep/2020-FRQ1\n",
    "---"
   ]
  },
  {
   "cell_type": "markdown",
   "metadata": {},
   "source": [
    "# Evaluation\n",
    "Relatively ok."
   ]
  },
  {
   "cell_type": "markdown",
   "metadata": {},
   "source": [
    "# Question & Solution\n",
    "[Question](https://apcentral.collegeboard.org/media/pdf/ap23-frq-comp-sci-a.pdf)\n",
    "[Solution](https://www.apcomputersciencetutoring.com/weatherdata-free-response-answer/) "
   ]
  },
  {
   "cell_type": "code",
   "execution_count": null,
   "metadata": {
    "vscode": {
     "languageId": "java"
    }
   },
   "outputs": [],
   "source": [
    "/*\n",
    " * Testing\n",
    " */\n",
    "public class Main {\n",
    "    public static void main(String[] args) {\n",
    "       \n",
    "    }\n",
    "}\n",
    "\n",
    "public class WeatherData {\n",
    "    private ArrayList<Double> temperatures;\n",
    "\n",
    "    /*\n",
    "     * Part A\n",
    "     * Score:\n",
    "     * Notes: Use compareTo() when comparing Double objects (can avoid null)\n",
    "     */\n",
    "    public void cleanData(double lower, double upper) {\n",
    "        int i = 0;\n",
    "        while (i < temperatures.size()) {\n",
    "            // can also do temperatures.compareTo() < and > 0\n",
    "            if (temperatures.get(i) < lower || temperatures.get(i) > upper) {\n",
    "                temperatures.remove(i);\n",
    "            } else {\n",
    "                i++;\n",
    "            }\n",
    "        }\n",
    "    }\n",
    "\n",
    "    /*\n",
    "     * Part B\n",
    "     * Score:\n",
    "     * Notes:\n",
    "     */\n",
    "    public int longestHeatWave(double threshold) {\n",
    "        int longestLength = 0;\n",
    "        int count = 0;\n",
    "        for (int i = 0; i < temperatures.size(); i++) {\n",
    "            if (temperatures.get(i) > threshold) {\n",
    "                count++;\n",
    "                if (count > longestLength) {\n",
    "                    longestLength = count;\n",
    "                }\n",
    "            } else {\n",
    "                count = 0;\n",
    "            }\n",
    "        }\n",
    "        return longestLength;\n",
    "    }\n",
    "}\n",
    "\n",
    "Main.main(null);"
   ]
  }
 ],
 "metadata": {
  "kernelspec": {
   "display_name": "java (IJava/j!)",
   "language": "java",
   "name": "jbang-ijava"
  },
  "language_info": {
   "codemirror_mode": "java",
   "file_extension": ".jshell",
   "mimetype": "text/x-java-source",
   "name": "Java",
   "pygments_lexer": "java",
   "version": "22.0.2+9-70"
  }
 },
 "nbformat": 4,
 "nbformat_minor": 2
}
