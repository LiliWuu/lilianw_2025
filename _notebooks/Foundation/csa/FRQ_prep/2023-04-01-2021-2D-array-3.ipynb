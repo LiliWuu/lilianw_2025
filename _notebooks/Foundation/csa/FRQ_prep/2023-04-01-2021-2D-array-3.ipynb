{
 "cells": [
  {
   "cell_type": "markdown",
   "metadata": {},
   "source": [
    "---\n",
    "toc: false \n",
    "layout: post\n",
    "title: 2024 FRQ4\n",
    "description: 2D Array\n",
    "courses: { csa: {week: 25} }\n",
    "type: ccc\n",
    "menu: csa/FRQ_prep/2024-FRQ4.html\n",
    "permalink: csa/FRQ_prep/2024-FRQ4\n",
    "---"
   ]
  },
  {
   "cell_type": "markdown",
   "metadata": {},
   "source": [
    "# Evaluation\n",
    "Slightly tricky, but overall ok."
   ]
  },
  {
   "cell_type": "markdown",
   "metadata": {},
   "source": [
    "# Question & Solution\n",
    "[Question](https://apcentral.collegeboard.org/media/pdf/ap24-frq-comp-sci-a.pdf)\n",
    "[Solution](https://www.apcomputersciencetutoring.com/gridpath-free-response-answer/) "
   ]
  },
  {
   "cell_type": "code",
   "execution_count": null,
   "metadata": {},
   "outputs": [],
   "source": [
    "/*\n",
    " * Testing\n",
    " */\n",
    "public class Main {\n",
    "    public static void main(String[] args) {\n",
    "       \n",
    "    }\n",
    "}\n",
    "\n",
    "public class Location {\n",
    "    private int theRow;\n",
    "    private int theCol;\n",
    "\n",
    "    public Location(int r, int c) {\n",
    "        theRow = r;\n",
    "        theCol = c;\n",
    "    }\n",
    "\n",
    "    public int getRow() {\n",
    "        return theRow;\n",
    "    }\n",
    "\n",
    "    public int getCol() {\n",
    "        return theCol;\n",
    "    }\n",
    "}\n",
    "\n",
    "public class GridPath {\n",
    "    private int[][] grid;\n",
    "\n",
    "    /*\n",
    "     * Part A\n",
    "     * Score:\n",
    "     * Notes:\n",
    "     */\n",
    "    public Location getNextLoc(int row, int col) {\n",
    "      if (row == grid.length - 1) {\n",
    "        return new Location(row, col + 1);\n",
    "      }\n",
    "\n",
    "      if (col == grid.length[0] - 1) {\n",
    "        return new Location(row + 1, col);\n",
    "      }\n",
    "\n",
    "      if (grid[row + 1][col] > grid[row][col + 1]) {\n",
    "        return new Location(row, col + 1);\n",
    "      } else {\n",
    "        return new Location(row + 1, col);\n",
    "      }\n",
    "    }\n",
    "\n",
    "    /*\n",
    "     * Part B\n",
    "     * Score:\n",
    "     * Notes: be careful with indexes for 2D arrays\n",
    "     */\n",
    "    public int sumPath(int row, int col) {\n",
    "        int sum = 0;\n",
    "        int lastRow = grid.length; // needs to be grid.length - 1\n",
    "        int lastCol = grid[0].length; // needs to be grid[0].length - 1;\n",
    "\n",
    "        // doesn't need to be &&, use || instead\n",
    "        while (row != lastRow && col != lastCol) {\n",
    "            sum += grid[row][col];\n",
    "            Location nextLoc = getNextLoc(row, col);\n",
    "            row = nextLoc.getRow();\n",
    "            col = nextLoc.getCol();\n",
    "        }\n",
    "        // need to add to sum again here because when loop fails, \n",
    "        // last square is not added\n",
    "\n",
    "        // correction:\n",
    "        sum += grid[row][col];\n",
    "        return sum;\n",
    "    }\n",
    "}\n",
    "Main.main(null);"
   ]
  }
 ],
 "metadata": {
  "kernelspec": {
   "display_name": "java (IJava/j!)",
   "language": "java",
   "name": "jbang-ijava"
  },
  "language_info": {
   "codemirror_mode": "java",
   "file_extension": ".jshell",
   "mimetype": "text/x-java-source",
   "name": "java",
   "pygments_lexer": "java",
   "version": "22.0.2+9-70"
  }
 },
 "nbformat": 4,
 "nbformat_minor": 2
}
