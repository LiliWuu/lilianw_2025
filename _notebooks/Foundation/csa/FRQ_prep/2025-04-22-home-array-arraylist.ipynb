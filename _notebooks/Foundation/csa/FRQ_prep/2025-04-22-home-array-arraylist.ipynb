{
 "cells": [
  {
   "cell_type": "markdown",
   "id": "30350d93",
   "metadata": {},
   "source": [
    "---\n",
    "toc: false \n",
    "layout: post\n",
    "title: My FRQ Work on Array and ArrayList\n",
    "description: Includes the Array and ArrayList FRQs I've done from previous years.\n",
    "courses: { csa: {week: 25} }\n",
    "type: ccc\n",
    "menu: csa/home/array-arraylist.html\n",
    "permalink: csa/home/array-arraylist\n",
    "---"
   ]
  },
  {
   "cell_type": "markdown",
   "id": "5642b89b",
   "metadata": {},
   "source": [
    "# Problems"
   ]
  }
 ],
 "metadata": {
  "language_info": {
   "name": "python"
  }
 },
 "nbformat": 4,
 "nbformat_minor": 5
}
