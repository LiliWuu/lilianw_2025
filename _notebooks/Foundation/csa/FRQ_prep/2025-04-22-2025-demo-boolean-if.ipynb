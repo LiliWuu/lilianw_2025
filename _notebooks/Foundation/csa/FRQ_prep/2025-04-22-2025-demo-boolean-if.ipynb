{
 "cells": [
  {
   "cell_type": "markdown",
   "id": "b961f865",
   "metadata": {},
   "source": [
    "---\n",
    "toc: false \n",
    "layout: post\n",
    "title: Boolean & If Statement Demonstration\n",
    "courses: { csa: {week: 25} }\n",
    "type: ccc\n",
    "menu: csa/boolean-if.html\n",
    "permalink: csa/boolean-if\n",
    "---"
   ]
  },
  {
   "cell_type": "code",
   "execution_count": 2,
   "id": "434d5259",
   "metadata": {
    "vscode": {
     "languageId": "java"
    }
   },
   "outputs": [
    {
     "name": "stdout",
     "output_type": "stream",
     "text": [
      "Leo knocks something off the counter\n",
      "Leo knocks something off the counter\n",
      "Leo knocks something off the counter\n"
     ]
    }
   ],
   "source": [
    "public class CatReview {\n",
    "    public static void main(String[] args) {\n",
    "        for (int i = 0; i < 3; i++) {\n",
    "            System.out.println(\"Leo knocks something off the counter\");\n",
    "        }\n",
    "    }\n",
    "}\n",
    "\n",
    "\n",
    "CatReview.main(null);"
   ]
  },
  {
   "cell_type": "markdown",
   "id": "166882b7",
   "metadata": {
    "vscode": {
     "languageId": "java"
    }
   },
   "source": [
    "# Things to Watch Out For\n",
    "- Understanding De Morgan's Law: **!(p&&q) is equal to !p`||`!q**\n",
    "- Ensuring the right conditional is used\n",
    "e.g. use if-else if no return statement\n",
    "- Use .equals() to compare Strings instead of =="
   ]
  }
 ],
 "metadata": {
  "kernelspec": {
   "display_name": "java (IJava/j!)",
   "language": "java",
   "name": "jbang-ijava"
  },
  "language_info": {
   "codemirror_mode": "java",
   "file_extension": ".jshell",
   "mimetype": "text/x-java-source",
   "name": "Java",
   "pygments_lexer": "java",
   "version": "22.0.2+9-70"
  }
 },
 "nbformat": 4,
 "nbformat_minor": 5
}
