{
 "cells": [
  {
   "cell_type": "markdown",
   "id": "b961f865",
   "metadata": {},
   "source": [
    "---\n",
    "toc: false \n",
    "layout: post\n",
    "title: Primitive Types Demonstration\n",
    "courses: { csa: {week: 25} }\n",
    "type: ccc\n",
    "menu: csa/primitive-types.html\n",
    "permalink: csa/primitive-types\n",
    "---"
   ]
  },
  {
   "cell_type": "code",
   "execution_count": null,
   "id": "434d5259",
   "metadata": {
    "vscode": {
     "languageId": "java"
    }
   },
   "outputs": [],
   "source": [
    "public class CatReview {\n",
    "    public static void main(String[] args) {\n",
    "        String time = \"morning\";\n",
    "        Cat alice = new Cat(\"Alice\", 3);\n",
    "        if (alice.isHungry() && time.equals(\"morning\")) {\n",
    "            alice.feed();\n",
    "        }\n",
    "    }\n",
    "}\n",
    "\n",
    "\n",
    "CatReview.main(null);"
   ]
  },
  {
   "cell_type": "markdown",
   "id": "166882b7",
   "metadata": {
    "vscode": {
     "languageId": "java"
    }
   },
   "source": [
    "# Things to Watch Out For\n",
    "- Ensuring the right conditional is used\n",
    "e.g. use if-else if no return statement\n"
   ]
  }
 ],
 "metadata": {
  "language_info": {
   "name": "python"
  }
 },
 "nbformat": 4,
 "nbformat_minor": 5
}
