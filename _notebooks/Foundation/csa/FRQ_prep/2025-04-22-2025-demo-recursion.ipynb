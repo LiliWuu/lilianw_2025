{
 "cells": [
  {
   "cell_type": "markdown",
   "id": "b961f865",
   "metadata": {},
   "source": [
    "---\n",
    "toc: false \n",
    "layout: post\n",
    "title: Recursion Demonstration\n",
    "courses: { csa: {week: 25} }\n",
    "type: ccc\n",
    "menu: csa/recursion.html\n",
    "permalink: csa/recursion\n",
    "---"
   ]
  },
  {
   "cell_type": "code",
   "execution_count": 7,
   "id": "434d5259",
   "metadata": {
    "vscode": {
     "languageId": "java"
    }
   },
   "outputs": [
    {
     "name": "stdout",
     "output_type": "stream",
     "text": [
      "Meow\n",
      "Meow\n",
      "Meow\n"
     ]
    }
   ],
   "source": [
    "public class CatReview {\n",
    "    public static void main(String[] args) {\n",
    "        meowNTimes(3);\n",
    "    }\n",
    "\n",
    "    public static void meowNTimes(int n) {\n",
    "        if (n == 0) return;\n",
    "        System.out.println(\"Meow\");\n",
    "        meowNTimes(n - 1);\n",
    "    }\n",
    "}\n",
    "CatReview.main(null);"
   ]
  },
  {
   "cell_type": "markdown",
   "id": "9954db3d",
   "metadata": {},
   "source": [
    "# Things to Watch Out For\n",
    "- Checking the base case first\n",
    "- Order of execution (recursive call needs to finish before the rest of the code is called)\n",
    "- Understanding the logic "
   ]
  }
 ],
 "metadata": {
  "kernelspec": {
   "display_name": "java (IJava/j!)",
   "language": "java",
   "name": "jbang-ijava"
  },
  "language_info": {
   "codemirror_mode": "java",
   "file_extension": ".jshell",
   "mimetype": "text/x-java-source",
   "name": "Java",
   "pygments_lexer": "java",
   "version": "22.0.2+9-70"
  }
 },
 "nbformat": 4,
 "nbformat_minor": 5
}
