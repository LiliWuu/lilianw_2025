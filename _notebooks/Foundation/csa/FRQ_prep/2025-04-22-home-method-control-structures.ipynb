{
 "cells": [
  {
   "cell_type": "markdown",
   "id": "b961f865",
   "metadata": {},
   "source": [
    "---\n",
    "toc: false \n",
    "layout: post\n",
    "title: My FRQ Work on Method and Control Structures\n",
    "description: Includes the Method and Control Structure FRQs I've done from previous years.\n",
    "courses: { csa: {week: 25} }\n",
    "type: ccc\n",
    "menu: csa/home/method-control-structures.html\n",
    "permalink: csa/home/method-control-structures\n",
    "---"
   ]
  },
  {
   "cell_type": "markdown",
   "id": "c5485b23",
   "metadata": {},
   "source": [
    "# Problems\n",
    "-**[2006 FRQ3 Customer](csa/FRQ_prep/2006-FRQ3)**\n",
    "\n",
    "-[2021 FRQ1 Word Match - Live Review](csa/FRQ_prep/2021-FRQ1)\n",
    "\n",
    "-[2019 FRQ1 APCalendar](csa/FRQ_prep/2019-FRQ1)\n",
    "\n",
    "-[2010 FRQ3 Trail - Live Review](csa/FRQ_prep/2010-FRQ3)\n",
    "\n",
    "-[2023 Q1 Appointment Book](csa/FRQ_prep/2023-Q1)\n",
    "\n",
    "### String Manipulation\n",
    "-[2016 FRQ4 Word List](csa/FRQ_prep/2016-FRQ4)\n",
    "\n",
    "-**[2022 FRQ4](csa/FRQ_prep/2022-FRQ4)**"
   ]
  },
  {
   "cell_type": "markdown",
   "id": "434d5259",
   "metadata": {},
   "source": [
    "# Team Teach HW\n"
   ]
  }
 ],
 "metadata": {
  "language_info": {
   "name": "python"
  }
 },
 "nbformat": 4,
 "nbformat_minor": 5
}
