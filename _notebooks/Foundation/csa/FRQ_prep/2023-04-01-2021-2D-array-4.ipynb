{
 "cells": [
  {
   "cell_type": "markdown",
   "metadata": {},
   "source": [
    "---\n",
    "toc: false \n",
    "layout: post\n",
    "title: 2016 FRQ3\n",
    "description: 2D Array\n",
    "courses: { csa: {week: 25} }\n",
    "type: ccc\n",
    "menu: csa/FRQ_prep/2016-FRQ3.html\n",
    "permalink: csa/FRQ_prep/2016-FRQ3\n",
    "---"
   ]
  },
  {
   "cell_type": "markdown",
   "metadata": {},
   "source": [
    "# Evaluation\n",
    "Hard. Review please."
   ]
  },
  {
   "cell_type": "markdown",
   "metadata": {},
   "source": [
    "# Question & Solution\n",
    "[Question](https://secure-media.collegeboard.org/digitalServices/pdf/ap/ap16_frq_computer_science_a.pdf)\n",
    "[Solution](https://www.apcomputersciencetutoring.com/crossword-free-response-answer/) "
   ]
  },
  {
   "cell_type": "code",
   "execution_count": null,
   "metadata": {},
   "outputs": [],
   "source": [
    "public class Square {\n",
    "  // helper\n",
    "  public Square(boolean isBlack, int num) {\n",
    "\n",
    "  }\n",
    "}\n",
    "\n",
    "\n",
    "public class Crossword {\n",
    "  private Square[][] puzzle;\n",
    "\n",
    "  /*\n",
    "   * Part B\n",
    "   * Notes: wrong understanding of true/false logic and labeling\n",
    "   */\n",
    "  public Crossword(boolean[][] blackSquares) {\n",
    "    puzzle = new Square[blackSquares.length][blackSquares[0].length];\n",
    "    for (int i = 0; i < puzzle.length; i++) {\n",
    "      for (int j = 0; j < puzzle[0].length; j++) {\n",
    "\n",
    "        // this part is completely wrong. Check solutions.\n",
    "\n",
    "        // shouldn't just assign '1'...\n",
    "        // question says to assign a \"positive number\"...\n",
    "        // so, create int num = 1 and num++ to generate unique numbers for labeled square\n",
    "        if (toBeLabeled(i, j, blackSquares)) {\n",
    "          puzzle[i][j] = new Square(true, 1);\n",
    "        } else {\n",
    "          puzzle[i][j] = new Square(false, 0);\n",
    "        }\n",
    "        \n",
    "      }\n",
    "    }\n",
    "  }\n",
    "\n",
    "  /*\n",
    "   * Part A\n",
    "   */\n",
    "  private boolean toBeLabeled(int r, int c, boolean[][] blackSquares) {\n",
    "    // !! should be !blackSquare to make this work !! \n",
    "    // (did not understand that a \"true\" means black square)\n",
    "    if (blackSquare[r][c]) {\n",
    "      if (c == 0) {\n",
    "        return true;\n",
    "      }\n",
    "      if (r == 0) {\n",
    "        return true;\n",
    "      }\n",
    "      // does not need this immediate if statement\n",
    "      // skips checking valid cases \n",
    "      if (r >= 1 && c >= 1) {\n",
    "        if (!blackSquares[r - 1][c] || !blackSquares[r][c - 1]) {\n",
    "          return true;\n",
    "        }\n",
    "      }\n",
    "    }\n",
    "    return false;\n",
    "  }\n",
    "}"
   ]
  }
 ],
 "metadata": {
  "kernelspec": {
   "display_name": "java (IJava/j!)",
   "language": "java",
   "name": "jbang-ijava"
  },
  "language_info": {
   "codemirror_mode": "java",
   "file_extension": ".jshell",
   "mimetype": "text/x-java-source",
   "name": "java",
   "pygments_lexer": "java",
   "version": "22.0.2+9-70"
  }
 },
 "nbformat": 4,
 "nbformat_minor": 2
}
