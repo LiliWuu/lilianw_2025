{
 "cells": [
  {
   "cell_type": "markdown",
   "id": "b961f865",
   "metadata": {},
   "source": [
    "---\n",
    "toc: false \n",
    "layout: post\n",
    "title: Primitive Types Demonstration\n",
    "courses: { csa: {week: 25} }\n",
    "type: ccc\n",
    "menu: csa/primitive-types.html\n",
    "permalink: csa/primitive-types\n",
    "---"
   ]
  },
  {
   "cell_type": "code",
   "execution_count": 4,
   "id": "434d5259",
   "metadata": {
    "vscode": {
     "languageId": "java"
    }
   },
   "outputs": [
    {
     "name": "stdout",
     "output_type": "stream",
     "text": [
      "Alice says meow!\n"
     ]
    }
   ],
   "source": [
    "public class Cat {\n",
    "    private String name;\n",
    "    private int age;\n",
    "\n",
    "    public Cat(String name, int age) {\n",
    "        this.name = name;\n",
    "        this.age = age;\n",
    "    }\n",
    "\n",
    "    public void meow() {\n",
    "        System.out.println(name + \" says meow!\");\n",
    "    }\n",
    "\n",
    "    public void purr() {\n",
    "        System.out.println(name + \" is purring.\");\n",
    "    }\n",
    "\n",
    "    public boolean isHungry() {\n",
    "        return true; \n",
    "    }\n",
    "\n",
    "    public String getName() {\n",
    "        return name;\n",
    "    }\n",
    "}\n",
    "\n",
    "Cat c1 = new Cat(\"Alice\", 3);\n",
    "c1.getName();\n",
    "c1.meow();"
   ]
  },
  {
   "cell_type": "markdown",
   "id": "de6aba5e",
   "metadata": {},
   "source": [
    "# Things to Watch Out For"
   ]
  }
 ],
 "metadata": {
  "kernelspec": {
   "display_name": "java (IJava/j!)",
   "language": "java",
   "name": "jbang-ijava"
  },
  "language_info": {
   "codemirror_mode": "java",
   "file_extension": ".jshell",
   "mimetype": "text/x-java-source",
   "name": "Java",
   "pygments_lexer": "java",
   "version": "22.0.2+9-70"
  }
 },
 "nbformat": 4,
 "nbformat_minor": 5
}
