{
 "cells": [
  {
   "cell_type": "markdown",
   "id": "b961f865",
   "metadata": {},
   "source": [
    "---\n",
    "toc: false \n",
    "layout: post\n",
    "title: My FRQ Work on Method and Control Structures\n",
    "description: Includes the Method and Control Structure FRQs I've done from previous years.\n",
    "courses: { csa: {week: 25} }\n",
    "type: ccc\n",
    "menu: csa/home/method-control-structures.html\n",
    "permalink: csa/home/method-control-structures\n",
    "---"
   ]
  },
  {
   "cell_type": "markdown",
   "id": "c5485b23",
   "metadata": {},
   "source": [
    "# Problems"
   ]
  }
 ],
 "metadata": {
  "language_info": {
   "name": "python"
  }
 },
 "nbformat": 4,
 "nbformat_minor": 5
}
