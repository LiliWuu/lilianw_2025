{
 "cells": [
  {
   "cell_type": "markdown",
   "metadata": {},
   "source": [
    "---\n",
    "toc: false \n",
    "layout: post\n",
    "title: 2016 Q1 RandomLetterChooser\n",
    "description: Method and control structures practice FRQ problem\n",
    "courses: { csa: {week: 25} }\n",
    "type: ccc\n",
    "menu: csa/FRQ_prep/2016-Q1.html\n",
    "permalink: csa/FRQ_prep/2016-Q1\n",
    "---"
   ]
  },
  {
   "cell_type": "markdown",
   "metadata": {},
   "source": [
    "# Evaluation\n",
    "Pretty hard. Good to review."
   ]
  },
  {
   "cell_type": "markdown",
   "metadata": {},
   "source": [
    "# Question\n",
    "\n",
    "[Link](https://secure-media.collegeboard.org/ap/pdf/ap-computer-science-a-frq-2017.pdf)"
   ]
  },
  {
   "cell_type": "code",
   "execution_count": null,
   "metadata": {
    "vscode": {
     "languageId": "java"
    }
   },
   "outputs": [],
   "source": [
    "public class RandomStringChooser {\n",
    "    // no need to have a String array; instead use ArrayList\n",
    "    private String[] arr;\n",
    "    public RandomStringChooser(String[] array) {\n",
    "        // initialize ArrayList here\n",
    "        arr = array;\n",
    "    }\n",
    "\n",
    "    public String getNext() {\n",
    "        // move this into the constructor\n",
    "        ArrayList<String> arrList = new ArrayList<String>();\n",
    "        for (String str: arr) {\n",
    "            arrList.add(str);\n",
    "        }\n",
    "\n",
    "        \n",
    "        int index = (int)(Math.random() * arrList.size());\n",
    "        if (arrList.size() > 0) {\n",
    "            // can be reduced\n",
    "            String value = arrList.get(index);\n",
    "            arrList.remove(index);\n",
    "\n",
    "            // CORRECTION: \n",
    "            return arrList.remove((int)(Math.random() * arrList.size()));\n",
    "            return value; \n",
    "        } else {\n",
    "            return \"NONE\";\n",
    "        }\n",
    "    }\n",
    "}\n",
    "\n",
    "public class RandomLetterChooser extends RandomStringChooser {\n",
    "    private String[] arrOfLetters;\n",
    "\n",
    "    public RandomLetterChooser(String str) {\n",
    "        super(arrOfLetters);\n",
    "        // entire code is wrong. Did not understand getSingleLetters()\n",
    "        arrOfLetters = new String[str.length];\n",
    "        for (int i = 0; i < arrOfLetters.length; i++) {\n",
    "            arrOfLetters[i] = getSingleLetters(str);\n",
    "        }\n",
    "\n",
    "        // CORRECTION: (just this)\n",
    "        super(getSingleLetters(str));\n",
    "    }\n",
    "\n",
    "    // helper method\n",
    "    public static String[] getSingleLetters(String str) {\n",
    "        \n",
    "    }\n",
    "}"
   ]
  }
 ],
 "metadata": {
  "language_info": {
   "name": "python"
  }
 },
 "nbformat": 4,
 "nbformat_minor": 2
}
