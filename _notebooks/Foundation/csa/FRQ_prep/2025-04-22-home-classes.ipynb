{
 "cells": [
  {
   "cell_type": "markdown",
   "id": "1749c5a8",
   "metadata": {},
   "source": [
    "---\n",
    "toc: false \n",
    "layout: post\n",
    "title: My FRQ Work on Classes\n",
    "description: Includes the Classes FRQs I've done from previous years.\n",
    "courses: { csa: {week: 25} }\n",
    "type: ccc\n",
    "menu: csa/home/classes.html\n",
    "permalink: csa/home/classes\n",
    "---"
   ]
  },
  {
   "cell_type": "markdown",
   "id": "8adb0ebf",
   "metadata": {},
   "source": [
    "# Problems"
   ]
  }
 ],
 "metadata": {
  "language_info": {
   "name": "python"
  }
 },
 "nbformat": 4,
 "nbformat_minor": 5
}
