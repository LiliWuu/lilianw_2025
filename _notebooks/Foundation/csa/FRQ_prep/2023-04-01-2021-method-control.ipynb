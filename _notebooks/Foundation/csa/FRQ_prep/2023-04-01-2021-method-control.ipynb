{
 "cells": [
  {
   "cell_type": "markdown",
   "metadata": {},
   "source": [
    "---\n",
    "toc: false \n",
    "layout: post\n",
    "title: 2019 FRQ1 APCalendar\n",
    "description: Method & Control\n",
    "courses: { csa: {week: 25} }\n",
    "type: ccc\n",
    "menu: csa/FRQ_prep/2019-FRQ1.html\n",
    "permalink: csa/FRQ_prep/2019-FRQ1\n",
    "---"
   ]
  },
  {
   "cell_type": "markdown",
   "metadata": {},
   "source": [
    "# Question & Solution\n",
    "[Question](https://apstudents.collegeboard.org/sites/default/files/2019-05/ap19-frq-computer-science-a.pdf)\n",
    "[Solution](https://www.apcomputersciencetutoring.com/apcalendar-free-response-answer/)"
   ]
  },
  {
   "cell_type": "code",
   "execution_count": null,
   "metadata": {
    "vscode": {
     "languageId": "java"
    }
   },
   "outputs": [
    {
     "name": "stdout",
     "output_type": "stream",
     "text": [
      "36\n"
     ]
    }
   ],
   "source": [
    "/*\n",
    " * Testing\n",
    " */\n",
    "public class Main {\n",
    "    public static void main(String[] args) {\n",
    "       \n",
    "    }\n",
    "}\n",
    "\n",
    "public class APCalendar {\n",
    "    // helper method\n",
    "    public static boolean isLeapYear(int year) {\n",
    "    }\n",
    "\n",
    "    /*\n",
    "     * Part A\n",
    "     * Score: 5/5\n",
    "     * Notes:\n",
    "     */\n",
    "    public static int numberOfLeapYears(int year1, int year2) {\n",
    "        int numOfLeapYears = 0;\n",
    "        for (int i = year1; i <= year2; i++) {\n",
    "            if (isLeapYear(i)) {\n",
    "                numOfLeapYears++;\n",
    "            }\n",
    "        }\n",
    "        return numberOfLeapYears;\n",
    "    }\n",
    "\n",
    "    // helper method\n",
    "    public static int firstDayOfYear(int year) {  \n",
    "    }\n",
    "\n",
    "    // helper method\n",
    "    public static int dayOfYear(int month, int day, int year) {  \n",
    "    }\n",
    "\n",
    "    /*\n",
    "     * Part B\n",
    "     * Score: 4/4\n",
    "     * Notes: Kinda tricky.\n",
    "     */\n",
    "    public static int dayofWeek(int month, int day, int year) {\n",
    "        // tues: 2\n",
    "        // 7-1 = 6, 8 % 7 = 1\n",
    "\n",
    "        return ((firstDayOfYear(year) + dayOfYear(month, day, year) - 1) % 7);\n",
    "    }\n",
    "}\n",
    "\n",
    "\n",
    "Main.main(null);"
   ]
  }
 ],
 "metadata": {
  "kernelspec": {
   "display_name": "java (IJava/j!)",
   "language": "java",
   "name": "jbang-ijava"
  },
  "language_info": {
   "codemirror_mode": "java",
   "file_extension": ".jshell",
   "mimetype": "text/x-java-source",
   "name": "Java",
   "pygments_lexer": "java",
   "version": "22.0.2+9-70"
  }
 },
 "nbformat": 4,
 "nbformat_minor": 2
}
