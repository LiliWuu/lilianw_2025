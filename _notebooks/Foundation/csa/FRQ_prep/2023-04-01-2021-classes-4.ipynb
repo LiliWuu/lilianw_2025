{
 "cells": [
  {
   "cell_type": "markdown",
   "metadata": {},
   "source": [
    "---\n",
    "toc: false \n",
    "layout: post\n",
    "title: 2021 FRQ2\n",
    "description: Classes\n",
    "courses: { csa: {week: 25} }\n",
    "type: ccc\n",
    "menu: csa/FRQ_prep/2021-FRQ2.html\n",
    "permalink: csa/FRQ_prep/2021-FRQ2\n",
    "---"
   ]
  },
  {
   "cell_type": "markdown",
   "metadata": {},
   "source": [
    "# Evaluation\n",
    "Pretty easy."
   ]
  },
  {
   "cell_type": "markdown",
   "metadata": {},
   "source": [
    "# Question & Solution\n",
    "[Question](https://apcentral.collegeboard.org/media/pdf/ap21-frq-computer-science-a.pdf)\n",
    "[Solution](https://apcentral.collegeboard.org/media/pdf/ap21-sg-computer-science-a.pdf) "
   ]
  },
  {
   "cell_type": "code",
   "execution_count": null,
   "metadata": {
    "vscode": {
     "languageId": "java"
    }
   },
   "outputs": [],
   "source": [
    "public class SingleTable {\n",
    "    public int getNumSeats() {\n",
    "\n",
    "    }\n",
    "\n",
    "    public int getHeight() {\n",
    "\n",
    "    }\n",
    "\n",
    "    public double getViewQuality() {\n",
    "\n",
    "    }\n",
    "\n",
    "    public void setViewQuality(double value) {\n",
    "\n",
    "    }\n",
    "}\n",
    "\n",
    "public class CombinedTable {\n",
    "    private SingleTable t1;\n",
    "    private SingleTable t2;\n",
    "\n",
    "    public CombinedTable(SingleTable table1, SingleTable table2) {\n",
    "        t1 = table1;\n",
    "        t2 = table2;\n",
    "    }\n",
    "\n",
    "    public boolean canSeat(int people) {\n",
    "        return people <= (t1.getNumSeats() + t2.getNumSeats() - 2);\n",
    "    }\n",
    "\n",
    "    public double getDesirability() {\n",
    "        if (t1.getHeight() == t2.getHeight()) {\n",
    "            return (t1.getViewQuality() + t2.getViewQuality()) / 2;\n",
    "        } \n",
    "\n",
    "        return (t1.getViewQuality() + t2.getViewQuality()) / 2 - 10;\n",
    "    }\n",
    "}"
   ]
  }
 ],
 "metadata": {
  "kernelspec": {
   "display_name": "java (IJava/j!)",
   "language": "java",
   "name": "jbang-ijava"
  },
  "language_info": {
   "codemirror_mode": "java",
   "file_extension": ".jshell",
   "mimetype": "text/x-java-source",
   "name": "Java",
   "pygments_lexer": "java",
   "version": "22.0.2+9-70"
  }
 },
 "nbformat": 4,
 "nbformat_minor": 2
}
