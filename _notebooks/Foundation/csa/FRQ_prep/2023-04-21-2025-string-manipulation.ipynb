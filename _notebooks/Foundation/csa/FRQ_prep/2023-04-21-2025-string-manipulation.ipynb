{
 "cells": [
  {
   "cell_type": "markdown",
   "metadata": {},
   "source": [
    "---\n",
    "toc: false \n",
    "layout: post\n",
    "title: 2022 FRQ4\n",
    "description: 2D Array\n",
    "courses: { csa: {week: 25} }\n",
    "type: ccc\n",
    "menu: csa/FRQ_prep/2022-FRQ4.html\n",
    "permalink: csa/FRQ_prep/2022-FRQ4\n",
    "---"
   ]
  },
  {
   "cell_type": "markdown",
   "metadata": {},
   "source": [
    "# Evaluation\n",
    "Pretty difficult (both A and B). Good for review."
   ]
  },
  {
   "cell_type": "markdown",
   "metadata": {},
   "source": [
    "# Question & Solution\n",
    "[Question](https://codehs.com/uploads/ed67c04acd040313d0b2930e8077fac0)\n",
    "[CB Solution](https://secure-media.collegeboard.org/digitalServices/pdf/ap/ap16_computer_science_a_sg.pdf) "
   ]
  },
  {
   "cell_type": "code",
   "execution_count": null,
   "metadata": {
    "vscode": {
     "languageId": "java"
    }
   },
   "outputs": [],
   "source": [
    "/*\n",
    " * Testing\n",
    " */\n",
    "public class Main {\n",
    "    public static void main(String[] args) {\n",
    "       \n",
    "    }\n",
    "}\n",
    "\n",
    "public class LogMessage {\n",
    "    private String machineId;\n",
    "    private String description;\n",
    "\n",
    "    /*\n",
    "     * Part A\n",
    "     * Score:\n",
    "     * Notes:\n",
    "     */\n",
    "    public LogMessage(String message) {\n",
    "        int index = message.indexOf(\":\");\n",
    "        machineId = message.substring(0, index);\n",
    "        // no need to have message.length()\n",
    "        description = message.substring(index + 1, message.length());\n",
    "    }\n",
    "\n",
    "    /*\n",
    "     * Part B\n",
    "     * Score:\n",
    "     * Notes: Kinda gave up\n",
    "     */\n",
    "    public boolean containsWord(String keyword) {\n",
    "        if (description.indexOf(keyword) != -1) {\n",
    "            String beginning = description.substring(0, keyword.length());\n",
    "            // wrong; can just use .indexOf()\n",
    "            String precedeBySpace = description.substring(description.indexOf(keyword) - 1)\n",
    "            if (beginning.equals(keyword) || )\n",
    "        }\n",
    "\n",
    "        \n",
    "    }\n",
    "\n",
    "    public String getMachineId(){\n",
    "        return machineId;\n",
    "    }\n",
    "\n",
    "    public String getDescription() {\n",
    "        return description;\n",
    "    }\n",
    "}\n",
    "\n",
    "Main.main(null);"
   ]
  }
 ],
 "metadata": {
  "kernelspec": {
   "display_name": "java (IJava/j!)",
   "language": "java",
   "name": "jbang-ijava"
  },
  "language_info": {
   "codemirror_mode": "java",
   "file_extension": ".jshell",
   "mimetype": "text/x-java-source",
   "name": "Java",
   "pygments_lexer": "java",
   "version": "22.0.2+9-70"
  }
 },
 "nbformat": 4,
 "nbformat_minor": 2
}
