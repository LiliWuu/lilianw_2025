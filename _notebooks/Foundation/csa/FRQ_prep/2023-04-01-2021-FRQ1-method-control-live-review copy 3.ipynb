{
 "cells": [
  {
   "cell_type": "markdown",
   "metadata": {},
   "source": [
    "---\n",
    "toc: false \n",
    "layout: post\n",
    "title: 2010 FRQ3 Trail - Live Review\n",
    "description: Searching and Sorting\n",
    "courses: { csa: {week: 25} }\n",
    "type: ccc\n",
    "menu: csa/FRQ_prep/2010-FRQ3.html\n",
    "permalink: csa/FRQ_prep/2010-FRQ3\n",
    "---"
   ]
  },
  {
   "cell_type": "markdown",
   "metadata": {},
   "source": [
    "# Question\n",
    "[Link](https://www.youtube.com/watch?v=euT3Mb2fvV0&list=PLoGgviqq4845xKOY11PnkE7aqJC7-bYrd&index=23&ab_channel=AdvancedPlacement)"
   ]
  },
  {
   "cell_type": "code",
   "execution_count": null,
   "metadata": {
    "vscode": {
     "languageId": "java"
    }
   },
   "outputs": [
    {
     "name": "stdout",
     "output_type": "stream",
     "text": [
      "true\n"
     ]
    }
   ],
   "source": [
    "/*\n",
    " * Testing\n",
    " */\n",
    "public class Main {\n",
    "    public static void main(String[] args) {\n",
    "        int[] markers = {100,150,105,120,90,80,50,100,75,65,70};\n",
    "       Trail trail = new Trail(markers);\n",
    "       System.out.println(trail.isLevelTrailSegment(8, 10));\n",
    "    }\n",
    "}\n",
    "\n",
    "/*\n",
    " * Part A\n",
    " * Score: 98%\n",
    " * Notes: no actual mistakes, just room for improvement\n",
    " * - try not to do too many if statements; sometimes can be simplified\n",
    " */\n",
    "public class Trail {\n",
    "   private int[] markers;\n",
    "\n",
    "   // test class\n",
    "   public Trail(int[] markers) {\n",
    "    this.markers = markers;\n",
    "   }\n",
    "\n",
    "   public boolean isLevelTrailSegment(int start, int end) {\n",
    "    int min = markers[start];\n",
    "    int max = markers[start];\n",
    "\n",
    "    // small improvement: can do start + 1 b/c doesn't need to check start\n",
    "    for (int i = start; i <= end; i++) {\n",
    "        if (markers[i] < min) {\n",
    "            min = markers[i];\n",
    "        }\n",
    "        if (markers[i] > max) {\n",
    "            max = markers[i];\n",
    "        }\n",
    "    }\n",
    "\n",
    "    //CORRECT BUT CAN BE REDUCED\n",
    "    // if (max - min > 10) {\n",
    "    //     return false;\n",
    "    // }\n",
    "    // return true;\n",
    "\n",
    "    // improvement: \n",
    "    return ((max - min) <= 10);\n",
    "   }\n",
    "\n",
    "   /*\n",
    "    * Part B\n",
    "    * Score: 100%\n",
    "    * Notes: \n",
    "    */\n",
    "   public boolean isDifficult() {\n",
    "    int count = 0;\n",
    "    for (int i = 0; i < markers.length - 1; i++) {\n",
    "        if (Math.abs(markers[i] - markers[i + 1]) >= 30) {\n",
    "            count++;\n",
    "        }\n",
    "    }\n",
    "    return (count >= 3);\n",
    "   }\n",
    "}\n",
    "\n",
    "Main.main(null);"
   ]
  }
 ],
 "metadata": {
  "kernelspec": {
   "display_name": "java (IJava/j!)",
   "language": "java",
   "name": "jbang-ijava"
  },
  "language_info": {
   "codemirror_mode": "java",
   "file_extension": ".jshell",
   "mimetype": "text/x-java-source",
   "name": "Java",
   "pygments_lexer": "java",
   "version": "22.0.2+9-70"
  }
 },
 "nbformat": 4,
 "nbformat_minor": 2
}
