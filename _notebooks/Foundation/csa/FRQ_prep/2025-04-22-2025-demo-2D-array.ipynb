{
 "cells": [
  {
   "cell_type": "markdown",
   "id": "b961f865",
   "metadata": {},
   "source": [
    "---\n",
    "toc: false \n",
    "layout: post\n",
    "title: 2D Array\n",
    "courses: { csa: {week: 25} }\n",
    "type: ccc\n",
    "menu: csa/2D-array.html\n",
    "permalink: csa/2D-array\n",
    "---"
   ]
  },
  {
   "cell_type": "code",
   "execution_count": 2,
   "id": "434d5259",
   "metadata": {
    "vscode": {
     "languageId": "java"
    }
   },
   "outputs": [
    {
     "name": "stdout",
     "output_type": "stream",
     "text": [
      "Alice is napping\n",
      "Cinder is climbing\n",
      "Leo is eating\n"
     ]
    }
   ],
   "source": [
    "public class CatReview {\n",
    "    public static void main(String[] args) {\n",
    "        String[][] catSchedule = {\n",
    "            {\"Alice\", \"napping\"},\n",
    "            {\"Cinder\", \"climbing\"},\n",
    "            {\"Leo\", \"eating\"}\n",
    "        };\n",
    "\n",
    "        for (int i = 0; i < catSchedule.length; i++) {\n",
    "            System.out.println(catSchedule[i][0] + \" is \" + catSchedule[i][1]);\n",
    "        }\n",
    "    }\n",
    "}\n",
    "CatReview.main(null);"
   ]
  },
  {
   "cell_type": "markdown",
   "id": "8f700b92",
   "metadata": {},
   "source": [
    "# Things to Watch Out For\n",
    "- Knowing the difference between column/row index first (e.g. grid[row][col] vs grid[col][row])\n",
    "- Knowing what values are changed\n",
    "- Can't use nested for loop to change the value in the array"
   ]
  }
 ],
 "metadata": {
  "kernelspec": {
   "display_name": "java (IJava/j!)",
   "language": "java",
   "name": "jbang-ijava"
  },
  "language_info": {
   "codemirror_mode": "java",
   "file_extension": ".jshell",
   "mimetype": "text/x-java-source",
   "name": "Java",
   "pygments_lexer": "java",
   "version": "22.0.2+9-70"
  }
 },
 "nbformat": 4,
 "nbformat_minor": 5
}
