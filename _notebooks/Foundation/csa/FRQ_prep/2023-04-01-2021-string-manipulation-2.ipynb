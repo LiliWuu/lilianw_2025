{
 "cells": [
  {
   "cell_type": "markdown",
   "metadata": {},
   "source": [
    "---\n",
    "toc: false \n",
    "layout: post\n",
    "title: 2024 FRQ2\n",
    "description: String Manipulation\n",
    "courses: { csa: {week: 25} }\n",
    "type: ccc\n",
    "menu: csa/FRQ_prep/2024-FRQ2.html\n",
    "permalink: csa/FRQ_prep/2024-FRQ2\n",
    "---"
   ]
  },
  {
   "cell_type": "markdown",
   "metadata": {},
   "source": [
    "# Evaluation\n",
    "Relatively ok."
   ]
  },
  {
   "cell_type": "markdown",
   "metadata": {},
   "source": [
    "# Question & Solution\n",
    "[Question](https://apcentral.collegeboard.org/media/pdf/ap24-frq-comp-sci-a.pdf)\n",
    "[Solution](https://www.apcomputersciencetutoring.com/scoreboard-free-response-answer/) "
   ]
  },
  {
   "cell_type": "code",
   "execution_count": null,
   "metadata": {},
   "outputs": [],
   "source": [
    "/*\n",
    " * Testing\n",
    " */\n",
    "public class Main {\n",
    "    public static void main(String[] args) {\n",
    "       \n",
    "    }\n",
    "}\n",
    "\n",
    "/*\n",
    " * Score:\n",
    " * Notes: Overal functionally correct. Some parts can be revised though\n",
    " */\n",
    "public class Scoreboard {\n",
    "    private String t1;\n",
    "    private String t2;\n",
    "    private int t1Score;\n",
    "    private int t2Score;\n",
    "    private String teamActive; // official version uses boolean team1Active, but this one works too\n",
    "\n",
    "    public Scoreboard(String team1, String team2) {\n",
    "        t1 = team1;\n",
    "        t2 = team2;\n",
    "        teamActive = team1;\n",
    "        // remember to initialize the scores!!\n",
    "        t1Score = 0;\n",
    "        t2Score = 0;\n",
    "    }\n",
    "\n",
    "    public void recordPlay(int pointScored) {\n",
    "        if (pointScored > 0) {\n",
    "            if (teamActive.equals(t1)) {\n",
    "                t1Score += pointScored;\n",
    "            } else {\n",
    "                t2Score += pointScored;\n",
    "            }\n",
    "        } \n",
    "\n",
    "        if (pointScored == 0) {\n",
    "            if (teamActive.equals(t1)) {\n",
    "                teamActive = team2;\n",
    "            } else {\n",
    "                teamActive = team1;\n",
    "            }\n",
    "        }\n",
    "    }\n",
    "\n",
    "    public String getScore() {\n",
    "        return t1Score + \"-\" + t2Score + \"-\" + teamActive;\n",
    "    }\n",
    "}\n",
    "\n",
    "Main.main(null);"
   ]
  }
 ],
 "metadata": {
  "kernelspec": {
   "display_name": "java (IJava/j!)",
   "language": "java",
   "name": "jbang-ijava"
  },
  "language_info": {
   "codemirror_mode": "java",
   "file_extension": ".jshell",
   "mimetype": "text/x-java-source",
   "name": "java",
   "pygments_lexer": "java",
   "version": "22.0.2+9-70"
  }
 },
 "nbformat": 4,
 "nbformat_minor": 2
}
