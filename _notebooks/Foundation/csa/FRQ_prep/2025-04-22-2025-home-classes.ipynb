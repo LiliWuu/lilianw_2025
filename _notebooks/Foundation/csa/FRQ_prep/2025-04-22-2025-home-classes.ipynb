{
 "cells": [
  {
   "cell_type": "markdown",
   "id": "1749c5a8",
   "metadata": {},
   "source": [
    "---\n",
    "toc: false \n",
    "layout: post\n",
    "title: My FRQ Work on Classes\n",
    "description: Includes the Classes FRQs I've done from previous years.\n",
    "courses: { csa: {week: 25} }\n",
    "type: ccc\n",
    "menu: csa/home/classes.html\n",
    "permalink: csa/home/classes\n",
    "---"
   ]
  },
  {
   "cell_type": "markdown",
   "id": "8adb0ebf",
   "metadata": {},
   "source": [
    "# Problems\n",
    "-**[2007 FRQ4 GameState](/lilianw_2025/csa/FRQ_prep/2007-FRQ4)**\n",
    "\n",
    "-[2022 FRQ6 Rewrite - Live Review](/lilianw_2025/csa/FRQ_prep/2022-FRQ6)\n",
    "\n",
    "-**[2023 Q2 Sign](/lilianw_2025/csa/FRQ_prep/2023-Q2)**"
   ]
  },
  {
   "cell_type": "markdown",
   "id": "47cf097a",
   "metadata": {},
   "source": [
    "# Team Teach HW\n",
    "[Link](/lilianw_2025/classesprompt)"
   ]
  }
 ],
 "metadata": {
  "language_info": {
   "name": "python"
  }
 },
 "nbformat": 4,
 "nbformat_minor": 5
}
