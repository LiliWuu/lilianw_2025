{
 "cells": [
  {
   "cell_type": "markdown",
   "metadata": {},
   "source": [
    "---\n",
    "toc: false \n",
    "layout: post\n",
    "title: 2020 FRQ1\n",
    "description: 2D Array\n",
    "courses: { csa: {week: 25} }\n",
    "type: ccc\n",
    "menu: csa/FRQ_prep/2020-FRQ1.html\n",
    "permalink: csa/FRQ_prep/2020-FRQ1\n",
    "---"
   ]
  },
  {
   "cell_type": "markdown",
   "metadata": {},
   "source": [
    "# Evaluation\n",
    "Relatively easy."
   ]
  },
  {
   "cell_type": "markdown",
   "metadata": {},
   "source": [
    "# Question & Solution\n",
    "[Question](https://codehs.com/uploads/ed67c04acd040313d0b2930e8077fac0)\n",
    "[CB Solution](https://secure-media.collegeboard.org/digitalServices/pdf/ap/ap16_computer_science_a_sg.pdf) "
   ]
  },
  {
   "cell_type": "code",
   "execution_count": null,
   "metadata": {
    "vscode": {
     "languageId": "java"
    }
   },
   "outputs": [],
   "source": [
    "/*\n",
    " * Testing\n",
    " */\n",
    "public class Main {\n",
    "    public static void main(String[] args) {\n",
    "       \n",
    "    }\n",
    "}\n",
    "\n",
    "public class CheckDigit {\n",
    "    /*\n",
    "     * Part A\n",
    "     * Score:\n",
    "     * Notes: \n",
    "     */\n",
    "    public static int getCheck(int num) {\n",
    "        int multiply = 7;\n",
    "        int sum = 0;\n",
    "        (for int i = 1; i <= getNumberOfDigits(num); i++) {\n",
    "            sum += getDigit(num, i) * multiply;\n",
    "            multiply--;\n",
    "        }\n",
    "\n",
    "        // don't need to do this way to get last digit :/\n",
    "        return getDigit(sum, getNumberOfDigits(sum));\n",
    "\n",
    "        // correction:\n",
    "        return sum % 10;\n",
    "    }\n",
    "\n",
    "    /*\n",
    "     * Part B\n",
    "     * Score:\n",
    "     * Notes: Slightly difficult\n",
    "     */\n",
    "    public static boolean isValid(int numWithCheckDigit) {\n",
    "        int num = numWithCheckDigit / 10;\n",
    "        return (numWithCheckDigit % 10 == getCheck(num));\n",
    "    }\n",
    "\n",
    "    // helper method\n",
    "    public static int getNumberOfDigits(int num) {\n",
    "\n",
    "    }\n",
    "\n",
    "    // helper method\n",
    "    public static int getDigit(int num, int n) {\n",
    "\n",
    "    }\n",
    "}\n",
    "\n",
    "Main.main(null);"
   ]
  }
 ],
 "metadata": {
  "kernelspec": {
   "display_name": "java (IJava/j!)",
   "language": "java",
   "name": "jbang-ijava"
  },
  "language_info": {
   "codemirror_mode": "java",
   "file_extension": ".jshell",
   "mimetype": "text/x-java-source",
   "name": "Java",
   "pygments_lexer": "java",
   "version": "22.0.2+9-70"
  }
 },
 "nbformat": 4,
 "nbformat_minor": 2
}
