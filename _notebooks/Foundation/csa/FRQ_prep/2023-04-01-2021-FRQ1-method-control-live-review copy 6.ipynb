{
 "cells": [
  {
   "cell_type": "markdown",
   "metadata": {},
   "source": [
    "---\n",
    "toc: false \n",
    "layout: post\n",
    "title: 2006 FRQ3 Customer\n",
    "description: The Customer method compareCustomer is nearly identical to a standard compareTo method. The prefixMerge is a simplified version of the merge method used in merge sort.\n",
    "courses: { csa: {week: 25} }\n",
    "type: ccc\n",
    "menu: csa/FRQ_prep/2006-FRQ3.html\n",
    "permalink: csa/FRQ_prep/2006-FRQ3\n",
    "---"
   ]
  },
  {
   "cell_type": "markdown",
   "metadata": {},
   "source": [
    "# Question & Solution\n",
    "[Question](https://secure-media.collegeboard.org/apc/_ap06_frq_computer_sc_51649.pdf)\n",
    "[Solution](https://www.apcomputersciencetutoring.com/customer-free-response-answer/)"
   ]
  },
  {
   "cell_type": "code",
   "execution_count": null,
   "metadata": {},
   "outputs": [
    {
     "name": "stdout",
     "output_type": "stream",
     "text": [
      "36\n"
     ]
    }
   ],
   "source": [
    "/*\n",
    " * Testing\n",
    " */\n",
    "public class Main {\n",
    "    public static void main(String[] args) {\n",
    "       \n",
    "    }\n",
    "}\n",
    "\n",
    "public class Customer {\n",
    "    // helper method\n",
    "    public Customer(String name, int idNum) {\n",
    "    }\n",
    "    // helper method\n",
    "    public String getName() {\n",
    "    }\n",
    "    // helper method\n",
    "    public int getID() {\n",
    "    }\n",
    "\n",
    "    /*\n",
    "     * Part A\n",
    "     * Score: 2.5/3\n",
    "     * Notes: Kinda tricky. .5 off because need to compare IDs if names are the same\n",
    "     */\n",
    "    public int compareCustomer(Customer other) {\n",
    "        return (this.getName().compareTo(other.getName()));\n",
    "\n",
    "        // correct answer\n",
    "        if (this.getName().equals(other.getName())) {\n",
    "            // **understand why this works**\n",
    "            return this.getID() - other.getID();\n",
    "        }\n",
    "        return this.getName().equals(other.getName());\n",
    "    }\n",
    "\n",
    "    /*\n",
    "     * Part B\n",
    "     * Score: 4.5/6\n",
    "     * Notes: Pretty tricky. Understand how to set unique index \n",
    "     * for each list and update them accordingly\n",
    "     */\n",
    "    public static void prefixMerge(Customer[] list1, Customer[] list2, Customer[] result) {\n",
    "        // for (Customer customer1: list1) {\n",
    "        //     for (Customer customer2: list2) {\n",
    "        //         if (customer)\n",
    "        //     }\n",
    "        // }\n",
    "        int i = 0;\n",
    "        int j = 0;\n",
    "        while (i < result.length - 1) {\n",
    "            if (list1[j].compareCustomer(list2[j]) == 0) {\n",
    "                result.add(list1[j]);\n",
    "                j++;\n",
    "            } else if (list1[j].compareCustomer(list2[j]) < 0){\n",
    "                result.add(list1[j]);\n",
    "                result.add(list2[j]);\n",
    "                j++;\n",
    "            } else {\n",
    "                result.add(list2[j]);\n",
    "                result.add(list1[j]);\n",
    "                j++;\n",
    "            }\n",
    "            \n",
    "            i++;\n",
    "            // switch(llist1[j].compareCustomer(list2[j])) {\n",
    "            //     case 0: \n",
    "            //     j++\n",
    "            //     break;\n",
    "            //     case \n",
    "            // }\n",
    "\n",
    "\n",
    "            // too lazy to write solution \n",
    "        }\n",
    "    }\n",
    "}\n",
    "\n",
    "Main.main(null);"
   ]
  }
 ],
 "metadata": {
  "kernelspec": {
   "display_name": "java (IJava/j!)",
   "language": "java",
   "name": "jbang-ijava"
  },
  "language_info": {
   "codemirror_mode": "java",
   "file_extension": ".jshell",
   "mimetype": "text/x-java-source",
   "name": "java",
   "pygments_lexer": "java",
   "version": "22.0.2+9-70"
  }
 },
 "nbformat": 4,
 "nbformat_minor": 2
}
