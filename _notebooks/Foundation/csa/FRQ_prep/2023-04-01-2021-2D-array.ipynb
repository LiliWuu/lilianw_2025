{
 "cells": [
  {
   "cell_type": "markdown",
   "metadata": {},
   "source": [
    "---\n",
    "toc: false \n",
    "layout: post\n",
    "title: 2022 FRQ4\n",
    "description: 2D Array\n",
    "courses: { csa: {week: 25} }\n",
    "type: ccc\n",
    "menu: csa/FRQ_prep/2022-FRQ4.html\n",
    "permalink: csa/FRQ_prep/2022-FRQ4\n",
    "---"
   ]
  },
  {
   "cell_type": "markdown",
   "metadata": {},
   "source": [
    "# Evaluation\n",
    "Pretty difficult (both A and B). Good for review."
   ]
  },
  {
   "cell_type": "markdown",
   "metadata": {},
   "source": [
    "# Question & Solution\n",
    "[Question](https://codehs.com/uploads/3240cf09cdc041d6f4d967fe16b474ec)\n",
    "[Solution](https://www.apcomputersciencetutoring.com/data-free-response/)\n",
    "[CB Solution](https://apcentral.collegeboard.org/media/pdf/ap22-sg-computer-science-a.pdf) "
   ]
  },
  {
   "cell_type": "code",
   "execution_count": null,
   "metadata": {
    "vscode": {
     "languageId": "java"
    }
   },
   "outputs": [
    {
     "ename": "EvalException",
     "evalue": "Cannot invoke \"Object.toString()\" because the return value of \"REPL.$JShell$14C$Data.getGrid()\" is null",
     "output_type": "error",
     "traceback": [
      "\u001b[1m\u001b[31m---------------------------------------------------------------------------\u001b[0m",
      "\u001b[1m\u001b[31mjava.lang.NullPointerException: Cannot invoke \"Object.toString()\" because the return value of \"REPL.$JShell$14C$Data.getGrid()\" is null\u001b[0m",
      "\u001b[1m\u001b[31m\tat Main.main(#12:8)\u001b[0m",
      "\u001b[1m\u001b[31m\tat .(#17:1)\u001b[0m"
     ]
    }
   ],
   "source": [
    "/*\n",
    " * Testing\n",
    " */\n",
    "public class Main {\n",
    "    public static void main(String[] args) {\n",
    "       Data data = new Data();\n",
    "       data.repopulate();\n",
    "       System.out.println(data.getGrid().toString());\n",
    "       System.out.println(data.countIncreasingCols());\n",
    "\n",
    "    }\n",
    "}\n",
    "\n",
    "public class Data {\n",
    "    public static final int MAX = 3;\n",
    "    private int[][] grid;\n",
    "\n",
    "    public Data() {}\n",
    "    public int[][] getGrid() {\n",
    "        return grid;\n",
    "    }\n",
    "    /*\n",
    "     * Part A\n",
    "     * Score:\n",
    "     * Notes: !! A lot wrong. Understand how to assign random value to 2D array. \n",
    "     * **CANNOT USE ENHANCED FOR LOOP HERE** !!\n",
    "     * Pretty hard, especially logic for regenerating new random value (look at solution)\n",
    "     */\n",
    "    public void repopulate() {\n",
    "        int randValue = (int)(Math.random() * MAX) + 1;\n",
    "        if (randValue % 10 == 0 && randValue % 100 != 0) {\n",
    "            for (int[] row: grid) {\n",
    "                for (int gridValue: row) {\n",
    "                    gridValue = randValue;\n",
    "                }\n",
    "            }\n",
    "        }\n",
    "    }\n",
    "\n",
    "    /*\n",
    "     * Part B\n",
    "     * Score:\n",
    "     * Notes: !! Don't need special case for length == 1 if correct logic had been used !!\n",
    "     * Mostly wrong :(, should retry\n",
    "     */\n",
    "    public int countIncreasingCols() {\n",
    "        int increasingColCount = 0;\n",
    "        if (grid.length == 1) {\n",
    "            return grid[0].length;\n",
    "        }\n",
    "\n",
    "        for (int col = 0; col < grid[0].length; col++) {\n",
    "            // have count outside\n",
    "            // instead use boolean (isIncreasing) here\n",
    "            int count = 0;\n",
    "            // instead of compare row + 1 and row, compare row - 1 and row, but have row start from 1\n",
    "            for (int row = 0; row < grid.length - 1; row++) {\n",
    "                // have isIncreasing = false if...\n",
    "                if (grid[row + 1][col] >= grid[row][col]) {\n",
    "                    count++;\n",
    "                    if (count == grid.length - 1) {\n",
    "                        increasingColCount++;\n",
    "                    }\n",
    "                }\n",
    "            }\n",
    "        }\n",
    "        return increasingColCount;\n",
    "    }\n",
    "}\n",
    "\n",
    "Main.main(null);"
   ]
  }
 ],
 "metadata": {
  "kernelspec": {
   "display_name": "java (IJava/j!)",
   "language": "java",
   "name": "jbang-ijava"
  },
  "language_info": {
   "codemirror_mode": "java",
   "file_extension": ".jshell",
   "mimetype": "text/x-java-source",
   "name": "Java",
   "pygments_lexer": "java",
   "version": "22.0.2+9-70"
  }
 },
 "nbformat": 4,
 "nbformat_minor": 2
}
