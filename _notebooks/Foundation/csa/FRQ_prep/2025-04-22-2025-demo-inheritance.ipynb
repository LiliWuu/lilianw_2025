{
 "cells": [
  {
   "cell_type": "markdown",
   "id": "b961f865",
   "metadata": {},
   "source": [
    "---\n",
    "toc: false \n",
    "layout: post\n",
    "title: Inheritance Demonstration\n",
    "courses: { csa: {week: 25} }\n",
    "type: ccc\n",
    "menu: csa/inheritance.html\n",
    "permalink: csa/inheritance\n",
    "---"
   ]
  },
  {
   "cell_type": "code",
   "execution_count": 4,
   "id": "434d5259",
   "metadata": {
    "vscode": {
     "languageId": "java"
    }
   },
   "outputs": [
    {
     "name": "stdout",
     "output_type": "stream",
     "text": [
      "Cinder is a Siamese\n"
     ]
    }
   ],
   "source": [
    "class Cat {\n",
    "    private String name;\n",
    "    private int age;\n",
    "\n",
    "    public Cat(String name, int age) {\n",
    "        this.name = name;\n",
    "        this.age = age;\n",
    "    }\n",
    "\n",
    "    public String getName() {\n",
    "        return name;\n",
    "    }\n",
    "\n",
    "    public void talkative() {\n",
    "        System.out.println(getName() + \" is a cat\");\n",
    "    }\n",
    "}\n",
    "\n",
    "class Siamese extends Cat {\n",
    "    public Siamese(String name, int age) {\n",
    "        super(name, age);\n",
    "    }\n",
    "\n",
    "    public void talkative() {\n",
    "        System.out.println(getName() + \" is a Siamese\");\n",
    "    }\n",
    "}\n",
    "\n",
    "Siamese cat = new Siamese(\"Cinder\", 5);\n",
    "cat.talkative();"
   ]
  },
  {
   "cell_type": "markdown",
   "id": "cf700d5c",
   "metadata": {},
   "source": [
    "# Things to Watch Out For\n",
    "- Knowing polymorphism\n",
    "    -   Calls overriden methods\n",
    "    -   Can't directly call subclass methods\n",
    "    -   Can't directly access private superclass attributes\n"
   ]
  }
 ],
 "metadata": {
  "kernelspec": {
   "display_name": "java (IJava/j!)",
   "language": "java",
   "name": "jbang-ijava"
  },
  "language_info": {
   "codemirror_mode": "java",
   "file_extension": ".jshell",
   "mimetype": "text/x-java-source",
   "name": "Java",
   "pygments_lexer": "java",
   "version": "22.0.2+9-70"
  }
 },
 "nbformat": 4,
 "nbformat_minor": 5
}
