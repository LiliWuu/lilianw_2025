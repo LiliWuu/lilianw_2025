{
 "cells": [
  {
   "cell_type": "markdown",
   "metadata": {},
   "source": [
    "---\n",
    "toc: false \n",
    "layout: post\n",
    "title: 2017 FRQ3\n",
    "description: String Manipulation\n",
    "courses: { csa: {week: 25} }\n",
    "type: ccc\n",
    "menu: csa/FRQ_prep/2017-FRQ3.html\n",
    "permalink: csa/FRQ_prep/2017-FRQ3\n",
    "---"
   ]
  },
  {
   "cell_type": "markdown",
   "metadata": {},
   "source": [
    "# Evaluation\n",
    "Pretty hard. Good to review."
   ]
  },
  {
   "cell_type": "markdown",
   "metadata": {},
   "source": [
    "# Question & Solution\n",
    "[Question](https://apcentral.collegeboard.org/media/pdf/ap24-frq-comp-sci-a.pdf)\n",
    "[Solution](https://www.apcomputersciencetutoring.com/scoreboard-free-response-answer/) "
   ]
  },
  {
   "cell_type": "code",
   "execution_count": null,
   "metadata": {},
   "outputs": [],
   "source": [
    "/*\n",
    " * Testing\n",
    " */\n",
    "public class Main {\n",
    "    public static void main(String[] args) {\n",
    "\n",
    "    }\n",
    "}\n",
    "\n",
    "public class Phrase {\n",
    "    private String currentPhrase;\n",
    "\n",
    "    public Phrase(String p) {\n",
    "        currentPhase = p;\n",
    "    }\n",
    "\n",
    "    // helper method\n",
    "    public int findNthOccurrence(String str, int n) {\n",
    "\n",
    "    }\n",
    "\n",
    "    /* \n",
    "     * Part A\n",
    "     * Notes: Had difficulty with the logic of editing the original string\n",
    "     * and replacing a part of it\n",
    "    */\n",
    "    public void replaceNthOccurrence(String str, int n, String repl) {\n",
    "        int indexOfOccurrence = findNthOccurrence(str, n);\n",
    "        if (indexOfOccurrence != -1) {\n",
    "                currentPhrase = currentPhrase.substring(0, indexOfOccurrence) + repl \n",
    "                + currentPhrase.substring(indexOfOccurrence, indexOfOccurrence + str.length());\n",
    "        }\n",
    "    }\n",
    "\n",
    "    /*\n",
    "     * Part B\n",
    "     * Notes: Pretty challenging use of while loop. Tricky with counting for n\n",
    "     * Had to keep in mind to return n - 1 and not n\n",
    "     */\n",
    "    public int findLastOccurrence(String str) {\n",
    "        int counter = 0;\n",
    "        // unnecessary, can delete\n",
    "        if (currentPhrase.indexOf(str) == -1) {\n",
    "            return -1;\n",
    "        }\n",
    "\n",
    "        // doesn't use findNthOccurrence here\n",
    "        for (int i = 0; i < currentPhrase.length(); i++) {\n",
    "            if (currentPhrase.substring(i, i + str.length()).equals(str)) {\n",
    "                counter++;\n",
    "            }\n",
    "        }\n",
    "\n",
    "        // CORRECTION:\n",
    "        int n = 1; \n",
    "        while (findNthOccurrence(str, n) != -1) {\n",
    "            n++;\n",
    "        }\n",
    "\n",
    "        if (n == 1) {\n",
    "            return -1;\n",
    "        }\n",
    "\n",
    "        // counter can substituted for n - 1 with correct solution\n",
    "        return findNthOccurrence(str, counter);\n",
    "    }\n",
    "\n",
    "    // helper method\n",
    "    public String toString() {\n",
    "        return currentPhase;\n",
    "    }\n",
    "}\n",
    "\n",
    "Main.main(null);"
   ]
  }
 ],
 "metadata": {
  "kernelspec": {
   "display_name": "java (IJava/j!)",
   "language": "java",
   "name": "jbang-ijava"
  },
  "language_info": {
   "codemirror_mode": "java",
   "file_extension": ".jshell",
   "mimetype": "text/x-java-source",
   "name": "java",
   "pygments_lexer": "java",
   "version": "22.0.2+9-70"
  }
 },
 "nbformat": 4,
 "nbformat_minor": 2
}
