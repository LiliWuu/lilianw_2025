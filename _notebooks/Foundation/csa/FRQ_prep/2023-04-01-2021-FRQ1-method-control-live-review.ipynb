{
 "cells": [
  {
   "cell_type": "markdown",
   "metadata": {},
   "source": [
    "---\n",
    "toc: false \n",
    "layout: post\n",
    "title: 2021 FRQ1 Word Match - Live Review\n",
    "description: Method and control structures practice FRQ problem\n",
    "courses: { csa: {week: 25} }\n",
    "type: ccc\n",
    "menu: csa/FRQ_prep/2021-FRQ1.html\n",
    "permalink: csa/FRQ_prep/2021-FRQ1\n",
    "---"
   ]
  },
  {
   "cell_type": "markdown",
   "metadata": {},
   "source": [
    "# Question\n",
    "[Link](https://www.youtube.com/watch?v=-NXby4ahlnU&list=PLoGgviqq4845xKOY11PnkE7aqJC7-bYrd&index=18&ab_channel=AdvancedPlacement)"
   ]
  },
  {
   "cell_type": "code",
   "execution_count": null,
   "metadata": {
    "vscode": {
     "languageId": "java"
    }
   },
   "outputs": [
    {
     "name": "stdout",
     "output_type": "stream",
     "text": [
      "36\n"
     ]
    }
   ],
   "source": [
    "/*\n",
    " * Testing\n",
    " */\n",
    "public class Main {\n",
    "    public static void main(String[] args) {\n",
    "        WordMatch wordMatch = new WordMatch(\"mississippi\");\n",
    "        System.out.println(wordMatch.scoreGuess(\"issipp\"));\n",
    "    }\n",
    "}\n",
    "\n",
    "public class WordMatch {\n",
    "    private String secret;\n",
    "\n",
    "    public WordMatch(String word) {\n",
    "        this.secret = word;\n",
    "    }\n",
    "\n",
    "    /*\n",
    "     * Part A\n",
    "     * Score: 100%\n",
    "     * Notes: the substring logic and looping needed a bit more thought\n",
    "     */\n",
    "    public int scoreGuess(String guess) {\n",
    "        int numOfOccurences = 0;\n",
    "        int guessLen = guess.length();\n",
    "        \n",
    "        // important: subtract guessLen to avoid OUTOFINDEX error\n",
    "        for (int i = 0; i <= secret.length() - guessLen; i++) {\n",
    "            // important: i + guessLen\n",
    "            if (guess.equals(secret.substring(i, i + guessLen))) {\n",
    "                numOfOccurences++;\n",
    "            }\n",
    "        }\n",
    "        return numOfOccurences * (int)Math.pow(guessLen, 2);\n",
    "    }\n",
    "}\n",
    "Main.main(null);"
   ]
  }
 ],
 "metadata": {
  "kernelspec": {
   "display_name": "java (IJava/j!)",
   "language": "java",
   "name": "jbang-ijava"
  },
  "language_info": {
   "codemirror_mode": "java",
   "file_extension": ".jshell",
   "mimetype": "text/x-java-source",
   "name": "Java",
   "pygments_lexer": "java",
   "version": "22.0.2+9-70"
  }
 },
 "nbformat": 4,
 "nbformat_minor": 2
}
