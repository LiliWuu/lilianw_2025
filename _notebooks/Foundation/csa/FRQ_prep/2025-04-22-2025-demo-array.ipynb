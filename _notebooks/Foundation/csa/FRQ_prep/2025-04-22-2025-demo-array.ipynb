{
 "cells": [
  {
   "cell_type": "markdown",
   "id": "b961f865",
   "metadata": {},
   "source": [
    "---\n",
    "toc: false \n",
    "layout: post\n",
    "title: Primitive Types Demonstration\n",
    "courses: { csa: {week: 25} }\n",
    "type: ccc\n",
    "menu: csa/primitive-types.html\n",
    "permalink: csa/primitive-types\n",
    "---"
   ]
  },
  {
   "cell_type": "code",
   "execution_count": null,
   "id": "434d5259",
   "metadata": {
    "vscode": {
     "languageId": "java"
    }
   },
   "outputs": [],
   "source": [
    "int ageAlice = 3;\n",
    "double weightLeo = 12.6;\n",
    "boolean isCinderSleeping = true;"
   ]
  }
 ],
 "metadata": {
  "language_info": {
   "name": "python"
  }
 },
 "nbformat": 4,
 "nbformat_minor": 5
}
