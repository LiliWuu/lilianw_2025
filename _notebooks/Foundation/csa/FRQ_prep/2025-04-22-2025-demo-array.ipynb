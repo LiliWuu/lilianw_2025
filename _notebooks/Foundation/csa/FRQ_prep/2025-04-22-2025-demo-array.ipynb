{
 "cells": [
  {
   "cell_type": "markdown",
   "id": "b961f865",
   "metadata": {},
   "source": [
    "---\n",
    "toc: false \n",
    "layout: post\n",
    "title: Array\n",
    "courses: { csa: {week: 25} }\n",
    "type: ccc\n",
    "menu: csa/array.html\n",
    "permalink: csa/array\n",
    "---"
   ]
  },
  {
   "cell_type": "code",
   "execution_count": 3,
   "id": "434d5259",
   "metadata": {
    "vscode": {
     "languageId": "java"
    }
   },
   "outputs": [
    {
     "name": "stdout",
     "output_type": "stream",
     "text": [
      "Alice is cute\n",
      "Cinder is cute\n",
      "Leo is cute\n"
     ]
    }
   ],
   "source": [
    "public class CatReview {\n",
    "    public static void main(String[] args) {\n",
    "        String[] catNames = {\"Alice\", \"Cinder\", \"Leo\"};\n",
    "        for (String name : catNames) {\n",
    "            System.out.println(name + \" is cute\");\n",
    "        }\n",
    "    }\n",
    "}\n",
    "CatReview.main(null);"
   ]
  },
  {
   "cell_type": "markdown",
   "id": "ef30b97b",
   "metadata": {},
   "source": [
    "# Things to Watch Out For"
   ]
  }
 ],
 "metadata": {
  "kernelspec": {
   "display_name": "java (IJava/j!)",
   "language": "java",
   "name": "jbang-ijava"
  },
  "language_info": {
   "codemirror_mode": "java",
   "file_extension": ".jshell",
   "mimetype": "text/x-java-source",
   "name": "Java",
   "pygments_lexer": "java",
   "version": "22.0.2+9-70"
  }
 },
 "nbformat": 4,
 "nbformat_minor": 5
}
