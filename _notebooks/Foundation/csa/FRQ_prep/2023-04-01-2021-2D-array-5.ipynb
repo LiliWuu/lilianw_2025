{
 "cells": [
  {
   "cell_type": "markdown",
   "metadata": {},
   "source": [
    "---\n",
    "toc: false \n",
    "layout: post\n",
    "title: 2015 FRQ3\n",
    "description: 2D Array\n",
    "courses: { csa: {week: 25} }\n",
    "type: ccc\n",
    "menu: csa/FRQ_prep/2015-FRQ3.html\n",
    "permalink: csa/FRQ_prep/2015-FRQ3\n",
    "---"
   ]
  },
  {
   "cell_type": "markdown",
   "metadata": {},
   "source": [
    "# Evaluation\n",
    "Difficult (both A and B). Good for review."
   ]
  },
  {
   "cell_type": "markdown",
   "metadata": {},
   "source": [
    "# Question & Solution\n",
    "[Question](https://secure-media.collegeboard.org/digitalServices/pdf/ap/ap15_frq_computer_science_a.pdf)\n",
    "[Solution](https://www.apcomputersciencetutoring.com/sparsearray-free-response-answer/)"
   ]
  },
  {
   "cell_type": "code",
   "execution_count": null,
   "metadata": {
    "vscode": {
     "languageId": "java"
    }
   },
   "outputs": [],
   "source": [
    "/*\n",
    " * Part A\n",
    " * Notes: Understanding what a Sparse Array is \n",
    " */\n",
    "public int getValueAt(int row, int col) {\n",
    "    for (SparseArrayEntry entry: entries) {\n",
    "        if (entry.getRow() == row && entry.getCol() == col) {\n",
    "            return entry.getValue();\n",
    "        }\n",
    "    }\n",
    "    return 0;\n",
    "}\n",
    "\n",
    " /*\n",
    "  * Part B\n",
    "  * Notes: Understanding what a Sparse Array is \n",
    "  */\n",
    "  public void removeColumn(int col) {\n",
    "    for (int i = 0; i < entries[0].length; i++) {\n",
    "        for (int j = 0; j < entries.length; j++) {\n",
    "            if (i == col) {\n",
    "                entries[j][i] = 0;\n",
    "            }\n",
    "\n",
    "            if (i > col && entries[j][i].getValueAt(j, i) != 0) {\n",
    "                int temp = entries[j][i];\n",
    "                entries[j][i] = 0;\n",
    "                entries[j][i - 1] = temp;\n",
    "            }\n",
    "        }\n",
    "    }\n",
    "  }\n",
    "  // try 2\n",
    "  public void removeColumn(int col) {\n",
    "    int i = 0; \n",
    "    while (i < entries.size()) {\n",
    "        if (entries.get(i).getCol() == col) {\n",
    "            entries.remove(i);\n",
    "        }\n",
    "\n",
    "        if (entries.get(i).getCol() > col) {\n",
    "            entries.set(i, new SparseArrayEntry(entries.get(i).getRow(), entries.get(i).getCol() - 1, entries.get(i).getValue()));\n",
    "        }\n",
    "        i++;\n",
    "    }\n",
    "    numCols--;\n",
    "  }"
   ]
  }
 ],
 "metadata": {
  "kernelspec": {
   "display_name": "java (IJava/j!)",
   "language": "java",
   "name": "jbang-ijava"
  },
  "language_info": {
   "codemirror_mode": "java",
   "file_extension": ".jshell",
   "mimetype": "text/x-java-source",
   "name": "Java",
   "pygments_lexer": "java",
   "version": "22.0.2+9-70"
  }
 },
 "nbformat": 4,
 "nbformat_minor": 2
}
