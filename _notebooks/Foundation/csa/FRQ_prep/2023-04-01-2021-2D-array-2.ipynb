{
 "cells": [
  {
   "cell_type": "markdown",
   "metadata": {},
   "source": [
    "---\n",
    "toc: false \n",
    "layout: post\n",
    "title: 2019 FRQ4\n",
    "description: 2D Array\n",
    "courses: { csa: {week: 25} }\n",
    "type: ccc\n",
    "menu: csa/FRQ_prep/2019-FRQ4.html\n",
    "permalink: csa/FRQ_prep/2019-FRQ4\n",
    "---"
   ]
  },
  {
   "cell_type": "markdown",
   "metadata": {},
   "source": [
    "# Evaluation\n",
    "Relatively easy."
   ]
  },
  {
   "cell_type": "markdown",
   "metadata": {},
   "source": [
    "# Question & Solution\n",
    "[Question](https://apcentral.collegeboard.org/media/pdf/ap19-frq-computer-science-a.pdf)\n",
    "[Solution](https://www.apcomputersciencetutoring.com/lightboard-free-response-answer/) "
   ]
  },
  {
   "cell_type": "code",
   "execution_count": null,
   "metadata": {
    "vscode": {
     "languageId": "java"
    }
   },
   "outputs": [],
   "source": [
    "/*\n",
    " * Testing\n",
    " */\n",
    "public class Main {\n",
    "    public static void main(String[] args) {\n",
    "       \n",
    "    }\n",
    "}\n",
    "\n",
    "public class LightBoard {\n",
    "    private boolean[][] lights;\n",
    "\n",
    "    /*\n",
    "     * Part A\n",
    "     * Score:\n",
    "     * Notes:\n",
    "     */\n",
    "    public LightBoard(int numRows, int numCols) {\n",
    "        lights = new boolean[numRows][numCols];\n",
    "        for (int i = 0; i < lights.length; i++) {\n",
    "            for (int j = 0; j < lights[0].length; j++) {\n",
    "                double num = Math.random();\n",
    "                if (num <= 0.4) {\n",
    "                    lights[i][j] = true;\n",
    "\n",
    "                // don't need else here because booleans default to false\n",
    "                } else {\n",
    "                    lights[i][j] = false;\n",
    "                }\n",
    "            }\n",
    "        }\n",
    "    }\n",
    "\n",
    "    /*\n",
    "     * Part B\n",
    "     * Score:\n",
    "     * Notes:\n",
    "     */\n",
    "    public boolean evaluateLight(int row, int col) {\n",
    "        int lightsOnInCol = 0;\n",
    "        for (int j = 0; j < lights.length; j++) {\n",
    "            if (lights[j][col]) {\n",
    "                lightsOnInCol++;\n",
    "            }\n",
    "        }\n",
    "\n",
    "        if (lights[row][col] && lightsOnInCol % 2 == 0) {\n",
    "            return false;\n",
    "        }\n",
    "        \n",
    "        // can also use else{} here and omit first part\n",
    "        if (!lights[row][col] && lightsOnInCol % 3 == 0) {\n",
    "            return true;\n",
    "        }\n",
    "\n",
    "        return lights[row][col];\n",
    "    }\n",
    "}\n",
    "\n",
    "Main.main(null);"
   ]
  }
 ],
 "metadata": {
  "kernelspec": {
   "display_name": "java (IJava/j!)",
   "language": "java",
   "name": "jbang-ijava"
  },
  "language_info": {
   "codemirror_mode": "java",
   "file_extension": ".jshell",
   "mimetype": "text/x-java-source",
   "name": "Java",
   "pygments_lexer": "java",
   "version": "22.0.2+9-70"
  }
 },
 "nbformat": 4,
 "nbformat_minor": 2
}
