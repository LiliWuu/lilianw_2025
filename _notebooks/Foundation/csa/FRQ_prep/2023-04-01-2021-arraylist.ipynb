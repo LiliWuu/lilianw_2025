{
 "cells": [
  {
   "cell_type": "markdown",
   "metadata": {},
   "source": [
    "---\n",
    "toc: false \n",
    "layout: post\n",
    "title: 2019 FRQ3\n",
    "description: Arraylist\n",
    "courses: { csa: {week: 25} }\n",
    "type: ccc\n",
    "menu: csa/FRQ_prep/2019-FRQ3.html\n",
    "permalink: csa/FRQ_prep/2019-FRQ3\n",
    "---"
   ]
  },
  {
   "cell_type": "markdown",
   "metadata": {},
   "source": [
    "# Evaluation\n",
    "Overall pretty easy"
   ]
  },
  {
   "cell_type": "markdown",
   "metadata": {},
   "source": [
    "# Question & Solution\n",
    "[Question](https://apcentral.collegeboard.org/media/pdf/ap19-frq-computer-science-a.pdf)\n",
    "[Solution](https://www.apcomputersciencetutoring.com/delimiters-free-response-answer/)"
   ]
  },
  {
   "cell_type": "code",
   "execution_count": null,
   "metadata": {
    "vscode": {
     "languageId": "java"
    }
   },
   "outputs": [
    {
     "name": "stdout",
     "output_type": "stream",
     "text": [
      "36\n"
     ]
    }
   ],
   "source": [
    "/*\n",
    " * Testing\n",
    " */\n",
    "public class Main {\n",
    "    public static void main(String[] args) {\n",
    "       \n",
    "    }\n",
    "}\n",
    "\n",
    "public class Delimiters {\n",
    "    private String openDel;\n",
    "    private String closeDel;\n",
    "\n",
    "    public Delimiters(String open, String close) {\n",
    "        openDel = open;\n",
    "        closeDel = close;\n",
    "    }\n",
    "\n",
    "    /*\n",
    "     * Part A\n",
    "     * Score:\n",
    "     * Notes: Use .equals() when comparing Strings!!\n",
    "     */\n",
    "    public ArrayList<String> getDelimitersList(String[] tokens) {\n",
    "        ArrayList<String> delimiters = new ArrayList<>();\n",
    "        for (String token: tokens) {\n",
    "            if (token == openDel || token == closeDel) {\n",
    "                delimiters.add(token);\n",
    "            }\n",
    "        }\n",
    "        return delimiters;\n",
    "    }\n",
    "\n",
    "    /*\n",
    "     * Part B\n",
    "     * Score:\n",
    "     * Notes: Remember to use .equals() when comparing String\n",
    "     */\n",
    "    public boolean isBalanced(ArrayList<String> delimiters) {\n",
    "        int openDelCount = 0;\n",
    "        int closeDelCount = 0;\n",
    "        for (String delimiter: delimiters) {\n",
    "            // !! when comparing Strings, use .equals() !!\n",
    "            if (delimiter == openDel) {\n",
    "                openDelCount++\n",
    "            } \n",
    "            \n",
    "            if (delimiter == closeDel) {\n",
    "                closeDelCount++;\n",
    "            }\n",
    "\n",
    "            if (closeDelCount > openDelCount) {\n",
    "                return false;\n",
    "            }\n",
    "        }\n",
    "\n",
    "        return (openDelCount == closeDelCount);\n",
    "    }\n",
    "}\n",
    "\n",
    "Main.main(null);"
   ]
  }
 ],
 "metadata": {
  "kernelspec": {
   "display_name": "java (IJava/j!)",
   "language": "java",
   "name": "jbang-ijava"
  },
  "language_info": {
   "codemirror_mode": "java",
   "file_extension": ".jshell",
   "mimetype": "text/x-java-source",
   "name": "Java",
   "pygments_lexer": "java",
   "version": "22.0.2+9-70"
  }
 },
 "nbformat": 4,
 "nbformat_minor": 2
}
