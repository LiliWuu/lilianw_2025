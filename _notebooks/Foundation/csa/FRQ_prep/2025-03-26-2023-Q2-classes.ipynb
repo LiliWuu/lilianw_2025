{
 "cells": [
  {
   "cell_type": "markdown",
   "metadata": {},
   "source": [
    "---\n",
    "toc: false \n",
    "layout: post\n",
    "title: 2023 Q2 Sign\n",
    "description: Classes practice FRQ problem\n",
    "courses: { csa: {week: 25} }\n",
    "type: ccc\n",
    "menu: csa/FRQ_prep/2023-Q2.html\n",
    "permalink: csa/FRQ_prep/2023-Q2\n",
    "---"
   ]
  },
  {
   "cell_type": "markdown",
   "metadata": {},
   "source": [
    "# Question\n",
    "\n",
    "[Link](https://www.youtube.com/watch?v=GPXIwkjy2hw&list=PLoGgviqq4845xKOY11PnkE7aqJC7-bYrd&index=5&ab_channel=AdvancedPlacement)"
   ]
  },
  {
   "cell_type": "code",
   "execution_count": 20,
   "metadata": {},
   "outputs": [
    {
     "name": "stdout",
     "output_type": "stream",
     "text": [
      "3\n",
      "Everything on s;ale, please com;e in\n"
     ]
    }
   ],
   "source": [
    "/*\n",
    " * Testing\n",
    " */\n",
    "public class Main {\n",
    "    public static void main(String[] args) {\n",
    "        Sign sign = new Sign(\"Everything on sale, please come in\", 15);\n",
    "        System.out.println(sign.numberOfLines());\n",
    "        // System.out.println(1%30);\n",
    "        System.out.println(sign.getLines());\n",
    "    }\n",
    "}\n",
    "\n",
    "public class Sign {\n",
    "    /*\n",
    "     * Score: 100%\n",
    "     * Notes:\n",
    "     * Solution was message = m and width = w, but I don't think it matters too much\n",
    "     */\n",
    "    private String message;\n",
    "    private int width;\n",
    "\n",
    "    public Sign(String message, int width) {\n",
    "        this.message = message;\n",
    "        this.width = width;\n",
    "    }\n",
    "\n",
    "    /*\n",
    "     * Score: 100% \n",
    "     * Notes: \n",
    "     * - use .length() to get length of String\n",
    "     * Did it correctly, but solution had a slightly diff approach\n",
    "     */\n",
    "    public int numberOfLines() {\n",
    "        int lines = message.length() / width;\n",
    "        if (message.length() % width != 0) {\n",
    "            lines++;\n",
    "        }\n",
    "        return lines;\n",
    "\n",
    "        // OR (solution)\n",
    "        // int len = message.length();\n",
    "        // if (len % width == 0) {\n",
    "        //     return len / width;\n",
    "        // } else {\n",
    "        //     return len / width + 1;\n",
    "        // }\n",
    "    }\n",
    "\n",
    "    /*\n",
    "     * Score: 25% \n",
    "     * - null case code is right, rest is wrong (although the for loop logic is on the right track)\n",
    "     * Notes: !!HARD QUESTION!! (good for review)\n",
    "     * - tests String methods\n",
    "     * - know to use substring() method to separate entire string before adding string in between\n",
    "     */\n",
    "\n",
    "    public String getLines() {\n",
    "        if (message.length() == 0) {\n",
    "            return null;\n",
    "        } \n",
    "\n",
    "        // int semiColons = message.length() / width;\n",
    "        // for (int i = width; i <= semiColons; i += width) { \n",
    "        //     for (int j = 0; j < message.length(); j++) {\n",
    "        //         if (message.)\n",
    "        //     }\n",
    "        // }\n",
    "\n",
    "        // ANSWER/retry from memory\n",
    "        String signLines = \"\";\n",
    "        for (int i = 1; i < numberOfLines(); i++) {\n",
    "            signLines += message.substring((i - 1) * width, i * width) + \";\";\n",
    "        }\n",
    "        signLines += message.substring((numberOfLines() - 1) * width);\n",
    "        return signLines;\n",
    "    }\n",
    "}\n",
    "Main.main(null);"
   ]
  }
 ],
 "metadata": {
  "kernelspec": {
   "display_name": "java (IJava/j!)",
   "language": "java",
   "name": "jbang-ijava"
  },
  "language_info": {
   "codemirror_mode": "java",
   "file_extension": ".jshell",
   "mimetype": "text/x-java-source",
   "name": "java",
   "pygments_lexer": "java",
   "version": "22.0.2+9-70"
  }
 },
 "nbformat": 4,
 "nbformat_minor": 2
}
