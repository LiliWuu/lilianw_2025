{
 "cells": [
  {
   "cell_type": "markdown",
   "metadata": {},
   "source": [
    "---\n",
    "toc: false \n",
    "layout: post\n",
    "title: 2023 Q2 Sign\n",
    "description: Classes practice FRQ problem\n",
    "courses: { csa: {week: 25} }\n",
    "type: ccc\n",
    "menu: csa/FRQ_prep/2023-Q2.html\n",
    "permalink: csa/FRQ_prep/2023-Q2\n",
    "---"
   ]
  },
  {
   "cell_type": "markdown",
   "metadata": {},
   "source": [
    "# Question\n",
    "\n",
    "<img width=\"998\" alt=\"Image\" src=\"https://github.com/user-attachments/assets/401f362e-50ca-401f-bdb2-cf6705f91d9a\" />\n",
    "<img width=\"1011\" alt=\"Image\" src=\"https://github.com/user-attachments/assets/194192a8-585a-4f11-b465-0788f81df4cc\" />\n",
    "<img width=\"963\" alt=\"Image\" src=\"https://github.com/user-attachments/assets/eed6ff65-65eb-4d26-9bc7-0832af20606b\" />\n",
    "<img width=\"1035\" alt=\"Image\" src=\"https://github.com/user-attachments/assets/f648b09c-56d6-438f-8fa2-4197c6aa6d38\" />\n"
   ]
  },
  {
   "cell_type": "code",
   "execution_count": null,
   "metadata": {
    "vscode": {
     "languageId": "java"
    }
   },
   "outputs": [],
   "source": [
    "public class Sign {\n",
    "    \n",
    "}"
   ]
  }
 ],
 "metadata": {
  "language_info": {
   "name": "python"
  }
 },
 "nbformat": 4,
 "nbformat_minor": 2
}
