{
 "cells": [
  {
   "cell_type": "markdown",
   "metadata": {},
   "source": [
    "---\n",
    "toc: false \n",
    "layout: post\n",
    "title: 2017 Q1 Digits\n",
    "description: Method and control structures practice FRQ problem\n",
    "courses: { csa: {week: 25} }\n",
    "type: ccc\n",
    "menu: csa/FRQ_prep/2017-Q1.html\n",
    "permalink: csa/FRQ_prep/2017-Q1\n",
    "---"
   ]
  },
  {
   "cell_type": "markdown",
   "metadata": {},
   "source": [
    "# Evaluation\n",
    "Pretty tricky. Good to review."
   ]
  },
  {
   "cell_type": "markdown",
   "metadata": {},
   "source": [
    "# Question\n",
    "\n",
    "[Link](https://secure-media.collegeboard.org/ap/pdf/ap-computer-science-a-frq-2017.pdf)"
   ]
  },
  {
   "cell_type": "code",
   "execution_count": null,
   "metadata": {
    "vscode": {
     "languageId": "java"
    }
   },
   "outputs": [],
   "source": [
    "public class Digits {\n",
    "    private ArrayList<Integer> digitList;\n",
    "\n",
    "    /* \n",
    "     * Part A\n",
    "     * Notes: Was stuck and didn't know how to isolate the digits\n",
    "     * in the beginning and add them to the ArrayList\n",
    "     * !! Review this !!\n",
    "    */\n",
    "    public Digits(int num) {\n",
    "        // 15704 / 10^4 = 1\n",
    "        digitList = new ArrayList<Integer>();\n",
    "\n",
    "        // initalization was right. Heres the solution to the rest:\n",
    "        // for the case that num = 0\n",
    "        if (num == 0) {\n",
    "            digitList.add(new Integer(0));\n",
    "        }\n",
    "\n",
    "        while (num > 0) {\n",
    "            // can add to the beginning of arraylists\n",
    "            digitList.add(0, new Integer(num % 10)); // !! key concept !!\n",
    "            num /= 10;\n",
    "        }\n",
    "    }\n",
    "\n",
    "    /*\n",
    "     * Part B\n",
    "     * Notes: .intValue() method in the Integer class !!\n",
    "     */\n",
    "    public boolean isStrictlyIncreasing() {\n",
    "        for (int i = 0; i < digitList - 1; i++) {\n",
    "            // should be digitList.get(i).intValue()\n",
    "            if (digitList.get(i) >= digitList.get(i + 1)) {\n",
    "                return false;\n",
    "            }\n",
    "        }\n",
    "        return true;\n",
    "    }\n",
    "}"
   ]
  }
 ],
 "metadata": {
  "language_info": {
   "name": "python"
  }
 },
 "nbformat": 4,
 "nbformat_minor": 2
}
