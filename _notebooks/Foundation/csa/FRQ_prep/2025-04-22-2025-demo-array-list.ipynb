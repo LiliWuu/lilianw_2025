{
 "cells": [
  {
   "cell_type": "markdown",
   "id": "b961f865",
   "metadata": {},
   "source": [
    "---\n",
    "toc: false \n",
    "layout: post\n",
    "title: ArrayList Demonstration\n",
    "courses: { csa: {week: 25} }\n",
    "type: ccc\n",
    "menu: csa/arraylist.html\n",
    "permalink: csa/arraylist\n",
    "---"
   ]
  },
  {
   "cell_type": "code",
   "execution_count": 1,
   "id": "434d5259",
   "metadata": {
    "vscode": {
     "languageId": "java"
    }
   },
   "outputs": [
    {
     "name": "stdout",
     "output_type": "stream",
     "text": [
      "Toy: mouse\n",
      "Toy: feather wand\n"
     ]
    }
   ],
   "source": [
    "public class CatReview {\n",
    "    public static void main(String[] args) {\n",
    "        ArrayList<String> toys = new ArrayList<>();\n",
    "        toys.add(\"mouse\");\n",
    "        toys.add(\"feather wand\");\n",
    "        toys.add(\"laser\");\n",
    "        toys.remove(\"laser\");\n",
    "\n",
    "        for (String toy : toys) {\n",
    "            System.out.println(\"Toy: \" + toy);\n",
    "        }\n",
    "    }\n",
    "}\n",
    "CatReview.main(null);"
   ]
  },
  {
   "cell_type": "markdown",
   "id": "64b86b0c",
   "metadata": {},
   "source": [
    "# Things to Watch Out For\n",
    "- Using .length instead of .size() for ArrayLists\n",
    "- Removing values in a loop without accounting for index shift"
   ]
  }
 ],
 "metadata": {
  "kernelspec": {
   "display_name": "java (IJava/j!)",
   "language": "java",
   "name": "jbang-ijava"
  },
  "language_info": {
   "codemirror_mode": "java",
   "file_extension": ".jshell",
   "mimetype": "text/x-java-source",
   "name": "Java",
   "pygments_lexer": "java",
   "version": "22.0.2+9-70"
  }
 },
 "nbformat": 4,
 "nbformat_minor": 5
}
