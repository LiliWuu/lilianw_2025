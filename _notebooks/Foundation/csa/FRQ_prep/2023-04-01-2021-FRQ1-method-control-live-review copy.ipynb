{
 "cells": [
  {
   "cell_type": "markdown",
   "metadata": {},
   "source": [
    "---\n",
    "toc: false \n",
    "layout: post\n",
    "title: 2021 FRQ3 ClubMembers - Live Review\n",
    "description: Array Arraylist Traversals practice FRQ problem\n",
    "courses: { csa: {week: 25} }\n",
    "type: ccc\n",
    "menu: csa/FRQ_prep/2021-FRQ3.html\n",
    "permalink: csa/FRQ_prep/2021-FRQ3\n",
    "---"
   ]
  },
  {
   "cell_type": "markdown",
   "metadata": {},
   "source": [
    "# Question\n",
    "[Link](https://www.youtube.com/watch?v=JMxBmmcFyXU&list=PLoGgviqq4845xKOY11PnkE7aqJC7-bYrd&index=19&ab_channel=AdvancedPlacement)"
   ]
  },
  {
   "cell_type": "code",
   "execution_count": null,
   "metadata": {},
   "outputs": [
    {
     "name": "stdout",
     "output_type": "stream",
     "text": [
      "36\n"
     ]
    }
   ],
   "source": [
    "/*\n",
    " * Testing\n",
    " */\n",
    "public class Main {\n",
    "    public static void main(String[] args) {\n",
    "       \n",
    "    }\n",
    "}\n",
    "\n",
    "public class ClubMembers {\n",
    "    private ArrayList<MemberInfo> memberList;\n",
    "\n",
    "    /*\n",
    "     * helper methods\n",
    "     */\n",
    "    public MemberInfo(String name, int gradYear, boolean hasGoodStanding) {\n",
    "\n",
    "    }\n",
    "\n",
    "    /*\n",
    "     * Part A\n",
    "     * Score: 100%\n",
    "     * Notes:\n",
    "     */\n",
    "    public void addMembers(String[] names, int gradYear) {\n",
    "        for (String name: name) {\n",
    "            MemberInfo newMember = new MemberInfo(name, gradYear, true);\n",
    "            memberList.add(newMember);\n",
    "        }\n",
    "    }\n",
    "\n",
    "    /*\n",
    "     * Part B\n",
    "     * Score: 90%\n",
    "     * Notes:\n",
    "     * - I initialized the new ArrayList, but never created it\n",
    "     * (got confused with creating instance variables and declaring\n",
    "     * maybe wrong maybe not?)\n",
    "     */\n",
    "    public ArrayList<MemberInfo> removeMembers(int year) {\n",
    "        // ArrayList<MemberInfo> gradAndGoodStanding;\n",
    "\n",
    "        //Correctly creating the Arraylist\n",
    "        ArrayList<MemberInfo> gradAndGoodStanding = new ArrayList<MemberInfo>();\n",
    "\n",
    "        // Can combine two for loops into one\n",
    "        for (MemberInfo member: memberList) {\n",
    "            if (member.getGradYear() <= year && member.inGoodStanding()) {\n",
    "                gradAndGoodStanding.add(member);\n",
    "            }\n",
    "        }\n",
    "        for (int i = memberList.size() - 1; i >= 0; i--) {\n",
    "            if (memberList[i].getGradYear() <= year) {\n",
    "                memberList.remove(i);\n",
    "            }\n",
    "        }\n",
    "        return gradAndGoodStanding;\n",
    "    }\n",
    "}\n",
    "Main.main(null);"
   ]
  }
 ],
 "metadata": {
  "kernelspec": {
   "display_name": "java (IJava/j!)",
   "language": "java",
   "name": "jbang-ijava"
  },
  "language_info": {
   "codemirror_mode": "java",
   "file_extension": ".jshell",
   "mimetype": "text/x-java-source",
   "name": "java",
   "pygments_lexer": "java",
   "version": "22.0.2+9-70"
  }
 },
 "nbformat": 4,
 "nbformat_minor": 2
}
