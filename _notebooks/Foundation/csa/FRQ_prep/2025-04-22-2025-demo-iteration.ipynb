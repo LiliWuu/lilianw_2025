{
 "cells": [
  {
   "cell_type": "markdown",
   "id": "b961f865",
   "metadata": {},
   "source": [
    "---\n",
    "toc: false \n",
    "layout: post\n",
    "title: Iteration\n",
    "courses: { csa: {week: 25} }\n",
    "type: ccc\n",
    "menu: csa/iteration.html\n",
    "permalink: csa/iteration\n",
    "---"
   ]
  },
  {
   "cell_type": "code",
   "execution_count": null,
   "id": "434d5259",
   "metadata": {
    "vscode": {
     "languageId": "java"
    }
   },
   "outputs": [
    {
     "name": "stdout",
     "output_type": "stream",
     "text": [
      "Unit 4:\n",
      "Leo knocks something off the counter\n",
      "Leo knocks something off the counter\n",
      "Leo knocks something off the counter\n"
     ]
    }
   ],
   "source": [
    "public class CatReview {\n",
    "    public static void main(String[] args) {\n",
    "        for (int i = 0; i < 3; i++) {\n",
    "            System.out.println(\"Leo knocks something off the counter\");\n",
    "        }\n",
    "    }\n",
    "}\n",
    "CatReview.main(null);"
   ]
  },
  {
   "cell_type": "markdown",
   "id": "1e5b758a",
   "metadata": {},
   "source": [
    "# Things to Watch Out For\n",
    "- Recognizing the different bounds (< vs. <=)\n",
    "- Recognizing incorrect bounds and being able to trace through each iteration"
   ]
  }
 ],
 "metadata": {
  "kernelspec": {
   "display_name": "java (IJava/j!)",
   "language": "java",
   "name": "jbang-ijava"
  },
  "language_info": {
   "codemirror_mode": "java",
   "file_extension": ".jshell",
   "mimetype": "text/x-java-source",
   "name": "Java",
   "pygments_lexer": "java",
   "version": "22.0.2+9-70"
  }
 },
 "nbformat": 4,
 "nbformat_minor": 5
}
