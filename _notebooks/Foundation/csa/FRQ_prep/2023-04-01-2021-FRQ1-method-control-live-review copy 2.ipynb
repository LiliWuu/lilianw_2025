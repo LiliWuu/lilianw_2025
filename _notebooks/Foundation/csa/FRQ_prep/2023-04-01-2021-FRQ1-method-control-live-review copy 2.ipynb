{
 "cells": [
  {
   "cell_type": "markdown",
   "metadata": {},
   "source": [
    "---\n",
    "toc: false \n",
    "layout: post\n",
    "title: 2022 FRQ6 Rewrite - Live Review\n",
    "description: Inheritance, Superclasses, Subclasses\n",
    "courses: { csa: {week: 25} }\n",
    "type: ccc\n",
    "menu: csa/FRQ_prep/2022-FRQ6.html\n",
    "permalink: csa/FRQ_prep/2022-FRQ6\n",
    "---"
   ]
  },
  {
   "cell_type": "markdown",
   "metadata": {},
   "source": [
    "# Question\n",
    "[Link](https://www.youtube.com/watch?v=a2v3RBi8llA&list=PLoGgviqq4845xKOY11PnkE7aqJC7-bYrd&index=23&ab_channel=AdvancedPlacement)"
   ]
  },
  {
   "cell_type": "code",
   "execution_count": null,
   "metadata": {},
   "outputs": [
    {
     "name": "stdout",
     "output_type": "stream",
     "text": [
      "36\n"
     ]
    }
   ],
   "source": [
    "/*\n",
    " * Testing\n",
    " */\n",
    "public class Main {\n",
    "    public static void main(String[] args) {\n",
    "       \n",
    "    }\n",
    "}\n",
    "\n",
    "public class StringChecker {\n",
    "    private int minLength;\n",
    "    private int maxLength;\n",
    "\n",
    "    public StringChecker(int min, int max) {\n",
    "        minLength = min;\n",
    "        maxLength = max;\n",
    "    }\n",
    "\n",
    "    public boolean isValid(String str) {\n",
    "        return str.length() >= minLength && \n",
    "        str.length() <= maxLength;\n",
    "    }\n",
    "}\n",
    "\n",
    "public class CodeWordChecker {\n",
    "    private String strNotInclude;\n",
    "\n",
    "    /*\n",
    "     * Part A\n",
    "     * Score: 80%\n",
    "     * Notes: constructor is all correct\n",
    "     * - isValid() correctly calls constructor BUT did not need to make own \"search\" feature\n",
    "     * - use indexOf(String str) <-- returns -1 if str is not in a string\n",
    "     */\n",
    "    public CodeWordChecker(int min, int max, String strNotInclude) {\n",
    "        super(min, max);\n",
    "        this.strNotInclude = strNotInclude;\n",
    "    }\n",
    "\n",
    "    /*\n",
    "     * Part B\n",
    "     * Score: 100%\n",
    "     * Notes:\n",
    "     */\n",
    "    public CodeWordChecker(String strNotInclude) {\n",
    "        super(6,20);\n",
    "        this.strNotInclude = strNotInclude;\n",
    "    }\n",
    "\n",
    "    @Override\n",
    "    public boolean isValid(String str) {\n",
    "        // for (int i = 0; i < str.length(); i++) {\n",
    "        //     if (str.charAt(i) == strNotInclude) {\n",
    "        //         return false;\n",
    "        //     }\n",
    "        // }\n",
    "        \n",
    "        // if (super.isValid(str)) {\n",
    "        //     return true;\n",
    "        // }\n",
    "        // return false;\n",
    "\n",
    "        // Try 2\n",
    "        return super.valid(str) && str.indexOf(strNotInclude) == -1;\n",
    "    }\n",
    "}\n",
    "\n",
    "Main.main(null);"
   ]
  }
 ],
 "metadata": {
  "kernelspec": {
   "display_name": "java (IJava/j!)",
   "language": "java",
   "name": "jbang-ijava"
  },
  "language_info": {
   "codemirror_mode": "java",
   "file_extension": ".jshell",
   "mimetype": "text/x-java-source",
   "name": "java",
   "pygments_lexer": "java",
   "version": "22.0.2+9-70"
  }
 },
 "nbformat": 4,
 "nbformat_minor": 2
}
