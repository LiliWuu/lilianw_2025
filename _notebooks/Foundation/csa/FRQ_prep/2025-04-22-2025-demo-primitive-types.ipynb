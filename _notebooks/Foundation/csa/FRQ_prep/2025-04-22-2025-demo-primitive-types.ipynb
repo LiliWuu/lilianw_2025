{
 "cells": [
  {
   "cell_type": "markdown",
   "id": "b961f865",
   "metadata": {},
   "source": [
    "---\n",
    "toc: false \n",
    "layout: post\n",
    "title: Primitive Types Demonstration\n",
    "courses: { csa: {week: 25} }\n",
    "type: ccc\n",
    "menu: csa/primitive-types.html\n",
    "permalink: csa/primitive-types\n",
    "---"
   ]
  },
  {
   "cell_type": "code",
   "execution_count": null,
   "id": "434d5259",
   "metadata": {
    "vscode": {
     "languageId": "java"
    }
   },
   "outputs": [
    {
     "name": "stdout",
     "output_type": "stream",
     "text": [
      "Alice is 3 years old.\n",
      "Leo weighs 12.6 pounds.\n",
      "Is Cinder sleeping? true\n"
     ]
    }
   ],
   "source": [
    "public class CatReview {\n",
    "    public static void main(String[] args) {\n",
    "        int ageAlice = 3;\n",
    "        double weightLeo = 12.6;\n",
    "        boolean isCinderSleeping = true;\n",
    "\n",
    "        System.out.println(\"Alice is \" + ageAlice + \" years old.\");\n",
    "        System.out.println(\"Leo weighs \" + weightLeo + \" pounds.\");\n",
    "        System.out.println(\"Is Cinder sleeping? \" + isCinderSleeping);\n",
    "    }\n",
    "}\n",
    "CatReview.main(null);"
   ]
  }
 ],
 "metadata": {
  "kernelspec": {
   "display_name": "java (IJava/j!)",
   "language": "java",
   "name": "jbang-ijava"
  },
  "language_info": {
   "codemirror_mode": "java",
   "file_extension": ".jshell",
   "mimetype": "text/x-java-source",
   "name": "Java",
   "pygments_lexer": "java",
   "version": "22.0.2+9-70"
  }
 },
 "nbformat": 4,
 "nbformat_minor": 5
}
