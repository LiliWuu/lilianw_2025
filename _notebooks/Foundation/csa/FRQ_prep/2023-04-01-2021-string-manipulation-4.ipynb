{
 "cells": [
  {
   "cell_type": "markdown",
   "metadata": {},
   "source": [
    "---\n",
    "toc: false \n",
    "layout: post\n",
    "title: 2016 FRQ2\n",
    "description: String Manipulation\n",
    "courses: { csa: {week: 25} }\n",
    "type: ccc\n",
    "menu: csa/FRQ_prep/2016-FRQ2.html\n",
    "permalink: csa/FRQ_prep/2016-FRQ2\n",
    "---"
   ]
  },
  {
   "cell_type": "markdown",
   "metadata": {},
   "source": [
    "# Evaluation\n",
    "Pretty hard. Good to review."
   ]
  },
  {
   "cell_type": "markdown",
   "metadata": {},
   "source": [
    "# Question & Solution\n",
    "[Question](https://apcentral.collegeboard.org/media/pdf/ap24-frq-comp-sci-a.pdf)\n",
    "[Solution](https://www.apcomputersciencetutoring.com/scoreboard-free-response-answer/) "
   ]
  },
  {
   "cell_type": "code",
   "execution_count": null,
   "metadata": {},
   "outputs": [],
   "source": [
    "public class LogMessage {\n",
    "    private String machineId;\n",
    "    private String description;\n",
    "\n",
    "    /*\n",
    "     * Part A\n",
    "     * Notes:\n",
    "     */\n",
    "    public LogMessage(String message) {\n",
    "        int indexOfColon = message.indexOf(\":\");\n",
    "        machineId = message.substring(0, indexOfColon);\n",
    "        description = message.substring(indexOfColon + 1);\n",
    "    }\n",
    "\n",
    "    /*\n",
    "     * Part B\n",
    "     * Notes:\n",
    "     */\n",
    "    public boolean containsWord(String keyword) {\n",
    "        if (description.equals(keyword)) {\n",
    "            return true;\n",
    "        }\n",
    "\n",
    "        if (description.indexOf(\" \" + keyword + \" \") != -1) {\n",
    "            return true;\n",
    "        }\n",
    "\n",
    "        if (description.indexOf(keyword +  \" \") == 0) {\n",
    "            return true;\n",
    "        }\n",
    "\n",
    "        if (description.substring(description.length() - keyword.length() - 1).equals(\" \" + keyword)) {\n",
    "            return true;\n",
    "        }\n",
    "\n",
    "        return false;\n",
    "    }\n",
    "\n",
    "    public String getMachineId() {\n",
    "        return machineId;\n",
    "    }\n",
    "\n",
    "    public String getDescription() {\n",
    "        return description;\n",
    "    }\n",
    "}\n",
    "\n",
    "public class SystemLog {\n",
    "    private List<LogMessage> messageList;\n",
    "\n",
    "    /*\n",
    "     * Part C\n",
    "     * Notes:\n",
    "     */\n",
    "    public List<LogMessage> removeMessages(String keyword) {\n",
    "        // !! new ArrayList !! \n",
    "        List<LogMessage> messagesWithWord = new List<LogMessage>();\n",
    "        int i = 0; \n",
    "        while (i < messageList.size()) {\n",
    "            if (messageList.get(i).containsWord(keyword)) {\n",
    "                messagesWithWord.add(messageList.get(i));\n",
    "                messageList.remove(i);\n",
    "            } else {\n",
    "                i++;\n",
    "            }\n",
    "        }\n",
    "\n",
    "        return messagesWithWord;\n",
    "    }\n",
    "}"
   ]
  }
 ],
 "metadata": {
  "kernelspec": {
   "display_name": "java (IJava/j!)",
   "language": "java",
   "name": "jbang-ijava"
  },
  "language_info": {
   "codemirror_mode": "java",
   "file_extension": ".jshell",
   "mimetype": "text/x-java-source",
   "name": "java",
   "pygments_lexer": "java",
   "version": "22.0.2+9-70"
  }
 },
 "nbformat": 4,
 "nbformat_minor": 2
}
