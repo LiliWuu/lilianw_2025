{
 "cells": [
  {
   "cell_type": "markdown",
   "metadata": {},
   "source": [
    "---\n",
    "toc: false \n",
    "layout: post\n",
    "title: 2023 Q1 Appointment Book\n",
    "description: Method and control structures practice FRQ problem\n",
    "courses: { csa: {week: 25} }\n",
    "type: ccc\n",
    "menu: csa/FRQ_prep/2023-Q1.html\n",
    "permalink: csa/FRQ_prep/2023-Q1\n",
    "---"
   ]
  },
  {
   "cell_type": "markdown",
   "metadata": {},
   "source": [
    "# Question\n",
    "\n",
    "<img width=\"1421\" alt=\"Image\" src=\"https://github.com/user-attachments/assets/39d7e16f-3880-4591-86e7-ff987fb844fc\"/>\n",
    "<img width=\"1363\" alt=\"Image\" src=\"https://github.com/user-attachments/assets/528e333e-a4ed-4c20-85ea-5d4583289c0c\"/>\n",
    "<img width=\"1406\" alt=\"Image\" src=\"https://github.com/user-attachments/assets/ce80d4aa-1814-4785-ae38-3706e0bf73c3\"/>\n",
    "<img width=\"1665\" alt=\"Image\" src=\"https://github.com/user-attachments/assets/1c017529-2786-4450-bb5d-5849ccbe8b86\"/>\n",
    "<img width=\"1036\" alt=\"Image\" src=\"https://github.com/user-attachments/assets/e468ced3-53e6-4ff6-b047-4ef3533fc95f\"/>\n",
    "\n"
   ]
  },
  {
   "cell_type": "code",
   "execution_count": null,
   "metadata": {
    "vscode": {
     "languageId": "java"
    }
   },
   "outputs": [],
   "source": [
    "public class AppointmentBook {\n",
    "    /*\n",
    "     * Helper methods\n",
    "     */\n",
    "    private boolean isMinuteFree(int period, int minute) {\n",
    "\n",
    "    }\n",
    "\n",
    "    private void reserveBlock(int period, int startMinute, int duration) {\n",
    "\n",
    "    }\n",
    "\n",
    "    /*\n",
    "     * Part A\n",
    "     * Scoring: 100%\n",
    "     */\n",
    "    public int findFreeBlock(int period, int duration) {\n",
    "        int tracker = 0;\n",
    "        for (int minute = 0; minute < 60; minute++) {\n",
    "            if (isMinuteFree(period, minute)) {\n",
    "                tracker++;\n",
    "                if (tracker == duration) {\n",
    "                    return minute - duration + 1;\n",
    "                }\n",
    "            } else {\n",
    "                tracker = 0;\n",
    "            }\n",
    "        }\n",
    "        return -1;\n",
    "    }\n",
    "\n",
    "    /*\n",
    "     * Part B\n",
    "     * Scoring: \n",
    "     */\n",
    "\n",
    "    public boolean makeAppointment (int startPeriod, int endPeriod, int duration) {\n",
    "        \n",
    "    }\n",
    "}"
   ]
  }
 ],
 "metadata": {
  "language_info": {
   "name": "python"
  }
 },
 "nbformat": 4,
 "nbformat_minor": 2
}
