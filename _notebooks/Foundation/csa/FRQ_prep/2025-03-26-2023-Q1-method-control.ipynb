{
 "cells": [
  {
   "cell_type": "markdown",
   "metadata": {},
   "source": [
    "---\n",
    "toc: false \n",
    "layout: post\n",
    "title: 2023 Q1 Appointment Book\n",
    "description: Method and control structures practice FRQ problem\n",
    "courses: { csa: {week: 25} }\n",
    "type: ccc\n",
    "menu: csa/FRQ_prep/2023-Q1.html\n",
    "permalink: csa/FRQ_prep/2023-Q1\n",
    "---"
   ]
  },
  {
   "cell_type": "markdown",
   "metadata": {},
   "source": [
    "# Question\n",
    "\n",
    "[Link](https://www.youtube.com/watch?v=10S_k-qFpVY&list=PLoGgviqq4845xKOY11PnkE7aqJC7-bYrd&index=4&ab_channel=AdvancedPlacement)"
   ]
  },
  {
   "cell_type": "code",
   "execution_count": null,
   "metadata": {
    "vscode": {
     "languageId": "java"
    }
   },
   "outputs": [],
   "source": [
    "public class AppointmentBook {\n",
    "    /*\n",
    "     * Helper methods\n",
    "     */\n",
    "    private boolean isMinuteFree(int period, int minute) {\n",
    "\n",
    "    }\n",
    "\n",
    "    private void reserveBlock(int period, int startMinute, int duration) {\n",
    "\n",
    "    }\n",
    "\n",
    "    /*\n",
    "     * Part A\n",
    "     * Scoring: 100%\n",
    "     * Notes: :)\n",
    "     */\n",
    "    public int findFreeBlock(int period, int duration) {\n",
    "        int tracker = 0;\n",
    "        for (int minute = 0; minute < 60; minute++) {\n",
    "            if (isMinuteFree(period, minute)) {\n",
    "                tracker++;\n",
    "                if (tracker == duration) {\n",
    "                    return minute - duration + 1;\n",
    "                }\n",
    "            } else {\n",
    "                tracker = 0;\n",
    "            }\n",
    "        }\n",
    "        return -1;\n",
    "    }\n",
    "\n",
    "    /*\n",
    "     * Part B\n",
    "     * Scoring: 100%\n",
    "     * Notes: :)\n",
    "     */\n",
    "\n",
    "    public boolean makeAppointment(int startPeriod, int endPeriod, int duration) {\n",
    "        for (int period = startPeriod; period <= endPeriod; period++) {\n",
    "            if (findFreeBlock(period, duration) != -1) {\n",
    "                reserveBlock(period, findFreeBlock(period, duration), duration);\n",
    "                return true;\n",
    "            }\n",
    "        }\n",
    "        return false;\n",
    "    }\n",
    "}"
   ]
  }
 ],
 "metadata": {
  "language_info": {
   "name": "python"
  }
 },
 "nbformat": 4,
 "nbformat_minor": 2
}
