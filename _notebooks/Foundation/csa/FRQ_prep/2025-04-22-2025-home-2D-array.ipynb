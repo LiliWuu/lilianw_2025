{
 "cells": [
  {
   "cell_type": "markdown",
   "id": "13457a6e",
   "metadata": {},
   "source": [
    "---\n",
    "toc: false \n",
    "layout: post\n",
    "title: My FRQ Work on 2D Array\n",
    "description: Includes the 2D Array FRQs I've done from previous years.\n",
    "courses: { csa: {week: 25} }\n",
    "type: ccc\n",
    "menu: csa/home/2D-array.html\n",
    "permalink: csa/home/2D-array\n",
    "---"
   ]
  },
  {
   "cell_type": "markdown",
   "id": "8c9476b4",
   "metadata": {},
   "source": [
    "# Problems\n",
    "-**[2022 FRQ4](/lilianw_2025/csa/FRQ_prep/2022-FRQ4)**\n"
   ]
  },
  {
   "cell_type": "markdown",
   "id": "cbaead24",
   "metadata": {},
   "source": [
    "# Team Teach HW\n",
    "[Link](/lilianw_2025/csa/frqs/p3/2darrays2/homework)"
   ]
  }
 ],
 "metadata": {
  "language_info": {
   "name": "python"
  }
 },
 "nbformat": 4,
 "nbformat_minor": 5
}
