{
 "cells": [
  {
   "cell_type": "markdown",
   "metadata": {},
   "source": [
    "---\n",
    "layout: post\n",
    "title: Sprint 2\n",
    "description: The homepage for unit 2.\n",
    "type: collab\n",
    "toc: true\n",
    "permalink: /csa/sprint2\n",
    "menu: nav/sprint2.html\n",
    "comments: true\n",
    "courses: { csa: {week: 5} }\n",
    "type: ccc\n",
    "categories: [AP CSA]\n",
    "author: Lilian Wu\n",
    "---"
   ]
  },
  {
   "cell_type": "markdown",
   "metadata": {},
   "source": [
    "# <span style =\"color:#6e28c9\"> Grading Guidelines </span>\n",
    "\n",
    "| **Assignment**             | **Points** | **Grade** | **Evidence**                                                                                                                                                                 |\n",
    "|----------------------------|------------|-----------|------------------------------------------------------------------------------------------------------------------------------------------------------------------------------|\n",
    "| Pull Request (Integration)  | 2          | 1.7       | ![Screenshot](https://github.com/user-attachments/assets/4681e932-8ab2-40e2-aef1-42bd25b1fff2)                                                                                |\n",
    "| Relevancy Checklist (Peer)  | 2          | 1.9       |                                                                                                                                                                              |\n",
    "| Lesson (Group)             | 1          | 0.7       | ![image](https://github.com/user-attachments/assets/9efd6cf4-ca6d-41dd-abda-1fcaafbc439d)                                                                                     |\n",
    "| Homework, Popcorn Hacks     | 1 x 8      | 7         | ![Screenshot](https://github.com/user-attachments/assets/6779cb38-6d04-413c-9cae-74968a90e69f)                                                                                |\n",
    "| Individual Contribution     | 1          | 0.8       | ![Screenshot](https://github.com/user-attachments/assets/02bd571d-6748-474b-aa19-0a4c28273523)                                                                                 |\n",
    "| Personal Notebooks / Blogs  | 1          | 0.8       | ![Screenshot](https://github.com/user-attachments/assets/e1816da3-d53d-432a-bbda-610dd80cc96b)                                                                                 |\n",
    "| **Total**                   | **12**     | **9.6**   |                                                                                                                                                                              |\n",
    "\n",
    "\n",
    "| **Skill**                  | **Points**    | **Grade** | **Evidence** |\n",
    "|----------------------------|---------------|-----------|--------------|\n",
    "| Work Habits (Analytics)    |   1           |     0.9      |    <img width=\"425\" alt=\"Screenshot 2024-10-10 at 11 28 33 AM\" src=\"https://github.com/user-attachments/assets/af6b95dd-7c6b-4684-bf08-6a904336e5e9\">     |\n",
    "| Team Planning (Issue)      |   1           |     0.8      |      https://github.com/KinetekEnergy/studentCSA/issues/8        |\n",
    "| Presentation Memories      |   1           |     0.4      |     ![IMG_6071](https://github.com/user-attachments/assets/d1ddf860-cbae-4b1d-85f4-fc187e6b5ff2) |\n",
    "| Grading and Feedback       |   1           |           |     https://docs.google.com/spreadsheets/d/1U10BMArtUBhoeb8jJivuY9H1p5I47xm4WPgaXtluF6Y/edit?gid=1869562085#gid=1869562085         |\n",
    "| Beyond Perfunctory         |   1           |    0.8       |     https://liliwuu.github.io/lilianw_2025/csa/sprint2         | \n",
    "| Total                      |   5           |           |              |\n",
    "\n",
    "## Lesson Review\n",
    "\n",
    "| **Assignment**          | **Weightage** | **Grade** | **Comments** |\n",
    "|-------------------------|---------------|-----------|--------------|\n",
    "| College Board Coverage  | 20            | TBD       | TBD          |\n",
    "| Java Examples           | 30            | TBD       | TBD          |\n",
    "| Popcorn Hack Usage      | 10            | TBD       | TBD          |\n",
    "| Homework                | 10            | TBD       | TBD          |\n",
    "| Grading Plan            | 10            | TBD       | TBD          |\n",
    "| Original an Creative    | 10            | TBD       | TBD          |\n",
    "| Total                  | **90**        |           |              |"
   ]
  },
  {
   "cell_type": "markdown",
   "metadata": {},
   "source": [
    "---"
   ]
  },
  {
   "cell_type": "markdown",
   "metadata": {},
   "source": [
    "# <span style =\"color: #6e28c9\"> Summary of Sprint </span>"
   ]
  },
  {
   "cell_type": "markdown",
   "metadata": {},
   "source": [
    "## Importance of Java\n",
    "> Why was Java created? What was the point?\n",
    "\n",
    "At the time, existing languages like C++ was focused on speed, but not reliability. Java was created with an emphasis on reliability. \n",
    "\n",
    "Java was based on C notation but is more simplified and uniform.\n",
    "\n",
    "Java can **\"write once, run anywhere,\"** which means that Java works across different platforms (Windows, Mac, Linux) and can run on any machine or operating system that supports a JVM. This solves the problem of having different operating systems and hardware."
   ]
  },
  {
   "cell_type": "markdown",
   "metadata": {},
   "source": [
    "## Java vs. Other Languages\n",
    "> Why is Java special? Why do we use it?\n",
    "\n",
    "**Classes**\n",
    "- Blueprint for objects\n",
    "- Organizes properties and methods\n",
    "\n",
    "**Object-Oriented Programming (OOP)**\n",
    "- Makes code more reusable, organized, maintainable\n",
    "- Especially useful for large programs\n",
    "\n",
    "**Inheritance**\n",
    "- Reduces code and helps manage complexity"
   ]
  },
  {
   "cell_type": "markdown",
   "metadata": {},
   "source": [
    "## Java Learning\n",
    "\n",
    "> ### <span style=\"color: #f29624\"> Java-specific concepts </span>\n",
    ">\n",
    ">>Unit 2: Using Objects\n",
    ">\n",
    ">> Unit 5: Writing Classes\n",
    ">\n",
    ">> Unit 7: Array Lists\n",
    ">\n",
    ">> Unit 9: Inheritance\n",
    "\n",
    "\n",
    "> ### <span style=\"color: #c928bc\"> Common programming concepts </span>\n",
    ">> Unit 1: Primitive and Reference Types\n",
    ">\n",
    ">> Unit 3: Boolean Expressions & If Statements\n",
    ">\n",
    ">> Unit 4: Iteration\n",
    ">\n",
    ">> Unit 6: Arrays\n",
    ">\n",
    ">> Unit 8: 2D Arrays"
   ]
  },
  {
   "cell_type": "markdown",
   "metadata": {},
   "source": [
    "### <span style=\"color: #f29624\"> Unit 2: Using Objects </span>\n",
    "**Object**: a unique instance created from a class\n",
    "- inherits the attributes and behaviors from the class\n",
    "- *ClassName* obj = new *ClassName*();\n",
    "\n",
    "#### String Objects\n",
    "Strings are objects and should be declared as such:\n",
    "- String str = new String(\" \") or String str = \" \"\n",
    "\n",
    "They can be manipulated using built-in String methods:\n",
    "1. `length()`: returns the length of a string\n",
    "2. `substring(int start, int end)`: returns the string from the starting value and ending *before* the ending value\n",
    "3. `indexOf(String str)`: finds the index of part of a string\n",
    "4. `equals(String other)`: returns true or false when comparing two strings\n",
    "5. `compareTo(String other)`: returns < 0 if first value is smaller, returns > 0 if second value is smaller\n",
    "\n",
    "#### Wrapper Classes\n",
    "**Wrapper class**: wraps a primitive value into an object\n",
    "- `Double` for double\n",
    "- `Integer` for int\n",
    "\n",
    "![model](https://i.postimg.cc/tgH0s2JS/Screenshot-2024-09-24-002832.png)\n",
    "- **Autoboxing**: Primitive Value ➡️ Wrapper Object\n",
    "- **Unboxing**: Wrapper object ➡️ Primitive Value\n",
    "\n",
    "```java\n",
    "Integer num = 10; // autoboxing; assigning primitive -> object\n",
    "int newNum = num; // unboxing; converting object -> primitive\n",
    "\n",
    "```"
   ]
  },
  {
   "cell_type": "markdown",
   "metadata": {},
   "source": [
    "### <span style=\"color: #f29624\"> Unit 5: Writing Classes </span>\n",
    "Classes are the blueprints for objects. They consist of data fields, constructors, methods, etc.\n",
    "#### Data Fields\n",
    "**Data fields** (instance variables): variables defined in a class that represent the properties of objects\n",
    "![data field structure](https://github.com/user-attachments/assets/9c1a66ec-b3d2-48e2-a97f-fb495120c41b)\n",
    "- *Access modifier*: controls access to the data field (public, private, protected)\n",
    "- *Data type*: can primitive or reference type \n",
    "\n",
    "#### Constructors\n",
    "**Constructors**: used to initialize an object when its created\n",
    "There are...\n",
    "1. *No-arg Constructors* (default): can be defined but also are automatically created when theres no constructors defined\n",
    "```java\n",
    "class Flower {\n",
    "    String color;\n",
    "\n",
    "    public Flower() {\n",
    "        color = \"yellow\";\n",
    "    }\n",
    "}\n",
    "```\n",
    "2. *Parameterized Constructors* (overloaded): constructors with arguments\n",
    "```java\n",
    "class Flower {\n",
    "    String name;\n",
    "\n",
    "    public Flower(String name) {\n",
    "        this.name = name;\n",
    "    }\n",
    "}\n",
    "```\n",
    "\n",
    "#### Methods\n",
    "**Methods**: define the behavior of classes\n",
    "There are...\n",
    "1. *Accessor methods* (getters): retrieves field values\n",
    "2. *Mutator methods* (setters): modifies field values\n",
    "```java\n",
    "class Flower {\n",
    "    private String name;\n",
    "    private int petalNum;\n",
    "    public Flower(String name) {\n",
    "        this.name = name;\n",
    "    }\n",
    "    //accessor method\n",
    "    public getName() {\n",
    "        return name;\n",
    "    }\n",
    "\n",
    "    public setNumPetal(int num) {\n",
    "        petalNum = num;\n",
    "    }\n",
    "}\n",
    "```"
   ]
  },
  {
   "cell_type": "markdown",
   "metadata": {},
   "source": [
    "### <span style=\"color: #f29624\"> Unit 7: Array Lists </span>\n",
    "ArrayLists are different from primitive arrays. They are declared like object classes.\n",
    "\n",
    "| Arrays    | ArrayLists |\n",
    "| -------- | ------- |\n",
    "| Fixed length  | Resizable length    |\n",
    "| For storing primitives  | For storing objects  |\n",
    "| No methods   | Has methods  |\n",
    "\n",
    "#### Syntax:\n",
    "ArrayList<Type> list = new ArrayList<Type>();\n",
    "\n",
    "#### Methods:\n",
    "- `add(E obj)`\n",
    "- `get(int index)`\n",
    "- `size()`\n",
    "- `set(int index, E obj)`\n",
    "- `remove(int index)`\n"
   ]
  },
  {
   "cell_type": "markdown",
   "metadata": {},
   "source": [
    "### <span style=\"color: #f29624\"> Unit 9: Inheritance </span>\n",
    "**Inheritance**: classes inheriting the properties of other classes\n",
    "```java\n",
    "public class Apple extends Fruit {\n",
    "    ...\n",
    "}\n",
    "```\n",
    "#### `super` Keyword\n",
    "Used to refer to the superclass\n",
    "1. Can call the parent *constructor*\n",
    "2. Can invoke the parent *method*\n",
    "```java\n",
    "public class Apple extends Fruit {\n",
    "\n",
    "    public Apple() {\n",
    "        super(); // 1. calls the superclass constructor\n",
    "    }\n",
    "\n",
    "    public void drawApple() {\n",
    "        super.draw(); // 2. calls the method of the superclass\n",
    "    }\n",
    "}\n",
    "\n",
    "```\n",
    "\n",
    "#### Polymorphism\n",
    "**Polymorphism**: for objects to have \"many forms\"; performing a single action in different ways\n",
    "\n",
    "1. `@Override`: A feature that allows a subclass to override a method\n",
    "- make sure the access modifier is the same\n",
    "```java\n",
    "public class Fruit {\n",
    "    public void draw() {\n",
    "        System.out.println(\"Drawing a fruit.\");\n",
    "    }\n",
    "}\n",
    "public class Apple extends Fruit {\n",
    "    @Override\n",
    "    public void draw() {\n",
    "        System.out.println(\"Drawing an Apple.\");\n",
    "    }\n",
    "}\n",
    "\n",
    "```\n",
    "\n",
    "2. **Downcasting**: casting the object's class from superclass -> own class\n",
    "\n",
    "<img width=\"366\" alt=\"Screenshot 2024-09-24 at 3 40 55 PM\" src=\"https://github.com/user-attachments/assets/08415e0b-0bbc-403d-be4c-e16731e08ad2\">\n"
   ]
  },
  {
   "cell_type": "markdown",
   "metadata": {},
   "source": [
    "### <span style=\"color: #c928bc\"> Unit 1: Primitive vs. Reference Types </span>\n",
    "**Primitive type**: defines the type and size of variables\n",
    "\n",
    "**Reference type**: hold references to the object\n",
    "\n",
    "| Primitive    | Reference |\n",
    "| -------- | ------- |\n",
    "| No methods  | Has methods    |\n",
    "| Stores variable values directly in memory   | Stores memory address of the variable  |\n"
   ]
  },
  {
   "cell_type": "code",
   "execution_count": 3,
   "metadata": {},
   "outputs": [
    {
     "name": "stdout",
     "output_type": "stream",
     "text": [
      "3\n",
      "[I@a177de3\n"
     ]
    }
   ],
   "source": [
    "int num = 3; // primitive\n",
    "int[] arr = {0,1,2}; // reference\n",
    "\n",
    "System.out.println(num);\n",
    "System.out.println(arr);"
   ]
  },
  {
   "cell_type": "markdown",
   "metadata": {},
   "source": [
    "### <span style=\"color: #c928bc\"> Unit 3: Boolean Expressions & If Statements </span>\n",
    "**Boolean expressions**: consist of operators that compare values\n",
    "- `==` : equal to\n",
    "- `!=` : not equal to: \n",
    "- `<` : less than\n",
    "- `>` : greater than\n",
    "- `<=` : less than or equal to \n",
    "- `>=` : greater than or equal to\n",
    "\n",
    "**If statements**: conditions that evaluate whether a statement is true or not\n",
    "- `if` : if a statement is true -> execute the code\n",
    "- `else-if` : if first if condition is false -> execute the *else if* code\n",
    "- `else` : if all if conditions are false -> execute the *else* code"
   ]
  },
  {
   "cell_type": "code",
   "execution_count": 4,
   "metadata": {},
   "outputs": [
    {
     "name": "stdout",
     "output_type": "stream",
     "text": [
      "Grade: B\n"
     ]
    }
   ],
   "source": [
    "int score = 85;\n",
    "\n",
    "if (score >= 90) {\n",
    "    System.out.println(\"Grade: A\");\n",
    "} else if (score >= 80) {\n",
    "    System.out.println(\"Grade: B\");\n",
    "} else if (score >= 70) {\n",
    "    System.out.println(\"Grade: C\");\n",
    "} else if (score >= 60) {\n",
    "    System.out.println(\"Grade: D\");\n",
    "} else {\n",
    "    System.out.println(\"Grade: F\");\n",
    "}"
   ]
  },
  {
   "cell_type": "markdown",
   "metadata": {},
   "source": [
    "### <span style=\"color: #c928bc\"> Unit 4: Iteration </span>\n",
    "#### Ways to iterate:\n",
    "1. for loop\n",
    "    - nested for loop\n",
    "\n",
    "    ```java\n",
    "    // print a pyramid with 5 rows of *\n",
    "    for (int i = 0; i < 5; i++) {\n",
    "        for (int j = 0; j < i + 1; j++) {\n",
    "            System.out.print(\"*\");\n",
    "        }\n",
    "        System.out.println();\n",
    "    }\n",
    "\n",
    "    ```\n",
    "\n",
    "2. for-each loop\n",
    "\n",
    "```java\n",
    "    ArrayList<String> cats = new ArrayList<>();\n",
    "    cats.add(\"Mr. Cat\");\n",
    "    cats.add(\"Cinder\");\n",
    "    cats.add(\"Alice\");\n",
    "    cats.add(\"Leo\");\n",
    "\n",
    "    for (String cat: cats) {\n",
    "        System.out.println(cat);\n",
    "    }\n",
    "```\n",
    "\n",
    "3. while loop\n",
    "    - do-while loop\n",
    "    ```java\n",
    "    Scanner input = new Scanner(System.in);\n",
    "    System.out.print(\"Enter the number of sheep: \");\n",
    "    int num = input.nextInt();\n",
    "\n",
    "    do { \n",
    "        System.out.print(num + \" sheep \");\n",
    "        num--;\n",
    "    } while (num > 0);\n",
    "    System.out.println(\"...\");\n",
    "    ```"
   ]
  },
  {
   "cell_type": "markdown",
   "metadata": {
    "vscode": {
     "languageId": "java"
    }
   },
   "source": [
    "### <span style=\"color: #c928bc\"> Unit 6: Arrays </span>\n",
    "**Array**: a datastructure that stores primitive/reference data types\n",
    "\n",
    "#### Accessing and Manipulating Arrays: \n",
    "- `array[index]`: accesses the element at a certain index\n",
    "- `array.length`: finds the length of the array\n",
    "- `string.indexOf(element)`: finds the index of an element in an array\n",
    "    - Only applies reference types, not primitive types"
   ]
  },
  {
   "cell_type": "code",
   "execution_count": 10,
   "metadata": {},
   "outputs": [
    {
     "name": "stdout",
     "output_type": "stream",
     "text": [
      "2\n",
      "1 2 3 4 5 \n",
      "12\n"
     ]
    }
   ],
   "source": [
    "int[] arr = {1, 2, 3, 4, 5};\n",
    "//array[index]\n",
    "System.out.println(arr[1]);\n",
    "// array.length\n",
    "for (int i = 0; i < arr.length; i++) {\n",
    "    System.out.print(arr[i] + \" \");\n",
    "}\n",
    "System.out.println();\n",
    "// string.indexOf(element)\n",
    "String str = \"Why did the chicken cross the road?\";\n",
    "System.out.println(str.indexOf(\"chicken\"));"
   ]
  },
  {
   "cell_type": "markdown",
   "metadata": {},
   "source": [
    "### <span style=\"color: #c928bc\"> Unit 8: 2D Arrays </span>\n",
    "**2D Arrays**: storing data in a table-like way with rows and columns\n",
    "\n",
    "#### Accessing Elements\n",
    "- `array[row][column]`: accesses the element at a certain row and column "
   ]
  },
  {
   "cell_type": "code",
   "execution_count": 12,
   "metadata": {},
   "outputs": [
    {
     "name": "stdout",
     "output_type": "stream",
     "text": [
      "3\n",
      "1 2 3 4 5 6 "
     ]
    }
   ],
   "source": [
    "int[][] nums = {\n",
    "    {1, 2, 3},\n",
    "    {4, 5, 6}\n",
    "};\n",
    "// accessing elements\n",
    "System.out.println(nums[0][2]);\n",
    "\n",
    "// iterating\n",
    "for (int i = 0; i < nums.length; i++) {\n",
    "    for (int j = 0; j < nums[i].length; j++) {\n",
    "        System.out.print(nums[i][j] + \" \");\n",
    "    }\n",
    "}\n"
   ]
  },
  {
   "cell_type": "markdown",
   "metadata": {},
   "source": [
    "# Beyond Perfunctory\n",
    "\n",
    "https://nearpod.com/library/preview/lesson-L150438182"
   ]
  }
 ],
 "metadata": {
  "kernelspec": {
   "display_name": "java (IJava/j!)",
   "language": "java",
   "name": "jbang-ijava"
  },
  "language_info": {
   "codemirror_mode": "java",
   "file_extension": ".jshell",
   "mimetype": "text/x-java-source",
   "name": "java",
   "pygments_lexer": "java",
   "version": "22.0.2+9-70"
  }
 },
 "nbformat": 4,
 "nbformat_minor": 2
}
