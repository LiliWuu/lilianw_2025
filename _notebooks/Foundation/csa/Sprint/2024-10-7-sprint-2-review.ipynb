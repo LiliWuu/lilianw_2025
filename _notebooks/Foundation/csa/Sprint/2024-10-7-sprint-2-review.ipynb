{
 "cells": [
  {
   "cell_type": "markdown",
   "metadata": {},
   "source": [
    "---\n",
    "layout: post\n",
    "title: Sprint 2\n",
    "description: The homepage for unit 2.\n",
    "type: collab\n",
    "toc: true\n",
    "permalink: /csa/sprint2\n",
    "menu: nav/sprint2.html\n",
    "comments: true\n",
    "courses: { csa: {week: 5} }\n",
    "type: ccc\n",
    "categories: [AP CSA]\n",
    "author: Lilian Wu\n",
    "---"
   ]
  },
  {
   "cell_type": "markdown",
   "metadata": {},
   "source": [
    "## Importance of Java\n",
    "> Why was Java created? What was the point?\n",
    "\n",
    "At the time, existing languages like C++ was focused on speed, but not reliability. Java was created with an emphasis on reliability. \n",
    "\n",
    "Java was based on C notation but is more simplified and uniform.\n",
    "\n",
    "Java can **\"write once, run anywhere,\"** which means that Java works across different platforms (Windows, Mac, Linux) and can run on any machine or operating system that supports a JVM. This solves the problem of having different operating systems and hardware."
   ]
  },
  {
   "cell_type": "markdown",
   "metadata": {},
   "source": [
    "## Java vs. Other Languages\n",
    "> Why is Java special? Why do we use it?\n",
    "\n",
    "**Classes**\n",
    "- Blueprint for objects\n",
    "- Organizes properties and methods\n",
    "\n",
    "**Object-Oriented Programming (OOP)**\n",
    "- Makes code more reusable, organized, maintainable\n",
    "- Especially useful for large programs\n",
    "\n",
    "**Inheritance**\n",
    "- Reduces code and helps manage complexity"
   ]
  },
  {
   "cell_type": "markdown",
   "metadata": {},
   "source": [
    "---"
   ]
  },
  {
   "cell_type": "markdown",
   "metadata": {},
   "source": [
    "## Java Learning\n",
    "> ### Common programming concepts\n",
    ">> Unit 1: Primitive and Reference Types\n",
    ">\n",
    ">> Unit 3: Boolean Expressions & If Statements\n",
    ">\n",
    ">> Unit 4: Iteration\n",
    ">\n",
    ">> Unit 6: Arrays\n",
    ">\n",
    ">> Unit 8: 2D Arrays\n",
    "\n",
    "\n",
    "> ### Java-specific concepts\n",
    ">\n",
    ">>Unit 2: Using Objects\n",
    ">\n",
    ">> Unit 5: Writing Classes\n",
    ">\n",
    ">> Unit 7: Array Lists\n",
    ">\n",
    ">> Unit 9: Inheritance"
   ]
  },
  {
   "cell_type": "markdown",
   "metadata": {},
   "source": [
    "### Unit 1: Primitive vs. Reference Types\n",
    "**Primitive type**: defines the type and size of variables\n",
    "\n",
    "**Reference type**: hold references to the object\n",
    "\n",
    "| Primitive    | Reference |\n",
    "| -------- | ------- |\n",
    "| No methods  | Has methods    |\n",
    "| Stores variable values directly in memory   | Stores memory address of the variable  |\n"
   ]
  },
  {
   "cell_type": "code",
   "execution_count": 3,
   "metadata": {
    "vscode": {
     "languageId": "java"
    }
   },
   "outputs": [
    {
     "name": "stdout",
     "output_type": "stream",
     "text": [
      "3\n",
      "[I@a177de3\n"
     ]
    }
   ],
   "source": [
    "int num = 3; // primitive\n",
    "int[] arr = {0,1,2}; // reference\n",
    "\n",
    "System.out.println(num);\n",
    "System.out.println(arr);"
   ]
  },
  {
   "cell_type": "markdown",
   "metadata": {},
   "source": [
    "### Unit 3: Boolean Expressions & If Statements\n",
    "**Boolean expressions**: consist of operators that compare values\n",
    "- `==` : equal to\n",
    "- `!=` : not equal to: \n",
    "- `<` : less than\n",
    "- `>` : greater than\n",
    "- `<=` : less than or equal to \n",
    "- `>=` : greater than or equal to\n",
    "\n",
    "**If statements**: conditions that evaluate whether a statement is true or not\n",
    "- `if` : if a statement is true -> execute the code\n",
    "- `else-if` : if first if condition is false -> execute the *else if* code\n",
    "- `else` : if all if conditions are false -> execute the *else* code"
   ]
  },
  {
   "cell_type": "code",
   "execution_count": 4,
   "metadata": {
    "vscode": {
     "languageId": "java"
    }
   },
   "outputs": [
    {
     "name": "stdout",
     "output_type": "stream",
     "text": [
      "Grade: B\n"
     ]
    }
   ],
   "source": [
    "int score = 85;\n",
    "\n",
    "if (score >= 90) {\n",
    "    System.out.println(\"Grade: A\");\n",
    "} else if (score >= 80) {\n",
    "    System.out.println(\"Grade: B\");\n",
    "} else if (score >= 70) {\n",
    "    System.out.println(\"Grade: C\");\n",
    "} else if (score >= 60) {\n",
    "    System.out.println(\"Grade: D\");\n",
    "} else {\n",
    "    System.out.println(\"Grade: F\");\n",
    "}"
   ]
  },
  {
   "cell_type": "markdown",
   "metadata": {},
   "source": [
    "### Unit 4: Iteration\n",
    "#### Ways to iterate:\n",
    "1. for loop\n",
    "    - nested for loop\n",
    "\n",
    "    ```java\n",
    "    // print a pyramid with 5 rows of *\n",
    "    for (int i = 0; i < 5; i++) {\n",
    "        for (int j = 0; j < i + 1; j++) {\n",
    "            System.out.print(\"*\");\n",
    "        }\n",
    "        System.out.println();\n",
    "    }\n",
    "\n",
    "    ```\n",
    "\n",
    "2. for-each loop\n",
    "\n",
    "```java\n",
    "    ArrayList<String> cats = new ArrayList<>();\n",
    "    cats.add(\"Mr. Cat\");\n",
    "    cats.add(\"Cinder\");\n",
    "    cats.add(\"Alice\");\n",
    "    cats.add(\"Leo\");\n",
    "\n",
    "    for (String cat: cats) {\n",
    "        System.out.println(cat);\n",
    "    }\n",
    "```\n",
    "\n",
    "3. while loop\n",
    "    - do-while loop\n",
    "    ```java\n",
    "    Scanner input = new Scanner(System.in);\n",
    "    System.out.print(\"Enter the number of sheep: \");\n",
    "    int num = input.nextInt();\n",
    "\n",
    "    do { \n",
    "        System.out.print(num + \" sheep \");\n",
    "        num--;\n",
    "    } while (num > 0);\n",
    "    System.out.println(\"...\");\n",
    "    ```"
   ]
  },
  {
   "cell_type": "markdown",
   "metadata": {
    "vscode": {
     "languageId": "java"
    }
   },
   "source": [
    "### Unit 6: Arrays\n",
    "**Array**: a datastructure that stores primitive/reference data types\n",
    "\n",
    "#### Accessing and Manipulating Arrays: \n",
    "- `*array*[*index*]`: accesses the element at a certain index\n",
    "- `*array*.length`: finds the length of the array\n",
    "- `*string*.indexOf(*element*)`: finds the index of an element in an array\n",
    "    - Only applies reference types, not primitive types"
   ]
  },
  {
   "cell_type": "code",
   "execution_count": 10,
   "metadata": {
    "vscode": {
     "languageId": "java"
    }
   },
   "outputs": [
    {
     "name": "stdout",
     "output_type": "stream",
     "text": [
      "2\n",
      "1 2 3 4 5 \n",
      "12\n"
     ]
    }
   ],
   "source": [
    "int[] arr = {1, 2, 3, 4, 5};\n",
    "//array[index]\n",
    "System.out.println(arr[1]);\n",
    "// array.length\n",
    "for (int i = 0; i < arr.length; i++) {\n",
    "    System.out.print(arr[i] + \" \");\n",
    "}\n",
    "System.out.println();\n",
    "// string.indexOf(element)\n",
    "String str = \"Why did the chicken cross the road?\";\n",
    "System.out.println(str.indexOf(\"chicken\"));"
   ]
  },
  {
   "cell_type": "markdown",
   "metadata": {},
   "source": [
    "### Unit 8: 2D Arrays\n",
    "**2D Arrays**: storing data in a table-like way with rows and columns\n",
    "\n",
    "#### Accessing Elements\n",
    "- array[*row*][*column*]"
   ]
  },
  {
   "cell_type": "code",
   "execution_count": 12,
   "metadata": {
    "vscode": {
     "languageId": "java"
    }
   },
   "outputs": [
    {
     "name": "stdout",
     "output_type": "stream",
     "text": [
      "3\n",
      "1 2 3 4 5 6 "
     ]
    }
   ],
   "source": [
    "int[][] nums = {\n",
    "    {1, 2, 3},\n",
    "    {4, 5, 6}\n",
    "};\n",
    "// accessing elements\n",
    "System.out.println(nums[0][2]);\n",
    "\n",
    "// iterating\n",
    "for (int i = 0; i < nums.length; i++) {\n",
    "    for (int j = 0; j < nums[i].length; j++) {\n",
    "        System.out.print(nums[i][j] + \" \");\n",
    "    }\n",
    "}\n"
   ]
  },
  {
   "cell_type": "markdown",
   "metadata": {},
   "source": [
    "---"
   ]
  },
  {
   "cell_type": "markdown",
   "metadata": {},
   "source": [
    "### Unit 2: Using Objects\n",
    "**Object**: a unique instance created from a class\n",
    "- inherits the attributes and behaviors from the class\n",
    "- *ClassName* obj = new *ClassName*();\n",
    "\n",
    "#### String Objects\n",
    "Strings are objects and should be declared as such:\n",
    "- String str = new String(\" \") or String str = \" \"\n",
    "\n",
    "They can be manipulated using built-in String methods:\n",
    "1. `length()`: returns the length of a string\n",
    "2. `substring(int start, int end)`: returns the string from the starting value and ending *before* the ending value\n",
    "3. `indexOf(String str)`: finds the index of part of a string\n",
    "4. `equals(String other)`: returns true or false when comparing two strings\n",
    "5. `compareTo(String other)`: returns < 0 if first value is smaller, returns > 0 if second value is smaller\n",
    "\n",
    "#### Wrapper Classes\n",
    "**Wrapper class**: wraps a primitive value into an object\n",
    "- `Double` for double\n",
    "- `Integer` for int\n",
    "\n",
    "![model](https://i.postimg.cc/tgH0s2JS/Screenshot-2024-09-24-002832.png)\n",
    "- **Autoboxing**: Primitive Value ➡️ Wrapper Object\n",
    "- **Unboxing**: Wrapper object ➡️ Primitive Value\n",
    "\n",
    "```java\n",
    "Integer num = 10; // autoboxing; assigning primitive -> object\n",
    "int newNum = num; // unboxing; converting object -> primitive\n",
    "\n",
    "```"
   ]
  },
  {
   "cell_type": "markdown",
   "metadata": {},
   "source": [
    "### Unit 5: Writing Classes\n",
    "Classes are the blueprints for objects. They consist of data fields, constructors, methods, etc.\n",
    "#### Data Fields\n",
    "**Data fields** (instance variables): variables defined in a class that represent the properties of objects\n",
    "![data field structure](https://github.com/user-attachments/assets/9c1a66ec-b3d2-48e2-a97f-fb495120c41b)\n",
    "- *Access modifier*: controls access to the data field (public, private, protected)\n",
    "- *Data type*: can primitive or reference type \n",
    "\n",
    "#### Constructors\n",
    "**Constructors**: used to initialize an object when its created\n",
    "There are...\n",
    "1. *No-arg Constructors* (default): can be defined but also are automatically created when theres no constructors defined\n",
    "```java\n",
    "class Flower {\n",
    "    String color;\n",
    "\n",
    "    public Flower() {\n",
    "        color = \"yellow\";\n",
    "    }\n",
    "}\n",
    "```\n",
    "2. *Parameterized Constructors* (overloaded): constructors with arguments\n",
    "```java\n",
    "class Flower {\n",
    "    String name;\n",
    "\n",
    "    public Flower(String name) {\n",
    "        this.name = name;\n",
    "    }\n",
    "}\n",
    "```\n",
    "\n",
    "#### Methods\n",
    "**Methods**: define the behavior of classes\n",
    "There are...\n",
    "1. *Accessor methods* (getters): retrieves field values\n",
    "2. *Mutator methods* (setters): modifies field values\n",
    "```java\n",
    "class Flower {\n",
    "    private String name;\n",
    "    private int petalNum;\n",
    "    public Flower(String name) {\n",
    "        this.name = name;\n",
    "    }\n",
    "    //accessor method\n",
    "    public getName() {\n",
    "        return name;\n",
    "    }\n",
    "\n",
    "    public setNumPetal(int num) {\n",
    "        petalNum = num;\n",
    "    }\n",
    "}\n",
    "```"
   ]
  },
  {
   "cell_type": "markdown",
   "metadata": {},
   "source": [
    "### Unit 7: Array Lists\n",
    "ArrayLists are different from primitive arrays. They are declared like object classes.\n",
    "| Arrays    | ArrayLists |\n",
    "| -------- | ------- |\n",
    "| Fixed length  | Resizable length    |\n",
    "| For storing primitives  | For storing objects  |\n",
    "| No methods   | Has methods  |\n",
    "\n",
    "#### Syntax:\n",
    "ArrayList<Type> list = new ArrayList<Type>();\n",
    "\n",
    "#### Methods:\n",
    "- `add(E obj)`\n",
    "- `get(int index)`\n",
    "- `size()`\n",
    "- `set(int index, E obj)`\n",
    "- `remove(int index)`\n"
   ]
  },
  {
   "cell_type": "markdown",
   "metadata": {},
   "source": [
    "### Unit 9: Inheritance\n",
    "**Inheritance**: classes inheriting the properties of other classes\n",
    "```java\n",
    "public class Apple extends Fruit {\n",
    "    ...\n",
    "}\n",
    "```\n",
    "#### `super` Keyword\n",
    "Used to refer to the superclass\n",
    "1. Can call the parent *constructor*\n",
    "2. Can invoke the parent *method*\n",
    "```java\n",
    "public class Apple extends Fruit {\n",
    "\n",
    "    public Apple() {\n",
    "        super(); // 1. calls the superclass constructor\n",
    "    }\n",
    "\n",
    "    public void drawApple() {\n",
    "        super.draw(); // 2. calls the method of the superclass\n",
    "    }\n",
    "}\n",
    "\n",
    "```\n",
    "\n",
    "#### Polymorphism\n",
    "**Polymorphism**: for objects to have \"many forms\"; performing a single action in different ways\n",
    "\n",
    "1. `@Override`: A feature that allows a subclass to override a method\n",
    "- make sure the access modifier is the same\n",
    "```java\n",
    "public class Fruit {\n",
    "    public void draw() {\n",
    "        System.out.println(\"Drawing a fruit.\");\n",
    "    }\n",
    "}\n",
    "public class Apple extends Fruit {\n",
    "    @Override\n",
    "    public void draw() {\n",
    "        System.out.println(\"Drawing an Apple.\");\n",
    "    }\n",
    "}\n",
    "\n",
    "```\n",
    "\n",
    "2. **Downcasting**: casting the object's class from superclass -> own class\n",
    "\n",
    "<img width=\"366\" alt=\"Screenshot 2024-09-24 at 3 40 55 PM\" src=\"https://github.com/user-attachments/assets/08415e0b-0bbc-403d-be4c-e16731e08ad2\">\n"
   ]
  },
  {
   "cell_type": "markdown",
   "metadata": {},
   "source": []
  }
 ],
 "metadata": {
  "kernelspec": {
   "display_name": "java (IJava/j!)",
   "language": "java",
   "name": "jbang-ijava"
  },
  "language_info": {
   "codemirror_mode": "java",
   "file_extension": ".jshell",
   "mimetype": "text/x-java-source",
   "name": "Java",
   "pygments_lexer": "java",
   "version": "22.0.2+9-70"
  }
 },
 "nbformat": 4,
 "nbformat_minor": 2
}
