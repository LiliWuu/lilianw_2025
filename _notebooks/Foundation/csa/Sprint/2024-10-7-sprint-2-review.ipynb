{
 "cells": [
  {
   "cell_type": "markdown",
   "metadata": {},
   "source": [
    "---\n",
    "layout: post\n",
    "title: Sprint 2\n",
    "description: The homepage for unit 2.\n",
    "type: collab\n",
    "toc: true\n",
    "permalink: /csa/sprint2\n",
    "menu: nav/sprint2.html\n",
    "comments: true\n",
    "courses: { csa: {week: 5} }\n",
    "type: ccc\n",
    "categories: [AP CSA]\n",
    "author: Lilian Wu\n",
    "---"
   ]
  },
  {
   "cell_type": "markdown",
   "metadata": {},
   "source": [
    "## Importance of Java\n",
    "> Why was Java created? What was the point?\n",
    "\n",
    "At the time, existing languages like C++ was focused on speed, but not reliability. Java was created with an emphasis on reliability. \n",
    "\n",
    "Java was based on C notation but is more simplified and uniform.\n",
    "\n",
    "Java can **\"write once, run anywhere,\"** which means that Java works across different platforms (Windows, Mac, Linux) and can run on any machine or operating system that supports a JVM. This solves the problem of having different operating systems and hardware."
   ]
  },
  {
   "cell_type": "markdown",
   "metadata": {},
   "source": [
    "## Java vs. Other Languages\n",
    "> Why is Java special? Why do we use it?\n",
    "\n",
    "**Classes**\n",
    "- Blueprint for objects\n",
    "- Organizes properties and methods\n",
    "\n",
    "**Object-Oriented Programming (OOP)**\n",
    "- Makes code more reusable, organized, maintainable\n",
    "- Especially useful for large programs\n",
    "\n",
    "**Inheritance**\n",
    "- Reduces code and helps manage complexity"
   ]
  },
  {
   "cell_type": "markdown",
   "metadata": {},
   "source": [
    "---"
   ]
  },
  {
   "cell_type": "markdown",
   "metadata": {},
   "source": [
    "## Java Learning\n",
    "> ### Common programming concepts\n",
    ">> Unit 1: Primitive and Reference Types\n",
    ">\n",
    ">> Unit 3: Boolean Expressions & If Statements\n",
    ">\n",
    ">> Unit 4: Iteration\n",
    ">\n",
    ">> Unit 6: Arrays\n",
    ">\n",
    ">> Unit 8: 2D Arrays\n",
    "\n",
    "\n",
    "> ### Java-specific concepts\n",
    ">\n",
    ">>Unit 2: Using Objects\n",
    ">\n",
    ">> Unit 5: Writing Classes\n",
    ">\n",
    ">> Unit 7: Array Lists\n",
    ">\n",
    ">> Unit 9: Inheritance"
   ]
  },
  {
   "cell_type": "markdown",
   "metadata": {},
   "source": [
    "### Unit 1: Primitive vs. Reference Types\n",
    "**Primitive type**: defines the type and size of variables\n",
    "\n",
    "**Reference type**: hold references to the object\n",
    "\n",
    "| Primitive    | Reference |\n",
    "| -------- | ------- |\n",
    "| No methods  | Has methods    |\n",
    "| Stores variable values directly in memory   | Stores memory address of the variable  |\n"
   ]
  },
  {
   "cell_type": "code",
   "execution_count": 3,
   "metadata": {
    "vscode": {
     "languageId": "java"
    }
   },
   "outputs": [
    {
     "name": "stdout",
     "output_type": "stream",
     "text": [
      "3\n",
      "[I@a177de3\n"
     ]
    }
   ],
   "source": [
    "int num = 3; // primitive\n",
    "int[] arr = {0,1,2}; // reference\n",
    "\n",
    "System.out.println(num);\n",
    "System.out.println(arr);"
   ]
  },
  {
   "cell_type": "markdown",
   "metadata": {},
   "source": [
    "### Unit 3: Boolean Expressions & If Statements\n",
    "**Boolean expressions**: consist of operators that compare values\n",
    "- equal to: ==\n",
    "- not equal to: !=\n",
    "- less than: <\n",
    "- greater than: >\n",
    "- less than or equal to: <=\n",
    "- greater than or equal to >=\n",
    "\n",
    "**If statements**: conditions that evaluate whether a statement is true or not\n",
    "- if, else-if, else"
   ]
  },
  {
   "cell_type": "code",
   "execution_count": 4,
   "metadata": {
    "vscode": {
     "languageId": "java"
    }
   },
   "outputs": [
    {
     "name": "stdout",
     "output_type": "stream",
     "text": [
      "Grade: B\n"
     ]
    }
   ],
   "source": [
    "int score = 85;\n",
    "\n",
    "if (score >= 90) {\n",
    "    System.out.println(\"Grade: A\");\n",
    "} else if (score >= 80) {\n",
    "    System.out.println(\"Grade: B\");\n",
    "} else if (score >= 70) {\n",
    "    System.out.println(\"Grade: C\");\n",
    "} else if (score >= 60) {\n",
    "    System.out.println(\"Grade: D\");\n",
    "} else {\n",
    "    System.out.println(\"Grade: F\");\n",
    "}"
   ]
  },
  {
   "cell_type": "markdown",
   "metadata": {},
   "source": [
    "### Unit 4: Iteration\n",
    "#### Ways to iterate:\n",
    "1. for loop\n",
    "    - nested for loop\n",
    "\n",
    "    ```java\n",
    "    // print a pyramid with 5 rows of *\n",
    "    for (int i = 0; i < 5; i++) {\n",
    "        for (int j = 0; j < i + 1; j++) {\n",
    "            System.out.print(\"*\");\n",
    "        }\n",
    "        System.out.println();\n",
    "    }\n",
    "\n",
    "    ```\n",
    "\n",
    "2. for-each loop\n",
    "\n",
    "```java\n",
    "    ArrayList<String> cats = new ArrayList<>();\n",
    "    cats.add(\"Mr. Cat\");\n",
    "    cats.add(\"Cinder\");\n",
    "    cats.add(\"Alice\");\n",
    "    cats.add(\"Leo\");\n",
    "\n",
    "    for (String cat: cats) {\n",
    "        System.out.println(cat);\n",
    "    }\n",
    "```\n",
    "\n",
    "3. while loop\n",
    "    - do-while loop\n",
    "    ```java\n",
    "    Scanner input = new Scanner(System.in);\n",
    "    System.out.print(\"Enter the number of sheep: \");\n",
    "    int num = input.nextInt();\n",
    "\n",
    "    do { \n",
    "        System.out.print(num + \" sheep \");\n",
    "        num--;\n",
    "    } while (num > 0);\n",
    "    System.out.println(\"...\");\n",
    "    ```"
   ]
  },
  {
   "cell_type": "markdown",
   "metadata": {
    "vscode": {
     "languageId": "java"
    }
   },
   "source": [
    "### Unit 6: Arrays\n",
    "**Array**: a datastructure that stores primitive/reference data types\n",
    "\n",
    "#### Accessing and Manipulating Arrays: \n",
    "- *array*[*index*]: accesses the element at a certain index\n",
    "- *array*.length: finds the length of the array\n",
    "- *string*.indexOf(*element*): finds the index of an element in an array\n",
    "    - Only applies reference types, not primitive types"
   ]
  },
  {
   "cell_type": "code",
   "execution_count": 10,
   "metadata": {
    "vscode": {
     "languageId": "java"
    }
   },
   "outputs": [
    {
     "name": "stdout",
     "output_type": "stream",
     "text": [
      "2\n",
      "1 2 3 4 5 \n",
      "12\n"
     ]
    }
   ],
   "source": [
    "int[] arr = {1, 2, 3, 4, 5};\n",
    "//array[index]\n",
    "System.out.println(arr[1]);\n",
    "// array.length\n",
    "for (int i = 0; i < arr.length; i++) {\n",
    "    System.out.print(arr[i] + \" \");\n",
    "}\n",
    "System.out.println();\n",
    "// string.indexOf(element)\n",
    "String str = \"Why did the chicken cross the road?\";\n",
    "System.out.println(str.indexOf(\"chicken\"));"
   ]
  },
  {
   "cell_type": "markdown",
   "metadata": {},
   "source": [
    "### Unit 8: 2D Arrays\n",
    "**2D Arrays**: storing data in a table-like way with rows and columns\n",
    "\n",
    "#### Accessing Elements\n",
    "- array[*row*][*column*]"
   ]
  },
  {
   "cell_type": "code",
   "execution_count": 12,
   "metadata": {
    "vscode": {
     "languageId": "java"
    }
   },
   "outputs": [
    {
     "name": "stdout",
     "output_type": "stream",
     "text": [
      "3\n",
      "1 2 3 4 5 6 "
     ]
    }
   ],
   "source": [
    "int[][] nums = {\n",
    "    {1, 2, 3},\n",
    "    {4, 5, 6}\n",
    "};\n",
    "// accessing elements\n",
    "System.out.println(nums[0][2]);\n",
    "\n",
    "// iterating\n",
    "for (int i = 0; i < nums.length; i++) {\n",
    "    for (int j = 0; j < nums[i].length; j++) {\n",
    "        System.out.print(nums[i][j] + \" \");\n",
    "    }\n",
    "}\n"
   ]
  },
  {
   "cell_type": "markdown",
   "metadata": {},
   "source": [
    "---"
   ]
  },
  {
   "cell_type": "markdown",
   "metadata": {},
   "source": [
    "### Unit 2: Using Objects"
   ]
  },
  {
   "cell_type": "markdown",
   "metadata": {},
   "source": [
    "### Unit 5: Writing Classes"
   ]
  },
  {
   "cell_type": "markdown",
   "metadata": {},
   "source": [
    "### Unit 7: Array Lists"
   ]
  },
  {
   "cell_type": "markdown",
   "metadata": {},
   "source": [
    "### Unit 9: Inheritance"
   ]
  },
  {
   "cell_type": "markdown",
   "metadata": {},
   "source": [
    "## Usages of Java\n"
   ]
  },
  {
   "cell_type": "markdown",
   "metadata": {},
   "source": []
  }
 ],
 "metadata": {
  "kernelspec": {
   "display_name": "java (IJava/j!)",
   "language": "java",
   "name": "jbang-ijava"
  },
  "language_info": {
   "codemirror_mode": "java",
   "file_extension": ".jshell",
   "mimetype": "text/x-java-source",
   "name": "Java",
   "pygments_lexer": "java",
   "version": "22.0.2+9-70"
  }
 },
 "nbformat": 4,
 "nbformat_minor": 2
}
