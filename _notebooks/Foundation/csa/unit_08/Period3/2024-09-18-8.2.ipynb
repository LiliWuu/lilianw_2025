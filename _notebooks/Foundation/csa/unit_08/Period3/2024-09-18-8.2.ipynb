{
 "cells": [
  {
   "cell_type": "markdown",
   "metadata": {},
   "source": [
    "---\n",
    "layout: post\n",
    "title: 8.2 Lesson\n",
    "description: By David, Torin, Josh, Nandan \n",
    "menu: nav/CSA_Units/csa_unit8_p3.html\n",
    "courses: {'csa': {'week': 5}}\n",
    "toc: true\n",
    "comments: true\n",
    "permalink: /csa/unit8yay/8.2/\n",
    "---"
   ]
  },
  {
   "cell_type": "markdown",
   "metadata": {},
   "source": [
    "# Traversing 2D Arrays\n",
    "\n",
    "When traversing/looping through a 1D array, only one loop is required to access all elements within the array. For 2D arrays, we need to loop within the loop, which would be known as a for loop.\n",
    "\n",
    "### Java loop structure:\n",
    "```java\n",
    "for (first execution; condition; executed after every loop) {\n",
    "    // Code that provides an action\n",
    "}\n",
    "\n",
    "An example using this structure would be something like:"
   ]
  },
  {
   "cell_type": "code",
   "execution_count": 1,
   "metadata": {
    "vscode": {
     "languageId": "java"
    }
   },
   "outputs": [
    {
     "name": "stdout",
     "output_type": "stream",
     "text": [
      "0\n",
      "1\n",
      "2\n",
      "3\n",
      "4\n",
      "5\n",
      "6\n",
      "7\n",
      "8\n",
      "9\n"
     ]
    }
   ],
   "source": [
    "for (int i = 0; i < 10; i++) {\n",
    "    System.out.println(i);\n",
    "}"
   ]
  },
  {
   "cell_type": "markdown",
   "metadata": {},
   "source": [
    "Since the base is at 0, this code will print:\n",
    "1\n",
    "2\n",
    "3\n",
    "4\n",
    "5\n",
    "6\n",
    "7\n",
    "8\n",
    "9"
   ]
  },
  {
   "cell_type": "markdown",
   "metadata": {},
   "source": [
    "## How can you traverse a 1D array?\n",
    "Let's create an array and name it Array1."
   ]
  },
  {
   "cell_type": "code",
   "execution_count": 25,
   "metadata": {
    "vscode": {
     "languageId": "java"
    }
   },
   "outputs": [
    {
     "name": "stdout",
     "output_type": "stream",
     "text": [
      "1\n",
      "2\n",
      "3\n"
     ]
    }
   ],
   "source": [
    "int[] Array1 = {1, 2, 3};\n",
    "for (int i = 0; i < Array1.length; i++) {\n",
    "    System.out.println(Array1[i]);\n",
    "}"
   ]
  },
  {
   "cell_type": "markdown",
   "metadata": {},
   "source": [
    "In this code segment, we set our variable i to 0. Then we write a condition where if i is less than Array1.length, it prints Array1[i]. Then we add 1 to i."
   ]
  },
  {
   "cell_type": "markdown",
   "metadata": {},
   "source": [
    "## How can you traverse 2D arrays?\n",
    "Let’s use the same variable for this example, Array1."
   ]
  },
  {
   "cell_type": "markdown",
   "metadata": {},
   "source": [
    "This creates an array that contains 2 rows and 3 columns."
   ]
  },
  {
   "cell_type": "code",
   "execution_count": 28,
   "metadata": {
    "vscode": {
     "languageId": "java"
    }
   },
   "outputs": [
    {
     "name": "stdout",
     "output_type": "stream",
     "text": [
      "1\n",
      "2\n",
      "3\n",
      "4\n",
      "5\n",
      "6\n",
      "7\n",
      "8\n",
      "9\n"
     ]
    }
   ],
   "source": [
    "int[][] Array1 = {\n",
    "    {1, 2, 3}, \n",
    "    {4, 5, 6}, \n",
    "    {7, 8, 9}\n",
    "};\n",
    "for (int i = 0; i < Array1.length; i++) {\n",
    "    // This makes the variable i equal to 0, then the condition would be when i is less than the Array1 length, \n",
    "    // then it will loop to the next number, then add 1 to i.\n",
    "    \n",
    "    for (int j = 0; j < Array1[i].length; j++) {\n",
    "        System.out.println(Array1[i][j]);\n",
    "    }\n",
    "}\n"
   ]
  },
  {
   "cell_type": "markdown",
   "metadata": {},
   "source": [
    "This sets j equal to 0. Then the next statement says while j is less than whatever the array length is within Array1 at Array1[i], it will display the value of Array1[i][j], then it will add 1 to j.\n",
    "\n",
    "Without the loop, the code will look like this:"
   ]
  },
  {
   "cell_type": "code",
   "execution_count": null,
   "metadata": {
    "vscode": {
     "languageId": "java"
    }
   },
   "outputs": [],
   "source": [
    "System.out.println(Array1[0][0]); // 1\n",
    "System.out.println(Array1[0][1]); // 2\n",
    "System.out.println(Array1[0][2]); // 3\n",
    "System.out.println(Array1[1][0]); // 4\n",
    "System.out.println(Array1[1][1]); // 5\n",
    "System.out.println(Array1[1][2]); // 6\n",
    "System.out.println(Array1[2][0]); // 7\n",
    "System.out.println(Array1[2][1]); // 8\n",
    "System.out.println(Array1[2][2]); // 9\n"
   ]
  },
  {
   "cell_type": "markdown",
   "metadata": {},
   "source": [
    "This displays how the rows loop through the length of the array."
   ]
  },
  {
   "cell_type": "code",
   "execution_count": 3,
   "metadata": {
    "vscode": {
     "languageId": "java"
    }
   },
   "outputs": [
    {
     "name": "stdout",
     "output_type": "stream",
     "text": [
      "1 (traversing to next row 0)\n",
      "2 (traversing to next row 0)\n",
      "3 (traversing to next row 0)\n",
      "4 (traversing to next row 1)\n",
      "5 (traversing to next row 1)\n",
      "6 (traversing to next row 1)\n",
      "7 (traversing to next row 2)\n",
      "8 (traversing to next row 2)\n",
      "9 (traversing to next row 2)\n"
     ]
    }
   ],
   "source": [
    "public class Main {\n",
    "    public static void main(String[] args) {\n",
    "        int[][] Array1 = {\n",
    "            {1, 2, 3},\n",
    "            {4, 5, 6},\n",
    "            {7, 8, 9}\n",
    "        };\n",
    "        for (int i = 0; i < Array1.length; i++) {\n",
    "            for (int j = 0; j < Array1[i].length; j++) {\n",
    "                System.out.println(Array1[i][j] + \" (traversing to next row \" + i + \")\");\n",
    "            }\n",
    "        }\n",
    "    }\n",
    "}\n",
    "Main.main(null);"
   ]
  },
  {
   "cell_type": "markdown",
   "metadata": {},
   "source": [
    "### Popcorn Hack\n",
    "An array called find is shown below. In this popcorn hack, I want you to loop through the numbers until you get to the number that doesn’t belong (55). Then print that number along with which row and column it is located in."
   ]
  },
  {
   "cell_type": "code",
   "execution_count": 2,
   "metadata": {
    "vscode": {
     "languageId": "java"
    }
   },
   "outputs": [
    {
     "name": "stdout",
     "output_type": "stream",
     "text": [
      "55\n",
      "row: 1\n",
      "column: 1\n"
     ]
    }
   ],
   "source": [
    "public class Main {\n",
    "    public static void main(String[] args) {\n",
    "        int[][] find = {\n",
    "            {10, 20, 30},\n",
    "            {40, 55, 60},\n",
    "            {70, 80, 90},\n",
    "        };\n",
    "\n",
    "        // Write your code here\n",
    "        for (int i = 0; i < find.length; i++) {\n",
    "            for (int j = 0; j < find[i].length; j++) {\n",
    "                if (find[i][j] == 55) {\n",
    "                    System.out.println(find[i][j]);\n",
    "                    System.out.println(\"row: \" + i);\n",
    "                    System.out.println(\"column: \" + j);\n",
    "                } \n",
    "            }\n",
    "        }\n",
    "    }\n",
    "}\n",
    "Main.main(null);"
   ]
  },
  {
   "cell_type": "markdown",
   "metadata": {},
   "source": [
    "## Column Major Order instead of Row Major Order\n",
    "\n",
    "- **Definition:** Column Major Order involves processing the elements of a 2D array by columns before rows.\n",
    "  \n",
    "- **Switching Loops:**\n",
    "  - **Outer Loop:** Iterate through columns instead of rows.\n",
    "  - **Inner Loop:** Iterate through rows instead of columns.\n",
    "  \n",
    "- **Implementation Changes:**\n",
    "  - Replace `Array1[i].length` with `Array1[0].length` to focus on the number of columns.\n",
    "  \n",
    "- **Iteration Process:**\n",
    "  - For each column (indexed by `j`), process all rows (indexed by `i`).\n",
    "  - Print the value at the current column for each row.\n",
    "  - After processing all rows for the current column, increment the column index `j` to move to the next column.\n",
    "\n",
    "- **Example:** In an array like `{1, 2, 3}`, the inner loop runs for the length of the row (number of columns). \n",
    "\n",
    "- **Overall Effect:** By reversing the loop structure, columns are processed before rows, achieving a Column Major Order traversal.\n"
   ]
  },
  {
   "cell_type": "code",
   "execution_count": null,
   "metadata": {
    "vscode": {
     "languageId": "java"
    }
   },
   "outputs": [],
   "source": [
    "public class Main {\n",
    "    public static void main(String[] args) {\n",
    "        int[][] Array1 = {\n",
    "            {1, 2, 3},\n",
    "            {4, 5, 6},\n",
    "            {7, 8, 9}\n",
    "        };\n",
    "        for (int j = 0; j < Array1[0].length; j++) {\n",
    "            System.out.println(\"Column \" + (j + 1));\n",
    "            for (int i = 0; i < Array1.length; i++) {\n",
    "                System.out.println(Array1[i][j]);\n",
    "            }\n",
    "        }\n",
    "    }\n",
    "}\n",
    "Main.main(null);"
   ]
  },
  {
   "cell_type": "markdown",
   "metadata": {},
   "source": [
    "This displays each column and what is within each column.\n",
    "\n",
    "## Algorithms\n",
    "Linear search is a very easy and sequential searching algorithm that allows us to find certain elements within the array or not in the array. This is done by traversing through each element.\n",
    "\n",
    "Here is an example of a linear search within a 2D array:"
   ]
  },
  {
   "cell_type": "code",
   "execution_count": 7,
   "metadata": {
    "vscode": {
     "languageId": "java"
    }
   },
   "outputs": [
    {
     "name": "stdout",
     "output_type": "stream",
     "text": [
      "Element found at index: [2, 1]\n"
     ]
    }
   ],
   "source": [
    "import java.util.Arrays;\n",
    "\n",
    "public class Main {\n",
    "    public static void main(String[] args) {\n",
    "        int[][] array = {\n",
    "            {10, 15, 20},\n",
    "            {25, 30, 35},\n",
    "            {40, 22, 50}\n",
    "        };\n",
    "\n",
    "        int target = 22; // The number we want to search for\n",
    "        int[] result = linearSearch(array, target);\n",
    "\n",
    "        if (result[0] != -1) {\n",
    "            System.out.println(\"Element found at index: \" + Arrays.toString(result));\n",
    "        } else {\n",
    "            System.out.println(\"Element not found.\");\n",
    "        }\n",
    "    }\n",
    "\n",
    "    static int[] linearSearch(int[][] arr, int target) {\n",
    "        for (int i = 0; i < arr.length; i++) { // Loop through rows\n",
    "            for (int j = 0; j < arr[i].length; j++) { // Loop through columns\n",
    "                if (arr[i][j] == target) { // Check if the current element matches the target\n",
    "                    return new int[] {i, j}; // Return the row and column index\n",
    "                }\n",
    "            }\n",
    "        }\n",
    "        return new int[] {-1, -1}; // Return -1 if the target is not found\n",
    "    }\n",
    "}\n",
    "Main.main(null);"
   ]
  },
  {
   "cell_type": "markdown",
   "metadata": {},
   "source": [
    "Checks each element in the array sequentially until the target value is found or the end of the array is reached. Can be implemented on both sorted and unsorted arrays.\n",
    "\n",
    "## Binary Search\n",
    "Divide the sorted array in half repeatedly to locate the target value. It starts by comparing the target value to the middle element of the array. If the target is equal to the middle element, the search is complete. If the target is less than the middle element, the search continues in the lower half; if greater, it continues in the upper half. This process is repeated until the target is found or the search space is exhausted."
   ]
  },
  {
   "cell_type": "code",
   "execution_count": 8,
   "metadata": {
    "vscode": {
     "languageId": "java"
    }
   },
   "outputs": [
    {
     "name": "stdout",
     "output_type": "stream",
     "text": [
      "Element found at: Row 2, Column 1\n"
     ]
    }
   ],
   "source": [
    "public class Main {\n",
    "    public static void main(String[] args) {\n",
    "        int[][] array = {\n",
    "            {1, 2, 3, 4},\n",
    "            {5, 6, 7, 8},\n",
    "            {9, 10, 11, 12},\n",
    "            {13, 14, 15, 16}\n",
    "        };\n",
    "        \n",
    "        int target = 10;\n",
    "        int[] result = binarySearch2D(array, target);\n",
    "        \n",
    "        if (result[0] != -1) {\n",
    "            System.out.println(\"Element found at: Row \" + result[0] + \", Column \" + result[1]);\n",
    "        } else {\n",
    "            System.out.println(\"Element not found.\");\n",
    "        }\n",
    "    }\n",
    "    \n",
    "    public static int[] binarySearch2D(int[][] array, int target) {\n",
    "        int rows = array.length;\n",
    "        if (rows == 0) return new int[] {-1, -1};\n",
    "        int cols = array[0].length;\n",
    "        \n",
    "        int left = 0;\n",
    "        int right = rows * cols - 1;\n",
    "        \n",
    "        while (left <= right) {\n",
    "            int mid = left + (right - left) / 2;\n",
    "            int midValue = array[mid / cols][mid % cols];\n",
    "            \n",
    "            if (midValue == target) {\n",
    "                return new int[] {mid / cols, mid % cols}; // Return the row and column index\n",
    "            }\n",
    "            if (midValue < target) {\n",
    "                left = mid + 1; // Move to the right half\n",
    "            } else {\n",
    "                right = mid - 1; // Move to the left half\n",
    "            }\n",
    "        }\n",
    "        \n",
    "        return new int[] {-1, -1}; // Target not found\n",
    "    }\n",
    "}\n",
    "Main.main(null);"
   ]
  },
  {
   "cell_type": "markdown",
   "metadata": {},
   "source": [
    "### Popcorn Hack:\n",
    "Create your own 2D array and use either binary search or linear search. (maybe both 😏 )\n"
   ]
  },
  {
   "cell_type": "code",
   "execution_count": 6,
   "metadata": {
    "vscode": {
     "languageId": "java"
    }
   },
   "outputs": [
    {
     "name": "stdout",
     "output_type": "stream",
     "text": [
      "Target 2 found at (0, 1)\n"
     ]
    }
   ],
   "source": [
    "public class Main {\n",
    "    public static void main(String[] args) {\n",
    "        int[][] array = {\n",
    "            {1,2,3},\n",
    "            {4,5,6},\n",
    "            {7,8,9}\n",
    "        };\n",
    "        int target = 2;\n",
    "        int rows = array.length;\n",
    "        int columns = array[0].length;\n",
    "        int min = 0;\n",
    "        int max = rows * columns;\n",
    "        \n",
    "        for (int i = 0; i < rows; i++) {\n",
    "            for (int j = 0; j < columns; j++) {\n",
    "                if (array[i][j] == target) {\n",
    "                    System.out.println(\"Target \" + target + \" found at (\" + i + \", \" + j + \")\");\n",
    "                }\n",
    "            }\n",
    "    }\n",
    "}\n",
    "}\n",
    "Main.main(null);"
   ]
  },
  {
   "cell_type": "markdown",
   "metadata": {},
   "source": [
    "## Sorting a 2D Array<br>\n",
    "Sorting a 2D array can be approached in two ways:\n",
    "\n",
    "Row-wise Sorting: Each row is sorted independently, similar to sorting a 1D array.<br>\n",
    "Global Sorting: Flatten the 2D array into a 1D array, sort it, and then reshape it back into the 2D form."
   ]
  },
  {
   "cell_type": "code",
   "execution_count": 29,
   "metadata": {
    "vscode": {
     "languageId": "java"
    }
   },
   "outputs": [
    {
     "name": "stdout",
     "output_type": "stream",
     "text": [
      "[1, 3, 9]\n",
      "[4, 5, 6]\n",
      "[2, 7, 8]\n"
     ]
    }
   ],
   "source": [
    "public class Main {\n",
    "    public static void main(String[] args) {\n",
    "        int[][] array = {\n",
    "            {9, 3, 1},\n",
    "            {4, 6, 5},\n",
    "            {7, 2, 8}\n",
    "        };\n",
    "\n",
    "        for (int i = 0; i < array.length; i++) {\n",
    "            Arrays.sort(array[i]); // Sort each row individually\n",
    "        }\n",
    "\n",
    "        // Print the sorted 2D array\n",
    "        for (int[] row : array) {\n",
    "            System.out.println(Arrays.toString(row));\n",
    "        }\n",
    "    }\n",
    "}\n",
    "Main.main(null);\n"
   ]
  },
  {
   "cell_type": "markdown",
   "metadata": {},
   "source": [
    "**Class Declaration**: \n",
    "  - The code is contained within a public class named `Main`.\n",
    "\n",
    "- **Main Method**: \n",
    "  - The `main` method is the entry point of the program where execution begins.\n",
    "\n",
    "- **2D Array Initialization**:\n",
    "  - A 2D array named `array` is initialized with three rows, each containing three integers.\n",
    "  - The initial array looks like this:\n",
    "    ```\n",
    "    {\n",
    "        {9, 3, 1},\n",
    "        {4, 6, 5},\n",
    "        {7, 2, 8}\n",
    "    }\n",
    "    ```\n",
    "\n",
    "- **Sorting Each Row**:\n",
    "  - A `for` loop iterates through each row of the 2D array using the index `i`.\n",
    "  - The `Arrays.sort(array[i])` method is called for each row:\n",
    "    - This method sorts the elements of the current row in ascending order.\n",
    "    - After sorting, the array transforms as follows:\n",
    "      - First row: `{1, 3, 9}`\n",
    "      - Second row: `{4, 5, 6}`\n",
    "      - Third row: `{2, 7, 8}`\n",
    "\n",
    "- **Printing the Sorted Array**:\n",
    "  - A `for-each` loop iterates through each row of the sorted array.\n",
    "  - `System.out.println(Arrays.toString(row))` prints each row as a string representation:\n",
    "    - Each sorted row is displayed on a new line, resulting in the following output:\n",
    "      ```\n",
    "      [1, 3, 9]\n",
    "      [4, 5, 6]\n",
    "      [2, 7, 8]\n",
    "      ```\n",
    "\n",
    "- **Program Execution**:\n",
    "  - The line `Main.main(null);` invokes the `main` method, which executes the code above.\n"
   ]
  },
  {
   "cell_type": "markdown",
   "metadata": {},
   "source": [
    "### Global Sorting:<br>\n",
    "#### Questions for Further Discussion \n",
    "- What are some scenarios where global sorting might be more beneficial than row-wise or column-wise sorting?\n",
    "- How does the complexity of flattening, sorting, and reshaping compare to other data manipulation techniques?<br>\n",
    "#### Steps for Global sorting:\n",
    "Flattening the 2D array, sorting it, and then reshaping it."
   ]
  },
  {
   "cell_type": "code",
   "execution_count": 9,
   "metadata": {
    "vscode": {
     "languageId": "java"
    }
   },
   "outputs": [
    {
     "name": "stdout",
     "output_type": "stream",
     "text": [
      "[1, 2, 3]\n",
      "[4, 5, 6]\n",
      "[7, 8, 9]\n"
     ]
    }
   ],
   "source": [
    "public class Main {\n",
    "    public static void main(String[] args) {\n",
    "        int[][] array = {\n",
    "            {9, 3, 1},\n",
    "            {4, 6, 5},\n",
    "            {7, 2, 8}\n",
    "        };\n",
    "\n",
    "        int rows = array.length;\n",
    "        int cols = array[0].length;\n",
    "        int[] flatArray = new int[rows * cols];\n",
    "        \n",
    "        // Flatten the 2D array into a 1D array\n",
    "        int index = 0;\n",
    "        for (int[] row : array) {\n",
    "            for (int num : row) {\n",
    "                flatArray[index++] = num;\n",
    "            }\n",
    "        }\n",
    "\n",
    "        // Sort the 1D array\n",
    "        Arrays.sort(flatArray);\n",
    "\n",
    "        // Reshape the 1D array back into a 2D array\n",
    "        index = 0;\n",
    "        for (int i = 0; i < rows; i++) {\n",
    "            for (int j = 0; j < cols; j++) {\n",
    "                array[i][j] = flatArray[index++];\n",
    "            }\n",
    "        }\n",
    "\n",
    "        // Print the globally sorted 2D array\n",
    "        for (int[] row : array) {\n",
    "            System.out.println(Arrays.toString(row));\n",
    "        }\n",
    "    }\n",
    "}\n",
    "Main.main(null);"
   ]
  },
  {
   "cell_type": "markdown",
   "metadata": {},
   "source": [
    "### Steps for Global Sorting\n",
    "1. **Initialize the 2D Array**:\n",
    "   - Define the 2D array with specific dimensions and values.\n",
    "\n",
    "2. **Flatten the Array**:\n",
    "   - Create a new 1D array that can hold all the elements from the 2D array.\n",
    "   - Use nested loops to copy each element from the 2D array to the 1D array.\n",
    "\n",
    "3. **Sort the 1D Array**:\n",
    "   - Utilize a sorting method to arrange the elements in the 1D array in the desired order.\n",
    "\n",
    "4. **Reshape into 2D Array**:\n",
    "   - Reassign the sorted values back into the original 2D array using nested loops.\n",
    "\n",
    "5. **Print the Sorted 2D Array**:\n",
    "   - Display the final sorted 2D array to visualize the results.\n",
    "\n",
    "### Benefits of Global Sorting\n",
    "- **Unified Order**: Provides a single sorted view of all elements, regardless of their original positions.\n",
    "- **Simplified Processing**: Easier to apply algorithms that require a sorted list of elements.\n",
    "\n"
   ]
  },
  {
   "cell_type": "markdown",
   "metadata": {},
   "source": [
    "### Popcorn Hack:\n",
    "Write a code that performs global sorting on your own 2D array."
   ]
  },
  {
   "cell_type": "code",
   "execution_count": 12,
   "metadata": {
    "vscode": {
     "languageId": "java"
    }
   },
   "outputs": [
    {
     "name": "stdout",
     "output_type": "stream",
     "text": [
      "Sorted 2D Array:\n",
      "[0, 1, 3]\n",
      "[4, 5, 6]\n",
      "[7, 11, 23]\n"
     ]
    }
   ],
   "source": [
    "public class PopcornHack {\n",
    "    public static void main(String[] args) {\n",
    "        int[][] array = {\n",
    "            {11, 3, 6},\n",
    "            {0, 7, 4},\n",
    "            {5, 23, 1}\n",
    "        };\n",
    "\n",
    "        // Step 2: Define your target number\n",
    "        int target = 4;\n",
    "\n",
    "        // Step 3: Get the number of rows and columns\n",
    "        int rows = array.length;\n",
    "        int cols = array[0].length;\n",
    "\n",
    "        int[] flatArray = new int[rows * cols];\n",
    "        int index = 0;\n",
    "        for (int[] row : array) {\n",
    "            for (int num : row) {\n",
    "                flatArray[index++] = num;\n",
    "            }\n",
    "        }\n",
    "\n",
    "        Arrays.sort(flatArray);\n",
    "\n",
    "        index = 0;\n",
    "        for (int i = 0; i < rows; i++) {\n",
    "            for (int j = 0; j < cols; j++) {\n",
    "                array[i][j] = flatArray[index++];\n",
    "            }\n",
    "        }\n",
    "\n",
    "        System.out.println(\"Sorted 2D Array:\");\n",
    "        for (int[] row : array) {\n",
    "            System.out.println(Arrays.toString(row)); \n",
    "        }\n",
    "    }\n",
    "}\n",
    "PopcornHack.main(null);\n"
   ]
  },
  {
   "cell_type": "markdown",
   "metadata": {},
   "source": [
    "## Enhanced For-Each Loop for 2D Arrays\n",
    "\n",
    "- 2D arrays are arrays that contain other arrays.\n",
    "- You can use a nested enhanced for-each loop to iterate through all the elements in a 2D array:\n",
    "  - The outer loop iterates over each inner array (or row).\n",
    "  - The inner loop goes through all the values within that specific inner array.\n",
    "- For example, with a 2D array of type `String`:\n",
    "  - The variable type for the outer loop should match the type of the inner arrays, which is `String[]`.\n",
    "  - Ensure that the variable types in the for-each loops align with the types of the elements in the array.\n",
    "- Enhanced for-each loops simplify code by eliminating the need for manual index management and square brackets.\n",
    "- These loops are most suitable when you do not plan to modify the original values in an array of primitive types:\n",
    "  - The loop variable (e.g., `fruit` in the inner loop) will not change the values stored in the array.\n",
    "- Here’s an example code segment that demonstrates how to use enhanced for-each loops with a 2D array:\n"
   ]
  },
  {
   "cell_type": "code",
   "execution_count": 9,
   "metadata": {
    "vscode": {
     "languageId": "java"
    }
   },
   "outputs": [
    {
     "name": "stdout",
     "output_type": "stream",
     "text": [
      "Apple Banana Cherry \n",
      "Date Fig Grape \n",
      "Honeydew Kiwi Lemon \n"
     ]
    }
   ],
   "source": [
    "public class Main {\n",
    "    public static void main(String[] args) {\n",
    "        // Define a 2D array of strings\n",
    "        String[][] fruits = {\n",
    "            {\"Apple\", \"Banana\", \"Cherry\"},\n",
    "            {\"Date\", \"Fig\", \"Grape\"},\n",
    "            {\"Honeydew\", \"Kiwi\", \"Lemon\"}\n",
    "        };\n",
    "\n",
    "        // Use enhanced for-each loops to iterate through the 2D array\n",
    "        for (String[] row : fruits) { // Iterate through each inner array (row)\n",
    "            for (String fruit : row) { // Iterate through each element in the row\n",
    "                System.out.print(fruit + \" \"); // Print the fruit name\n",
    "            }\n",
    "            System.out.println(); // Print a new line after each row\n",
    "        }\n",
    "    }\n",
    "}\n",
    "Main.main(null);"
   ]
  },
  {
   "cell_type": "markdown",
   "metadata": {},
   "source": [
    "## Algorithms involving traversing a 2D Array\n",
    "In the APCSA AP exam, you may be asked to write an algorithm for a 2D array based on a given scenario. College Board will present a problem, and your task will be to develop an algorithm that addresses it.\n",
    "\n",
    "Here's an example from the 2023 College Board APCSA exam:\n",
    "\n",
    "The question required students to write the countIncreasingCols method. This method counts how many columns in the grid (a 2D array filled with random numbers) are in increasing order.\n"
   ]
  },
  {
   "cell_type": "code",
   "execution_count": 21,
   "metadata": {
    "vscode": {
     "languageId": "java"
    }
   },
   "outputs": [
    {
     "name": "stdout",
     "output_type": "stream",
     "text": [
      "columns increasing = 2"
     ]
    }
   ],
   "source": [
    "public class Main {\n",
    "    public static void main(String[] args) {\n",
    "        System.out.print(\"columns increasing = \" + countIncreasingCols());\n",
    "    }\n",
    "   \n",
    "}\n",
    "public int countIncreasingCols() {\n",
    "    int count = 0;\n",
    "    int[][] grid = {\n",
    "        {1, 2, 3,4,5},\n",
    "        {6, 7, 8,32,10},\n",
    "        {11, 12, 23,14,15},\n",
    "        {16, 17, 18,19,5}\n",
    "    };\n",
    "    \n",
    "    for (int j = 0; j < grid[0].length; j++) { // Loop through each column\n",
    "        boolean isIncreasing = true; \n",
    "        if (grid.length > 1) { // Ensure there is more than one row\n",
    "            for (int i = 1; i < grid.length; i++) { // Loop through each row\n",
    "                if (grid[i][j] <= grid[i - 1][j]) { // Check if the current element is less than or equal to the previous one\n",
    "                    isIncreasing = false; // Set isIncreasing to false and exit the loop\n",
    "                    break; \n",
    "                }\n",
    "            }\n",
    "    \n",
    "            if (isIncreasing) { // If the column is increasing, increase the count\n",
    "                count++;        \n",
    "            }\n",
    "        }\n",
    "        \n",
    "        else if (grid.length == 1) { // If there is only one row, count it as increasing\n",
    "            count++;\n",
    "        }\n",
    "        \n",
    "        else { // If there are no rows, exit the loop\n",
    "            break;\n",
    "        }\n",
    "    }\n",
    "    return count; \n",
    "}\n",
    "Main.main(null);"
   ]
  },
  {
   "cell_type": "markdown",
   "metadata": {
    "vscode": {
     "languageId": "java"
    }
   },
   "source": [
    "<html lang=\"en\">\n",
    "<head>\n",
    "    <meta charset=\"UTF-8\">\n",
    "    <meta name=\"viewport\" content=\"width=device-width, initial-scale=1.0\">\n",
    "    <style>\n",
    "        #quiz-container {\n",
    "            background-color: #fff;\n",
    "            padding: 20px;\n",
    "            border-radius: 10px;\n",
    "            box-shadow: 0 5px 10px rgba(0, 0, 0, 0.1);\n",
    "            width: 300px;\n",
    "            margin: auto;\n",
    "        }\n",
    "        .question {\n",
    "            font-size: 20px;\n",
    "            margin-bottom: 20px;\n",
    "            color: black;\n",
    "        }\n",
    "        .option {\n",
    "            background-color: #007bff;\n",
    "            color: white;\n",
    "            padding: 10px;\n",
    "            margin: 5px;\n",
    "            border: none;\n",
    "            border-radius: 5px;\n",
    "            cursor: pointer;\n",
    "            width: 100%;\n",
    "        }\n",
    "        .option:hover {\n",
    "            background-color: #0056b3;\n",
    "        }\n",
    "        #result {\n",
    "            margin-top: 20px;\n",
    "            font-size: 18px;\n",
    "        }\n",
    "        .correct {\n",
    "            color: green;\n",
    "        }\n",
    "        .incorrect {\n",
    "            color: red;\n",
    "        }\n",
    "    </style>\n",
    "</head>\n",
    "<body>\n",
    "    <h3>2D Array Trivia Quiz</h3>\n",
    "    <div id=\"quiz-container\">\n",
    "        <div class=\"question\" id=\"question\">Click the button to start the quiz!</div>\n",
    "        <div id=\"options\"></div>\n",
    "        <div id=\"result\"></div>\n",
    "        <button id=\"nextButton\" style=\"display: none;\" onclick=\"getNextQuestion()\">Next Question</button>\n",
    "    </div>\n",
    "\n",
    "    <script>\n",
    "        const questions = [\n",
    "            {\n",
    "                question: \"What is a 2D array in programming?\",\n",
    "                options: [\n",
    "                    \"A single-dimensional array\",\n",
    "                    \"An array of arrays, or a matrix\",\n",
    "                    \"A variable that holds multiple values\",\n",
    "                    \"A function returning an array\"\n",
    "                ],\n",
    "                answer: 1 // index of the correct option\n",
    "            },\n",
    "            {\n",
    "                question: \"How would you access the element in the 2nd row and 3rd column of a 2D array named 'arr'?\",\n",
    "                options: [\n",
    "                    \"arr[2][3]\",\n",
    "                    \"arr[1][2]\",\n",
    "                    \"arr[2,3]\",\n",
    "                    \"arr(2)(3)\"\n",
    "                ],\n",
    "                answer: 1\n",
    "            },\n",
    "            {\n",
    "                question: \"If a 2D array has 3 rows and 4 columns, how many elements does it have?\",\n",
    "                options: [\n",
    "                    \"7\",\n",
    "                    \"12\",\n",
    "                    \"16\",\n",
    "                    \"10\"\n",
    "                ],\n",
    "                answer: 1\n",
    "            },\n",
    "        ];\n",
    "\n",
    "        let currentQuestionIndex = 0;\n",
    "\n",
    "        function getQuestion() {\n",
    "            // Get the current question\n",
    "            let question = questions[currentQuestionIndex];\n",
    "            document.getElementById(\"question\").innerHTML = question.question;\n",
    "            document.getElementById(\"result\").innerHTML = \"\";\n",
    "\n",
    "            // Generate options\n",
    "            let optionsHtml = '';\n",
    "            question.options.forEach((option, index) => {\n",
    "                optionsHtml += `<button class=\"option\" onclick=\"checkAnswer(${index})\">${option}</button>`;\n",
    "            });\n",
    "            document.getElementById(\"options\").innerHTML = optionsHtml;\n",
    "            document.getElementById(\"nextButton\").style.display = \"none\"; // Hide next button initially\n",
    "        }\n",
    "\n",
    "        function checkAnswer(selectedIndex) {\n",
    "            const question = questions[currentQuestionIndex]; // current question is accurate\n",
    "            const resultDiv = document.getElementById(\"result\");\n",
    "            const nextButton = document.getElementById(\"nextButton\");\n",
    "\n",
    "            if (selectedIndex === question.answer) {\n",
    "                resultDiv.innerHTML = `<span class=\"correct\">Correct!</span>`;\n",
    "            } else {\n",
    "                resultDiv.innerHTML = `<span class=\"incorrect\">Incorrect! The correct answer was: ${question.options[question.answer]}</span>`;\n",
    "            }\n",
    "\n",
    "            document.getElementById(\"options\").innerHTML = \"\"; // Clear options after selection\n",
    "            nextButton.style.display = \"inline\"; // Show next button\n",
    "        }\n",
    "\n",
    "        function getNextQuestion() {\n",
    "            currentQuestionIndex++; // Move to the next question\n",
    "            if (currentQuestionIndex >= questions.length) {\n",
    "                currentQuestionIndex = 0; // Reset to first question if at the end\n",
    "                alert(\"You've completed the quiz! Starting over.\");\n",
    "            }\n",
    "            getQuestion(); // Load the next question\n",
    "        }\n",
    "\n",
    "        // Initialize the quiz with the first question\n",
    "        getQuestion();\n",
    "    </script>\n",
    "</body>\n",
    "</html>\n"
   ]
  }
 ],
 "metadata": {
  "kernelspec": {
   "display_name": "java (IJava/j!)",
   "language": "java",
   "name": "jbang-ijava"
  },
  "language_info": {
   "codemirror_mode": "java",
   "file_extension": ".jshell",
   "mimetype": "text/x-java-source",
   "name": "Java",
   "pygments_lexer": "java",
   "version": "22.0.2+9-70"
  }
 },
 "nbformat": 4,
 "nbformat_minor": 2
}
