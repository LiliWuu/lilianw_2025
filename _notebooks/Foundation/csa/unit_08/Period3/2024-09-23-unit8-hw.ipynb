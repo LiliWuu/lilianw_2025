{
 "cells": [
  {
   "cell_type": "markdown",
   "metadata": {},
   "source": [
    "---\n",
    "layout: post\n",
    "title: Unit 8 - Homework\n",
    "description: By Torin\n",
    "menu: nav/CSA_Units/csa_unit8_p3.html\n",
    "courses: {'csa': {'week': 5}}\n",
    "toc: true\n",
    "comments: true\n",
    "permalink: /csa/unit8yay/hw/\n",
    "---"
   ]
  },
  {
   "cell_type": "markdown",
   "metadata": {},
   "source": [
    "# HW Hack for 8.1:\n",
    "\n",
    "You are given a function below, and your goal is to match the table to match the 2d array provided in the function."
   ]
  },
  {
   "cell_type": "markdown",
   "metadata": {},
   "source": [
    "{% raw %}\n",
    "```java\n",
    "public class Main {\n",
    "    public static void main(String[] args) {\n",
    "        String[][] array = {{\"My\", \"A\"}, {\"AP\", \"Class\"}, {\"CS\", \"Rocks!\"}};\n",
    "        \n",
    "        for (int col = 0; col < array[0].length; col++) {\n",
    "            for (int row = 0; row < array.length; row++) {\n",
    "                System.out.print(array[row][col] + \" \");\n",
    "            }\n",
    "        }\n",
    "    }\n",
    "}\n",
    "\n",
    "Main.main(null);\n",
    "```\n",
    "{% endraw %}"
   ]
  },
  {
   "cell_type": "markdown",
   "metadata": {},
   "source": [
    "Of the following, which is the correct table for the 2d array provided in the function?\n",
    "\n",
    "\n",
    "A)\n",
    "\n",
    "|   | 1   | 2   | 3      |\n",
    "|---|-----|-----|--------|\n",
    "| 1 | My  | CS  | Class  |\n",
    "| 2 | AP  | A   | Rocks! |\n",
    "\n",
    "B)\n",
    "\n",
    "|   | 1   | 2   | 3      |\n",
    "|---|-----|-----|--------|\n",
    "| 1 | My  | AP  | CS  |\n",
    "| 2 | A  | Class   | Rocks! |\n",
    "\n",
    "C)\n",
    "\n",
    "|   | 1   | 2   | 3      |\n",
    "|---|-----|-----|--------|\n",
    "| 1 | My  | AP  | Class  |\n",
    "| 2 | Rocks!  | CS   | A |"
   ]
  },
  {
   "cell_type": "markdown",
   "metadata": {},
   "source": [
    "B"
   ]
  },
  {
   "cell_type": "markdown",
   "metadata": {},
   "source": [
    "# HW Hack for 8.2:\n",
    "\n",
    "\n",
    "Write a program to search through a 2d array to find the grade for John. You will be given a list of students and their grades and you must find the grade of John. If a student is not in the list, then return \"Student not found\".\n",
    "\n",
    "Use this program as a template:\n"
   ]
  },
  {
   "cell_type": "code",
   "execution_count": 4,
   "metadata": {
    "vscode": {
     "languageId": "java"
    }
   },
   "outputs": [
    {
     "name": "stdout",
     "output_type": "stream",
     "text": [
      "Alice's grade: 85\n",
      "Charlie's grade: Student not found\n",
      "John's grade: 93\n"
     ]
    }
   ],
   "source": [
    "public class GradeSearch {\n",
    "    public static String searchGrade(String[][] grades, String name) {\n",
    "        for (int i = 0; i < grades.length; i++) {\n",
    "            if (grades[i][0] == name) {\n",
    "                return grades[i][1];\n",
    "            }\n",
    "        }\n",
    "        return \"Student not found\";\n",
    "    }\n",
    "\n",
    "    public static void main(String[] args) {\n",
    "        // Sample 2D array with names and grades\n",
    "        String[][] grades = {\n",
    "            {\"John\", \"93\"},\n",
    "            {\"Alice\", \"85\"},\n",
    "            {\"Bob\", \"78\"},\n",
    "            {\"Eve\", \"92\"}\n",
    "        };\n",
    "\n",
    "        // Test the search function\n",
    "        String nameToSearch = \"Alice\";\n",
    "        String grade = searchGrade(grades, nameToSearch);\n",
    "        System.out.println(nameToSearch + \"'s grade: \" + grade);\n",
    "\n",
    "        nameToSearch = \"Charlie\";\n",
    "        grade = searchGrade(grades, nameToSearch);\n",
    "        System.out.println(nameToSearch + \"'s grade: \" + grade);\n",
    "\n",
    "        nameToSearch = \"John\";\n",
    "        grade = searchGrade(grades, nameToSearch);\n",
    "        System.out.println(nameToSearch + \"'s grade: \" + grade);\n",
    "\n",
    "    }\n",
    "}\n",
    "\n",
    "// Execute the main method to see the output\n",
    "GradeSearch.main(null);"
   ]
  },
  {
   "cell_type": "markdown",
   "metadata": {},
   "source": [
    "Heres a hint, try to use enhanced for loops to check each row for the name John. If you find John, then return the grade. If you don't find John, then return \"Student not found\"."
   ]
  }
 ],
 "metadata": {
  "kernelspec": {
   "display_name": "java (IJava/j!)",
   "language": "java",
   "name": "jbang-ijava"
  },
  "language_info": {
   "codemirror_mode": "java",
   "file_extension": ".jshell",
   "mimetype": "text/x-java-source",
   "name": "Java",
   "pygments_lexer": "java",
   "version": "22.0.2+9-70"
  }
 },
 "nbformat": 4,
 "nbformat_minor": 2
}
