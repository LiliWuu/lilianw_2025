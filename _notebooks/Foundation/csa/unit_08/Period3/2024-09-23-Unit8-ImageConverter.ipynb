{
 "cells": [
  {
   "cell_type": "markdown",
   "metadata": {},
   "source": [
    "---\n",
    "layout: post\n",
    "title: Unit 8 - Image Converter to ASCII\n",
    "description: By Torin\n",
    "menu: nav/CSA_Units/csa_unit8_p3.html\n",
    "courses: {'csa': {'week': 5}}\n",
    "toc: true\n",
    "comments: true\n",
    "permalink: /csa/unit8yay/image/\n",
    "---"
   ]
  },
  {
   "cell_type": "markdown",
   "metadata": {},
   "source": [
    "# Image Converter to ASCII\n",
    "\n",
    "## Introduction\n",
    "\n",
    "In this project, we will be creating a program that converts an image to ASCII art. ASCII art is a graphic design technique that uses printable characters from the ASCII standard to create images and designs. In this project, we will be using Java to convert an image to ASCII art with for loops and other methods."
   ]
  },
  {
   "cell_type": "code",
   "execution_count": 7,
   "metadata": {
    "vscode": {
     "languageId": "java"
    }
   },
   "outputs": [
    {
     "name": "stdout",
     "output_type": "stream",
     "text": [
      "                          ..%%%%%%%%%%%%%%%%%%%%%%%%%%%%%%%%%%%%%%%%%%##..                          \n",
      "            ..**%%%%%%%%%%%%%%##++++++++++++++++++++++++++++++******%%%%%%%%%%%%%%%%++              \n",
      "      ......::**%%%%%%%%%%%%%%##++++++++++++++++++++++++++++++******%%%%%%%%%%%%%%%%++......        \n",
      "      ..%%%%%%**++++++====================++++++++++++++++**************************##%%%%**        \n",
      "      ..%%##++==========++++++**%%%%%%%%%%%%%%%%%%%%%%%%%%%%%%%%%%%%********************%%##        \n",
      "      ..%%##++==========++++++**%%%%%%%%%%%%%%%%%%%%%%%%%%%%%%%%%%%%********************%%##        \n",
      "      ..%%%%%%**++################==::::::::::::::::::::::::::::++################**##%%%%##        \n",
      "      ....++%%%%%%::::::....::::::::::::::::::::::::::::::::::::::::------------==%%%%%%--..        \n",
      "          ==%%%%%%::........::::::::::::::::........::::::::::::::::------------==%%++....          \n",
      "          ==%%%%%%::........::::------------........::::::::::::::::------------==%%++              \n",
      "          ....##%%::....::::::==%%%%%%%%%%%%==::::::::--++....++--::::::--------==%%++              \n",
      "              ....%%**::::::%%##**********%%%%%%::::::--++++++++==::----------####....              \n",
      "                ..%%**::::::%%##**++++****%%%%%%::::::--++++++++--::----------##%%..                \n",
      "                ..##++--::::%%##**--..****%%####::::::::::::::::::::--------==####..                \n",
      "                ....==%%==::%%%%%%**++%%%%%%++--::::::::::::::::----------++%%--....                \n",
      "                    ==%%==::------**%%%%**--::::::::::::::::::::------==%%%%%%::                    \n",
      "                    ==%%==::::::::**%%%%**::::::::::::::::::::::------==%%%%%%::                    \n",
      "                    ....**%%::::::::::::::::::::##############--------==%%++....                    \n",
      "                      ..**%%::::::....::::::::::%%**..--******%%**--##%%%%++                        \n",
      "                      ..**##--::::....::::::::::%%**..--******%%**--%%%%%%==                        \n",
      "                          ..%%**--........::::::%%##**********##**--%%##..                          \n",
      "                          ..%%%%%%==::....::::::%%%%%%%%%%%%##==**%%%%##..                          \n",
      "                          ....==%%==::....::::::::::::----------**%%::....                          \n",
      "                              ==%%==::....::::::::::::----------**%%::                              \n",
      "                              ==%%%%%%::::::::::::::::------==%%%%%%::                              \n",
      "                              ....**%%::::::==++..::++==----==%%++....                              \n",
      "                                ..**%%--::::==++..::++==----==%%++                                  \n",
      "                                ..**%%%%**::::::++==------%%%%%%++                                  \n",
      "                                  ....%%**::::::----------%%##....                                  \n",
      "                                    ..%%%%%%++--------**%%%%##..                                    \n",
      "                                    ..%%%%%%++--------**%%%%##..                                    \n",
      "                                    ....--%%++--------**%%::....                                    \n",
      "                                        --%%%%%%--==%%%%%%..                                        \n",
      "                                        --%%%%%%--++%%%%%%..                                        \n",
      "                                            ++%%%%%%%%==                                            \n",
      "\n"
     ]
    }
   ],
   "source": [
    "import java.awt.image.BufferedImage;\n",
    "import java.io.File;\n",
    "import javax.imageio.ImageIO;\n",
    "\n",
    "public class ImageToAscii {\n",
    "    private static final String ASCII_CHARS = \"@%#*+=-:. \";\n",
    "\n",
    "    public static void main(String[] args) {\n",
    "        try {\n",
    "            BufferedImage image = ImageIO.read(new File(\"pizza.png\"));\n",
    "            String asciiArt = convertToAscii(image);\n",
    "            System.out.println(asciiArt);\n",
    "        } catch (Exception e) {\n",
    "            e.printStackTrace();\n",
    "        }\n",
    "    }\n",
    "\n",
    "    private static String convertToAscii(BufferedImage image) {\n",
    "        int width = 100; // Resize width\n",
    "        double aspectRatio = 0.35; // Adjust this value to correct the vertical stretching\n",
    "        int height = (int) (image.getHeight() * (100.0 / image.getWidth()) * aspectRatio); // Maintain aspect ratio with adjustment\n",
    "        BufferedImage resizedImage = new BufferedImage(width, height, BufferedImage.TYPE_INT_RGB);\n",
    "        resizedImage.getGraphics().drawImage(image, 0, 0, width, height, null);\n",
    "\n",
    "        StringBuilder asciiArt = new StringBuilder();\n",
    "        for (int y = 0; y < height; y++) {\n",
    "            for (int x = 0; x < width; x++) {\n",
    "                int pixel = resizedImage.getRGB(x, y);\n",
    "                int grayValue = (int) (((pixel & 0x00FF0000) >> 16) * 0.299 + ((pixel & 0x0000FF00) >> 8) * 0.587 + (pixel & 0x000000FF) * 0.114);\n",
    "                int charIndex = (int) ((grayValue / 255.0) * (ASCII_CHARS.length() - 1));\n",
    "                asciiArt.append(ASCII_CHARS.charAt(charIndex));\n",
    "            }\n",
    "            asciiArt.append(\"\\n\");\n",
    "        }\n",
    "        return asciiArt.toString();\n",
    "    }\n",
    "}\n",
    "\n",
    "// Run the main method\n",
    "ImageToAscii.main(null);"
   ]
  }
 ],
 "metadata": {
  "kernelspec": {
   "display_name": "Java",
   "language": "java",
   "name": "java"
  },
  "language_info": {
   "codemirror_mode": "java",
   "file_extension": ".jshell",
   "mimetype": "text/x-java-source",
   "name": "Java",
   "pygments_lexer": "java",
   "version": "17.0.6+10-LTS"
  }
 },
 "nbformat": 4,
 "nbformat_minor": 2
}
