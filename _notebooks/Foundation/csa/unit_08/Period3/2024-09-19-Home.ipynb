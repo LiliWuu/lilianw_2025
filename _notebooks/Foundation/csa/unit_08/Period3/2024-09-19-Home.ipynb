{
 "cells": [
  {
   "cell_type": "markdown",
   "metadata": {},
   "source": [
    "---\n",
    "layout: post\n",
    "title: Unit 8 2D Arrays P3 (Updated Version)\n",
    "type: ccc\n",
    "toc: True\n",
    "courses: {'csa': {'week': 5}}\n",
    "permalink: /csa/unit8yay\n",
    "menu: nav/CSA_Units/csa_unit8_p3.html\n",
    "---"
   ]
  },
  {
   "cell_type": "markdown",
   "metadata": {},
   "source": [
    "# AP Computer Science A - Unit 8 Home Page\n",
    "\n",
    "Welcome to Unit 8! In this unit, we will explore various concepts of **2D Arrays** in Java, focusing on traversing and manipulating arrays.\n",
    "\n",
    "### Learning Goals:\n",
    "- Understand how to declare, initialize, and traverse 2D arrays\n",
    "- Learn how to manipulate array elements\n",
    "- Practice writing algorithms that use arrays\n",
    "\n",
    "### Key Topics:\n",
    "- 2D Arrays\n",
    "- Traversing 2D Arrays"
   ]
  }
 ],
 "metadata": {
  "language_info": {
   "name": "python"
  }
 },
 "nbformat": 4,
 "nbformat_minor": 2
}
