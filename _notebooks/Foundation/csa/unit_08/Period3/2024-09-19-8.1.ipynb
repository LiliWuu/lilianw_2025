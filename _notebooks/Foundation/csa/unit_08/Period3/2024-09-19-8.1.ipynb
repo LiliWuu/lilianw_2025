{
 "cells": [
  {
   "cell_type": "markdown",
   "metadata": {},
   "source": [
    "---\n",
    "layout: post\n",
    "title: 8.1 Lesson\n",
    "description: By David, Torin, Josh, Nandan \n",
    "menu: nav/CSA_Units/csa_unit8_p3.html\n",
    "courses: {'csa': {'week': 5}}\n",
    "toc: true\n",
    "comments: true\n",
    "permalink: /csa/unit8yay/8.1/\n",
    "---"
   ]
  },
  {
   "cell_type": "markdown",
   "metadata": {},
   "source": [
    "# What is a 2D array?\n",
    "\n",
    "## Vocabulary\n",
    "---\n",
    "#### Array\n",
    "- A data structure used to implement a list of primitive or object reference data.\n",
    "#### 2D Array\n",
    "- Arrays of arrays, representing collections of related primitive or object reference data.\n",
    "- Created and indexed similar to 1D array\n",
    "#### Element\n",
    "- A single value in an array.\n",
    "#### Index\n",
    "- The position of an element in an array. The first element is at index `0` in Java.\n",
    "#### Length of an Array\n",
    "- The number of elements in the array. It's a `public final` data member of an array.\n",
    "  - **Public**: Accessible in any class.\n",
    "  - **Final**: The length of the array cannot change after it is created.\n",
    "  - The last element of an array is the length of the index - 1.\n",
    "\n",
    "## Examples\n",
    "---\n",
    "- **1D Array**: Roster of students with strings.\n",
    "\n",
    "<img src=\"https://github.com/user-attachments/assets/29392912-5327-4571-b24d-1601281f7d13\" alt=\"Image 1\">\n",
    "\n",
    "- **2D Array**: Student grades (array of arrays).\n",
    "\n",
    "<img src=\"https://github.com/user-attachments/assets/a5f7eb21-90de-4b01-b0e5-f9ad82f6307c\" alt=\"Image 1\">\n",
    "\n",
    "- This screenshot shows:\n",
    "    - Collection of arrays representing student grades, where each entry is an array of a student’s grades.\n",
    "    - A rectangular 2D array since each row array has the same number of entries.\n",
    "    - 7 arrays (students), each with 4 grades (tests). Total: 28 elements.\n"
   ]
  },
  {
   "cell_type": "markdown",
   "metadata": {},
   "source": [
    "# Declaring and Initializing 2D Arrays in Java\n",
    "---\n",
    "\n",
    "### Declaring Arrays\n",
    "\n",
    "- To declare a 2D array in Java, use the following format:\n",
    "    - int[][] 2DArrayName = new datatype[# of rows][# of columns]\n",
    "    - Example: int[][] grades = new int[3][4];\n",
    "        - All the values in this array are zero\n",
    "- If you want to actually put values inside your array (initialize):\n",
    "    - Use { }\n",
    "    - Each row of a 2D array has its own initializer list\n",
    "    - Separate elements of an array with a comma, same goes for separating a row array from another row array"
   ]
  },
  {
   "cell_type": "markdown",
   "metadata": {},
   "source": [
    "### Example:"
   ]
  },
  {
   "cell_type": "code",
   "execution_count": 1,
   "metadata": {
    "vscode": {
     "languageId": "java"
    }
   },
   "outputs": [
    {
     "name": "stdout",
     "output_type": "stream",
     "text": [
      "Number of rows: 3\n",
      "Number of columns: 4\n",
      "Element at row 2, column 3: 78\n"
     ]
    }
   ],
   "source": [
    "public class Main {\n",
    "    public static void main(String[] args) {\n",
    "        int[][] grades = {\n",
    "            {90, 85, 88, 92}, \n",
    "            {75, 80, 78, 85},\n",
    "            {60, 65, 70, 75}\n",
    "        };\n",
    "\n",
    "        int rows = grades.length; // Attribute 1\n",
    "        int columns = grades[0].length;\n",
    "\n",
    "        System.out.println(\"Number of rows: \" + rows);\n",
    "        System.out.println(\"Number of columns: \" + columns);\n",
    "\n",
    "        int element = grades[1][2]; // Accessing an element \n",
    "        System.out.println(\"Element at row 2, column 3: \" + element);\n",
    "    }\n",
    "}\n",
    "\n",
    "Main.main(null)"
   ]
  },
  {
   "cell_type": "markdown",
   "metadata": {},
   "source": [
    "<html lang=\"en\">\n",
    "<head>\n",
    "    <meta charset=\"UTF-8\">\n",
    "    <meta name=\"viewport\" content=\"width=device-width, initial-scale=1.0\">\n",
    "    <title>Typing Test</title>\n",
    "    <style>\n",
    "        #testSentence {\n",
    "            font-weight: bold;\n",
    "            margin-bottom: 20px;\n",
    "        }\n",
    "        textarea {\n",
    "            width: 100%;\n",
    "            height: 100px;\n",
    "            margin-bottom: 10px;\n",
    "        }\n",
    "        button {\n",
    "            padding: 10px 15px;\n",
    "            margin: 5px;\n",
    "            cursor: pointer;\n",
    "        }\n",
    "        #result {\n",
    "            margin-top: 20px;\n",
    "            font-size: 1.2em;\n",
    "            color: green;\n",
    "        }\n",
    "        #error {\n",
    "            color: red;\n",
    "        }\n",
    "    </style>\n",
    "</head>\n",
    "<body>\n",
    "    <h1>Typing Speed Test</h1>\n",
    "    <div id=\"testSentence\">Type this sentence: <span id=\"sentence\">int[][] Name = new datatype[rows][columns]</span></div>\n",
    "    <textarea id=\"userInput\" placeholder=\"Type here...\" disabled></textarea>\n",
    "    <div>\n",
    "        <button id=\"startButton\">Start Typing Test</button>\n",
    "        <button id=\"resetButton\">Reset Test</button>\n",
    "    </div>\n",
    "    <div id=\"result\"></div>\n",
    "    <div id=\"timer\"></div>\n",
    "    <div id=\"error\"></div>\n",
    "\n",
    "    <script>\n",
    "        let startTime;\n",
    "        let timerInterval;\n",
    "        const testSentence = \"int[][] Name = new datatype[rows][columns]\";\n",
    "        \n",
    "        document.getElementById('startButton').addEventListener('click', function() {\n",
    "            startTime = new Date();\n",
    "            document.getElementById('userInput').value = ''; // Clear previous input\n",
    "            document.getElementById('userInput').disabled = false; // Enable input\n",
    "            document.getElementById('userInput').focus(); // Focus on the input area\n",
    "            document.getElementById('result').innerText = ''; // Clear result\n",
    "            document.getElementById('error').innerText = ''; // Clear error message\n",
    "            document.getElementById('timer').innerText = ''; // Clear timer\n",
    "            \n",
    "            // Start timer\n",
    "            let seconds = 0;\n",
    "            timerInterval = setInterval(() => {\n",
    "                seconds++;\n",
    "                document.getElementById('timer').innerText = `Time: ${seconds} seconds`;\n",
    "            }, 1000);\n",
    "        });\n",
    "\n",
    "        document.getElementById('userInput').addEventListener('input', function() {\n",
    "            const userInput = document.getElementById('userInput').value;\n",
    "            const inputLength = userInput.length;\n",
    "\n",
    "            if (userInput === testSentence) {\n",
    "                clearInterval(timerInterval); // Stop the timer\n",
    "                const endTime = new Date();\n",
    "                const duration = (endTime - startTime) / 1000; // Time in seconds\n",
    "                const charactersPerMinute = (inputLength / duration) * 60; // Calculate CPM\n",
    "                document.getElementById('result').innerText = `Congratulations! You typed the sentence correctly in ${duration.toFixed(2)} seconds.\\nYour typing speed: ${charactersPerMinute.toFixed(2)} CPM.`;\n",
    "            } else if (!testSentence.startsWith(userInput)) {\n",
    "                document.getElementById('error').innerText = \"Text is wrong, please fix.\";\n",
    "            } else {\n",
    "                document.getElementById('error').innerText = \"\"; // Clear error message if the user is typing correctly\n",
    "            }\n",
    "        });\n",
    "\n",
    "        document.getElementById('resetButton').addEventListener('click', function() {\n",
    "            document.getElementById('userInput').value = ''; // Clear input\n",
    "            document.getElementById('userInput').disabled = true; // Disable input\n",
    "            clearInterval(timerInterval); // Stop the timer\n",
    "            document.getElementById('result').innerText = ''; // Clear result\n",
    "            document.getElementById('timer').innerText = ''; // Clear timer\n",
    "            document.getElementById('error').innerText = ''; // Clear error message\n",
    "        });\n",
    "    </script>\n",
    "</body>\n",
    "</html>"
   ]
  },
  {
   "cell_type": "markdown",
   "metadata": {
    "vscode": {
     "languageId": "java"
    }
   },
   "source": [
    "## Popcorn Hack!\n",
    "\n",
    "What's wrong with this code:"
   ]
  },
  {
   "cell_type": "code",
   "execution_count": null,
   "metadata": {
    "vscode": {
     "languageId": "java"
    }
   },
   "outputs": [],
   "source": [
    "String[][] exampleArray = {\n",
    "    {\"Hello\", \"World\"},\n",
    "    {\"Java\", \"Array\"}\n",
    "};\n",
    "\n",
    "// wrong datatype"
   ]
  },
  {
   "cell_type": "markdown",
   "metadata": {},
   "source": [
    "## Popcorn Hack!\n",
    "\n",
    "How many total elements can this 2D array hold, and how would you calculate it?"
   ]
  },
  {
   "cell_type": "code",
   "execution_count": null,
   "metadata": {
    "vscode": {
     "languageId": "java"
    }
   },
   "outputs": [],
   "source": [
    "int[][] matrix = new int[2][3];\n",
    "\n",
    "// 6 elements; 2*3 = 6"
   ]
  },
  {
   "cell_type": "markdown",
   "metadata": {},
   "source": [
    "## Popcorn Hack!\n",
    "\n",
    "<img src=\"https://github.com/user-attachments/assets/4bae6ef7-dee0-4b6f-ba92-bd05af8fa84d\" alt=\"Image 1\">\n",
    "\n",
    "How would you write the code to access the last score? MC\n",
    "- A. grades[6][3]\n",
    "- B. grades[7][4]\n",
    "- C. grades[grades.length - 1] [grades[0].length - 1]\n",
    "- D. A and C\n",
    "\n",
    "D"
   ]
  },
  {
   "cell_type": "markdown",
   "metadata": {},
   "source": [
    "## Try on your own!\n",
    "\n",
    "Write a code to declare and initialize a 2D array that stores the following matrix:\n",
    "1  2  3\n",
    "4  5  6\n",
    "7  8  9"
   ]
  },
  {
   "cell_type": "code",
   "execution_count": 2,
   "metadata": {
    "vscode": {
     "languageId": "java"
    }
   },
   "outputs": [
    {
     "name": "stdout",
     "output_type": "stream",
     "text": [
      "[[1, 2, 3], [4, 5, 6], [7, 8, 9]]\n"
     ]
    }
   ],
   "source": [
    "public class ArrayPractice {\n",
    "    public static void main(String[] args) {\n",
    "        // Write the code to declare and initialize the 2D array here\n",
    "        int[][] array = {\n",
    "            {1,2,3},\n",
    "            {4,5,6},\n",
    "            {7,8,9}\n",
    "        };\n",
    "        // Print the array\n",
    "        System.out.println(java.util.Arrays.deepToString(array));\n",
    "    }\n",
    "}\n",
    "\n",
    "ArrayPractice.main(null)"
   ]
  },
  {
   "cell_type": "markdown",
   "metadata": {},
   "source": [
    "### Updating elements in arrays\n",
    "- Identify the position (row and column) of the element you want to update.\n",
    "- Use the array name followed by the index of the row and the index of the column inside square brackets.\n",
    "- Assign a new value to that specific position.\n",
    "- Example:"
   ]
  },
  {
   "cell_type": "code",
   "execution_count": null,
   "metadata": {
    "vscode": {
     "languageId": "java"
    }
   },
   "outputs": [],
   "source": [
    "int[][] matrix = {\n",
    "    {1, 2, 3},\n",
    "    {4, 5, 6}\n",
    "};\n",
    "\n",
    "// To update the element in the first row, second column\n",
    "matrix[0][1] = 10;"
   ]
  },
  {
   "cell_type": "markdown",
   "metadata": {},
   "source": [
    "## Try on your own!\n",
    "\n",
    "Write the code to change the element \"Java\" to \"Programming\""
   ]
  },
  {
   "cell_type": "code",
   "execution_count": 1,
   "metadata": {
    "vscode": {
     "languageId": "java"
    }
   },
   "outputs": [
    {
     "data": {
      "text/plain": [
       "Programming"
      ]
     },
     "execution_count": 1,
     "metadata": {},
     "output_type": "execute_result"
    }
   ],
   "source": [
    "String[][] hack = {\n",
    "    {\"Hello\", \"World\"},\n",
    "    {\"Java\", \"Array\"}\n",
    "};\n",
    "\n",
    "//Insert code below:\n",
    "hack[1][0] = \"Programming\";"
   ]
  },
  {
   "cell_type": "markdown",
   "metadata": {},
   "source": [
    "## Popcorn Hack!\n",
    "\n",
    "<img src=\"https://github.com/user-attachments/assets/72f2ff0f-7d8b-4d5b-90e4-da9403a5570b\" alt=\"Image 1\">"
   ]
  },
  {
   "cell_type": "markdown",
   "metadata": {},
   "source": [
    "B"
   ]
  },
  {
   "cell_type": "markdown",
   "metadata": {},
   "source": [
    "### Usage of 2D arrays?\n",
    "- Collegeboard is stinky and are on the CSA test every year\n",
    "    - Collegeboard tries to mess you up on 2D arrays!\n",
    "        - They will me around with column order, nonunified arrays, and might throw garbage into the array like putting string into a numeric array. BE CAREFUL!\n",
    "- 2D array biggest application is managing images\n",
    "    - They represent images as grids of pixels, where each element corresponds to a pixel's color or intensity\n",
    "    - Each pixel is a single value (0 to 255) indicating brightness."
   ]
  }
 ],
 "metadata": {
  "kernelspec": {
   "display_name": "java (IJava/j!)",
   "language": "java",
   "name": "jbang-ijava"
  },
  "language_info": {
   "codemirror_mode": "java",
   "file_extension": ".jshell",
   "mimetype": "text/x-java-source",
   "name": "Java",
   "pygments_lexer": "java",
   "version": "22.0.2+9-70"
  }
 },
 "nbformat": 4,
 "nbformat_minor": 2
}
