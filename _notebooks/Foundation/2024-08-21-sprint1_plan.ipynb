{
 "cells": [
  {
   "cell_type": "raw",
   "metadata": {
    "vscode": {
     "languageId": "raw"
    }
   },
   "source": [
    "---\n",
    "layout: post\n",
    "title: Sprint 1 - Objectives \n",
    "description:  Tools and Software Development for Sprint 1\n",
    "type: issues \n",
    "comments: true\n",
    "---"
   ]
  },
  {
   "cell_type": "markdown",
   "metadata": {},
   "source": [
    "## [Issue](https://github.com/nighthawkcoders/portfolio_2025/issues/14) "
   ]
  },
  {
   "cell_type": "markdown",
   "metadata": {},
   "source": [
    "## Project-base Learning Requirements\n",
    "Each sprint there will be hacks and project-based learning requirements.  It is up to the individual to develop their own plan for how they will represent work.  Here are some links and tips.\n",
    "\n",
    "- All work, tangible artifacts, will be captured in personal GitHub Pages\n",
    "- Tools and Software Development requirements are foundational requirements for all the CompSci courses.  Thus, they are shared, but listed under [CSSE Projects](https://github.com/orgs/nighthawkcoders/projects/15)\n",
    "- To obtain clarity on instructions you should start by picking a post in Sprint 1, then ask questions.  \n",
    "- In Agile Development methodology, which we will learn throughout the course, an iteration (plans, designs, review references, coding) and questions should all be considered as part of your work.\n",
    "- Since iteraction and questions are part of your work, you should consider capturing and outlining iterations and questions in your blog.\n",
    "- Be aware, you will get more \"Points\" if you \"Indicate\" that you are progressing on a CompSci journey.  \n",
    "- There are very few \"Correct Answers\" in this class! As you code, you will see that there is always more bugs and features.\n"
   ]
  },
  {
   "cell_type": "markdown",
   "metadata": {},
   "source": [
    "## Classroom Guidelines\n",
    "**It will be a very bad day when you say... \"I have everything done\".**  This statement typically comes by students that  are lacking understading.\n",
    "\n",
    "This statement shows that the person making the statement knows very little about CompSci and the principles of iteration that are being promoted in this class.  In fact, that state does not agree with Agile Development Methodologies that we will be learning in this class.\n",
    "\n",
    "The Teacher likes behaviors that are easily viewed and interpreted as productive to CompSci learning.  \n",
    "\n",
    "- Code, Code, Code.  This is the process of making code and involves making plans, designs, reviewing references, asking questions and Code-Code-Coding. \n",
    "- No paper. We will be learning to do all work electronically. \n",
    "- Work Talk. A very high percentate 75%, 80% or more of your talk during class should be code, code, code talk.\n",
    "- Ears that can listen.  100% of time you should be available for discussion.  Covered or plugged in ears restricts hearing.\n",
    "- Hands that can code. The primary coding device is assumed to be your laptop!  Sprint 1 will be focused on laptop importance.\n",
    "\n",
    "[Read Learning Habits Table](https://github.com/nighthawkcoders/portfolio_2025/issues/14) to understand how behaviors will impact grading.\n"
   ]
  },
  {
   "cell_type": "markdown",
   "metadata": {},
   "source": [
    "# Brainstorm Ideas \n",
    "\n",
    "## Idea 1\n",
    "\n",
    "Traveling\n",
    "    - Page wounld include guide to users to discover their next travel destination \n",
    "    - Subpages would be seperated based on several factors (ie. continents, countries, topographies, etc.)\n",
    "    - Images will be provided per destination to help users visualize location \n",
    "    - Facts will be provided on weather, best time to visit, popularity, etc.\n",
    "\n",
    "\n",
    "## Idea 2 \n",
    "\n",
    "Movies \n",
    "    - Page would include different movie genres \n",
    "    - Within each subpage of genres will be popular movies that fit into that location\n",
    "        - ie. under the horror movie genre there would be movies like \"Scream\"\n",
    "    - Images or famous actors to encourage users to watch said movie \n",
    "    - Age restriction \n",
    "\n",
    "\n",
    "## Idea 3 \n",
    "\n",
    "Books\n",
    "    - Page would include different genres of books\n",
    "        - ie. classics, drama, romantic, comedy, horror, etc.\n",
    "    - Age restriction \n",
    "    - Preview of book \n",
    "    - Author summary \n",
    "    - Find libaries near you that have the books you want \n",
    "    \n"
   ]
  }
 ],
 "metadata": {
  "language_info": {
   "name": "python"
  }
 },
 "nbformat": 4,
 "nbformat_minor": 2
}
